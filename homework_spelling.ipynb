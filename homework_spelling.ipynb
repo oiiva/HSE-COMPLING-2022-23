{
  "cells": [
    {
      "cell_type": "markdown",
      "id": "371970ff",
      "metadata": {
        "id": "371970ff"
      },
      "source": [
        "# Домашнее задание № 3. Исправление опечаток"
      ]
    },
    {
      "cell_type": "markdown",
      "id": "b35cf8bd",
      "metadata": {
        "id": "b35cf8bd"
      },
      "source": [
        "## 1. Доп. ранжирование по вероятности (3 балла)"
      ]
    },
    {
      "cell_type": "markdown",
      "id": "0c6be25c",
      "metadata": {
        "id": "0c6be25c"
      },
      "source": [
        "Дополните get_closest_hybrid_match в семинаре так, чтобы из кандадатов с одинаковым расстоянием редактирования выбиралось наиболее вероятное."
      ]
    },
    {
      "cell_type": "code",
      "source": [
        "!pip install textdistance"
      ],
      "metadata": {
        "colab": {
          "base_uri": "https://localhost:8080/"
        },
        "id": "shhCo3lMAiyF",
        "outputId": "35425594-3833-4a37-eba3-541dfa3aff80"
      },
      "id": "shhCo3lMAiyF",
      "execution_count": 3,
      "outputs": [
        {
          "output_type": "stream",
          "name": "stdout",
          "text": [
            "Looking in indexes: https://pypi.org/simple, https://us-python.pkg.dev/colab-wheels/public/simple/\n",
            "Collecting textdistance\n",
            "  Downloading textdistance-4.5.0-py3-none-any.whl (31 kB)\n",
            "Installing collected packages: textdistance\n",
            "Successfully installed textdistance-4.5.0\n"
          ]
        }
      ]
    },
    {
      "cell_type": "code",
      "execution_count": 4,
      "id": "104fb326",
      "metadata": {
        "id": "104fb326"
      },
      "outputs": [],
      "source": [
        "import os, re\n",
        "from string import punctuation\n",
        "import numpy as np\n",
        "from sklearn.feature_extraction.text import CountVectorizer\n",
        "from sklearn.metrics.pairwise import cosine_similarity, cosine_distances\n",
        "from sklearn.metrics import classification_report\n",
        "from collections import Counter\n",
        "import textdistance\n",
        "from difflib import get_close_matches\n",
        "import pandas as pd\n",
        "from tqdm.notebook import tqdm"
      ]
    },
    {
      "cell_type": "code",
      "execution_count": 5,
      "metadata": {
        "colab": {
          "base_uri": "https://localhost:8080/"
        },
        "id": "tlYVopw2i8my",
        "outputId": "b93717b1-1e70-45ab-ab21-2ce008b4e063"
      },
      "outputs": [
        {
          "output_type": "stream",
          "name": "stdout",
          "text": [
            "Mounted at /content/drive\n"
          ]
        }
      ],
      "source": [
        "import logging\n",
        "import os\n",
        "import shutil\n",
        "\n",
        "import numpy as np\n",
        "from google.colab import drive\n",
        "\n",
        "RANDOM_SEED = 42\n",
        "np.random.seed(RANDOM_SEED)  # гарантируем воспроизводимость\n",
        "\n",
        "logging.basicConfig(format='%(asctime)s : %(levelname)s : %(message)s', level=logging.INFO)\n",
        "logger = logging.getLogger(__name__)\n",
        "logger.info('Инициализировали логгер')\n",
        "\n",
        "ROOT_DIR = '/content/drive'\n",
        "drive.mount(ROOT_DIR)\n",
        "logger.info('Подключили диск')\n",
        "\n",
        "root_data_dir = os.path.join(ROOT_DIR, 'MyDrive', 'Colab Notebooks')\n",
        "if not os.path.exists(root_data_dir):\n",
        "  raise RuntimeError('Отсутствует директория с данными')\n",
        "else:\n",
        "  logger.info('Содержимое директории %s: %s', root_data_dir, os.listdir(root_data_dir))"
      ],
      "id": "tlYVopw2i8my"
    },
    {
      "cell_type": "code",
      "execution_count": 19,
      "id": "0852a287",
      "metadata": {
        "id": "0852a287"
      },
      "outputs": [],
      "source": [
        "\n",
        "file = os.path.join(root_data_dir, 'wiki_data.txt')\n",
        "corpus = open(file, encoding='utf8').read()\n",
        "vocab = Counter(re.findall('[а-яА-ЯёЁ]+', corpus.lower()))\n",
        "\n",
        "word2id = list(vocab.keys())\n",
        "id2word = {i:word for i, word in enumerate(vocab)}\n",
        "\n",
        "vec = CountVectorizer(analyzer='char', ngram_range=(1,1))\n",
        "X = vec.fit_transform(vocab)\n",
        "\n",
        "file1 = os.path.join(root_data_dir, 'sents_with_mistakes.txt')\n",
        "file2 = os.path.join(root_data_dir, 'correct_sents.txt')\n",
        "bad = open(file1, encoding='utf8').read().splitlines()\n",
        "true = open(file2, encoding='utf8').read().splitlines()"
      ]
    },
    {
      "cell_type": "code",
      "execution_count": 20,
      "id": "f8e8814a",
      "metadata": {
        "id": "f8e8814a"
      },
      "outputs": [],
      "source": [
        "def get_closest_match_with_metric(text, lookup,topn=20, metric=textdistance.levenshtein):\n",
        "\n",
        "    similarities = Counter()\n",
        "    for word in lookup:\n",
        "        similarities[word] = metric.normalized_similarity(text, word)\n",
        "    return similarities.most_common(topn)\n",
        "\n",
        "\n",
        "def get_closest_match_vec(text, X, vec, topn=20):\n",
        "    v = vec.transform([text])\n",
        "\n",
        "    similarities = cosine_distances(v, X)[0]\n",
        "    topn = similarities.argsort()[:topn]\n",
        "\n",
        "    return [(id2word[top], similarities[top]) for top in topn]\n",
        "\n",
        "def get_closest_hybrid_match(text, X, vec, topn=5, metric=textdistance.damerau_levenshtein):\n",
        "    candidates = get_closest_match_vec(text, X, vec, topn*4)\n",
        "    lookup = [cand[0] for cand in candidates]\n",
        "    closest = get_closest_match_with_metric(text, lookup, topn, metric=metric)\n",
        "\n",
        "    # Добавим выбор наиболее вероятного слова, если расстояние между словами одинаковое\n",
        "\n",
        "    distances = []\n",
        "    for item in closest:\n",
        "        a = list(item)\n",
        "        a.append(P(item[0]))\n",
        "        distances.append(a)\n",
        "\n",
        "    total = pd.DataFrame(distances, columns = ['word', 'distance', 'probability'])\n",
        "    total = total.sort_values(by = ['distance', 'probability'], ascending = False).reset_index(drop=True)\n",
        "\n",
        "    unique_dist = list(total.distance.unique())\n",
        "    the_most_probable = []\n",
        "    for i in range(len(total)):\n",
        "        if total.distance[i] in unique_dist:\n",
        "            the_most_probable.append(total.word[i])\n",
        "            the_most_probable.append(total.distance[i])\n",
        "            unique_dist.remove(total.distance[i])\n",
        "\n",
        "    return the_most_probable\n",
        "\n",
        "N = sum(vocab.values())\n",
        "def P(word, N=N):\n",
        "    return vocab[word] / N\n",
        "\n",
        "def predict_mistaken(word, vocab):\n",
        "    return 0 if word in vocab else 1"
      ]
    },
    {
      "cell_type": "code",
      "execution_count": 21,
      "id": "05d3649f",
      "metadata": {
        "id": "05d3649f"
      },
      "outputs": [],
      "source": [
        "# Проверка работы на true и bad\n",
        "def align_words(sent_1, sent_2):\n",
        "    tokens_1 = sent_1.lower().split()\n",
        "    tokens_2 = sent_2.lower().split()\n",
        "\n",
        "    tokens_1 = [token.strip(punctuation) for token in tokens_1]\n",
        "    tokens_2 = [token.strip(punctuation) for token in tokens_2]\n",
        "\n",
        "    tokens_1 = [token for token in tokens_1 if token]\n",
        "    tokens_2 = [token for token in tokens_2 if token]\n",
        "\n",
        "    assert len(tokens_1) == len(tokens_2)\n",
        "\n",
        "    return list(zip(tokens_1, tokens_2))\n",
        "\n",
        "mistakes = []\n",
        "total_mistaken = 0\n",
        "mistaken_fixed = 0\n",
        "\n",
        "total_correct = 0\n",
        "correct_broken = 0\n",
        "\n",
        "total = 0\n",
        "correct = 0\n",
        "\n",
        "cashed = {}\n",
        "for i in range(len(true)):\n",
        "    word_pairs = align_words(true[i], bad[i])\n",
        "    for pair in word_pairs:\n",
        "        if predict_mistaken(pair[1], vocab):\n",
        "            pred = cashed.get(pair[1], get_closest_hybrid_match(pair[1], X, vec)[0])\n",
        "            cashed[pair[1]] = pred\n",
        "        else:\n",
        "            pred = pair[1]\n",
        "\n",
        "\n",
        "        if pred == pair[0]:\n",
        "            correct += 1\n",
        "        else:\n",
        "            mistakes.append((pair[0], pair[1], pred))\n",
        "        total += 1\n",
        "\n",
        "        if pair[0] == pair[1]:\n",
        "            total_correct += 1\n",
        "            if pair[0] != pred:\n",
        "                correct_broken += 1\n",
        "        else:\n",
        "            total_mistaken += 1\n",
        "            if pair[0] == pred:\n",
        "                mistaken_fixed += 1"
      ]
    },
    {
      "cell_type": "code",
      "execution_count": 24,
      "id": "5f488364",
      "metadata": {
        "colab": {
          "base_uri": "https://localhost:8080/"
        },
        "id": "5f488364",
        "outputId": "1b0d0912-3fbb-4c8d-f97f-787e0d5712eb"
      },
      "outputs": [
        {
          "output_type": "stream",
          "name": "stdout",
          "text": [
            "['крова', 0.8333333333333334, 'макарова', 0.75, 'кракова', 0.7142857142857143, 'акров', 0.6666666666666667]\n"
          ]
        }
      ],
      "source": [
        "print(get_closest_hybrid_match('карова', X, vec))"
      ]
    },
    {
      "cell_type": "code",
      "source": [
        "print(f\"Процент правильных слов: {round((correct/total)*100, 2)} %\")\n",
        "print(f\"Процент исправленных ошибок: {round((mistaken_fixed/total_mistaken)*100, 2)} %\")\n",
        "print(f\"Процент ошибочно исправленных правильных слов: {round((correct_broken/total_correct)*100, 2)} %\")"
      ],
      "metadata": {
        "colab": {
          "base_uri": "https://localhost:8080/"
        },
        "id": "gsjPKnqMIB6s",
        "outputId": "cc20caea-5c66-48b2-8052-dd608e63632a"
      },
      "id": "gsjPKnqMIB6s",
      "execution_count": 25,
      "outputs": [
        {
          "output_type": "stream",
          "name": "stdout",
          "text": [
            "Процент правильных слов: 84.5 %\n",
            "Процент исправленных ошибок: 44.33 %\n",
            "Процент ошибочно исправленных правильных слов: 9.56 %\n"
          ]
        }
      ]
    },
    {
      "cell_type": "markdown",
      "source": [
        "# **Вывод**"
      ],
      "metadata": {
        "id": "4O4hPmHuI3oZ"
      },
      "id": "4O4hPmHuI3oZ"
    },
    {
      "cell_type": "markdown",
      "id": "e4deda88",
      "metadata": {
        "id": "e4deda88"
      },
      "source": [
        "По сравнению с семинаром улучшилось количество исправленных ошибок (на 2.33%). Это не очень много, но всё равно влияние ранжирования вероятностей на результат положительное."
      ]
    },
    {
      "cell_type": "markdown",
      "id": "f9cf9985",
      "metadata": {
        "id": "f9cf9985"
      },
      "source": [
        "## 2.  Symspell (5 баллов)"
      ]
    },
    {
      "cell_type": "markdown",
      "id": "9392cc23",
      "metadata": {
        "id": "9392cc23"
      },
      "source": [
        "Реализуйте алгоритм Symspell. Он похож на алгоритм Норвига, но проще и быстрее. Там к словам применяется только одна операция - удаление символа. Описание алгоритма по шагам:\n",
        "\n",
        "1) Составляется словарь правильных слов\n",
        "2) На основе словаря правильных слов составляется словарь удалений - для каждого правильного слова создаются все варианты удалений и создается словарь, где ключ - слово с удалением, а значение - правильное слово\n",
        "3) Для выбора исправления для слова с опечаткой генерируются все варианты удаления, из них выбираются те, что есть в словаре удалений, построенного на шаге 2. Слово с опечаткой заменяется на правильное слово, соответствующее варианту удаления\n",
        "4) Если в словаре удалений есть несколько вариантов, то выбирается удаление, которому соответствует наиболее вероятное правильное слово\n",
        "\n",
        "\n",
        "Оцените качество полученного алгоритма теми же тремя метриками."
      ]
    },
    {
      "cell_type": "code",
      "source": [
        "from collections import Counter"
      ],
      "metadata": {
        "id": "eq0gAVw9KSSv"
      },
      "id": "eq0gAVw9KSSv",
      "execution_count": 26,
      "outputs": []
    },
    {
      "cell_type": "code",
      "execution_count": 40,
      "id": "28656386",
      "metadata": {
        "id": "28656386"
      },
      "outputs": [],
      "source": [
        "vocab = Counter(re.findall('[а-яА-ЯёЁ]+', corpus.lower()))\n",
        "vocab_top = {word:count for word, count in vocab.items() if count > 5}\n"
      ]
    },
    {
      "cell_type": "code",
      "source": [
        "def create_dictionary(words):\n",
        "    return Counter(words)\n",
        "\n",
        "# создание словаря удалений\n",
        "def create_deletion_dictionary(words):\n",
        "    deletion_dict = {}\n",
        "    for word in words:\n",
        "        for i in range(len(word)):\n",
        "            deletion = word[:i] + word[i+1:]\n",
        "            if deletion not in deletion_dict:\n",
        "                deletion_dict[deletion] = [word]\n",
        "            else:\n",
        "                deletion_dict[deletion].append(word)\n",
        "    return deletion_dict\n",
        "\n",
        "# исправление слова с опечаткой\n",
        "def correct_word(word, dictionary, deletion_dict):\n",
        "    if word in dictionary:\n",
        "        return word\n",
        "\n",
        "    suggestions = []\n",
        "    for i in range(len(word)):\n",
        "        deletion = word[:i] + word[i+1:]\n",
        "        if deletion in deletion_dict:\n",
        "            suggestions += deletion_dict[deletion]\n",
        "\n",
        "    if len(suggestions) == 0:\n",
        "        return word\n",
        "\n",
        "    # выбор наиболее вероятного исправления\n",
        "    suggestion_count = Counter(suggestions)\n",
        "    suggestion = suggestion_count.most_common(1)[0][0]\n",
        "\n",
        "    return suggestion\n"
      ],
      "metadata": {
        "id": "hKa8Ed5mOowu"
      },
      "id": "hKa8Ed5mOowu",
      "execution_count": 54,
      "outputs": []
    },
    {
      "cell_type": "code",
      "source": [
        "# пример использования\n",
        "dictionary = create_dictionary(vocab)\n",
        "deletion_dict = create_deletion_dictionary(vocab)\n",
        "print(correct_word(\"сабака\", dictionary, deletion_dict))\n",
        "print(correct_word(\"ваще\", dictionary, deletion_dict))\n",
        "print(correct_word(\"сонце\", dictionary, deletion_dict))"
      ],
      "metadata": {
        "colab": {
          "base_uri": "https://localhost:8080/"
        },
        "id": "Mgj5qL4iRnvT",
        "outputId": "af4127b8-393a-4064-e2b6-c5013c6a945b"
      },
      "id": "Mgj5qL4iRnvT",
      "execution_count": 55,
      "outputs": [
        {
          "output_type": "stream",
          "name": "stdout",
          "text": [
            "абакан\n",
            "чаще\n",
            "конце\n"
          ]
        }
      ]
    },
    {
      "cell_type": "markdown",
      "source": [
        "## Оценка"
      ],
      "metadata": {
        "id": "70dFed_QRR9B"
      },
      "id": "70dFed_QRR9B"
    },
    {
      "cell_type": "code",
      "execution_count": 50,
      "id": "61ec6449",
      "metadata": {
        "colab": {
          "base_uri": "https://localhost:8080/",
          "height": 101,
          "referenced_widgets": [
            "d698ff29fab94ca0bb77c565f2f46d42",
            "8d25beef49d34ef09d1ac7d971dcc39a",
            "3365837313a645b2a433afc60898e79c",
            "cf540c7f05fb4eeb98b1026ac2c0bbe4",
            "a66a60e6f2514eefa354a04eb5654b7d",
            "0c2fe670a8c147998ff25eafa1a68982",
            "95fa1bb1fbaf4b3381e0f92787d45a4d",
            "83f70c85b22845c2938f189a12544e59",
            "f718a4a1b3404f69bdb6006cb5ea8e23",
            "3c458b56b10848ab86b147febcc5671c",
            "6428a447252b438aad4aa220af9c30e0"
          ]
        },
        "id": "61ec6449",
        "outputId": "0ebd6536-6964-44c0-c59f-691dd609f523"
      },
      "outputs": [
        {
          "output_type": "display_data",
          "data": {
            "text/plain": [
              "  0%|          | 0/915 [00:00<?, ?it/s]"
            ],
            "application/vnd.jupyter.widget-view+json": {
              "version_major": 2,
              "version_minor": 0,
              "model_id": "d698ff29fab94ca0bb77c565f2f46d42"
            }
          },
          "metadata": {}
        },
        {
          "output_type": "stream",
          "name": "stdout",
          "text": [
            "Процент правильных слов: 85.11 %\n",
            "Процент исправленных ошибок: 16.69 %\n",
            "Процент ошибочно исправленных правильных слов: 4.77 %\n"
          ]
        }
      ],
      "source": [
        "file1 = os.path.join(root_data_dir, 'sents_with_mistakes.txt')\n",
        "file2 = os.path.join(root_data_dir, 'correct_sents.txt')\n",
        "bad = open(file1, encoding='utf8').read().splitlines()\n",
        "true = open(file2, encoding='utf8').read().splitlines()\n",
        "\n",
        "def align_words(sent_1, sent_2):\n",
        "    tokens_1 = sent_1.lower().split()\n",
        "    tokens_2 = sent_2.lower().split()\n",
        "\n",
        "    tokens_1 = [token.strip(punctuation) for token in tokens_1]\n",
        "    tokens_2 = [token.strip(punctuation) for token in tokens_2]\n",
        "\n",
        "    tokens_1 = [token for token in tokens_1 if token]\n",
        "    tokens_2 = [token for token in tokens_2 if token]\n",
        "\n",
        "    assert len(tokens_1) == len(tokens_2)\n",
        "\n",
        "    return list(zip(tokens_1, tokens_2))\n",
        "\n",
        "correct = 0\n",
        "total = 0\n",
        "\n",
        "total_mistaken = 0\n",
        "mistaken_fixed = 0\n",
        "\n",
        "total_correct = 0\n",
        "correct_broken = 0\n",
        "\n",
        "cashed = {}\n",
        "for i in tqdm(range(len(true))):\n",
        "    word_pairs = align_words(true[i], bad[i])\n",
        "    for pair in word_pairs:\n",
        "\n",
        "        predicted = cashed.get(pair[1], correct_word(pair[1],  dictionary, deletion_dict))\n",
        "        cashed[pair[1]] = predicted\n",
        "\n",
        "\n",
        "        if predicted == pair[0]:\n",
        "            correct += 1\n",
        "        total += 1\n",
        "\n",
        "        if pair[0] == pair[1]:\n",
        "            total_correct += 1\n",
        "            if pair[0] !=  predicted:\n",
        "                correct_broken += 1\n",
        "        else:\n",
        "            total_mistaken += 1\n",
        "            if pair[0] == predicted:\n",
        "                mistaken_fixed += 1\n",
        "\n",
        "print(f\"Процент правильных слов: {round((correct/total)*100, 2)} %\")\n",
        "print(f\"Процент исправленных ошибок: {round((mistaken_fixed/total_mistaken)*100, 2)} %\")\n",
        "print(f\"Процент ошибочно исправленных правильных слов: {round((correct_broken/total_correct)*100, 2)} %\")"
      ]
    },
    {
      "cell_type": "markdown",
      "source": [
        "# **Вывод**"
      ],
      "metadata": {
        "id": "nigEoN1OQfOW"
      },
      "id": "nigEoN1OQfOW"
    },
    {
      "cell_type": "markdown",
      "id": "81b22a1a",
      "metadata": {
        "id": "81b22a1a"
      },
      "source": [
        "Symspell работает значительно хуже, чем алгоритм Норвига. Скорее всего, это вызвано тем, что мы работаем только с удалением, хотя исправления также бывают связаны с заменой, вставкой или перестановкой."
      ]
    },
    {
      "cell_type": "markdown",
      "id": "b292d96d",
      "metadata": {
        "id": "b292d96d"
      },
      "source": [
        "## *3. Чтение. (2 балла)"
      ]
    },
    {
      "cell_type": "markdown",
      "id": "dee4b28f",
      "metadata": {
        "id": "dee4b28f"
      },
      "source": [
        "Прочитайте эту главу в книге Speech and Language Processing - https://web.stanford.edu/~jurafsky/slp3/2.pdf .\n",
        "Ответьте на следующий вопрос:\n",
        "\n",
        "1. Что такое Byte-Pair Encoding (опишите по-русски, как минимум 10 предложениями)?\n",
        "\n",
        "*Это задание не связано напрямую с исправлением опечаток, но это важная тема, к которой мы вернемся в конце курса"
      ]
    },
    {
      "cell_type": "markdown",
      "id": "18f23377",
      "metadata": {
        "id": "18f23377"
      },
      "source": [
        "\n",
        "   Кодирование пар байтов - это алгоритм токенизации текста, который отличается от более простых методов разбиения на слова по пробелам. Преимущество этого алогоритма в том, что токены не всегда соответствуют словам. Это полезно при работе с неологизмами или несуществующими словами.\n",
        "\n",
        "   Алгоритм состоит из двух шагов. На первом создается словарь, включающий все возможные сочетания символов. Это происходит в ходе многократных прогонов по корпусу: самые частотные рядом стоящие символы заменяются на один общий - и так добавляются в промежуточный корпус. Следующий прогон осуществляется по учебному корпусу - и так далее, пока не образуется окончательный словарь со всеми возможными сочетаниями. В сочетания входят как слова так и части слов (например, приставки).\n",
        "\n",
        "   На втором шаге используется парсер токенов, использующий этот словарь для разбиения текста на символы. В результате большая часть слов из тестовых данных будет представлена как полноценные символы, но редкие слова могут быть представлены как комбинации символов.\n",
        "\n"
      ]
    }
  ],
  "metadata": {
    "kernelspec": {
      "display_name": "Python 3 (ipykernel)",
      "language": "python",
      "name": "python3"
    },
    "language_info": {
      "codemirror_mode": {
        "name": "ipython",
        "version": 3
      },
      "file_extension": ".py",
      "mimetype": "text/x-python",
      "name": "python",
      "nbconvert_exporter": "python",
      "pygments_lexer": "ipython3",
      "version": "3.10.0"
    },
    "colab": {
      "provenance": []
    },
    "widgets": {
      "application/vnd.jupyter.widget-state+json": {
        "d698ff29fab94ca0bb77c565f2f46d42": {
          "model_module": "@jupyter-widgets/controls",
          "model_name": "HBoxModel",
          "model_module_version": "1.5.0",
          "state": {
            "_dom_classes": [],
            "_model_module": "@jupyter-widgets/controls",
            "_model_module_version": "1.5.0",
            "_model_name": "HBoxModel",
            "_view_count": null,
            "_view_module": "@jupyter-widgets/controls",
            "_view_module_version": "1.5.0",
            "_view_name": "HBoxView",
            "box_style": "",
            "children": [
              "IPY_MODEL_8d25beef49d34ef09d1ac7d971dcc39a",
              "IPY_MODEL_3365837313a645b2a433afc60898e79c",
              "IPY_MODEL_cf540c7f05fb4eeb98b1026ac2c0bbe4"
            ],
            "layout": "IPY_MODEL_a66a60e6f2514eefa354a04eb5654b7d"
          }
        },
        "8d25beef49d34ef09d1ac7d971dcc39a": {
          "model_module": "@jupyter-widgets/controls",
          "model_name": "HTMLModel",
          "model_module_version": "1.5.0",
          "state": {
            "_dom_classes": [],
            "_model_module": "@jupyter-widgets/controls",
            "_model_module_version": "1.5.0",
            "_model_name": "HTMLModel",
            "_view_count": null,
            "_view_module": "@jupyter-widgets/controls",
            "_view_module_version": "1.5.0",
            "_view_name": "HTMLView",
            "description": "",
            "description_tooltip": null,
            "layout": "IPY_MODEL_0c2fe670a8c147998ff25eafa1a68982",
            "placeholder": "​",
            "style": "IPY_MODEL_95fa1bb1fbaf4b3381e0f92787d45a4d",
            "value": "100%"
          }
        },
        "3365837313a645b2a433afc60898e79c": {
          "model_module": "@jupyter-widgets/controls",
          "model_name": "FloatProgressModel",
          "model_module_version": "1.5.0",
          "state": {
            "_dom_classes": [],
            "_model_module": "@jupyter-widgets/controls",
            "_model_module_version": "1.5.0",
            "_model_name": "FloatProgressModel",
            "_view_count": null,
            "_view_module": "@jupyter-widgets/controls",
            "_view_module_version": "1.5.0",
            "_view_name": "ProgressView",
            "bar_style": "success",
            "description": "",
            "description_tooltip": null,
            "layout": "IPY_MODEL_83f70c85b22845c2938f189a12544e59",
            "max": 915,
            "min": 0,
            "orientation": "horizontal",
            "style": "IPY_MODEL_f718a4a1b3404f69bdb6006cb5ea8e23",
            "value": 915
          }
        },
        "cf540c7f05fb4eeb98b1026ac2c0bbe4": {
          "model_module": "@jupyter-widgets/controls",
          "model_name": "HTMLModel",
          "model_module_version": "1.5.0",
          "state": {
            "_dom_classes": [],
            "_model_module": "@jupyter-widgets/controls",
            "_model_module_version": "1.5.0",
            "_model_name": "HTMLModel",
            "_view_count": null,
            "_view_module": "@jupyter-widgets/controls",
            "_view_module_version": "1.5.0",
            "_view_name": "HTMLView",
            "description": "",
            "description_tooltip": null,
            "layout": "IPY_MODEL_3c458b56b10848ab86b147febcc5671c",
            "placeholder": "​",
            "style": "IPY_MODEL_6428a447252b438aad4aa220af9c30e0",
            "value": " 915/915 [00:00&lt;00:00, 4804.12it/s]"
          }
        },
        "a66a60e6f2514eefa354a04eb5654b7d": {
          "model_module": "@jupyter-widgets/base",
          "model_name": "LayoutModel",
          "model_module_version": "1.2.0",
          "state": {
            "_model_module": "@jupyter-widgets/base",
            "_model_module_version": "1.2.0",
            "_model_name": "LayoutModel",
            "_view_count": null,
            "_view_module": "@jupyter-widgets/base",
            "_view_module_version": "1.2.0",
            "_view_name": "LayoutView",
            "align_content": null,
            "align_items": null,
            "align_self": null,
            "border": null,
            "bottom": null,
            "display": null,
            "flex": null,
            "flex_flow": null,
            "grid_area": null,
            "grid_auto_columns": null,
            "grid_auto_flow": null,
            "grid_auto_rows": null,
            "grid_column": null,
            "grid_gap": null,
            "grid_row": null,
            "grid_template_areas": null,
            "grid_template_columns": null,
            "grid_template_rows": null,
            "height": null,
            "justify_content": null,
            "justify_items": null,
            "left": null,
            "margin": null,
            "max_height": null,
            "max_width": null,
            "min_height": null,
            "min_width": null,
            "object_fit": null,
            "object_position": null,
            "order": null,
            "overflow": null,
            "overflow_x": null,
            "overflow_y": null,
            "padding": null,
            "right": null,
            "top": null,
            "visibility": null,
            "width": null
          }
        },
        "0c2fe670a8c147998ff25eafa1a68982": {
          "model_module": "@jupyter-widgets/base",
          "model_name": "LayoutModel",
          "model_module_version": "1.2.0",
          "state": {
            "_model_module": "@jupyter-widgets/base",
            "_model_module_version": "1.2.0",
            "_model_name": "LayoutModel",
            "_view_count": null,
            "_view_module": "@jupyter-widgets/base",
            "_view_module_version": "1.2.0",
            "_view_name": "LayoutView",
            "align_content": null,
            "align_items": null,
            "align_self": null,
            "border": null,
            "bottom": null,
            "display": null,
            "flex": null,
            "flex_flow": null,
            "grid_area": null,
            "grid_auto_columns": null,
            "grid_auto_flow": null,
            "grid_auto_rows": null,
            "grid_column": null,
            "grid_gap": null,
            "grid_row": null,
            "grid_template_areas": null,
            "grid_template_columns": null,
            "grid_template_rows": null,
            "height": null,
            "justify_content": null,
            "justify_items": null,
            "left": null,
            "margin": null,
            "max_height": null,
            "max_width": null,
            "min_height": null,
            "min_width": null,
            "object_fit": null,
            "object_position": null,
            "order": null,
            "overflow": null,
            "overflow_x": null,
            "overflow_y": null,
            "padding": null,
            "right": null,
            "top": null,
            "visibility": null,
            "width": null
          }
        },
        "95fa1bb1fbaf4b3381e0f92787d45a4d": {
          "model_module": "@jupyter-widgets/controls",
          "model_name": "DescriptionStyleModel",
          "model_module_version": "1.5.0",
          "state": {
            "_model_module": "@jupyter-widgets/controls",
            "_model_module_version": "1.5.0",
            "_model_name": "DescriptionStyleModel",
            "_view_count": null,
            "_view_module": "@jupyter-widgets/base",
            "_view_module_version": "1.2.0",
            "_view_name": "StyleView",
            "description_width": ""
          }
        },
        "83f70c85b22845c2938f189a12544e59": {
          "model_module": "@jupyter-widgets/base",
          "model_name": "LayoutModel",
          "model_module_version": "1.2.0",
          "state": {
            "_model_module": "@jupyter-widgets/base",
            "_model_module_version": "1.2.0",
            "_model_name": "LayoutModel",
            "_view_count": null,
            "_view_module": "@jupyter-widgets/base",
            "_view_module_version": "1.2.0",
            "_view_name": "LayoutView",
            "align_content": null,
            "align_items": null,
            "align_self": null,
            "border": null,
            "bottom": null,
            "display": null,
            "flex": null,
            "flex_flow": null,
            "grid_area": null,
            "grid_auto_columns": null,
            "grid_auto_flow": null,
            "grid_auto_rows": null,
            "grid_column": null,
            "grid_gap": null,
            "grid_row": null,
            "grid_template_areas": null,
            "grid_template_columns": null,
            "grid_template_rows": null,
            "height": null,
            "justify_content": null,
            "justify_items": null,
            "left": null,
            "margin": null,
            "max_height": null,
            "max_width": null,
            "min_height": null,
            "min_width": null,
            "object_fit": null,
            "object_position": null,
            "order": null,
            "overflow": null,
            "overflow_x": null,
            "overflow_y": null,
            "padding": null,
            "right": null,
            "top": null,
            "visibility": null,
            "width": null
          }
        },
        "f718a4a1b3404f69bdb6006cb5ea8e23": {
          "model_module": "@jupyter-widgets/controls",
          "model_name": "ProgressStyleModel",
          "model_module_version": "1.5.0",
          "state": {
            "_model_module": "@jupyter-widgets/controls",
            "_model_module_version": "1.5.0",
            "_model_name": "ProgressStyleModel",
            "_view_count": null,
            "_view_module": "@jupyter-widgets/base",
            "_view_module_version": "1.2.0",
            "_view_name": "StyleView",
            "bar_color": null,
            "description_width": ""
          }
        },
        "3c458b56b10848ab86b147febcc5671c": {
          "model_module": "@jupyter-widgets/base",
          "model_name": "LayoutModel",
          "model_module_version": "1.2.0",
          "state": {
            "_model_module": "@jupyter-widgets/base",
            "_model_module_version": "1.2.0",
            "_model_name": "LayoutModel",
            "_view_count": null,
            "_view_module": "@jupyter-widgets/base",
            "_view_module_version": "1.2.0",
            "_view_name": "LayoutView",
            "align_content": null,
            "align_items": null,
            "align_self": null,
            "border": null,
            "bottom": null,
            "display": null,
            "flex": null,
            "flex_flow": null,
            "grid_area": null,
            "grid_auto_columns": null,
            "grid_auto_flow": null,
            "grid_auto_rows": null,
            "grid_column": null,
            "grid_gap": null,
            "grid_row": null,
            "grid_template_areas": null,
            "grid_template_columns": null,
            "grid_template_rows": null,
            "height": null,
            "justify_content": null,
            "justify_items": null,
            "left": null,
            "margin": null,
            "max_height": null,
            "max_width": null,
            "min_height": null,
            "min_width": null,
            "object_fit": null,
            "object_position": null,
            "order": null,
            "overflow": null,
            "overflow_x": null,
            "overflow_y": null,
            "padding": null,
            "right": null,
            "top": null,
            "visibility": null,
            "width": null
          }
        },
        "6428a447252b438aad4aa220af9c30e0": {
          "model_module": "@jupyter-widgets/controls",
          "model_name": "DescriptionStyleModel",
          "model_module_version": "1.5.0",
          "state": {
            "_model_module": "@jupyter-widgets/controls",
            "_model_module_version": "1.5.0",
            "_model_name": "DescriptionStyleModel",
            "_view_count": null,
            "_view_module": "@jupyter-widgets/base",
            "_view_module_version": "1.2.0",
            "_view_name": "StyleView",
            "description_width": ""
          }
        }
      }
    }
  },
  "nbformat": 4,
  "nbformat_minor": 5
}