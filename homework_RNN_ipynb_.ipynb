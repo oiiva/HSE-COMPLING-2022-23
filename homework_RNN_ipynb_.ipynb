{
  "cells": [
    {
      "cell_type": "markdown",
      "metadata": {
        "id": "1bf6f873"
      },
      "source": [
        "# Домашнее задание № 8"
      ],
      "id": "1bf6f873"
    },
    {
      "cell_type": "markdown",
      "metadata": {
        "id": "3b4bd487"
      },
      "source": [
        "## Задание 1 (4 балла) "
      ],
      "id": "3b4bd487"
    },
    {
      "cell_type": "markdown",
      "metadata": {
        "id": "bf4c4f87"
      },
      "source": [
        "Обучите 8 моделей для задачи классификации текста (датасет - lenta_40k ). А именно:  \n",
        "1) модель с 1 GRU слоем;   \n",
        "2) модель с 1 LSTM слоем    \n",
        "3) модель с 1 GRU и 1 LSTM слоем  \n",
        "4) модель с 1 BIGRU и 2 LSTM слоями  \n",
        "5) модель с 5 GRU слоями и 3 LSTM слоями  \n",
        "6) модель 1 BIGRU и 1 BILSTM слоями, причем так чтобы модели для forward и backward прохода отличались   \n",
        "7) модель, где последовательно идут слои: LSTM, GRU, BILSTM, BIGRU, GRU, LSTM  \n",
        "\n",
        "\n",
        "\n",
        "Параметр units и размер эмбединга можете задать любой. Оцените качество каждой модели и определите победителя."
      ],
      "id": "bf4c4f87"
    },
    {
      "cell_type": "code",
      "execution_count": null,
      "metadata": {
        "id": "LMtCBdccFbUV"
      },
      "outputs": [],
      "source": [
        "import tensorflow as tf"
      ],
      "id": "LMtCBdccFbUV"
    },
    {
      "cell_type": "code",
      "execution_count": null,
      "metadata": {
        "id": "Py81oFaAG_5k"
      },
      "outputs": [],
      "source": [
        "import os, re"
      ],
      "id": "Py81oFaAG_5k"
    },
    {
      "cell_type": "code",
      "execution_count": null,
      "metadata": {
        "id": "_EKLSBm9FbUX"
      },
      "outputs": [],
      "source": [
        "import pandas as pd\n",
        "import numpy as np\n",
        "from string import punctuation\n",
        "from sklearn.model_selection import train_test_split\n",
        "from collections import Counter\n",
        "from IPython.display import Image\n",
        "from IPython.core.display import HTML \n",
        "import matplotlib.pyplot as plt\n",
        "%matplotlib inline"
      ],
      "id": "_EKLSBm9FbUX"
    },
    {
      "cell_type": "code",
      "execution_count": null,
      "metadata": {
        "colab": {
          "base_uri": "https://localhost:8080/"
        },
        "id": "_68TxEeeGWZO",
        "outputId": "5a9292fe-6de1-4826-c2a3-39d829a4087c"
      },
      "outputs": [
        {
          "output_type": "stream",
          "name": "stdout",
          "text": [
            "Mounted at /content/drive\n"
          ]
        }
      ],
      "source": [
        "from google.colab import drive\n",
        "\n",
        "RANDOM_SEED = 42\n",
        "np.random.seed(RANDOM_SEED)  # гарантируем воспроизводимость\n",
        "\n",
        "ROOT_DIR = '/content/drive' \n",
        "drive.mount(ROOT_DIR)\n",
        "\n",
        "root_data_dir = os.path.join(ROOT_DIR, 'MyDrive', 'rnn_ner')"
      ],
      "id": "_68TxEeeGWZO"
    },
    {
      "cell_type": "code",
      "execution_count": null,
      "metadata": {
        "id": "zRX79iCBFbUd"
      },
      "outputs": [],
      "source": [
        "data = pd.read_csv('/content/drive/My Drive/rnn_ner/lenta_40k.csv.zip')"
      ],
      "id": "zRX79iCBFbUd"
    },
    {
      "cell_type": "code",
      "execution_count": null,
      "metadata": {
        "colab": {
          "base_uri": "https://localhost:8080/",
          "height": 206
        },
        "id": "OD-wkZ6YFbUe",
        "outputId": "77120701-8903-4e96-9c83-5679b13523f0"
      },
      "outputs": [
        {
          "output_type": "execute_result",
          "data": {
            "text/plain": [
              "                                                text           topic\n",
              "0  Россия должна сотрудничать с Всемирным антидоп...           Спорт\n",
              "1  Уголовный суд Кувейта 28 июня освободил под за...             Мир\n",
              "2  Французский журнал Charlie Hebdo опубликовал н...  Интернет и СМИ\n",
              "3  В Петербурге в доме № 53 по улице Лени Голиков...          Россия\n",
              "4  В московском аэропорту \"Домодедово\" задержан г...          Россия"
            ],
            "text/html": [
              "\n",
              "  <div id=\"df-499ac3fd-7876-4f6f-b382-bd4cd92c30ee\">\n",
              "    <div class=\"colab-df-container\">\n",
              "      <div>\n",
              "<style scoped>\n",
              "    .dataframe tbody tr th:only-of-type {\n",
              "        vertical-align: middle;\n",
              "    }\n",
              "\n",
              "    .dataframe tbody tr th {\n",
              "        vertical-align: top;\n",
              "    }\n",
              "\n",
              "    .dataframe thead th {\n",
              "        text-align: right;\n",
              "    }\n",
              "</style>\n",
              "<table border=\"1\" class=\"dataframe\">\n",
              "  <thead>\n",
              "    <tr style=\"text-align: right;\">\n",
              "      <th></th>\n",
              "      <th>text</th>\n",
              "      <th>topic</th>\n",
              "    </tr>\n",
              "  </thead>\n",
              "  <tbody>\n",
              "    <tr>\n",
              "      <th>0</th>\n",
              "      <td>Россия должна сотрудничать с Всемирным антидоп...</td>\n",
              "      <td>Спорт</td>\n",
              "    </tr>\n",
              "    <tr>\n",
              "      <th>1</th>\n",
              "      <td>Уголовный суд Кувейта 28 июня освободил под за...</td>\n",
              "      <td>Мир</td>\n",
              "    </tr>\n",
              "    <tr>\n",
              "      <th>2</th>\n",
              "      <td>Французский журнал Charlie Hebdo опубликовал н...</td>\n",
              "      <td>Интернет и СМИ</td>\n",
              "    </tr>\n",
              "    <tr>\n",
              "      <th>3</th>\n",
              "      <td>В Петербурге в доме № 53 по улице Лени Голиков...</td>\n",
              "      <td>Россия</td>\n",
              "    </tr>\n",
              "    <tr>\n",
              "      <th>4</th>\n",
              "      <td>В московском аэропорту \"Домодедово\" задержан г...</td>\n",
              "      <td>Россия</td>\n",
              "    </tr>\n",
              "  </tbody>\n",
              "</table>\n",
              "</div>\n",
              "      <button class=\"colab-df-convert\" onclick=\"convertToInteractive('df-499ac3fd-7876-4f6f-b382-bd4cd92c30ee')\"\n",
              "              title=\"Convert this dataframe to an interactive table.\"\n",
              "              style=\"display:none;\">\n",
              "        \n",
              "  <svg xmlns=\"http://www.w3.org/2000/svg\" height=\"24px\"viewBox=\"0 0 24 24\"\n",
              "       width=\"24px\">\n",
              "    <path d=\"M0 0h24v24H0V0z\" fill=\"none\"/>\n",
              "    <path d=\"M18.56 5.44l.94 2.06.94-2.06 2.06-.94-2.06-.94-.94-2.06-.94 2.06-2.06.94zm-11 1L8.5 8.5l.94-2.06 2.06-.94-2.06-.94L8.5 2.5l-.94 2.06-2.06.94zm10 10l.94 2.06.94-2.06 2.06-.94-2.06-.94-.94-2.06-.94 2.06-2.06.94z\"/><path d=\"M17.41 7.96l-1.37-1.37c-.4-.4-.92-.59-1.43-.59-.52 0-1.04.2-1.43.59L10.3 9.45l-7.72 7.72c-.78.78-.78 2.05 0 2.83L4 21.41c.39.39.9.59 1.41.59.51 0 1.02-.2 1.41-.59l7.78-7.78 2.81-2.81c.8-.78.8-2.07 0-2.86zM5.41 20L4 18.59l7.72-7.72 1.47 1.35L5.41 20z\"/>\n",
              "  </svg>\n",
              "      </button>\n",
              "      \n",
              "  <style>\n",
              "    .colab-df-container {\n",
              "      display:flex;\n",
              "      flex-wrap:wrap;\n",
              "      gap: 12px;\n",
              "    }\n",
              "\n",
              "    .colab-df-convert {\n",
              "      background-color: #E8F0FE;\n",
              "      border: none;\n",
              "      border-radius: 50%;\n",
              "      cursor: pointer;\n",
              "      display: none;\n",
              "      fill: #1967D2;\n",
              "      height: 32px;\n",
              "      padding: 0 0 0 0;\n",
              "      width: 32px;\n",
              "    }\n",
              "\n",
              "    .colab-df-convert:hover {\n",
              "      background-color: #E2EBFA;\n",
              "      box-shadow: 0px 1px 2px rgba(60, 64, 67, 0.3), 0px 1px 3px 1px rgba(60, 64, 67, 0.15);\n",
              "      fill: #174EA6;\n",
              "    }\n",
              "\n",
              "    [theme=dark] .colab-df-convert {\n",
              "      background-color: #3B4455;\n",
              "      fill: #D2E3FC;\n",
              "    }\n",
              "\n",
              "    [theme=dark] .colab-df-convert:hover {\n",
              "      background-color: #434B5C;\n",
              "      box-shadow: 0px 1px 3px 1px rgba(0, 0, 0, 0.15);\n",
              "      filter: drop-shadow(0px 1px 2px rgba(0, 0, 0, 0.3));\n",
              "      fill: #FFFFFF;\n",
              "    }\n",
              "  </style>\n",
              "\n",
              "      <script>\n",
              "        const buttonEl =\n",
              "          document.querySelector('#df-499ac3fd-7876-4f6f-b382-bd4cd92c30ee button.colab-df-convert');\n",
              "        buttonEl.style.display =\n",
              "          google.colab.kernel.accessAllowed ? 'block' : 'none';\n",
              "\n",
              "        async function convertToInteractive(key) {\n",
              "          const element = document.querySelector('#df-499ac3fd-7876-4f6f-b382-bd4cd92c30ee');\n",
              "          const dataTable =\n",
              "            await google.colab.kernel.invokeFunction('convertToInteractive',\n",
              "                                                     [key], {});\n",
              "          if (!dataTable) return;\n",
              "\n",
              "          const docLinkHtml = 'Like what you see? Visit the ' +\n",
              "            '<a target=\"_blank\" href=https://colab.research.google.com/notebooks/data_table.ipynb>data table notebook</a>'\n",
              "            + ' to learn more about interactive tables.';\n",
              "          element.innerHTML = '';\n",
              "          dataTable['output_type'] = 'display_data';\n",
              "          await google.colab.output.renderOutput(dataTable, element);\n",
              "          const docLink = document.createElement('div');\n",
              "          docLink.innerHTML = docLinkHtml;\n",
              "          element.appendChild(docLink);\n",
              "        }\n",
              "      </script>\n",
              "    </div>\n",
              "  </div>\n",
              "  "
            ]
          },
          "metadata": {},
          "execution_count": 6
        }
      ],
      "source": [
        "data.head(5)"
      ],
      "id": "OD-wkZ6YFbUe"
    },
    {
      "cell_type": "code",
      "execution_count": null,
      "metadata": {
        "id": "B_SD0oPkFbUh"
      },
      "outputs": [],
      "source": [
        "def preprocess(text):\n",
        "    tokens = text.lower().split()\n",
        "    tokens = [token.strip(punctuation) for token in tokens]\n",
        "    return tokens"
      ],
      "id": "B_SD0oPkFbUh"
    },
    {
      "cell_type": "code",
      "execution_count": null,
      "metadata": {
        "id": "tKB36CoNFbUj"
      },
      "outputs": [],
      "source": [
        "from tensorflow.keras import backend as K\n",
        "def f1(y_true, y_pred):\n",
        "    def recall(y_true, y_pred):\n",
        "        \"\"\"Recall metric.\n",
        "\n",
        "        Only computes a batch-wise average of recall.\n",
        "\n",
        "        Computes the recall, a metric for multi-label classification of\n",
        "        how many relevant items are selected.\n",
        "        \"\"\"\n",
        "        true_positives = K.sum(K.round(K.clip(y_true * y_pred, 0, 1)))\n",
        "        possible_positives = K.sum(K.round(K.clip(y_true, 0, 1)))\n",
        "        recall = true_positives / (possible_positives + K.epsilon())\n",
        "        return recall\n",
        "\n",
        "    def precision(y_true, y_pred):\n",
        "        \"\"\"Precision metric.\n",
        "\n",
        "        Only computes a batch-wise average of precision.\n",
        "\n",
        "        Computes the precision, a metric for multi-label classification of\n",
        "        how many selected items are relevant.\n",
        "        \"\"\"\n",
        "        true_positives = K.sum(K.round(K.clip(y_true * y_pred, 0, 1)))\n",
        "        predicted_positives = K.sum(K.round(K.clip(y_pred, 0, 1)))\n",
        "        precision = true_positives / (predicted_positives + K.epsilon())\n",
        "        return precision\n",
        "    precision = precision(y_true, y_pred)\n",
        "    recall = recall(y_true, y_pred)\n",
        "    return 2*((precision*recall)/(precision+recall+K.epsilon()))"
      ],
      "id": "tKB36CoNFbUj"
    },
    {
      "cell_type": "code",
      "execution_count": null,
      "metadata": {
        "id": "SjDf7OTSFbUm"
      },
      "outputs": [],
      "source": [
        "vocab = Counter()\n",
        "\n",
        "for text in data.text:\n",
        "    vocab.update(preprocess(text))"
      ],
      "id": "SjDf7OTSFbUm"
    },
    {
      "cell_type": "code",
      "execution_count": null,
      "metadata": {
        "colab": {
          "base_uri": "https://localhost:8080/"
        },
        "id": "bWSH4i7HFbUn",
        "outputId": "0e79aa3e-a0f1-4006-b3db-bfe5fd545709"
      },
      "outputs": [
        {
          "output_type": "execute_result",
          "data": {
            "text/plain": [
              "354611"
            ]
          },
          "metadata": {},
          "execution_count": 10
        }
      ],
      "source": [
        "len(vocab)"
      ],
      "id": "bWSH4i7HFbUn"
    },
    {
      "cell_type": "code",
      "execution_count": null,
      "metadata": {
        "id": "v8lPAqypFbUp"
      },
      "outputs": [],
      "source": [
        "filtered_vocab = set()\n",
        "\n",
        "for word in vocab:\n",
        "    if vocab[word] > 30:\n",
        "        filtered_vocab.add(word)"
      ],
      "id": "v8lPAqypFbUp"
    },
    {
      "cell_type": "code",
      "execution_count": null,
      "metadata": {
        "colab": {
          "base_uri": "https://localhost:8080/"
        },
        "id": "pF7FuRuuFbUq",
        "outputId": "6cd63dc8-6c91-4073-b00f-0ee4b68192f3"
      },
      "outputs": [
        {
          "output_type": "execute_result",
          "data": {
            "text/plain": [
              "24091"
            ]
          },
          "metadata": {},
          "execution_count": 12
        }
      ],
      "source": [
        "len(filtered_vocab)"
      ],
      "id": "pF7FuRuuFbUq"
    },
    {
      "cell_type": "code",
      "execution_count": null,
      "metadata": {
        "id": "OH0kBCNCFbUr"
      },
      "outputs": [],
      "source": [
        "word2id = {'PAD':0, 'UNK':1}\n",
        "\n",
        "for word in filtered_vocab:\n",
        "    word2id[word] = len(word2id)"
      ],
      "id": "OH0kBCNCFbUr"
    },
    {
      "cell_type": "code",
      "execution_count": null,
      "metadata": {
        "id": "1FnoOZ7wFbUr"
      },
      "outputs": [],
      "source": [
        "id2word = {i:word for word, i in word2id.items()}"
      ],
      "id": "1FnoOZ7wFbUr"
    },
    {
      "cell_type": "code",
      "execution_count": null,
      "metadata": {
        "id": "d82-V586FbUs"
      },
      "outputs": [],
      "source": [
        "X = []\n",
        "\n",
        "for text in data.text:\n",
        "    tokens = preprocess(text)\n",
        "    ids = [word2id.get(token, 1) for token in tokens]\n",
        "    X.append(ids)"
      ],
      "id": "d82-V586FbUs"
    },
    {
      "cell_type": "code",
      "execution_count": null,
      "metadata": {
        "id": "3ZgcQMPnFbUt"
      },
      "outputs": [],
      "source": [
        "MAX_LEN = max(len(x) for x in X)"
      ],
      "id": "3ZgcQMPnFbUt"
    },
    {
      "cell_type": "code",
      "execution_count": null,
      "metadata": {
        "id": "9DkNEhbDFbUt"
      },
      "outputs": [],
      "source": [
        "MEAN_LEN = np.median([len(x) for x in X])"
      ],
      "id": "9DkNEhbDFbUt"
    },
    {
      "cell_type": "code",
      "execution_count": null,
      "metadata": {
        "colab": {
          "base_uri": "https://localhost:8080/"
        },
        "id": "rVjBK7plFbUu",
        "outputId": "7372a591-21ee-466c-ab20-adff9a1c96ca"
      },
      "outputs": [
        {
          "output_type": "execute_result",
          "data": {
            "text/plain": [
              "(1748, 170.0)"
            ]
          },
          "metadata": {},
          "execution_count": 18
        }
      ],
      "source": [
        "MAX_LEN, MEAN_LEN"
      ],
      "id": "rVjBK7plFbUu"
    },
    {
      "cell_type": "code",
      "execution_count": null,
      "metadata": {
        "id": "Py6zS846FbUu"
      },
      "outputs": [],
      "source": [
        "MAX_LEN = int(MEAN_LEN + 30)"
      ],
      "id": "Py6zS846FbUu"
    },
    {
      "cell_type": "code",
      "execution_count": null,
      "metadata": {
        "id": "zU1S1_lbFbUv"
      },
      "outputs": [],
      "source": [
        "X = tf.keras.preprocessing.sequence.pad_sequences(X, maxlen=MAX_LEN)"
      ],
      "id": "zU1S1_lbFbUv"
    },
    {
      "cell_type": "code",
      "execution_count": null,
      "metadata": {
        "colab": {
          "base_uri": "https://localhost:8080/"
        },
        "id": "Mm8NpyDDFbUv",
        "outputId": "b12a80fb-2f57-4bb6-cbb6-8e0c5c4b6239"
      },
      "outputs": [
        {
          "output_type": "execute_result",
          "data": {
            "text/plain": [
              "(44356, 200)"
            ]
          },
          "metadata": {},
          "execution_count": 21
        }
      ],
      "source": [
        "X.shape"
      ],
      "id": "Mm8NpyDDFbUv"
    },
    {
      "cell_type": "code",
      "execution_count": null,
      "metadata": {
        "id": "K1rpXKXWFbUv"
      },
      "outputs": [],
      "source": [
        "id2label = {i:label for i, label in enumerate(set(data.topic.values))}\n",
        "label2id = {l:i for i, l in id2label.items()}"
      ],
      "id": "K1rpXKXWFbUv"
    },
    {
      "cell_type": "code",
      "execution_count": null,
      "metadata": {
        "id": "RtYsw5fEFbUw"
      },
      "outputs": [],
      "source": [
        "y = tf.keras.utils.to_categorical([label2id[label] for label in data.topic.values])"
      ],
      "id": "RtYsw5fEFbUw"
    },
    {
      "cell_type": "code",
      "execution_count": null,
      "metadata": {
        "colab": {
          "base_uri": "https://localhost:8080/"
        },
        "id": "-tVZFtPNFbUw",
        "outputId": "80c6bff0-4b81-41cd-a066-e1988e6cae6b"
      },
      "outputs": [
        {
          "output_type": "execute_result",
          "data": {
            "text/plain": [
              "19"
            ]
          },
          "metadata": {},
          "execution_count": 24
        }
      ],
      "source": [
        "len(label2id)"
      ],
      "id": "-tVZFtPNFbUw"
    },
    {
      "cell_type": "code",
      "execution_count": null,
      "metadata": {
        "id": "79boMbajFbUx"
      },
      "outputs": [],
      "source": [
        "X_train, X_valid, y_train, y_valid = train_test_split(X, y, test_size=0.05, stratify=y)"
      ],
      "id": "79boMbajFbUx"
    },
    {
      "cell_type": "markdown",
      "metadata": {
        "id": "G8nclQM9LHFU"
      },
      "source": [
        "# **GRU**"
      ],
      "id": "G8nclQM9LHFU"
    },
    {
      "cell_type": "code",
      "execution_count": null,
      "metadata": {
        "id": "UndxpS0oFbU2"
      },
      "outputs": [],
      "source": [
        "inputs = tf.keras.layers.Input(shape=(MAX_LEN,))\n",
        "embeddings = tf.keras.layers.Embedding(input_dim=len(word2id), output_dim=30)(inputs, )\n",
        "\n",
        "rnn = tf.keras.layers.GRU(128, return_sequences=False)(embeddings)\n",
        "\n",
        "outputs = tf.keras.layers.Dense(len(label2id), activation='softmax')(rnn)\n",
        "\n",
        "model = tf.keras.Model(inputs=inputs, outputs=outputs)\n",
        "optimizer = tf.keras.optimizers.Adam(learning_rate=0.001)\n",
        "model.compile(optimizer=optimizer,\n",
        "              loss='categorical_crossentropy',\n",
        "              metrics=[f1, tf.keras.metrics.RecallAtPrecision(0.8, name='rec@prec')])\n"
      ],
      "id": "UndxpS0oFbU2"
    },
    {
      "cell_type": "code",
      "execution_count": null,
      "metadata": {
        "colab": {
          "base_uri": "https://localhost:8080/"
        },
        "id": "5kSPoC4JMPmi",
        "outputId": "6a71e0ae-ec40-45a8-f331-9a5eef2473aa"
      },
      "outputs": [
        {
          "name": "stdout",
          "output_type": "stream",
          "text": [
            "Model: \"model\"\n",
            "_________________________________________________________________\n",
            " Layer (type)                Output Shape              Param #   \n",
            "=================================================================\n",
            " input_1 (InputLayer)        [(None, 200)]             0         \n",
            "                                                                 \n",
            " embedding (Embedding)       (None, 200, 30)           722790    \n",
            "                                                                 \n",
            " gru (GRU)                   (None, 128)               61440     \n",
            "                                                                 \n",
            " dense (Dense)               (None, 19)                2451      \n",
            "                                                                 \n",
            "=================================================================\n",
            "Total params: 786,681\n",
            "Trainable params: 786,681\n",
            "Non-trainable params: 0\n",
            "_________________________________________________________________\n"
          ]
        }
      ],
      "source": [
        "model.summary()"
      ],
      "id": "5kSPoC4JMPmi"
    },
    {
      "cell_type": "code",
      "execution_count": null,
      "metadata": {
        "colab": {
          "base_uri": "https://localhost:8080/"
        },
        "id": "RATE3EgAMYF2",
        "outputId": "0feb3e4a-e7d5-4299-e828-2098a57a204f"
      },
      "outputs": [
        {
          "name": "stdout",
          "output_type": "stream",
          "text": [
            "Epoch 1/20\n",
            "43/43 [==============================] - 123s 3s/step - loss: 2.5808 - f1: 0.0053 - rec@prec: 0.0000e+00 - val_loss: 2.3302 - val_f1: 0.0000e+00 - val_rec@prec: 4.5086e-04\n",
            "Epoch 2/20\n",
            "43/43 [==============================] - 117s 3s/step - loss: 2.2782 - f1: 0.0000e+00 - rec@prec: 0.0000e+00 - val_loss: 2.2274 - val_f1: 0.0000e+00 - val_rec@prec: 0.0023\n",
            "Epoch 3/20\n",
            "43/43 [==============================] - 117s 3s/step - loss: 2.0957 - f1: 0.0015 - rec@prec: 0.0023 - val_loss: 2.0229 - val_f1: 0.0040 - val_rec@prec: 0.0054\n",
            "Epoch 4/20\n",
            "43/43 [==============================] - 116s 3s/step - loss: 1.8645 - f1: 0.0407 - rec@prec: 0.0106 - val_loss: 1.8793 - val_f1: 0.0890 - val_rec@prec: 0.0216\n",
            "Epoch 5/20\n",
            "43/43 [==============================] - 116s 3s/step - loss: 1.6668 - f1: 0.1651 - rec@prec: 0.0996 - val_loss: 1.7576 - val_f1: 0.1909 - val_rec@prec: 0.0848\n",
            "Epoch 6/20\n",
            "43/43 [==============================] - 121s 3s/step - loss: 1.4725 - f1: 0.3336 - rec@prec: 0.2196 - val_loss: 1.6729 - val_f1: 0.2995 - val_rec@prec: 0.1235\n",
            "Epoch 7/20\n",
            "43/43 [==============================] - 117s 3s/step - loss: 1.3103 - f1: 0.4473 - rec@prec: 0.3127 - val_loss: 1.6272 - val_f1: 0.3739 - val_rec@prec: 0.1555\n",
            "Epoch 8/20\n",
            "43/43 [==============================] - 117s 3s/step - loss: 1.1453 - f1: 0.5573 - rec@prec: 0.4366 - val_loss: 1.5059 - val_f1: 0.4510 - val_rec@prec: 0.2169\n",
            "Epoch 9/20\n",
            "43/43 [==============================] - 117s 3s/step - loss: 0.9850 - f1: 0.6428 - rec@prec: 0.5639 - val_loss: 1.5147 - val_f1: 0.5024 - val_rec@prec: 0.2876\n",
            "Epoch 10/20\n",
            "43/43 [==============================] - 116s 3s/step - loss: 0.8595 - f1: 0.7093 - rec@prec: 0.6677 - val_loss: 1.4878 - val_f1: 0.5685 - val_rec@prec: 0.3318\n",
            "Epoch 11/20\n",
            "43/43 [==============================] - 117s 3s/step - loss: 0.7219 - f1: 0.7679 - rec@prec: 0.7606 - val_loss: 1.4629 - val_f1: 0.5975 - val_rec@prec: 0.3868\n",
            "Epoch 12/20\n",
            "43/43 [==============================] - 117s 3s/step - loss: 0.6231 - f1: 0.8049 - rec@prec: 0.8229 - val_loss: 1.4927 - val_f1: 0.6091 - val_rec@prec: 0.3990\n",
            "Epoch 13/20\n",
            "43/43 [==============================] - 118s 3s/step - loss: 0.5321 - f1: 0.8407 - rec@prec: 0.8758 - val_loss: 1.5665 - val_f1: 0.6171 - val_rec@prec: 0.3959\n",
            "Epoch 14/20\n",
            "43/43 [==============================] - 119s 3s/step - loss: 0.4548 - f1: 0.8695 - rec@prec: 0.9092 - val_loss: 1.6180 - val_f1: 0.6015 - val_rec@prec: 0.3886\n",
            "Epoch 15/20\n",
            "43/43 [==============================] - 119s 3s/step - loss: 0.4648 - f1: 0.8617 - rec@prec: 0.9011 - val_loss: 1.6317 - val_f1: 0.6150 - val_rec@prec: 0.4121\n",
            "Epoch 16/20\n",
            "43/43 [==============================] - 122s 3s/step - loss: 0.3622 - f1: 0.8987 - rec@prec: 0.9417 - val_loss: 1.6967 - val_f1: 0.6207 - val_rec@prec: 0.4179\n",
            "Epoch 17/20\n",
            "43/43 [==============================] - 119s 3s/step - loss: 0.3014 - f1: 0.9205 - rec@prec: 0.9606 - val_loss: 1.8009 - val_f1: 0.6149 - val_rec@prec: 0.4116\n",
            "Epoch 18/20\n",
            "43/43 [==============================] - 119s 3s/step - loss: 0.2616 - f1: 0.9342 - rec@prec: 0.9707 - val_loss: 1.8786 - val_f1: 0.6096 - val_rec@prec: 0.3805\n",
            "Epoch 19/20\n",
            "43/43 [==============================] - 119s 3s/step - loss: 0.2451 - f1: 0.9369 - rec@prec: 0.9734 - val_loss: 1.8927 - val_f1: 0.6149 - val_rec@prec: 0.4044\n",
            "Epoch 20/20\n",
            "43/43 [==============================] - 122s 3s/step - loss: 0.2078 - f1: 0.9494 - rec@prec: 0.9808 - val_loss: 1.9940 - val_f1: 0.6214 - val_rec@prec: 0.3778\n"
          ]
        },
        {
          "data": {
            "text/plain": [
              "<keras.callbacks.History at 0x7f0d05939330>"
            ]
          },
          "execution_count": 28,
          "metadata": {},
          "output_type": "execute_result"
        }
      ],
      "source": [
        "model.fit(X_train, y_train, \n",
        "          validation_data=(X_valid, y_valid),\n",
        "          batch_size=1000,\n",
        "         epochs=20)"
      ],
      "id": "RATE3EgAMYF2"
    },
    {
      "cell_type": "code",
      "execution_count": null,
      "metadata": {
        "colab": {
          "base_uri": "https://localhost:8080/",
          "height": 490
        },
        "id": "EYk-kRlGMlZn",
        "outputId": "b2301a56-210c-43f0-8f73-8ee1aa0a6c4f"
      },
      "outputs": [
        {
          "name": "stdout",
          "output_type": "stream",
          "text": [
            "dict_keys(['loss', 'f1', 'rec@prec', 'val_loss', 'val_f1', 'val_rec@prec'])\n"
          ]
        },
        {
          "data": {
            "image/png": "[encoded data removed]",
            "text/plain": [
              "<Figure size 640x480 with 1 Axes>"
            ]
          },
          "metadata": {},
          "output_type": "display_data"
        }
      ],
      "source": [
        "print(model.history.history.keys())\n",
        "# summarize history for accuracy\n",
        "plt.plot(model.history.history['rec@prec'])\n",
        "plt.plot(model.history.history['val_rec@prec'])\n",
        "plt.title('model f1')\n",
        "plt.ylabel('f1')\n",
        "plt.xlabel('epoch')\n",
        "plt.legend(['train', 'val'], loc='upper left')\n",
        "plt.show()"
      ],
      "id": "EYk-kRlGMlZn"
    },
    {
      "cell_type": "markdown",
      "metadata": {
        "id": "r-BReA8dLVam"
      },
      "source": [
        "# **LSTM**"
      ],
      "id": "r-BReA8dLVam"
    },
    {
      "cell_type": "code",
      "execution_count": null,
      "metadata": {
        "id": "s4bkhTk0LY2J"
      },
      "outputs": [],
      "source": [
        "inputs = tf.keras.layers.Input(shape=(MAX_LEN,))\n",
        "embeddings = tf.keras.layers.Embedding(input_dim=len(word2id), output_dim=30)(inputs, )\n",
        "\n",
        "rnn = tf.keras.layers.LSTM(128, return_sequences=False)(embeddings)\n",
        "\n",
        "outputs = tf.keras.layers.Dense(len(label2id), activation='softmax')(rnn)\n",
        "\n",
        "model = tf.keras.Model(inputs=inputs, outputs=outputs)\n",
        "optimizer = tf.keras.optimizers.Adam(learning_rate=0.001)\n",
        "model.compile(optimizer=optimizer,\n",
        "              loss='categorical_crossentropy',\n",
        "              metrics=[f1, tf.keras.metrics.RecallAtPrecision(0.8, name='rec@prec')])\n"
      ],
      "id": "s4bkhTk0LY2J"
    },
    {
      "cell_type": "code",
      "execution_count": null,
      "metadata": {
        "colab": {
          "base_uri": "https://localhost:8080/"
        },
        "id": "kUNjSOCTLd4G",
        "outputId": "a50d8dfc-2bad-4404-9043-c499b5274f98"
      },
      "outputs": [
        {
          "name": "stdout",
          "output_type": "stream",
          "text": [
            "Model: \"model_1\"\n",
            "_________________________________________________________________\n",
            " Layer (type)                Output Shape              Param #   \n",
            "=================================================================\n",
            " input_2 (InputLayer)        [(None, 200)]             0         \n",
            "                                                                 \n",
            " embedding_1 (Embedding)     (None, 200, 30)           722790    \n",
            "                                                                 \n",
            " lstm (LSTM)                 (None, 128)               81408     \n",
            "                                                                 \n",
            " dense_1 (Dense)             (None, 19)                2451      \n",
            "                                                                 \n",
            "=================================================================\n",
            "Total params: 806,649\n",
            "Trainable params: 806,649\n",
            "Non-trainable params: 0\n",
            "_________________________________________________________________\n"
          ]
        }
      ],
      "source": [
        "model.summary()"
      ],
      "id": "kUNjSOCTLd4G"
    },
    {
      "cell_type": "code",
      "execution_count": null,
      "metadata": {
        "colab": {
          "base_uri": "https://localhost:8080/"
        },
        "id": "m0hHAPpSMZO6",
        "outputId": "974d3a07-7f5d-49f1-e89f-ae26a58f330a"
      },
      "outputs": [
        {
          "name": "stdout",
          "output_type": "stream",
          "text": [
            "Epoch 1/20\n",
            "43/43 [==============================] - 143s 3s/step - loss: 2.4695 - f1: 0.0000e+00 - rec@prec: 0.0000e+00 - val_loss: 2.3189 - val_f1: 0.0000e+00 - val_rec@prec: 0.0000e+00\n",
            "Epoch 2/20\n",
            "43/43 [==============================] - 139s 3s/step - loss: 2.3051 - f1: 0.0000e+00 - rec@prec: 1.1866e-04 - val_loss: 2.2793 - val_f1: 0.0000e+00 - val_rec@prec: 0.0054\n",
            "Epoch 3/20\n",
            "43/43 [==============================] - 138s 3s/step - loss: 2.1753 - f1: 0.0056 - rec@prec: 4.7463e-04 - val_loss: 2.0219 - val_f1: 0.0000e+00 - val_rec@prec: 0.0081\n",
            "Epoch 4/20\n",
            "43/43 [==============================] - 138s 3s/step - loss: 1.8464 - f1: 0.0884 - rec@prec: 0.0501 - val_loss: 1.7550 - val_f1: 0.1589 - val_rec@prec: 0.1208\n",
            "Epoch 5/20\n",
            "43/43 [==============================] - 140s 3s/step - loss: 1.5652 - f1: 0.2637 - rec@prec: 0.1663 - val_loss: 1.6769 - val_f1: 0.2900 - val_rec@prec: 0.0803\n",
            "Epoch 6/20\n",
            "43/43 [==============================] - 137s 3s/step - loss: 1.3644 - f1: 0.4611 - rec@prec: 0.2726 - val_loss: 1.4289 - val_f1: 0.5569 - val_rec@prec: 0.3170\n",
            "Epoch 7/20\n",
            "43/43 [==============================] - 140s 3s/step - loss: 1.1452 - f1: 0.6303 - rec@prec: 0.4781 - val_loss: 1.3013 - val_f1: 0.5941 - val_rec@prec: 0.4459\n",
            "Epoch 8/20\n",
            "43/43 [==============================] - 138s 3s/step - loss: 0.9923 - f1: 0.6903 - rec@prec: 0.6127 - val_loss: 1.2448 - val_f1: 0.6161 - val_rec@prec: 0.4815\n",
            "Epoch 9/20\n",
            "43/43 [==============================] - 140s 3s/step - loss: 0.9073 - f1: 0.7217 - rec@prec: 0.6736 - val_loss: 1.1743 - val_f1: 0.6565 - val_rec@prec: 0.5338\n",
            "Epoch 10/20\n",
            "43/43 [==============================] - 137s 3s/step - loss: 0.7956 - f1: 0.7581 - rec@prec: 0.7518 - val_loss: 1.3504 - val_f1: 0.5944 - val_rec@prec: 0.4107\n",
            "Epoch 11/20\n",
            "43/43 [==============================] - 141s 3s/step - loss: 0.7375 - f1: 0.7775 - rec@prec: 0.7791 - val_loss: 1.1665 - val_f1: 0.6598 - val_rec@prec: 0.5361\n",
            "Epoch 12/20\n",
            "43/43 [==============================] - 137s 3s/step - loss: 0.6352 - f1: 0.8183 - rec@prec: 0.8388 - val_loss: 1.1815 - val_f1: 0.6757 - val_rec@prec: 0.5681\n",
            "Epoch 13/20\n",
            "43/43 [==============================] - 141s 3s/step - loss: 0.5716 - f1: 0.8389 - rec@prec: 0.8662 - val_loss: 1.1835 - val_f1: 0.6797 - val_rec@prec: 0.5654\n",
            "Epoch 14/20\n",
            "43/43 [==============================] - 138s 3s/step - loss: 0.5102 - f1: 0.8604 - rec@prec: 0.8913 - val_loss: 1.1759 - val_f1: 0.6843 - val_rec@prec: 0.5839\n",
            "Epoch 15/20\n",
            "43/43 [==============================] - 141s 3s/step - loss: 0.4957 - f1: 0.8618 - rec@prec: 0.8949 - val_loss: 1.2273 - val_f1: 0.6865 - val_rec@prec: 0.5978\n",
            "Epoch 16/20\n",
            "43/43 [==============================] - 137s 3s/step - loss: 0.4251 - f1: 0.8863 - rec@prec: 0.9217 - val_loss: 1.2884 - val_f1: 0.6710 - val_rec@prec: 0.5609\n",
            "Epoch 17/20\n",
            "43/43 [==============================] - 141s 3s/step - loss: 0.3806 - f1: 0.8987 - rec@prec: 0.9366 - val_loss: 1.2557 - val_f1: 0.6859 - val_rec@prec: 0.5834\n",
            "Epoch 18/20\n",
            "43/43 [==============================] - 137s 3s/step - loss: 0.3605 - f1: 0.9053 - rec@prec: 0.9432 - val_loss: 1.2907 - val_f1: 0.6860 - val_rec@prec: 0.5775\n",
            "Epoch 19/20\n",
            "43/43 [==============================] - 140s 3s/step - loss: 0.3178 - f1: 0.9184 - rec@prec: 0.9543 - val_loss: 1.3198 - val_f1: 0.6821 - val_rec@prec: 0.5992\n",
            "Epoch 20/20\n",
            "43/43 [==============================] - 138s 3s/step - loss: 0.2918 - f1: 0.9252 - rec@prec: 0.9613 - val_loss: 1.3586 - val_f1: 0.6919 - val_rec@prec: 0.5929\n"
          ]
        },
        {
          "data": {
            "text/plain": [
              "<keras.callbacks.History at 0x7f0cfc5e2140>"
            ]
          },
          "execution_count": 32,
          "metadata": {},
          "output_type": "execute_result"
        }
      ],
      "source": [
        "model.fit(X_train, y_train, \n",
        "          validation_data=(X_valid, y_valid),\n",
        "          batch_size=1000,\n",
        "         epochs=20)"
      ],
      "id": "m0hHAPpSMZO6"
    },
    {
      "cell_type": "code",
      "execution_count": null,
      "metadata": {
        "colab": {
          "base_uri": "https://localhost:8080/",
          "height": 490
        },
        "id": "ZVsAfTVVMmlC",
        "outputId": "4107204d-dfa1-47fd-e92f-9314741a0100"
      },
      "outputs": [
        {
          "name": "stdout",
          "output_type": "stream",
          "text": [
            "dict_keys(['loss', 'f1', 'rec@prec', 'val_loss', 'val_f1', 'val_rec@prec'])\n"
          ]
        },
        {
          "data": {
            "image/png": "[encoded data removed]",
            "text/plain": [
              "<Figure size 640x480 with 1 Axes>"
            ]
          },
          "metadata": {},
          "output_type": "display_data"
        }
      ],
      "source": [
        "print(model.history.history.keys())\n",
        "# summarize history for accuracy\n",
        "plt.plot(model.history.history['rec@prec'])\n",
        "plt.plot(model.history.history['val_rec@prec'])\n",
        "plt.title('model f1')\n",
        "plt.ylabel('f1')\n",
        "plt.xlabel('epoch')\n",
        "plt.legend(['train', 'val'], loc='upper left')\n",
        "plt.show()"
      ],
      "id": "ZVsAfTVVMmlC"
    },
    {
      "cell_type": "markdown",
      "metadata": {
        "id": "NzqJgWAxLeii"
      },
      "source": [
        "# **GRU**, **LSTM**"
      ],
      "id": "NzqJgWAxLeii"
    },
    {
      "cell_type": "code",
      "execution_count": null,
      "metadata": {
        "id": "FkWvZohXFbU7"
      },
      "outputs": [],
      "source": [
        "inputs = tf.keras.layers.Input(shape=(MAX_LEN,))\n",
        "embeddings = tf.keras.layers.Embedding(input_dim=len(word2id), output_dim=30)(inputs, )\n",
        "\n",
        "lstm_1 = tf.keras.layers.LSTM(128, return_sequences=True)(embeddings)\n",
        "lstm_2 = tf.keras.layers.GRU(128, return_sequences=False)(lstm_1)\n",
        "\n",
        "dense = tf.keras.layers.Dense(64, activation='relu')(lstm_2)\n",
        "outputs = tf.keras.layers.Dense(len(label2id), activation='softmax')(dense)\n",
        "\n",
        "model = tf.keras.Model(inputs=inputs, outputs=outputs)\n",
        "optimizer = tf.keras.optimizers.Adam(learning_rate=0.001)\n",
        "model.compile(optimizer=optimizer,\n",
        "              loss='categorical_crossentropy',\n",
        "              metrics=[f1, tf.keras.metrics.RecallAtPrecision(0.8, name='rec@prec')])\n"
      ],
      "id": "FkWvZohXFbU7"
    },
    {
      "cell_type": "code",
      "execution_count": null,
      "metadata": {
        "colab": {
          "base_uri": "https://localhost:8080/"
        },
        "id": "f_v2_NEELFND",
        "outputId": "3f566159-4dee-4aa9-d3cc-bbd6a5a80691"
      },
      "outputs": [
        {
          "name": "stdout",
          "output_type": "stream",
          "text": [
            "Model: \"model_2\"\n",
            "_________________________________________________________________\n",
            " Layer (type)                Output Shape              Param #   \n",
            "=================================================================\n",
            " input_3 (InputLayer)        [(None, 200)]             0         \n",
            "                                                                 \n",
            " embedding_2 (Embedding)     (None, 200, 30)           722790    \n",
            "                                                                 \n",
            " lstm_1 (LSTM)               (None, 200, 128)          81408     \n",
            "                                                                 \n",
            " gru_1 (GRU)                 (None, 128)               99072     \n",
            "                                                                 \n",
            " dense_2 (Dense)             (None, 64)                8256      \n",
            "                                                                 \n",
            " dense_3 (Dense)             (None, 19)                1235      \n",
            "                                                                 \n",
            "=================================================================\n",
            "Total params: 912,761\n",
            "Trainable params: 912,761\n",
            "Non-trainable params: 0\n",
            "_________________________________________________________________\n"
          ]
        }
      ],
      "source": [
        "model.summary()"
      ],
      "id": "f_v2_NEELFND"
    },
    {
      "cell_type": "code",
      "execution_count": null,
      "metadata": {
        "colab": {
          "base_uri": "https://localhost:8080/"
        },
        "id": "eMfhqnmMMaQN",
        "outputId": "0c673ccb-0f10-410e-d564-a9eaab288c01"
      },
      "outputs": [
        {
          "name": "stdout",
          "output_type": "stream",
          "text": [
            "Epoch 1/20\n",
            "43/43 [==============================] - 324s 7s/step - loss: 2.5029 - f1: 0.0000e+00 - rec@prec: 0.0000e+00 - val_loss: 2.3278 - val_f1: 0.0000e+00 - val_rec@prec: 0.0000e+00\n",
            "Epoch 2/20\n",
            "43/43 [==============================] - 308s 7s/step - loss: 2.2534 - f1: 8.8287e-04 - rec@prec: 9.4926e-05 - val_loss: 2.0897 - val_f1: 0.0000e+00 - val_rec@prec: 0.0000e+00\n",
            "Epoch 3/20\n",
            "43/43 [==============================] - 312s 7s/step - loss: 1.8891 - f1: 0.0248 - rec@prec: 0.0000e+00 - val_loss: 1.8160 - val_f1: 0.0346 - val_rec@prec: 0.0027\n",
            "Epoch 4/20\n",
            "43/43 [==============================] - 310s 7s/step - loss: 1.6661 - f1: 0.1383 - rec@prec: 0.0084 - val_loss: 1.7805 - val_f1: 0.2818 - val_rec@prec: 0.0451\n",
            "Epoch 5/20\n",
            "43/43 [==============================] - 303s 7s/step - loss: 1.5153 - f1: 0.2841 - rec@prec: 0.1078 - val_loss: 1.6470 - val_f1: 0.3208 - val_rec@prec: 0.1267\n",
            "Epoch 6/20\n",
            "43/43 [==============================] - 305s 7s/step - loss: 1.3215 - f1: 0.4476 - rec@prec: 0.2525 - val_loss: 1.5093 - val_f1: 0.4950 - val_rec@prec: 0.2588\n",
            "Epoch 7/20\n",
            "43/43 [==============================] - 308s 7s/step - loss: 1.1173 - f1: 0.6096 - rec@prec: 0.4742 - val_loss: 1.4261 - val_f1: 0.5531 - val_rec@prec: 0.3954\n",
            "Epoch 8/20\n",
            "43/43 [==============================] - 305s 7s/step - loss: 0.9175 - f1: 0.7031 - rec@prec: 0.6409 - val_loss: 1.3871 - val_f1: 0.6165 - val_rec@prec: 0.4342\n",
            "Epoch 9/20\n",
            "43/43 [==============================] - 309s 7s/step - loss: 0.7394 - f1: 0.7718 - rec@prec: 0.7546 - val_loss: 1.3347 - val_f1: 0.6264 - val_rec@prec: 0.4784\n",
            "Epoch 10/20\n",
            "43/43 [==============================] - 305s 7s/step - loss: 0.6108 - f1: 0.8155 - rec@prec: 0.8316 - val_loss: 1.3653 - val_f1: 0.6358 - val_rec@prec: 0.5140\n",
            "Epoch 11/20\n",
            "43/43 [==============================] - 304s 7s/step - loss: 0.5295 - f1: 0.8424 - rec@prec: 0.8726 - val_loss: 1.4713 - val_f1: 0.6360 - val_rec@prec: 0.5099\n",
            "Epoch 12/20\n",
            "43/43 [==============================] - 308s 7s/step - loss: 0.4353 - f1: 0.8783 - rec@prec: 0.9161 - val_loss: 1.5369 - val_f1: 0.6364 - val_rec@prec: 0.5104\n",
            "Epoch 13/20\n",
            "43/43 [==============================] - 309s 7s/step - loss: 0.3674 - f1: 0.8995 - rec@prec: 0.9399 - val_loss: 1.7345 - val_f1: 0.6099 - val_rec@prec: 0.4463\n",
            "Epoch 14/20\n",
            "43/43 [==============================] - 304s 7s/step - loss: 0.3655 - f1: 0.8973 - rec@prec: 0.9397 - val_loss: 1.7896 - val_f1: 0.6147 - val_rec@prec: 0.4161\n",
            "Epoch 15/20\n",
            "43/43 [==============================] - 304s 7s/step - loss: 0.3042 - f1: 0.9186 - rec@prec: 0.9558 - val_loss: 1.6948 - val_f1: 0.6405 - val_rec@prec: 0.4955\n",
            "Epoch 16/20\n",
            "43/43 [==============================] - 306s 7s/step - loss: 0.2550 - f1: 0.9359 - rec@prec: 0.9677 - val_loss: 1.8247 - val_f1: 0.6290 - val_rec@prec: 0.4991\n",
            "Epoch 17/20\n",
            "43/43 [==============================] - 307s 7s/step - loss: 0.2209 - f1: 0.9470 - rec@prec: 0.9742 - val_loss: 1.9212 - val_f1: 0.6319 - val_rec@prec: 0.4833\n",
            "Epoch 18/20\n",
            "43/43 [==============================] - 310s 7s/step - loss: 0.1927 - f1: 0.9540 - rec@prec: 0.9799 - val_loss: 1.9499 - val_f1: 0.6269 - val_rec@prec: 0.4851\n",
            "Epoch 19/20\n",
            "43/43 [==============================] - 304s 7s/step - loss: 0.1753 - f1: 0.9591 - rec@prec: 0.9819 - val_loss: 2.0117 - val_f1: 0.6296 - val_rec@prec: 0.4892\n",
            "Epoch 20/20\n",
            "43/43 [==============================] - 304s 7s/step - loss: 0.1703 - f1: 0.9579 - rec@prec: 0.9840 - val_loss: 2.1124 - val_f1: 0.6292 - val_rec@prec: 0.4518\n"
          ]
        },
        {
          "data": {
            "text/plain": [
              "<keras.callbacks.History at 0x7f0ced602200>"
            ]
          },
          "execution_count": 36,
          "metadata": {},
          "output_type": "execute_result"
        }
      ],
      "source": [
        "model.fit(X_train, y_train, \n",
        "          validation_data=(X_valid, y_valid),\n",
        "          batch_size=1000,\n",
        "         epochs=20)"
      ],
      "id": "eMfhqnmMMaQN"
    },
    {
      "cell_type": "code",
      "execution_count": null,
      "metadata": {
        "colab": {
          "base_uri": "https://localhost:8080/",
          "height": 490
        },
        "id": "OBSok1OlMnWQ",
        "outputId": "dc539bca-72b0-4938-f5f9-ff008821f292"
      },
      "outputs": [
        {
          "name": "stdout",
          "output_type": "stream",
          "text": [
            "dict_keys(['loss', 'f1', 'rec@prec', 'val_loss', 'val_f1', 'val_rec@prec'])\n"
          ]
        },
        {
          "data": {
            "image/png": "[encoded data removed]",
            "text/plain": [
              "<Figure size 640x480 with 1 Axes>"
            ]
          },
          "metadata": {},
          "output_type": "display_data"
        }
      ],
      "source": [
        "print(model.history.history.keys())\n",
        "# summarize history for accuracy\n",
        "plt.plot(model.history.history['rec@prec'])\n",
        "plt.plot(model.history.history['val_rec@prec'])\n",
        "plt.title('model f1')\n",
        "plt.ylabel('f1')\n",
        "plt.xlabel('epoch')\n",
        "plt.legend(['train', 'val'], loc='upper left')\n",
        "plt.show()"
      ],
      "id": "OBSok1OlMnWQ"
    },
    {
      "cell_type": "markdown",
      "metadata": {
        "id": "_YXHmVTkLqUz"
      },
      "source": [
        "# **BIGRU и 2 LSTM**\n"
      ],
      "id": "_YXHmVTkLqUz"
    },
    {
      "cell_type": "code",
      "execution_count": null,
      "metadata": {
        "id": "DpqzhgNLFbU_"
      },
      "outputs": [],
      "source": [
        "inputs = tf.keras.layers.Input(shape=(MAX_LEN,))\n",
        "embeddings = tf.keras.layers.Embedding(input_dim=len(word2id), output_dim=100)(inputs, )\n",
        "\n",
        "gru = tf.keras.layers.Bidirectional(tf.keras.layers.GRU(128, return_sequences=True))(embeddings)\n",
        "rnn_1 = tf.keras.layers.LSTM(128, return_sequences=True)(gru)\n",
        "rnn_2 = tf.keras.layers.LSTM(128, return_sequences=False)(rnn_1)\n",
        "\n",
        "outputs = tf.keras.layers.Dense(len(label2id), activation='softmax')(rnn_2)\n",
        "\n",
        "model = tf.keras.Model(inputs=inputs, outputs=outputs)\n",
        "optimizer = tf.keras.optimizers.Adam()\n",
        "model.compile(optimizer=optimizer,\n",
        "              loss='categorical_crossentropy',\n",
        "              metrics=[f1, tf.keras.metrics.RecallAtPrecision(0.8, name='rec@prec')])\n"
      ],
      "id": "DpqzhgNLFbU_"
    },
    {
      "cell_type": "code",
      "execution_count": null,
      "metadata": {
        "colab": {
          "base_uri": "https://localhost:8080/"
        },
        "id": "e2Nd0YcwMR4C",
        "outputId": "1a41de34-4676-42b6-85c8-e8af9a09a5d7"
      },
      "outputs": [
        {
          "output_type": "stream",
          "name": "stdout",
          "text": [
            "Model: \"model\"\n",
            "_________________________________________________________________\n",
            " Layer (type)                Output Shape              Param #   \n",
            "=================================================================\n",
            " input_1 (InputLayer)        [(None, 200)]             0         \n",
            "                                                                 \n",
            " embedding (Embedding)       (None, 200, 100)          2409300   \n",
            "                                                                 \n",
            " bidirectional (Bidirectiona  (None, 200, 256)         176640    \n",
            " l)                                                              \n",
            "                                                                 \n",
            " lstm (LSTM)                 (None, 200, 128)          197120    \n",
            "                                                                 \n",
            " lstm_1 (LSTM)               (None, 128)               131584    \n",
            "                                                                 \n",
            " dense (Dense)               (None, 19)                2451      \n",
            "                                                                 \n",
            "=================================================================\n",
            "Total params: 2,917,095\n",
            "Trainable params: 2,917,095\n",
            "Non-trainable params: 0\n",
            "_________________________________________________________________\n"
          ]
        }
      ],
      "source": [
        "model.summary()"
      ],
      "id": "e2Nd0YcwMR4C"
    },
    {
      "cell_type": "code",
      "execution_count": null,
      "metadata": {
        "colab": {
          "base_uri": "https://localhost:8080/"
        },
        "id": "ecaTCeFkMbM7",
        "outputId": "a6a904b5-12d4-40a5-f205-5a79ffa1256f"
      },
      "outputs": [
        {
          "output_type": "stream",
          "name": "stdout",
          "text": [
            "Epoch 1/20\n",
            "43/43 [==============================] - 585s 13s/step - loss: 2.4240 - f1: 0.0000e+00 - rec@prec: 0.0000e+00 - val_loss: 2.3137 - val_f1: 0.0000e+00 - val_rec@prec: 0.0000e+00\n",
            "Epoch 2/20\n",
            "43/43 [==============================] - 573s 13s/step - loss: 2.1260 - f1: 0.0000e+00 - rec@prec: 1.1866e-04 - val_loss: 1.9289 - val_f1: 0.0000e+00 - val_rec@prec: 0.0000e+00\n",
            "Epoch 3/20\n",
            "43/43 [==============================] - 563s 13s/step - loss: 1.7773 - f1: 0.1479 - rec@prec: 0.0643 - val_loss: 1.7294 - val_f1: 0.2326 - val_rec@prec: 0.1483\n",
            "Epoch 4/20\n",
            "43/43 [==============================] - 547s 13s/step - loss: 1.6211 - f1: 0.3051 - rec@prec: 0.1506 - val_loss: 1.6545 - val_f1: 0.3192 - val_rec@prec: 0.1943\n",
            "Epoch 5/20\n",
            "43/43 [==============================] - 622s 14s/step - loss: 1.4154 - f1: 0.4638 - rec@prec: 0.2555 - val_loss: 1.4872 - val_f1: 0.5100 - val_rec@prec: 0.2696\n",
            "Epoch 6/20\n",
            "43/43 [==============================] - 609s 14s/step - loss: 1.2127 - f1: 0.5937 - rec@prec: 0.3769 - val_loss: 1.3267 - val_f1: 0.5711 - val_rec@prec: 0.3652\n",
            "Epoch 7/20\n",
            "43/43 [==============================] - 558s 13s/step - loss: 1.0707 - f1: 0.6451 - rec@prec: 0.4745 - val_loss: 1.3164 - val_f1: 0.5766 - val_rec@prec: 0.3652\n",
            "Epoch 8/20\n",
            "43/43 [==============================] - 566s 13s/step - loss: 0.9805 - f1: 0.6736 - rec@prec: 0.5544 - val_loss: 1.3178 - val_f1: 0.5908 - val_rec@prec: 0.3855\n",
            "Epoch 9/20\n",
            "43/43 [==============================] - 572s 13s/step - loss: 0.8993 - f1: 0.7035 - rec@prec: 0.6226 - val_loss: 1.2663 - val_f1: 0.6012 - val_rec@prec: 0.4238\n",
            "Epoch 10/20\n",
            "43/43 [==============================] - 562s 13s/step - loss: 0.8222 - f1: 0.7393 - rec@prec: 0.6961 - val_loss: 1.2663 - val_f1: 0.6323 - val_rec@prec: 0.4504\n",
            "Epoch 11/20\n",
            "43/43 [==============================] - 572s 13s/step - loss: 0.7542 - f1: 0.7722 - rec@prec: 0.7554 - val_loss: 1.2758 - val_f1: 0.6376 - val_rec@prec: 0.4729\n",
            "Epoch 12/20\n",
            "43/43 [==============================] - 602s 14s/step - loss: 0.6975 - f1: 0.7932 - rec@prec: 0.7947 - val_loss: 1.3034 - val_f1: 0.6407 - val_rec@prec: 0.4698\n",
            "Epoch 13/20\n",
            "43/43 [==============================] - 559s 13s/step - loss: 0.6245 - f1: 0.8223 - rec@prec: 0.8380 - val_loss: 1.3007 - val_f1: 0.6475 - val_rec@prec: 0.5095\n",
            "Epoch 14/20\n",
            "43/43 [==============================] - 557s 13s/step - loss: 0.5749 - f1: 0.8393 - rec@prec: 0.8638 - val_loss: 1.3228 - val_f1: 0.6614 - val_rec@prec: 0.4923\n",
            "Epoch 15/20\n",
            "43/43 [==============================] - 552s 13s/step - loss: 0.5243 - f1: 0.8542 - rec@prec: 0.8861 - val_loss: 1.3519 - val_f1: 0.6598 - val_rec@prec: 0.5185\n",
            "Epoch 16/20\n",
            "43/43 [==============================] - 566s 13s/step - loss: 0.4648 - f1: 0.8755 - rec@prec: 0.9097 - val_loss: 1.3689 - val_f1: 0.6447 - val_rec@prec: 0.5194\n",
            "Epoch 17/20\n",
            "43/43 [==============================] - 573s 13s/step - loss: 0.4172 - f1: 0.8892 - rec@prec: 0.9252 - val_loss: 1.3958 - val_f1: 0.6700 - val_rec@prec: 0.4851\n",
            "Epoch 18/20\n",
            "43/43 [==============================] - 566s 13s/step - loss: 0.3971 - f1: 0.8944 - rec@prec: 0.9319 - val_loss: 1.3738 - val_f1: 0.6672 - val_rec@prec: 0.5271\n",
            "Epoch 19/20\n",
            "43/43 [==============================] - 569s 13s/step - loss: 0.3488 - f1: 0.9094 - rec@prec: 0.9454 - val_loss: 1.4431 - val_f1: 0.6713 - val_rec@prec: 0.5140\n",
            "Epoch 20/20\n",
            "43/43 [==============================] - 551s 13s/step - loss: 0.3308 - f1: 0.9134 - rec@prec: 0.9489 - val_loss: 1.4636 - val_f1: 0.6623 - val_rec@prec: 0.5284\n"
          ]
        },
        {
          "output_type": "execute_result",
          "data": {
            "text/plain": [
              "<keras.callbacks.History at 0x7fb23b80e410>"
            ]
          },
          "metadata": {},
          "execution_count": 29
        }
      ],
      "source": [
        "model.fit(X_train, y_train, \n",
        "          validation_data=(X_valid, y_valid),\n",
        "          batch_size=1000,\n",
        "         epochs=20)"
      ],
      "id": "ecaTCeFkMbM7"
    },
    {
      "cell_type": "code",
      "execution_count": null,
      "metadata": {
        "id": "lcbkQvJTMoQp",
        "colab": {
          "base_uri": "https://localhost:8080/",
          "height": 490
        },
        "outputId": "49adc84d-5993-4a52-b826-750fc9ac5d4f"
      },
      "outputs": [
        {
          "output_type": "stream",
          "name": "stdout",
          "text": [
            "dict_keys(['loss', 'f1', 'rec@prec', 'val_loss', 'val_f1', 'val_rec@prec'])\n"
          ]
        },
        {
          "output_type": "display_data",
          "data": {
            "text/plain": [
              "<Figure size 640x480 with 1 Axes>"
            ],
            "image/png": "[encoded data removed]"
          },
          "metadata": {}
        }
      ],
      "source": [
        "print(model.history.history.keys())\n",
        "# summarize history for accuracy\n",
        "plt.plot(model.history.history['rec@prec'])\n",
        "plt.plot(model.history.history['val_rec@prec'])\n",
        "plt.title('model f1')\n",
        "plt.ylabel('f1')\n",
        "plt.xlabel('epoch')\n",
        "plt.legend(['train', 'val'], loc='upper left')\n",
        "plt.show()"
      ],
      "id": "lcbkQvJTMoQp"
    },
    {
      "cell_type": "markdown",
      "metadata": {
        "id": "WXCdy0RkLuoo"
      },
      "source": [
        "# **5 GRU и 3 LSTM**"
      ],
      "id": "WXCdy0RkLuoo"
    },
    {
      "cell_type": "code",
      "execution_count": null,
      "metadata": {
        "id": "jDfkNW9HbXYB"
      },
      "outputs": [],
      "source": [
        "inputs = tf.keras.layers.Input(shape=(MAX_LEN,))\n",
        "embeddings = tf.keras.layers.Embedding(input_dim=len(word2id), output_dim=30)(inputs, )\n",
        "\n",
        "layer_1 = tf.keras.layers.GRU(128, return_sequences=True)(embeddings)\n",
        "layer_2 = tf.keras.layers.GRU(128, return_sequences=True)(layer_1)\n",
        "layer_3 = tf.keras.layers.GRU(128, return_sequences=True)(layer_2)\n",
        "layer_4 = tf.keras.layers.GRU(128, return_sequences=True)(layer_3)\n",
        "layer_5 = tf.keras.layers.GRU(128, return_sequences=True)(layer_4)\n",
        "layer_6 = tf.keras.layers.LSTM(128, return_sequences=True)(layer_5)\n",
        "layer_7 = tf.keras.layers.LSTM(128, return_sequences=True)(layer_6)\n",
        "layer_8 = tf.keras.layers.LSTM(128, return_sequences=False)(layer_7)\n",
        "\n",
        "dense = tf.keras.layers.Dense(64, activation='relu')(layer_8)\n",
        "outputs = tf.keras.layers.Dense(len(label2id), activation='softmax')(dense)\n",
        "\n",
        "\n",
        "model = tf.keras.Model(inputs=inputs, outputs=outputs)\n",
        "optimizer = tf.keras.optimizers.Adam(learning_rate=0.001)\n",
        "model.compile(optimizer=optimizer,\n",
        "              loss='categorical_crossentropy',\n",
        "              metrics=[f1, tf.keras.metrics.RecallAtPrecision(0.8, name='rec@prec')])\n"
      ],
      "id": "jDfkNW9HbXYB"
    },
    {
      "cell_type": "code",
      "execution_count": null,
      "metadata": {
        "id": "wyUwKOw2MS5t",
        "colab": {
          "base_uri": "https://localhost:8080/"
        },
        "outputId": "be62c887-6d74-4d0e-8a92-52ba4de63049"
      },
      "outputs": [
        {
          "output_type": "stream",
          "name": "stdout",
          "text": [
            "Model: \"model\"\n",
            "_________________________________________________________________\n",
            " Layer (type)                Output Shape              Param #   \n",
            "=================================================================\n",
            " input_1 (InputLayer)        [(None, 200)]             0         \n",
            "                                                                 \n",
            " embedding (Embedding)       (None, 200, 30)           722790    \n",
            "                                                                 \n",
            " gru (GRU)                   (None, 200, 128)          61440     \n",
            "                                                                 \n",
            " gru_1 (GRU)                 (None, 200, 128)          99072     \n",
            "                                                                 \n",
            " gru_2 (GRU)                 (None, 200, 128)          99072     \n",
            "                                                                 \n",
            " gru_3 (GRU)                 (None, 200, 128)          99072     \n",
            "                                                                 \n",
            " gru_4 (GRU)                 (None, 200, 128)          99072     \n",
            "                                                                 \n",
            " lstm (LSTM)                 (None, 200, 128)          131584    \n",
            "                                                                 \n",
            " lstm_1 (LSTM)               (None, 200, 128)          131584    \n",
            "                                                                 \n",
            " lstm_2 (LSTM)               (None, 128)               131584    \n",
            "                                                                 \n",
            " dense (Dense)               (None, 64)                8256      \n",
            "                                                                 \n",
            " dense_1 (Dense)             (None, 19)                1235      \n",
            "                                                                 \n",
            "=================================================================\n",
            "Total params: 1,584,761\n",
            "Trainable params: 1,584,761\n",
            "Non-trainable params: 0\n",
            "_________________________________________________________________\n"
          ]
        }
      ],
      "source": [
        "model.summary()"
      ],
      "id": "wyUwKOw2MS5t"
    },
    {
      "cell_type": "code",
      "execution_count": null,
      "metadata": {
        "id": "3NaXRqh6McBh",
        "colab": {
          "base_uri": "https://localhost:8080/"
        },
        "outputId": "1bb7fdf8-846f-4de1-f741-87466b6bb7f7"
      },
      "outputs": [
        {
          "output_type": "stream",
          "name": "stdout",
          "text": [
            "Epoch 1/20\n",
            "85/85 [==============================] - 837s 10s/step - loss: 2.3265 - f1: 0.0000e+00 - rec@prec: 0.0000e+00 - val_loss: 2.3217 - val_f1: 0.0000e+00 - val_rec@prec: 0.0000e+00\n",
            "Epoch 2/20\n",
            "85/85 [==============================] - 825s 10s/step - loss: 2.3240 - f1: 0.0000e+00 - rec@prec: 0.0000e+00 - val_loss: 2.3209 - val_f1: 0.0000e+00 - val_rec@prec: 0.0000e+00\n",
            "Epoch 3/20\n",
            "85/85 [==============================] - 828s 10s/step - loss: 2.3230 - f1: 0.0000e+00 - rec@prec: 0.0000e+00 - val_loss: 2.3226 - val_f1: 0.0000e+00 - val_rec@prec: 0.0000e+00\n",
            "Epoch 4/20\n",
            "85/85 [==============================] - 825s 10s/step - loss: 2.3243 - f1: 0.0000e+00 - rec@prec: 0.0000e+00 - val_loss: 2.3227 - val_f1: 0.0000e+00 - val_rec@prec: 0.0000e+00\n",
            "Epoch 5/20\n",
            "85/85 [==============================] - 821s 10s/step - loss: 2.3237 - f1: 0.0000e+00 - rec@prec: 0.0000e+00 - val_loss: 2.3238 - val_f1: 0.0000e+00 - val_rec@prec: 0.0000e+00\n",
            "Epoch 6/20\n",
            "85/85 [==============================] - 820s 10s/step - loss: 2.3232 - f1: 0.0000e+00 - rec@prec: 0.0000e+00 - val_loss: 2.3200 - val_f1: 0.0000e+00 - val_rec@prec: 0.0000e+00\n",
            "Epoch 7/20\n",
            "85/85 [==============================] - 816s 10s/step - loss: 2.3227 - f1: 0.0000e+00 - rec@prec: 0.0000e+00 - val_loss: 2.3195 - val_f1: 0.0000e+00 - val_rec@prec: 0.0000e+00\n",
            "Epoch 8/20\n",
            "85/85 [==============================] - 815s 10s/step - loss: 2.3227 - f1: 0.0000e+00 - rec@prec: 0.0000e+00 - val_loss: 2.3213 - val_f1: 0.0000e+00 - val_rec@prec: 0.0000e+00\n",
            "Epoch 9/20\n",
            "85/85 [==============================] - 821s 10s/step - loss: 2.3238 - f1: 0.0000e+00 - rec@prec: 0.0000e+00 - val_loss: 2.3213 - val_f1: 0.0000e+00 - val_rec@prec: 0.0000e+00\n",
            "Epoch 10/20\n",
            "85/85 [==============================] - 817s 10s/step - loss: 2.3221 - f1: 0.0000e+00 - rec@prec: 0.0000e+00 - val_loss: 2.3216 - val_f1: 0.0000e+00 - val_rec@prec: 0.0000e+00\n",
            "Epoch 11/20\n",
            "85/85 [==============================] - 822s 10s/step - loss: 2.3232 - f1: 0.0000e+00 - rec@prec: 0.0000e+00 - val_loss: 2.3199 - val_f1: 0.0000e+00 - val_rec@prec: 0.0000e+00\n",
            "Epoch 12/20\n",
            "85/85 [==============================] - 818s 10s/step - loss: 2.3228 - f1: 0.0000e+00 - rec@prec: 0.0000e+00 - val_loss: 2.3196 - val_f1: 0.0000e+00 - val_rec@prec: 0.0000e+00\n",
            "Epoch 13/20\n",
            "85/85 [==============================] - 816s 10s/step - loss: 2.3228 - f1: 0.0000e+00 - rec@prec: 0.0000e+00 - val_loss: 2.3202 - val_f1: 0.0000e+00 - val_rec@prec: 0.0000e+00\n",
            "Epoch 14/20\n",
            "85/85 [==============================] - 816s 10s/step - loss: 2.3241 - f1: 0.0000e+00 - rec@prec: 0.0000e+00 - val_loss: 2.3206 - val_f1: 0.0000e+00 - val_rec@prec: 0.0000e+00\n",
            "Epoch 15/20\n",
            "85/85 [==============================] - 821s 10s/step - loss: 2.3225 - f1: 0.0000e+00 - rec@prec: 0.0000e+00 - val_loss: 2.3197 - val_f1: 0.0000e+00 - val_rec@prec: 0.0000e+00\n",
            "Epoch 16/20\n",
            "85/85 [==============================] - 824s 10s/step - loss: 2.3226 - f1: 0.0000e+00 - rec@prec: 0.0000e+00 - val_loss: 2.3238 - val_f1: 0.0000e+00 - val_rec@prec: 0.0000e+00\n",
            "Epoch 17/20\n",
            "85/85 [==============================] - 819s 10s/step - loss: 2.3228 - f1: 0.0000e+00 - rec@prec: 0.0000e+00 - val_loss: 2.3206 - val_f1: 0.0000e+00 - val_rec@prec: 0.0000e+00\n",
            "Epoch 18/20\n",
            "85/85 [==============================] - 822s 10s/step - loss: 2.3224 - f1: 0.0000e+00 - rec@prec: 0.0000e+00 - val_loss: 2.3188 - val_f1: 0.0000e+00 - val_rec@prec: 0.0000e+00\n",
            "Epoch 19/20\n",
            "85/85 [==============================] - 822s 10s/step - loss: 2.3223 - f1: 0.0000e+00 - rec@prec: 0.0000e+00 - val_loss: 2.3193 - val_f1: 0.0000e+00 - val_rec@prec: 0.0000e+00\n",
            "Epoch 20/20\n",
            "85/85 [==============================] - 829s 10s/step - loss: 2.3227 - f1: 0.0000e+00 - rec@prec: 0.0000e+00 - val_loss: 2.3221 - val_f1: 0.0000e+00 - val_rec@prec: 0.0000e+00\n"
          ]
        },
        {
          "output_type": "execute_result",
          "data": {
            "text/plain": [
              "<keras.callbacks.History at 0x7f7576769000>"
            ]
          },
          "metadata": {},
          "execution_count": 29
        }
      ],
      "source": [
        "model.fit(X_train, y_train, \n",
        "          validation_data=(X_valid, y_valid),\n",
        "          batch_size=500,\n",
        "         epochs=20)"
      ],
      "id": "3NaXRqh6McBh"
    },
    {
      "cell_type": "code",
      "execution_count": null,
      "metadata": {
        "id": "CEfYEW05MpFg",
        "colab": {
          "base_uri": "https://localhost:8080/",
          "height": 490
        },
        "outputId": "02b0335b-e33a-49e5-92ed-cb7c352efb5a"
      },
      "outputs": [
        {
          "output_type": "stream",
          "name": "stdout",
          "text": [
            "dict_keys(['loss', 'f1', 'rec@prec', 'val_loss', 'val_f1', 'val_rec@prec'])\n"
          ]
        },
        {
          "output_type": "display_data",
          "data": {
            "text/plain": [
              "<Figure size 640x480 with 1 Axes>"
            ],
            "image/png": "[encoded data removed]"
          },
          "metadata": {}
        }
      ],
      "source": [
        "print(model.history.history.keys())\n",
        "# summarize history for accuracy\n",
        "plt.plot(model.history.history['rec@prec'])\n",
        "plt.plot(model.history.history['val_rec@prec'])\n",
        "plt.title('model f1')\n",
        "plt.ylabel('f1')\n",
        "plt.xlabel('epoch')\n",
        "plt.legend(['train', 'val'], loc='upper left')\n",
        "plt.show()"
      ],
      "id": "CEfYEW05MpFg"
    },
    {
      "cell_type": "markdown",
      "metadata": {
        "id": "F2ePKeVVL3Go"
      },
      "source": [
        "# **1 BIGRU и 1 BILSTM**"
      ],
      "id": "F2ePKeVVL3Go"
    },
    {
      "cell_type": "code",
      "execution_count": null,
      "metadata": {
        "id": "4G-_sE0ZcSD7"
      },
      "outputs": [],
      "source": [
        "inputs = tf.keras.layers.Input(shape=(MAX_LEN,))\n",
        "embeddings = tf.keras.layers.Embedding(input_dim=len(word2id), output_dim=100)(inputs, )\n",
        "\n",
        "gru = tf.keras.layers.Bidirectional(tf.keras.layers.GRU(128, return_sequences=True))(embeddings)\n",
        "rnn_1 = tf.keras.layers.Bidirectional(tf.keras.layers.LSTM(128, return_sequences=False))(gru)\n",
        "\n",
        "outputs = tf.keras.layers.Dense(len(label2id), activation='softmax')(rnn_1)\n",
        "\n",
        "model = tf.keras.Model(inputs=inputs, outputs=outputs)\n",
        "optimizer = tf.keras.optimizers.Adam()\n",
        "model.compile(optimizer=optimizer,\n",
        "              loss='categorical_crossentropy',\n",
        "              metrics=[f1, tf.keras.metrics.RecallAtPrecision(0.8, name='rec@prec')])"
      ],
      "id": "4G-_sE0ZcSD7"
    },
    {
      "cell_type": "code",
      "execution_count": null,
      "metadata": {
        "id": "7dPn6Jg_MTld",
        "colab": {
          "base_uri": "https://localhost:8080/"
        },
        "outputId": "1e086fad-f45e-4f96-e668-16ce481c4fc7"
      },
      "outputs": [
        {
          "output_type": "stream",
          "name": "stdout",
          "text": [
            "Model: \"model_1\"\n",
            "_________________________________________________________________\n",
            " Layer (type)                Output Shape              Param #   \n",
            "=================================================================\n",
            " input_4 (InputLayer)        [(None, 200)]             0         \n",
            "                                                                 \n",
            " embedding_3 (Embedding)     (None, 200, 100)          2409300   \n",
            "                                                                 \n",
            " bidirectional_5 (Bidirectio  (None, 200, 256)         176640    \n",
            " nal)                                                            \n",
            "                                                                 \n",
            " bidirectional_6 (Bidirectio  (None, 256)              394240    \n",
            " nal)                                                            \n",
            "                                                                 \n",
            " dense_2 (Dense)             (None, 19)                4883      \n",
            "                                                                 \n",
            "=================================================================\n",
            "Total params: 2,985,063\n",
            "Trainable params: 2,985,063\n",
            "Non-trainable params: 0\n",
            "_________________________________________________________________\n"
          ]
        }
      ],
      "source": [
        "model.summary()"
      ],
      "id": "7dPn6Jg_MTld"
    },
    {
      "cell_type": "code",
      "execution_count": null,
      "metadata": {
        "id": "Hq8aWn6QMcux",
        "colab": {
          "base_uri": "https://localhost:8080/"
        },
        "outputId": "8167b4a8-550e-4f72-d219-9f8ba748b2c9"
      },
      "outputs": [
        {
          "output_type": "stream",
          "name": "stdout",
          "text": [
            "Epoch 1/20\n",
            "43/43 [==============================] - 497s 11s/step - loss: 2.4162 - f1: 0.0000e+00 - rec@prec: 0.0000e+00 - val_loss: 2.2731 - val_f1: 0.0000e+00 - val_rec@prec: 0.0000e+00\n",
            "Epoch 2/20\n",
            "43/43 [==============================] - 480s 11s/step - loss: 1.9590 - f1: 0.1306 - rec@prec: 0.0491 - val_loss: 1.7551 - val_f1: 0.2891 - val_rec@prec: 0.1163\n",
            "Epoch 3/20\n",
            "43/43 [==============================] - 485s 11s/step - loss: 1.4095 - f1: 0.5112 - rec@prec: 0.3171 - val_loss: 1.4333 - val_f1: 0.5285 - val_rec@prec: 0.3079\n",
            "Epoch 4/20\n",
            "43/43 [==============================] - 484s 11s/step - loss: 1.1055 - f1: 0.6571 - rec@prec: 0.5500 - val_loss: 1.2120 - val_f1: 0.6381 - val_rec@prec: 0.4838\n",
            "Epoch 5/20\n",
            "43/43 [==============================] - 483s 11s/step - loss: 0.9179 - f1: 0.7198 - rec@prec: 0.6668 - val_loss: 1.1509 - val_f1: 0.6551 - val_rec@prec: 0.5221\n",
            "Epoch 6/20\n",
            "43/43 [==============================] - 486s 11s/step - loss: 0.8186 - f1: 0.7552 - rec@prec: 0.7350 - val_loss: 1.1705 - val_f1: 0.6606 - val_rec@prec: 0.5198\n",
            "Epoch 7/20\n",
            "43/43 [==============================] - 480s 11s/step - loss: 0.6985 - f1: 0.7931 - rec@prec: 0.7959 - val_loss: 1.1476 - val_f1: 0.6655 - val_rec@prec: 0.5609\n",
            "Epoch 8/20\n",
            "43/43 [==============================] - 483s 11s/step - loss: 0.5820 - f1: 0.8321 - rec@prec: 0.8565 - val_loss: 1.2126 - val_f1: 0.6773 - val_rec@prec: 0.5500\n",
            "Epoch 9/20\n",
            "43/43 [==============================] - 484s 11s/step - loss: 0.4920 - f1: 0.8592 - rec@prec: 0.8937 - val_loss: 1.2950 - val_f1: 0.6519 - val_rec@prec: 0.5041\n",
            "Epoch 10/20\n",
            "43/43 [==============================] - 486s 11s/step - loss: 0.4867 - f1: 0.8570 - rec@prec: 0.8934 - val_loss: 1.2723 - val_f1: 0.6716 - val_rec@prec: 0.5437\n",
            "Epoch 11/20\n",
            "43/43 [==============================] - 490s 11s/step - loss: 0.3737 - f1: 0.8964 - rec@prec: 0.9376 - val_loss: 1.3809 - val_f1: 0.6397 - val_rec@prec: 0.5072\n",
            "Epoch 12/20\n",
            "43/43 [==============================] - 509s 12s/step - loss: 0.3285 - f1: 0.9106 - rec@prec: 0.9500 - val_loss: 1.3792 - val_f1: 0.6694 - val_rec@prec: 0.5225\n",
            "Epoch 13/20\n",
            "43/43 [==============================] - 503s 12s/step - loss: 0.2880 - f1: 0.9210 - rec@prec: 0.9613 - val_loss: 1.4443 - val_f1: 0.6486 - val_rec@prec: 0.5271\n",
            "Epoch 14/20\n",
            "43/43 [==============================] - 502s 12s/step - loss: 0.2348 - f1: 0.9389 - rec@prec: 0.9726 - val_loss: 1.5032 - val_f1: 0.6546 - val_rec@prec: 0.5280\n",
            "Epoch 15/20\n",
            "43/43 [==============================] - 513s 12s/step - loss: 0.1925 - f1: 0.9531 - rec@prec: 0.9802 - val_loss: 1.5801 - val_f1: 0.6562 - val_rec@prec: 0.5325\n",
            "Epoch 16/20\n",
            "43/43 [==============================] - 511s 12s/step - loss: 0.1613 - f1: 0.9618 - rec@prec: 0.9853 - val_loss: 1.6494 - val_f1: 0.6501 - val_rec@prec: 0.5252\n",
            "Epoch 17/20\n",
            "43/43 [==============================] - 511s 12s/step - loss: 0.1539 - f1: 0.9630 - rec@prec: 0.9868 - val_loss: 1.6847 - val_f1: 0.6520 - val_rec@prec: 0.5293\n",
            "Epoch 18/20\n",
            "43/43 [==============================] - 514s 12s/step - loss: 0.1403 - f1: 0.9659 - rec@prec: 0.9886 - val_loss: 1.7547 - val_f1: 0.6385 - val_rec@prec: 0.5212\n",
            "Epoch 19/20\n",
            "43/43 [==============================] - 514s 12s/step - loss: 0.1328 - f1: 0.9667 - rec@prec: 0.9897 - val_loss: 1.7878 - val_f1: 0.6425 - val_rec@prec: 0.5131\n",
            "Epoch 20/20\n",
            "43/43 [==============================] - 501s 12s/step - loss: 0.1195 - f1: 0.9704 - rec@prec: 0.9916 - val_loss: 1.8083 - val_f1: 0.6497 - val_rec@prec: 0.5212\n"
          ]
        },
        {
          "output_type": "execute_result",
          "data": {
            "text/plain": [
              "<keras.callbacks.History at 0x7f60b0197f40>"
            ]
          },
          "metadata": {},
          "execution_count": 38
        }
      ],
      "source": [
        "model.fit(X_train, y_train, \n",
        "          validation_data=(X_valid, y_valid),\n",
        "          batch_size=1000,\n",
        "         epochs=20)"
      ],
      "id": "Hq8aWn6QMcux"
    },
    {
      "cell_type": "code",
      "execution_count": null,
      "metadata": {
        "id": "r5I5bD8fMp7w",
        "colab": {
          "base_uri": "https://localhost:8080/",
          "height": 490
        },
        "outputId": "6eb0da1c-9dfa-4426-9dc3-2ed7fc4f9cb1"
      },
      "outputs": [
        {
          "output_type": "stream",
          "name": "stdout",
          "text": [
            "dict_keys(['loss', 'f1', 'rec@prec', 'val_loss', 'val_f1', 'val_rec@prec'])\n"
          ]
        },
        {
          "output_type": "display_data",
          "data": {
            "text/plain": [
              "<Figure size 640x480 with 1 Axes>"
            ],
            "image/png": "[encoded data removed]"
          },
          "metadata": {}
        }
      ],
      "source": [
        "print(model.history.history.keys())\n",
        "# summarize history for accuracy\n",
        "plt.plot(model.history.history['rec@prec'])\n",
        "plt.plot(model.history.history['val_rec@prec'])\n",
        "plt.title('model f1')\n",
        "plt.ylabel('f1')\n",
        "plt.xlabel('epoch')\n",
        "plt.legend(['train', 'val'], loc='upper left')\n",
        "plt.show()"
      ],
      "id": "r5I5bD8fMp7w"
    },
    {
      "cell_type": "markdown",
      "metadata": {
        "id": "gMgTF99YL-vq"
      },
      "source": [
        "# **LSTM, GRU, BILSTM, BIGRU, GRU, LSTM**"
      ],
      "id": "gMgTF99YL-vq"
    },
    {
      "cell_type": "code",
      "source": [
        "inputs = tf.keras.layers.Input(shape=(MAX_LEN,))\n",
        "embeddings = tf.keras.layers.Embedding(input_dim=len(word2id), output_dim=30)(inputs, )\n",
        "\n",
        "lstm1 = tf.keras.layers.LSTM(128, return_sequences=True)(embeddings)\n",
        "gru1 = tf.keras.layers.GRU(128, return_sequences=True)(lstm1)\n",
        "bilstm = tf.keras.layers.Bidirectional(tf.keras.layers.LSTM(128, return_sequences=True))(gru1)\n",
        "bigru = tf.keras.layers.Bidirectional(tf.keras.layers.GRU(128, return_sequences=True))(bilstm)\n",
        "gru2 = tf.keras.layers.GRU(128, return_sequences=True)(bigru)\n",
        "lstm2 = tf.keras.layers.LSTM(128, return_sequences=False)(gru2)\n",
        "\n",
        "dense = tf.keras.layers.Dense(64, activation='relu')(lstm2)\n",
        "outputs = tf.keras.layers.Dense(len(label2id), activation='softmax')(dense)\n",
        "\n",
        "model = tf.keras.Model(inputs=inputs, outputs=outputs)\n",
        "optimizer = tf.keras.optimizers.Adam(learning_rate=0.001)\n",
        "model.compile(optimizer=optimizer,\n",
        "              loss='categorical_crossentropy',\n",
        "              metrics=[f1, tf.keras.metrics.RecallAtPrecision(0.8, name='rec@prec')])\n"
      ],
      "metadata": {
        "id": "HAICCZRW93Vg"
      },
      "id": "HAICCZRW93Vg",
      "execution_count": null,
      "outputs": []
    },
    {
      "cell_type": "code",
      "execution_count": null,
      "metadata": {
        "id": "mqxaQSTrMUM0",
        "colab": {
          "base_uri": "https://localhost:8080/"
        },
        "outputId": "fb577299-0480-4544-a78e-919d8349e21d"
      },
      "outputs": [
        {
          "output_type": "stream",
          "name": "stdout",
          "text": [
            "Model: \"model_1\"\n",
            "_________________________________________________________________\n",
            " Layer (type)                Output Shape              Param #   \n",
            "=================================================================\n",
            " input_2 (InputLayer)        [(None, 200)]             0         \n",
            "                                                                 \n",
            " embedding_1 (Embedding)     (None, 200, 30)           722790    \n",
            "                                                                 \n",
            " lstm_3 (LSTM)               (None, 200, 128)          81408     \n",
            "                                                                 \n",
            " gru_5 (GRU)                 (None, 200, 128)          99072     \n",
            "                                                                 \n",
            " bidirectional (Bidirectiona  (None, 200, 256)         263168    \n",
            " l)                                                              \n",
            "                                                                 \n",
            " bidirectional_1 (Bidirectio  (None, 200, 256)         296448    \n",
            " nal)                                                            \n",
            "                                                                 \n",
            " gru_7 (GRU)                 (None, 200, 128)          148224    \n",
            "                                                                 \n",
            " lstm_5 (LSTM)               (None, 128)               131584    \n",
            "                                                                 \n",
            " dense_2 (Dense)             (None, 64)                8256      \n",
            "                                                                 \n",
            " dense_3 (Dense)             (None, 19)                1235      \n",
            "                                                                 \n",
            "=================================================================\n",
            "Total params: 1,752,185\n",
            "Trainable params: 1,752,185\n",
            "Non-trainable params: 0\n",
            "_________________________________________________________________\n"
          ]
        }
      ],
      "source": [
        "model.summary()"
      ],
      "id": "mqxaQSTrMUM0"
    },
    {
      "cell_type": "code",
      "execution_count": null,
      "metadata": {
        "id": "YNexnHzSMdh_",
        "colab": {
          "base_uri": "https://localhost:8080/"
        },
        "outputId": "30d48ca5-efce-43b6-d049-321aa6b60c71"
      },
      "outputs": [
        {
          "output_type": "stream",
          "name": "stdout",
          "text": [
            "Epoch 1/20\n",
            "85/85 [==============================] - 964s 11s/step - loss: 2.3527 - f1: 0.0000e+00 - rec@prec: 0.0000e+00 - val_loss: 2.0916 - val_f1: 0.0000e+00 - val_rec@prec: 0.0000e+00\n",
            "Epoch 2/20\n",
            "85/85 [==============================] - 965s 11s/step - loss: 1.8977 - f1: 0.0221 - rec@prec: 0.0048 - val_loss: 1.7824 - val_f1: 0.1174 - val_rec@prec: 0.0676\n",
            "Epoch 3/20\n",
            "85/85 [==============================] - 963s 11s/step - loss: 1.6723 - f1: 0.1373 - rec@prec: 0.0821 - val_loss: 1.6915 - val_f1: 0.1544 - val_rec@prec: 0.0897\n",
            "Epoch 4/20\n",
            "85/85 [==============================] - 956s 11s/step - loss: 1.5602 - f1: 0.2019 - rec@prec: 0.1086 - val_loss: 1.6210 - val_f1: 0.2003 - val_rec@prec: 0.1105\n",
            "Epoch 5/20\n",
            "85/85 [==============================] - 950s 11s/step - loss: 1.4570 - f1: 0.2428 - rec@prec: 0.1279 - val_loss: 1.6378 - val_f1: 0.2014 - val_rec@prec: 0.1091\n",
            "Epoch 6/20\n",
            "85/85 [==============================] - 950s 11s/step - loss: 1.2654 - f1: 0.4248 - rec@prec: 0.2339 - val_loss: 1.3607 - val_f1: 0.5358 - val_rec@prec: 0.2759\n",
            "Epoch 7/20\n",
            "85/85 [==============================] - 951s 11s/step - loss: 1.0265 - f1: 0.6538 - rec@prec: 0.4910 - val_loss: 1.3521 - val_f1: 0.5864 - val_rec@prec: 0.3174\n",
            "Epoch 8/20\n",
            "85/85 [==============================] - 954s 11s/step - loss: 0.8753 - f1: 0.7271 - rec@prec: 0.6647 - val_loss: 1.2410 - val_f1: 0.6390 - val_rec@prec: 0.4518\n",
            "Epoch 9/20\n",
            "85/85 [==============================] - 951s 11s/step - loss: 0.7788 - f1: 0.7687 - rec@prec: 0.7490 - val_loss: 1.3028 - val_f1: 0.6253 - val_rec@prec: 0.4540\n",
            "Epoch 10/20\n",
            "85/85 [==============================] - 963s 11s/step - loss: 0.7034 - f1: 0.7947 - rec@prec: 0.7956 - val_loss: 1.3774 - val_f1: 0.6334 - val_rec@prec: 0.4152\n",
            "Epoch 11/20\n",
            "85/85 [==============================] - 956s 11s/step - loss: 0.6348 - f1: 0.8193 - rec@prec: 0.8358 - val_loss: 1.3435 - val_f1: 0.6394 - val_rec@prec: 0.4644\n",
            "Epoch 12/20\n",
            "85/85 [==============================] - 950s 11s/step - loss: 0.5560 - f1: 0.8462 - rec@prec: 0.8732 - val_loss: 1.3826 - val_f1: 0.6361 - val_rec@prec: 0.4617\n",
            "Epoch 13/20\n",
            "85/85 [==============================] - 951s 11s/step - loss: 0.4975 - f1: 0.8641 - rec@prec: 0.8976 - val_loss: 1.4511 - val_f1: 0.6433 - val_rec@prec: 0.4414\n",
            "Epoch 14/20\n",
            "85/85 [==============================] - 1103s 13s/step - loss: 0.4386 - f1: 0.8838 - rec@prec: 0.9201 - val_loss: 1.4356 - val_f1: 0.6578 - val_rec@prec: 0.5104\n",
            "Epoch 15/20\n",
            "85/85 [==============================] - 959s 11s/step - loss: 0.3942 - f1: 0.8978 - rec@prec: 0.9324 - val_loss: 1.5156 - val_f1: 0.6428 - val_rec@prec: 0.5036\n",
            "Epoch 16/20\n",
            "85/85 [==============================] - 951s 11s/step - loss: 0.3550 - f1: 0.9089 - rec@prec: 0.9419 - val_loss: 1.5181 - val_f1: 0.6564 - val_rec@prec: 0.4946\n",
            "Epoch 17/20\n",
            "85/85 [==============================] - 956s 11s/step - loss: 0.3234 - f1: 0.9181 - rec@prec: 0.9514 - val_loss: 1.5937 - val_f1: 0.6469 - val_rec@prec: 0.4833\n",
            "Epoch 18/20\n",
            "85/85 [==============================] - 955s 11s/step - loss: 0.2945 - f1: 0.9268 - rec@prec: 0.9572 - val_loss: 1.5687 - val_f1: 0.6532 - val_rec@prec: 0.4590\n",
            "Epoch 19/20\n",
            "85/85 [==============================] - 952s 11s/step - loss: 0.2834 - f1: 0.9302 - rec@prec: 0.9598 - val_loss: 1.6488 - val_f1: 0.6589 - val_rec@prec: 0.4540\n",
            "Epoch 20/20\n",
            "85/85 [==============================] - 964s 11s/step - loss: 0.2452 - f1: 0.9400 - rec@prec: 0.9684 - val_loss: 1.6424 - val_f1: 0.6532 - val_rec@prec: 0.4923\n"
          ]
        },
        {
          "output_type": "execute_result",
          "data": {
            "text/plain": [
              "<keras.callbacks.History at 0x7f7576315c30>"
            ]
          },
          "metadata": {},
          "execution_count": 33
        }
      ],
      "source": [
        "model.fit(X_train, y_train, \n",
        "          validation_data=(X_valid, y_valid),\n",
        "          batch_size=500,\n",
        "         epochs=20)"
      ],
      "id": "YNexnHzSMdh_"
    },
    {
      "cell_type": "code",
      "execution_count": null,
      "metadata": {
        "id": "YZeR6pfwMqlP",
        "colab": {
          "base_uri": "https://localhost:8080/",
          "height": 490
        },
        "outputId": "51866dc2-1f09-461c-f8a8-c3fd9bf7dbdc"
      },
      "outputs": [
        {
          "output_type": "stream",
          "name": "stdout",
          "text": [
            "dict_keys(['loss', 'f1', 'rec@prec', 'val_loss', 'val_f1', 'val_rec@prec'])\n"
          ]
        },
        {
          "output_type": "display_data",
          "data": {
            "text/plain": [
              "<Figure size 640x480 with 1 Axes>"
            ],
            "image/png": "[encoded data removed]"
          },
          "metadata": {}
        }
      ],
      "source": [
        "print(model.history.history.keys())\n",
        "# summarize history for accuracy\n",
        "plt.plot(model.history.history['rec@prec'])\n",
        "plt.plot(model.history.history['val_rec@prec'])\n",
        "plt.title('model f1')\n",
        "plt.ylabel('f1')\n",
        "plt.xlabel('epoch')\n",
        "plt.legend(['train', 'val'], loc='upper left')\n",
        "plt.show()"
      ],
      "id": "YZeR6pfwMqlP"
    },
    {
      "cell_type": "markdown",
      "source": [
        "# **Вывод**"
      ],
      "metadata": {
        "id": "nJyMp8gxLYvk"
      },
      "id": "nJyMp8gxLYvk"
    },
    {
      "cell_type": "markdown",
      "source": [
        "Сравнив графики, приходим к выводу, что лучше всего работает LSTM.  В остальном графики показывают похожее качество (примерно 0.5 по метрике f1). \n",
        "\n",
        "Следует упомянуть, что модели со слоями \"5GRU, 3LSTM\" и \"LSTM, GRU, BILSTM, BIGRU, GRU, LSTM\" отличаюся размером батчей (иначе код не запускается). Поэтому получается не очень объективно: по графику кажется, что\"5GRU, 3LSTM\" не обучается совсем. Но скорее всего увеличение количества батчей положительно повлияет на качество работы модели.  "
      ],
      "metadata": {
        "id": "XYtyvQRTLe78"
      },
      "id": "XYtyvQRTLe78"
    },
    {
      "cell_type": "markdown",
      "metadata": {
        "id": "ed5d6eea"
      },
      "source": [
        "## Задание 2 (6 баллов)\n"
      ],
      "id": "ed5d6eea"
    },
    {
      "cell_type": "markdown",
      "metadata": {
        "id": "5c2c07cf"
      },
      "source": [
        "На данных википедии (wikiann) обучите 2 модели:  \n",
        "1) модель в которой будут использованы предобученные эмбединги слов и несколько BILSTM слоев. \n",
        "1) модель в которой будут использованы предобученные эмбединги слов и несколько BIGRU слоев. \n",
        "\n",
        "Сравните качество по метрикам. Также придумайте несколько сложных примеров и проверьте, какие сущности определяет каждая из моделей."
      ],
      "id": "5c2c07cf"
    },
    {
      "cell_type": "code",
      "execution_count": null,
      "metadata": {
        "id": "fb704b1b",
        "colab": {
          "base_uri": "https://localhost:8080/"
        },
        "outputId": "c2589cf4-c2af-4d03-dff2-eff69eaa67d4"
      },
      "outputs": [
        {
          "output_type": "stream",
          "name": "stdout",
          "text": [
            "Looking in indexes: https://pypi.org/simple, https://us-python.pkg.dev/colab-wheels/public/simple/\n",
            "Collecting datasets\n",
            "  Downloading datasets-2.12.0-py3-none-any.whl (474 kB)\n",
            "\u001b[2K     \u001b[90m━━━━━━━━━━━━━━━━━━━━━━━━━━━━━━━━━━━━━━\u001b[0m \u001b[32m474.6/474.6 kB\u001b[0m \u001b[31m24.8 MB/s\u001b[0m eta \u001b[36m0:00:00\u001b[0m\n",
            "\u001b[?25hRequirement already satisfied: numpy>=1.17 in /usr/local/lib/python3.10/dist-packages (from datasets) (1.22.4)\n",
            "Requirement already satisfied: pyarrow>=8.0.0 in /usr/local/lib/python3.10/dist-packages (from datasets) (9.0.0)\n",
            "Collecting dill<0.3.7,>=0.3.0 (from datasets)\n",
            "  Downloading dill-0.3.6-py3-none-any.whl (110 kB)\n",
            "\u001b[2K     \u001b[90m━━━━━━━━━━━━━━━━━━━━━━━━━━━━━━━━━━━━━━━\u001b[0m \u001b[32m110.5/110.5 kB\u001b[0m \u001b[31m7.1 MB/s\u001b[0m eta \u001b[36m0:00:00\u001b[0m\n",
            "\u001b[?25hRequirement already satisfied: pandas in /usr/local/lib/python3.10/dist-packages (from datasets) (1.5.3)\n",
            "Requirement already satisfied: requests>=2.19.0 in /usr/local/lib/python3.10/dist-packages (from datasets) (2.27.1)\n",
            "Requirement already satisfied: tqdm>=4.62.1 in /usr/local/lib/python3.10/dist-packages (from datasets) (4.65.0)\n",
            "Collecting xxhash (from datasets)\n",
            "  Downloading xxhash-3.2.0-cp310-cp310-manylinux_2_17_x86_64.manylinux2014_x86_64.whl (212 kB)\n",
            "\u001b[2K     \u001b[90m━━━━━━━━━━━━━━━━━━━━━━━━━━━━━━━━━━━━━━\u001b[0m \u001b[32m212.5/212.5 kB\u001b[0m \u001b[31m22.6 MB/s\u001b[0m eta \u001b[36m0:00:00\u001b[0m\n",
            "\u001b[?25hCollecting multiprocess (from datasets)\n",
            "  Downloading multiprocess-0.70.14-py310-none-any.whl (134 kB)\n",
            "\u001b[2K     \u001b[90m━━━━━━━━━━━━━━━━━━━━━━━━━━━━━━━━━━━━━━\u001b[0m \u001b[32m134.3/134.3 kB\u001b[0m \u001b[31m10.0 MB/s\u001b[0m eta \u001b[36m0:00:00\u001b[0m\n",
            "\u001b[?25hRequirement already satisfied: fsspec[http]>=2021.11.1 in /usr/local/lib/python3.10/dist-packages (from datasets) (2023.4.0)\n",
            "Collecting aiohttp (from datasets)\n",
            "  Downloading aiohttp-3.8.4-cp310-cp310-manylinux_2_17_x86_64.manylinux2014_x86_64.whl (1.0 MB)\n",
            "\u001b[2K     \u001b[90m━━━━━━━━━━━━━━━━━━━━━━━━━━━━━━━━━━━━━━━━\u001b[0m \u001b[32m1.0/1.0 MB\u001b[0m \u001b[31m43.6 MB/s\u001b[0m eta \u001b[36m0:00:00\u001b[0m\n",
            "\u001b[?25hCollecting huggingface-hub<1.0.0,>=0.11.0 (from datasets)\n",
            "  Downloading huggingface_hub-0.15.1-py3-none-any.whl (236 kB)\n",
            "\u001b[2K     \u001b[90m━━━━━━━━━━━━━━━━━━━━━━━━━━━━━━━━━━━━━━\u001b[0m \u001b[32m236.8/236.8 kB\u001b[0m \u001b[31m22.4 MB/s\u001b[0m eta \u001b[36m0:00:00\u001b[0m\n",
            "\u001b[?25hRequirement already satisfied: packaging in /usr/local/lib/python3.10/dist-packages (from datasets) (23.1)\n",
            "Collecting responses<0.19 (from datasets)\n",
            "  Downloading responses-0.18.0-py3-none-any.whl (38 kB)\n",
            "Requirement already satisfied: pyyaml>=5.1 in /usr/local/lib/python3.10/dist-packages (from datasets) (6.0)\n",
            "Requirement already satisfied: attrs>=17.3.0 in /usr/local/lib/python3.10/dist-packages (from aiohttp->datasets) (23.1.0)\n",
            "Requirement already satisfied: charset-normalizer<4.0,>=2.0 in /usr/local/lib/python3.10/dist-packages (from aiohttp->datasets) (2.0.12)\n",
            "Collecting multidict<7.0,>=4.5 (from aiohttp->datasets)\n",
            "  Downloading multidict-6.0.4-cp310-cp310-manylinux_2_17_x86_64.manylinux2014_x86_64.whl (114 kB)\n",
            "\u001b[2K     \u001b[90m━━━━━━━━━━━━━━━━━━━━━━━━━━━━━━━━━━━━━━\u001b[0m \u001b[32m114.5/114.5 kB\u001b[0m \u001b[31m13.3 MB/s\u001b[0m eta \u001b[36m0:00:00\u001b[0m\n",
            "\u001b[?25hCollecting async-timeout<5.0,>=4.0.0a3 (from aiohttp->datasets)\n",
            "  Downloading async_timeout-4.0.2-py3-none-any.whl (5.8 kB)\n",
            "Collecting yarl<2.0,>=1.0 (from aiohttp->datasets)\n",
            "  Downloading yarl-1.9.2-cp310-cp310-manylinux_2_17_x86_64.manylinux2014_x86_64.whl (268 kB)\n",
            "\u001b[2K     \u001b[90m━━━━━━━━━━━━━━━━━━━━━━━━━━━━━━━━━━━━━━\u001b[0m \u001b[32m268.8/268.8 kB\u001b[0m \u001b[31m20.4 MB/s\u001b[0m eta \u001b[36m0:00:00\u001b[0m\n",
            "\u001b[?25hCollecting frozenlist>=1.1.1 (from aiohttp->datasets)\n",
            "  Downloading frozenlist-1.3.3-cp310-cp310-manylinux_2_5_x86_64.manylinux1_x86_64.manylinux_2_17_x86_64.manylinux2014_x86_64.whl (149 kB)\n",
            "\u001b[2K     \u001b[90m━━━━━━━━━━━━━━━━━━━━━━━━━━━━━━━━━━━━━━\u001b[0m \u001b[32m149.6/149.6 kB\u001b[0m \u001b[31m18.7 MB/s\u001b[0m eta \u001b[36m0:00:00\u001b[0m\n",
            "\u001b[?25hCollecting aiosignal>=1.1.2 (from aiohttp->datasets)\n",
            "  Downloading aiosignal-1.3.1-py3-none-any.whl (7.6 kB)\n",
            "Requirement already satisfied: filelock in /usr/local/lib/python3.10/dist-packages (from huggingface-hub<1.0.0,>=0.11.0->datasets) (3.12.0)\n",
            "Requirement already satisfied: typing-extensions>=3.7.4.3 in /usr/local/lib/python3.10/dist-packages (from huggingface-hub<1.0.0,>=0.11.0->datasets) (4.5.0)\n",
            "Requirement already satisfied: urllib3<1.27,>=1.21.1 in /usr/local/lib/python3.10/dist-packages (from requests>=2.19.0->datasets) (1.26.15)\n",
            "Requirement already satisfied: certifi>=2017.4.17 in /usr/local/lib/python3.10/dist-packages (from requests>=2.19.0->datasets) (2022.12.7)\n",
            "Requirement already satisfied: idna<4,>=2.5 in /usr/local/lib/python3.10/dist-packages (from requests>=2.19.0->datasets) (3.4)\n",
            "Requirement already satisfied: python-dateutil>=2.8.1 in /usr/local/lib/python3.10/dist-packages (from pandas->datasets) (2.8.2)\n",
            "Requirement already satisfied: pytz>=2020.1 in /usr/local/lib/python3.10/dist-packages (from pandas->datasets) (2022.7.1)\n",
            "Requirement already satisfied: six>=1.5 in /usr/local/lib/python3.10/dist-packages (from python-dateutil>=2.8.1->pandas->datasets) (1.16.0)\n",
            "Installing collected packages: xxhash, multidict, frozenlist, dill, async-timeout, yarl, responses, multiprocess, huggingface-hub, aiosignal, aiohttp, datasets\n",
            "Successfully installed aiohttp-3.8.4 aiosignal-1.3.1 async-timeout-4.0.2 datasets-2.12.0 dill-0.3.6 frozenlist-1.3.3 huggingface-hub-0.15.1 multidict-6.0.4 multiprocess-0.70.14 responses-0.18.0 xxhash-3.2.0 yarl-1.9.2\n"
          ]
        }
      ],
      "source": [
        "!pip install datasets"
      ],
      "id": "fb704b1b"
    },
    {
      "cell_type": "code",
      "execution_count": null,
      "metadata": {
        "id": "24b4e4aa"
      },
      "outputs": [],
      "source": [
        "from datasets import load_dataset\n",
        "from sklearn.metrics import classification_report\n",
        "import re"
      ],
      "id": "24b4e4aa"
    },
    {
      "cell_type": "code",
      "execution_count": null,
      "metadata": {
        "id": "8035db14",
        "colab": {
          "base_uri": "https://localhost:8080/",
          "height": 233,
          "referenced_widgets": [
            "f7c6a554ae01432e840c6e7de0d55819",
            "5235c3d97d4f46de9aae64bc03ee7fb0",
            "dc719f8ebeeb4f53afbb7faf81788fa7",
            "573c9a0614e64bbb8ea5aab9a93e7bd4",
            "7eea6e2b74e048138be85753f1f90167",
            "55fd0442ba4b466cb6bee11489ef17e6",
            "12451a1ac78547258aeb6a17c81b1b27",
            "7c1ada09fddb4bc7a5f65320de58d815",
            "5971b833fa9c4c619dac613d36cdfebe",
            "8a2c239e6e08492bb2e1b0cf0a89922b",
            "4ab97250a911435094bb8264f1c31104",
            "5987341bcfc54ec79e99eb53f7ef7c23",
            "86d604fa180740e3a485a214e6de48f3",
            "2ef89f57b9644dcfb5679a928e0ddb9f",
            "35a4e7e7be314d349052849841633d6a",
            "146cf4814c1342dc9e0d6c7acdd2d6a1",
            "076adc72d7b34abbba6a1ab9c0e09577",
            "8f4319be923b471e9d803038bca716b2",
            "0ea4a2cf27f742faa884537b78e33588",
            "b40b9079593344bbbb73bd50c02430f7",
            "1751a1aec1cf42ec8f7c8d2e518d496f",
            "dbf377560c1a42838220a8e341f10c35",
            "2125bff89fd14e81aed8c9198219c4b4",
            "85f8b90fc626430ea2a882e571fcdd4e",
            "c19d6e92bfd141728443e93325d17429",
            "8677daa3717341739e7ad6a7b9b2ad82",
            "e5a8e2ae74854c20a96a3461e13961ab",
            "c2460a300af9461684abdea859a3ff05",
            "b1588d922aba412fb5a445e3fb594997",
            "c12c7f2d7cac42d6ab4ca8ea3be25c73",
            "9cc36c0d8b844191b017ce56d59a59d5",
            "d3d1201d904f44fa9317185f6b1e43e8",
            "c7a5eea537f64a38ada5340d888a38de",
            "ac897e89a97c45bb8c457d3a98f5521d",
            "d086e0b9cb6d42c59f24684dc68dd761",
            "a45355eef19f42d8b1548f7b12427a09",
            "de11177e5bd64e61a592c99a2d03463d",
            "ecb1266f07084163b668ef26a60c9740",
            "3a4db4364e134ccc8fbe2f6259a3ccca",
            "a736665b00e84c3fb38ff86b9f63a0e0",
            "bc41479c2143455fbfc79eab91c437d6",
            "7f599d940cad4852a6e555da67bff708",
            "909a4ea0feee455aa21943ad4e06a8e7",
            "a374bdf1e884434dab8e94442f8bbc5c",
            "697c6104a32f4bcabd4bbba6378f5551",
            "4a1a1663854040158ce568aa651452e7",
            "736b99fdb2bf4a3f96590981143d5e7c",
            "a47eb56e88f24a4c84f4d93cbb19c677",
            "9a661fac14ec44f5b19123370047189b",
            "c4d5a60ea75d49008235818ad29bbda4",
            "6912e5d1743c4bee8aca04a3fad8fde1",
            "b3656317bfe541b4a7a2de0a09eb019c",
            "d6e27198a98442178e03f86a24a98177",
            "31376b59429f40d7b9a4bfaaffc41333",
            "f951bf26bcc140de975fe2d5813b97d3",
            "27acb0f4a71b44a0b2fb4a5a49d5d95d",
            "c9725870b9734288b595cda0c191841a",
            "dcbe4b58231947ab9c6a7b7acd6ae082",
            "f9beef4648534b2e8a53351a2a26e4aa",
            "9ee8ada4dadf415185353faad49c26de",
            "1feaa9e5e7114a5fac0de58182b2002d",
            "2b23554c791343ac8de1d07ce10be934",
            "a25121b89493434f95193c8b11ee0ec9",
            "66e651574d9740fe98467efd0d5a4e7e",
            "ed7b1e84cac14fd48bbd577a90ca8a79",
            "bd6906a4c65d41f3843a4d8866d6ab2b",
            "c54973261a4e45e0a4d5bc8a788b1b38",
            "b796f36aefc648c18053dc601722917d",
            "b390dbfab92341db873a3ff9b9f2a2c2",
            "ed4b0cee2aed4caeaa5e8d35ad3b094a",
            "e83e7f71fe424b9fbec014c273a5e846",
            "d23e1427a8e447309d44320080aaed8e",
            "dc44f48753cb4b378c7b0f2311964b6d",
            "afb671d2a6d94718865f51ff6ee574f5",
            "7fabb9b1fe524bb9900ac8a30d271b20",
            "8593197a46ed45b7b6e41b963b10a4ed",
            "4492f5b714ff451db323ec6680520ec0",
            "a74c030b061246fd8c7e2c712c2a744c",
            "86770b3eee094a81986925b134cd3bc8",
            "766a23fb41cf43acb1721bc848efd7e2",
            "98de1e6223704ec5a3b93eaafc7ed41d",
            "3264324ab04e4123b21b4f806955f1e3",
            "21cc45108512442e9c57937beb153397",
            "76d061e2320e472181582cc859e5d6f5",
            "b587257a7b994f5c9ae55a5307cd25ff",
            "d6f97989c6644b78841cab198fa47b0d",
            "26224b5a9c204d81b0aa55aad49666d5",
            "36083b7a59184da99864bb30bc771823"
          ]
        },
        "outputId": "ed9eb73c-7571-4ace-bc2f-11051711d475"
      },
      "outputs": [
        {
          "output_type": "display_data",
          "data": {
            "text/plain": [
              "Downloading builder script:   0%|          | 0.00/11.6k [00:00<?, ?B/s]"
            ],
            "application/vnd.jupyter.widget-view+json": {
              "version_major": 2,
              "version_minor": 0,
              "model_id": "f7c6a554ae01432e840c6e7de0d55819"
            }
          },
          "metadata": {}
        },
        {
          "output_type": "display_data",
          "data": {
            "text/plain": [
              "Downloading metadata:   0%|          | 0.00/617k [00:00<?, ?B/s]"
            ],
            "application/vnd.jupyter.widget-view+json": {
              "version_major": 2,
              "version_minor": 0,
              "model_id": "5987341bcfc54ec79e99eb53f7ef7c23"
            }
          },
          "metadata": {}
        },
        {
          "output_type": "display_data",
          "data": {
            "text/plain": [
              "Downloading readme:   0%|          | 0.00/131k [00:00<?, ?B/s]"
            ],
            "application/vnd.jupyter.widget-view+json": {
              "version_major": 2,
              "version_minor": 0,
              "model_id": "2125bff89fd14e81aed8c9198219c4b4"
            }
          },
          "metadata": {}
        },
        {
          "output_type": "stream",
          "name": "stdout",
          "text": [
            "Downloading and preparing dataset wikiann/ru to /root/.cache/huggingface/datasets/wikiann/ru/1.1.0/4bfd4fe4468ab78bb6e096968f61fab7a888f44f9d3371c2f3fea7e74a5a354e...\n"
          ]
        },
        {
          "output_type": "display_data",
          "data": {
            "text/plain": [
              "Downloading data:   0%|          | 0.00/234M [00:00<?, ?B/s]"
            ],
            "application/vnd.jupyter.widget-view+json": {
              "version_major": 2,
              "version_minor": 0,
              "model_id": "ac897e89a97c45bb8c457d3a98f5521d"
            }
          },
          "metadata": {}
        },
        {
          "output_type": "display_data",
          "data": {
            "text/plain": [
              "Generating validation split:   0%|          | 0/10000 [00:00<?, ? examples/s]"
            ],
            "application/vnd.jupyter.widget-view+json": {
              "version_major": 2,
              "version_minor": 0,
              "model_id": "697c6104a32f4bcabd4bbba6378f5551"
            }
          },
          "metadata": {}
        },
        {
          "output_type": "display_data",
          "data": {
            "text/plain": [
              "Generating test split:   0%|          | 0/10000 [00:00<?, ? examples/s]"
            ],
            "application/vnd.jupyter.widget-view+json": {
              "version_major": 2,
              "version_minor": 0,
              "model_id": "27acb0f4a71b44a0b2fb4a5a49d5d95d"
            }
          },
          "metadata": {}
        },
        {
          "output_type": "display_data",
          "data": {
            "text/plain": [
              "Generating train split:   0%|          | 0/20000 [00:00<?, ? examples/s]"
            ],
            "application/vnd.jupyter.widget-view+json": {
              "version_major": 2,
              "version_minor": 0,
              "model_id": "c54973261a4e45e0a4d5bc8a788b1b38"
            }
          },
          "metadata": {}
        },
        {
          "output_type": "stream",
          "name": "stdout",
          "text": [
            "Dataset wikiann downloaded and prepared to /root/.cache/huggingface/datasets/wikiann/ru/1.1.0/4bfd4fe4468ab78bb6e096968f61fab7a888f44f9d3371c2f3fea7e74a5a354e. Subsequent calls will reuse this data.\n"
          ]
        },
        {
          "output_type": "display_data",
          "data": {
            "text/plain": [
              "  0%|          | 0/3 [00:00<?, ?it/s]"
            ],
            "application/vnd.jupyter.widget-view+json": {
              "version_major": 2,
              "version_minor": 0,
              "model_id": "a74c030b061246fd8c7e2c712c2a744c"
            }
          },
          "metadata": {}
        }
      ],
      "source": [
        "dataset = load_dataset(\"wikiann\", 'ru')"
      ],
      "id": "8035db14"
    },
    {
      "cell_type": "code",
      "source": [
        "vocab = Counter()\n",
        "\n",
        "for sent in dataset['train']['tokens']:\n",
        "    vocab.update([x.lower() for x in sent])"
      ],
      "metadata": {
        "id": "AEX0xmWJ7vkC"
      },
      "id": "AEX0xmWJ7vkC",
      "execution_count": null,
      "outputs": []
    },
    {
      "cell_type": "code",
      "source": [
        "word2id = {'PAD':0, 'UNK':1}\n",
        "\n",
        "for word in vocab:\n",
        "    word2id[word] = len(word2id)\n",
        "     \n",
        "\n",
        "id2word = {i:word for word, i in word2id.items()}"
      ],
      "metadata": {
        "id": "7nvTRjt77yZg"
      },
      "id": "7nvTRjt77yZg",
      "execution_count": null,
      "outputs": []
    },
    {
      "cell_type": "code",
      "source": [
        "X_train = []\n",
        "\n",
        "for sent in dataset['train']['tokens']:\n",
        "    tokens = [w.lower() for w in sent]\n",
        "    ids = [word2id.get(token, 1) for token in tokens]\n",
        "    X_train.append(ids)"
      ],
      "metadata": {
        "id": "kLMpAmTM734m"
      },
      "id": "kLMpAmTM734m",
      "execution_count": null,
      "outputs": []
    },
    {
      "cell_type": "code",
      "source": [
        "X_test = []\n",
        "\n",
        "for sent in dataset['test']['tokens']:\n",
        "    tokens = [w.lower() for w in sent]\n",
        "    ids = [word2id.get(token, 1) for token in tokens]\n",
        "    X_test.append(ids)"
      ],
      "metadata": {
        "id": "yolLmZc876gh"
      },
      "id": "yolLmZc876gh",
      "execution_count": null,
      "outputs": []
    },
    {
      "cell_type": "code",
      "source": [
        "MAX_LEN = max(len(x) for x in X_train)"
      ],
      "metadata": {
        "id": "OIDh6OgR79Yk"
      },
      "id": "OIDh6OgR79Yk",
      "execution_count": null,
      "outputs": []
    },
    {
      "cell_type": "code",
      "source": [
        "MAX_LEN"
      ],
      "metadata": {
        "colab": {
          "base_uri": "https://localhost:8080/"
        },
        "id": "kYw-xb4h8AZc",
        "outputId": "799000e8-691f-4aaf-9549-cde1849dd644"
      },
      "id": "kYw-xb4h8AZc",
      "execution_count": null,
      "outputs": [
        {
          "output_type": "execute_result",
          "data": {
            "text/plain": [
              "54"
            ]
          },
          "metadata": {},
          "execution_count": 18
        }
      ]
    },
    {
      "cell_type": "code",
      "source": [
        "X_train = tf.keras.preprocessing.sequence.pad_sequences(X_train, maxlen=MAX_LEN, padding='post')\n",
        "X_test = tf.keras.preprocessing.sequence.pad_sequences(X_test, maxlen=MAX_LEN, padding='post')"
      ],
      "metadata": {
        "id": "jZPkK0L18E0R"
      },
      "id": "jZPkK0L18E0R",
      "execution_count": null,
      "outputs": []
    },
    {
      "cell_type": "code",
      "source": [
        "id2labels = {0:'O', 1:'B-PER', 2:'I-PER', 3:'B-ORG', 4:'I-ORG', 5: 'B-LOC', 6:'I-LOC', 7:'PAD'}\n",
        "label2id = {v:k for k,v in id2labels.items()}"
      ],
      "metadata": {
        "id": "ZhDqQCet8I_k"
      },
      "id": "ZhDqQCet8I_k",
      "execution_count": null,
      "outputs": []
    },
    {
      "cell_type": "code",
      "source": [
        "y_train = tf.keras.preprocessing.sequence.pad_sequences(dataset['train']['ner_tags'], value=7,\n",
        "                                                  maxlen=MAX_LEN,  padding='post')\n",
        "y_test = tf.keras.preprocessing.sequence.pad_sequences(dataset['test']['ner_tags'], value=7,\n",
        "                                                       maxlen=MAX_LEN,  padding='post')"
      ],
      "metadata": {
        "id": "YkjeHi688OY-"
      },
      "id": "YkjeHi688OY-",
      "execution_count": null,
      "outputs": []
    },
    {
      "cell_type": "code",
      "source": [
        "y_train.shape, y_test.shape"
      ],
      "metadata": {
        "colab": {
          "base_uri": "https://localhost:8080/"
        },
        "id": "apBhcxmC8QeL",
        "outputId": "6fb6c797-6188-4a9c-9f31-f3d601c71df4"
      },
      "id": "apBhcxmC8QeL",
      "execution_count": null,
      "outputs": [
        {
          "output_type": "execute_result",
          "data": {
            "text/plain": [
              "((20000, 54), (10000, 54))"
            ]
          },
          "metadata": {},
          "execution_count": 22
        }
      ]
    },
    {
      "cell_type": "markdown",
      "source": [
        "#**1) несколько слоёв BILSTM**"
      ],
      "metadata": {
        "id": "mhG0wjBA8nsT"
      },
      "id": "mhG0wjBA8nsT"
    },
    {
      "cell_type": "code",
      "source": [
        "inputs = tf.keras.layers.Input(shape=(MAX_LEN,))\n",
        "embeddings = tf.keras.layers.Embedding(input_dim=len(word2id), output_dim=100)(inputs)\n",
        "\n",
        "lstm_1 = tf.keras.layers.Bidirectional(tf.keras.layers.LSTM(128, return_sequences=True))(embeddings)\n",
        "lstm_2 = tf.keras.layers.Bidirectional(tf.keras.layers.LSTM(128, return_sequences=True))(lstm_1)\n",
        "lstm_3 = tf.keras.layers.Bidirectional(tf.keras.layers.LSTM(128, return_sequences=True))(lstm_2)\n",
        "lstm_4 = tf.keras.layers.Bidirectional(tf.keras.layers.LSTM(128, return_sequences=True))(lstm_3)\n",
        "\n",
        "outputs = tf.keras.layers.Dense(len(label2id), activation='softmax')(lstm_4)\n",
        "\n",
        "model1 = tf.keras.Model(inputs=inputs, outputs=outputs)\n",
        "model1.compile(optimizer='adam',\n",
        "              loss='sparse_categorical_crossentropy', \n",
        "             metrics=['accuracy'])\n",
        "     "
      ],
      "metadata": {
        "id": "Xex1ihA49NHt"
      },
      "id": "Xex1ihA49NHt",
      "execution_count": null,
      "outputs": []
    },
    {
      "cell_type": "code",
      "source": [
        "model1.fit(X_train, y_train, \n",
        "          validation_data=(X_test, y_test),\n",
        "          batch_size=128,\n",
        "         epochs=5)"
      ],
      "metadata": {
        "colab": {
          "base_uri": "https://localhost:8080/"
        },
        "id": "fCZI36bM9amB",
        "outputId": "a2a91329-43bf-4c7c-a066-f1a93add0aee"
      },
      "id": "fCZI36bM9amB",
      "execution_count": null,
      "outputs": [
        {
          "output_type": "stream",
          "name": "stdout",
          "text": [
            "Epoch 1/5\n",
            "157/157 [==============================] - 271s 2s/step - loss: 0.2266 - accuracy: 0.9333 - val_loss: 0.1530 - val_accuracy: 0.9506\n",
            "Epoch 2/5\n",
            "157/157 [==============================] - 255s 2s/step - loss: 0.1361 - accuracy: 0.9558 - val_loss: 0.1240 - val_accuracy: 0.9585\n",
            "Epoch 3/5\n",
            "157/157 [==============================] - 246s 2s/step - loss: 0.1084 - accuracy: 0.9640 - val_loss: 0.1073 - val_accuracy: 0.9658\n",
            "Epoch 4/5\n",
            "157/157 [==============================] - 246s 2s/step - loss: 0.0740 - accuracy: 0.9759 - val_loss: 0.0832 - val_accuracy: 0.9739\n",
            "Epoch 5/5\n",
            "157/157 [==============================] - 246s 2s/step - loss: 0.0445 - accuracy: 0.9852 - val_loss: 0.0736 - val_accuracy: 0.9763\n"
          ]
        },
        {
          "output_type": "execute_result",
          "data": {
            "text/plain": [
              "<keras.callbacks.History at 0x7fe198477580>"
            ]
          },
          "metadata": {},
          "execution_count": 24
        }
      ]
    },
    {
      "cell_type": "code",
      "source": [
        "plt.plot(model1.history.history['accuracy'])\n",
        "plt.plot(model1.history.history['val_accuracy'])\n",
        "plt.title('accuracy of 4 bilstm layer model')\n",
        "plt.ylabel('accuracy')\n",
        "plt.xlabel('epoch')\n",
        "plt.legend(['train', 'val'], loc='upper left')\n",
        "plt.show()"
      ],
      "metadata": {
        "colab": {
          "base_uri": "https://localhost:8080/",
          "height": 472
        },
        "id": "yTdrmMTR9cY6",
        "outputId": "95db7006-f56a-4f36-947f-787aedaf299e"
      },
      "id": "yTdrmMTR9cY6",
      "execution_count": null,
      "outputs": [
        {
          "output_type": "display_data",
          "data": {
            "text/plain": [
              "<Figure size 640x480 with 1 Axes>"
            ],
            "image/png": "[encoded data removed]"
          },
          "metadata": {}
        }
      ]
    },
    {
      "cell_type": "code",
      "source": [
        "y_preds = model1.predict(X_test).argmax(2)"
      ],
      "metadata": {
        "colab": {
          "base_uri": "https://localhost:8080/"
        },
        "id": "PTjp4e_a-GYr",
        "outputId": "9b4e1817-f87b-42b7-9dc2-0cdabcc6c61e"
      },
      "id": "PTjp4e_a-GYr",
      "execution_count": null,
      "outputs": [
        {
          "output_type": "stream",
          "name": "stdout",
          "text": [
            "313/313 [==============================] - 55s 168ms/step\n"
          ]
        }
      ]
    },
    {
      "cell_type": "code",
      "source": [
        "print(classification_report(y_test.reshape(-1), y_preds.reshape(-1), labels=list(id2labels.keys()),\n",
        "                                                                     target_names=list(id2labels.values()),\n",
        "                                                                     zero_division=0))"
      ],
      "metadata": {
        "colab": {
          "base_uri": "https://localhost:8080/"
        },
        "id": "l3i8SoB6-MS1",
        "outputId": "b3f5a75e-34e6-4970-cf99-7bacf475697c"
      },
      "id": "l3i8SoB6-MS1",
      "execution_count": null,
      "outputs": [
        {
          "output_type": "stream",
          "name": "stdout",
          "text": [
            "              precision    recall  f1-score   support\n",
            "\n",
            "           O       0.90      0.93      0.92     40480\n",
            "       B-PER       0.91      0.64      0.75      3542\n",
            "       I-PER       0.93      0.70      0.80      7544\n",
            "       B-ORG       0.53      0.60      0.56      4074\n",
            "       I-ORG       0.60      0.79      0.68      8008\n",
            "       B-LOC       0.78      0.47      0.59      4560\n",
            "       I-LOC       0.69      0.76      0.72      3060\n",
            "         PAD       1.00      1.00      1.00    468732\n",
            "\n",
            "    accuracy                           0.98    540000\n",
            "   macro avg       0.79      0.74      0.75    540000\n",
            "weighted avg       0.98      0.98      0.98    540000\n",
            "\n"
          ]
        }
      ]
    },
    {
      "cell_type": "markdown",
      "source": [
        "# **2) несколько слоёв BIGRU**"
      ],
      "metadata": {
        "id": "VoxDb7Q8-QY6"
      },
      "id": "VoxDb7Q8-QY6"
    },
    {
      "cell_type": "code",
      "source": [
        "inputs = tf.keras.layers.Input(shape=(MAX_LEN,))\n",
        "embeddings = tf.keras.layers.Embedding(input_dim=len(word2id), output_dim=100)(inputs)\n",
        "\n",
        "bigru_1 = tf.keras.layers.Bidirectional(tf.keras.layers.GRU(128, return_sequences=True))(embeddings)\n",
        "bigru_2 = tf.keras.layers.Bidirectional(tf.keras.layers.GRU(128, return_sequences=True))(bigru_1)\n",
        "bigru_3 = tf.keras.layers.Bidirectional(tf.keras.layers.GRU(128, return_sequences=True))(bigru_2)\n",
        "bigru_4 = tf.keras.layers.Bidirectional(tf.keras.layers.GRU(128, return_sequences=True))(bigru_3)\n",
        "\n",
        "outputs = tf.keras.layers.Dense(len(label2id), activation='softmax')(bigru_4)\n",
        "\n",
        "model2 = tf.keras.Model(inputs=inputs, outputs=outputs)\n",
        "model2.compile(optimizer='adam',\n",
        "              loss='sparse_categorical_crossentropy', \n",
        "             metrics=['accuracy'])"
      ],
      "metadata": {
        "id": "pihBs6lq-hRG"
      },
      "id": "pihBs6lq-hRG",
      "execution_count": null,
      "outputs": []
    },
    {
      "cell_type": "code",
      "source": [
        "model2.fit(X_train, y_train, \n",
        "          validation_data=(X_test, y_test),\n",
        "          batch_size=128,\n",
        "         epochs=5)"
      ],
      "metadata": {
        "colab": {
          "base_uri": "https://localhost:8080/"
        },
        "id": "L4pAmmNB_LHA",
        "outputId": "86be04dc-1267-4d30-9a5c-3049ac0b5ae3"
      },
      "id": "L4pAmmNB_LHA",
      "execution_count": null,
      "outputs": [
        {
          "output_type": "stream",
          "name": "stdout",
          "text": [
            "Epoch 1/5\n",
            "157/157 [==============================] - 222s 1s/step - loss: 0.2200 - accuracy: 0.9410 - val_loss: 0.1102 - val_accuracy: 0.9632\n",
            "Epoch 2/5\n",
            "157/157 [==============================] - 188s 1s/step - loss: 0.0649 - accuracy: 0.9789 - val_loss: 0.0497 - val_accuracy: 0.9839\n",
            "Epoch 3/5\n",
            "157/157 [==============================] - 206s 1s/step - loss: 0.0190 - accuracy: 0.9942 - val_loss: 0.0535 - val_accuracy: 0.9832\n",
            "Epoch 4/5\n",
            "157/157 [==============================] - 205s 1s/step - loss: 0.0084 - accuracy: 0.9977 - val_loss: 0.0519 - val_accuracy: 0.9853\n",
            "Epoch 5/5\n",
            "157/157 [==============================] - 205s 1s/step - loss: 0.0049 - accuracy: 0.9987 - val_loss: 0.0648 - val_accuracy: 0.9833\n"
          ]
        },
        {
          "output_type": "execute_result",
          "data": {
            "text/plain": [
              "<keras.callbacks.History at 0x7fe18bdbb970>"
            ]
          },
          "metadata": {},
          "execution_count": 29
        }
      ]
    },
    {
      "cell_type": "code",
      "source": [
        "plt.plot(model2.history.history['accuracy'])\n",
        "plt.plot(model2.history.history['val_accuracy'])\n",
        "plt.title('accuracy of 4 bigru layer model')\n",
        "plt.ylabel('accuracy')\n",
        "plt.xlabel('epoch')\n",
        "plt.legend(['train', 'val'], loc='upper left')\n",
        "plt.show()"
      ],
      "metadata": {
        "colab": {
          "base_uri": "https://localhost:8080/",
          "height": 472
        },
        "id": "1shnMwJd_Woe",
        "outputId": "73653a5b-300e-44fc-d9a6-29a703cef5b2"
      },
      "id": "1shnMwJd_Woe",
      "execution_count": null,
      "outputs": [
        {
          "output_type": "display_data",
          "data": {
            "text/plain": [
              "<Figure size 640x480 with 1 Axes>"
            ],
            "image/png": "[encoded data removed]"
          },
          "metadata": {}
        }
      ]
    },
    {
      "cell_type": "code",
      "source": [
        "y_preds2 = model2.predict(X_test).argmax(2)"
      ],
      "metadata": {
        "colab": {
          "base_uri": "https://localhost:8080/"
        },
        "id": "Q06MrV27_Xfl",
        "outputId": "9b5b516b-e986-4ee4-fda3-ff30a6413b6c"
      },
      "id": "Q06MrV27_Xfl",
      "execution_count": null,
      "outputs": [
        {
          "output_type": "stream",
          "name": "stdout",
          "text": [
            "313/313 [==============================] - 38s 116ms/step\n"
          ]
        }
      ]
    },
    {
      "cell_type": "code",
      "source": [
        "print(classification_report(y_test.reshape(-1), y_preds2.reshape(-1), labels=list(id2labels.keys()),\n",
        "                                                                     target_names=list(id2labels.values()),\n",
        "                                                                     zero_division=0))"
      ],
      "metadata": {
        "colab": {
          "base_uri": "https://localhost:8080/"
        },
        "id": "tbGm0jjJ_aiq",
        "outputId": "3ad6a527-c628-444f-ad16-606044720b85"
      },
      "id": "tbGm0jjJ_aiq",
      "execution_count": null,
      "outputs": [
        {
          "output_type": "stream",
          "name": "stdout",
          "text": [
            "              precision    recall  f1-score   support\n",
            "\n",
            "           O       0.97      0.90      0.93     40480\n",
            "       B-PER       0.89      0.87      0.88      3542\n",
            "       I-PER       0.89      0.93      0.91      7544\n",
            "       B-ORG       0.62      0.75      0.68      4074\n",
            "       I-ORG       0.73      0.83      0.78      8008\n",
            "       B-LOC       0.67      0.82      0.73      4560\n",
            "       I-LOC       0.82      0.76      0.79      3060\n",
            "         PAD       1.00      1.00      1.00    468732\n",
            "\n",
            "    accuracy                           0.98    540000\n",
            "   macro avg       0.82      0.86      0.84    540000\n",
            "weighted avg       0.98      0.98      0.98    540000\n",
            "\n"
          ]
        }
      ]
    },
    {
      "cell_type": "markdown",
      "source": [
        "# **Предсказания**"
      ],
      "metadata": {
        "id": "AdS97hmV_wGR"
      },
      "id": "AdS97hmV_wGR"
    },
    {
      "cell_type": "code",
      "source": [
        "def tokenize(text, word2id):\n",
        "    tokens = re.findall('\\w+|[^\\w\\s]+', text)\n",
        "    ids = [word2id.get(token.lower(), 1) for token in tokens]\n",
        "    return tokens, ids\n",
        "\n",
        "def pred2tags(pred, id2label, length):\n",
        "\n",
        "    pred = pred.argmax(2)[0, :length]\n",
        "    labels = [id2label[l] for l in pred]\n",
        "    return labels\n",
        "\n",
        "def label_seq(text, word2id, id2label, max_len, model):\n",
        "    tokens, ids = tokenize(text, word2id)\n",
        "    pred = model.predict(tf.keras.preprocessing.sequence.pad_sequences([ids], \n",
        "                                                                       maxlen=max_len, \n",
        "                                                                       padding='post'))\n",
        "    labels = pred2tags(pred, id2label, len(ids))\n",
        "    \n",
        "    return list(zip(tokens, labels))"
      ],
      "metadata": {
        "id": "GH9ojpbJ_zQA"
      },
      "id": "GH9ojpbJ_zQA",
      "execution_count": null,
      "outputs": []
    },
    {
      "cell_type": "markdown",
      "source": [
        "Попробуем предсказать именованные сущности, как в семинаре."
      ],
      "metadata": {
        "id": "wQUkT2bOK_Pn"
      },
      "id": "wQUkT2bOK_Pn"
    },
    {
      "cell_type": "code",
      "execution_count": null,
      "metadata": {
        "id": "SD9_3A-KAJFp",
        "outputId": "87a21929-6036-4faf-9e02-289a7971eed8",
        "colab": {
          "base_uri": "https://localhost:8080/"
        }
      },
      "outputs": [
        {
          "output_type": "stream",
          "name": "stdout",
          "text": [
            "1/1 [==============================] - 0s 49ms/step\n"
          ]
        },
        {
          "output_type": "execute_result",
          "data": {
            "text/plain": [
              "[('Корабль', 'O'),\n",
              " ('\"', 'O'),\n",
              " ('Надежда', 'I-ORG'),\n",
              " ('\"', 'I-ORG'),\n",
              " ('пришёл', 'O'),\n",
              " ('в', 'O'),\n",
              " ('питерскую', 'B-ORG'),\n",
              " ('гавань', 'I-ORG'),\n",
              " ('сегодня', 'I-ORG'),\n",
              " ('утром', 'O')]"
            ]
          },
          "metadata": {},
          "execution_count": 35
        }
      ],
      "source": [
        "label_seq('Корабль \"Надежда\" пришёл в питерскую гавань сегодня утром', word2id, id2labels, MAX_LEN, model1)"
      ],
      "id": "SD9_3A-KAJFp"
    },
    {
      "cell_type": "code",
      "source": [
        "label_seq('Корабль \"Надежда\" пришёл в питерскую гавань сегодня утром', word2id, id2labels, MAX_LEN, model2)"
      ],
      "metadata": {
        "colab": {
          "base_uri": "https://localhost:8080/"
        },
        "id": "sVmSSqNQLSlB",
        "outputId": "7159f77c-4217-44a5-9887-7714806b35e0"
      },
      "id": "sVmSSqNQLSlB",
      "execution_count": null,
      "outputs": [
        {
          "output_type": "stream",
          "name": "stdout",
          "text": [
            "1/1 [==============================] - 0s 38ms/step\n"
          ]
        },
        {
          "output_type": "execute_result",
          "data": {
            "text/plain": [
              "[('Корабль', 'O'),\n",
              " ('\"', 'B-ORG'),\n",
              " ('Надежда', 'I-ORG'),\n",
              " ('\"', 'I-ORG'),\n",
              " ('пришёл', 'O'),\n",
              " ('в', 'O'),\n",
              " ('питерскую', 'B-ORG'),\n",
              " ('гавань', 'I-ORG'),\n",
              " ('сегодня', 'I-ORG'),\n",
              " ('утром', 'I-ORG')]"
            ]
          },
          "metadata": {},
          "execution_count": 36
        }
      ]
    },
    {
      "cell_type": "markdown",
      "source": [
        "Тут работа моделей не очень хороша и почти идентична. Многие слова обозначены как не сущности, остальные - организации. "
      ],
      "metadata": {
        "id": "zMbv_OGmmlRs"
      },
      "id": "zMbv_OGmmlRs"
    },
    {
      "cell_type": "code",
      "source": [
        "label_seq('Карандаш и Самоделкин едут в Париж', word2id, id2labels, MAX_LEN, model1)"
      ],
      "metadata": {
        "colab": {
          "base_uri": "https://localhost:8080/"
        },
        "id": "K644w1naLT5Z",
        "outputId": "32516b19-f759-4170-dbf4-7b01246c1e93"
      },
      "id": "K644w1naLT5Z",
      "execution_count": null,
      "outputs": [
        {
          "output_type": "stream",
          "name": "stdout",
          "text": [
            "1/1 [==============================] - 0s 34ms/step\n"
          ]
        },
        {
          "output_type": "execute_result",
          "data": {
            "text/plain": [
              "[('Карандаш', 'O'),\n",
              " ('и', 'O'),\n",
              " ('Самоделкин', 'O'),\n",
              " ('едут', 'O'),\n",
              " ('в', 'B-ORG'),\n",
              " ('Париж', 'O')]"
            ]
          },
          "metadata": {},
          "execution_count": 37
        }
      ]
    },
    {
      "cell_type": "code",
      "source": [
        "label_seq('Карандаш и Самоделкин едут в Париж', word2id, id2labels, MAX_LEN, model2)"
      ],
      "metadata": {
        "colab": {
          "base_uri": "https://localhost:8080/"
        },
        "id": "JCENfHZPLbdK",
        "outputId": "0903d2e6-c002-470e-da11-9e6bf6c1f626"
      },
      "id": "JCENfHZPLbdK",
      "execution_count": null,
      "outputs": [
        {
          "output_type": "stream",
          "name": "stdout",
          "text": [
            "1/1 [==============================] - 0s 32ms/step\n"
          ]
        },
        {
          "output_type": "execute_result",
          "data": {
            "text/plain": [
              "[('Карандаш', 'B-LOC'),\n",
              " ('и', 'O'),\n",
              " ('Самоделкин', 'B-LOC'),\n",
              " ('едут', 'I-ORG'),\n",
              " ('в', 'O'),\n",
              " ('Париж', 'B-LOC')]"
            ]
          },
          "metadata": {},
          "execution_count": 38
        }
      ]
    },
    {
      "cell_type": "markdown",
      "source": [
        "BILSTM не видит именованных сущностей. \n",
        "\n",
        "Но для BIGRU Карандаш и Самоделкин оказались местами! Зато верно, как место, определён и Париж."
      ],
      "metadata": {
        "id": "CMLgMu6VmzI1"
      },
      "id": "CMLgMu6VmzI1"
    },
    {
      "cell_type": "code",
      "source": [
        "label_seq('Иван Васильевич едет купаться в Онтарио на своём Бентли', word2id, id2labels, MAX_LEN, model1)"
      ],
      "metadata": {
        "colab": {
          "base_uri": "https://localhost:8080/"
        },
        "id": "ZvdDrlWtLcrT",
        "outputId": "9c63050a-34f0-4eea-f4ca-079c8ee3255d"
      },
      "id": "ZvdDrlWtLcrT",
      "execution_count": null,
      "outputs": [
        {
          "output_type": "stream",
          "name": "stdout",
          "text": [
            "1/1 [==============================] - 0s 54ms/step\n"
          ]
        },
        {
          "output_type": "execute_result",
          "data": {
            "text/plain": [
              "[('Иван', 'B-ORG'),\n",
              " ('Васильевич', 'I-ORG'),\n",
              " ('едет', 'O'),\n",
              " ('купаться', 'O'),\n",
              " ('в', 'O'),\n",
              " ('Онтарио', 'O'),\n",
              " ('на', 'O'),\n",
              " ('своём', 'I-ORG'),\n",
              " ('Бентли', 'O')]"
            ]
          },
          "metadata": {},
          "execution_count": 39
        }
      ]
    },
    {
      "cell_type": "code",
      "source": [
        "label_seq('Иван Васильевич едет купаться в Онтарио на своём Бентли', word2id, id2labels, MAX_LEN, model2)"
      ],
      "metadata": {
        "colab": {
          "base_uri": "https://localhost:8080/"
        },
        "id": "CG-o0QGvL3Gm",
        "outputId": "03f5c968-bffe-4f5c-9748-f671a1e1e09e"
      },
      "id": "CG-o0QGvL3Gm",
      "execution_count": null,
      "outputs": [
        {
          "output_type": "stream",
          "name": "stdout",
          "text": [
            "1/1 [==============================] - 0s 34ms/step\n"
          ]
        },
        {
          "output_type": "execute_result",
          "data": {
            "text/plain": [
              "[('Иван', 'B-ORG'),\n",
              " ('Васильевич', 'I-PER'),\n",
              " ('едет', 'I-LOC'),\n",
              " ('купаться', 'I-LOC'),\n",
              " ('в', 'O'),\n",
              " ('Онтарио', 'B-LOC'),\n",
              " ('на', 'O'),\n",
              " ('своём', 'O'),\n",
              " ('Бентли', 'O')]"
            ]
          },
          "metadata": {},
          "execution_count": 40
        }
      ]
    },
    {
      "cell_type": "markdown",
      "source": [
        "BILSTM определяет \"Иван\" и \"Васильевич\" как B-ORG, \"Онтарио\" и \"Бентли\" - просто О.\n",
        "\n",
        "Для BIGRU \"Васильевич\" - уже PER (в отличие от \"Ивана\"), Онтарио - место. Бентли как именованную сущность распознать не удалось."
      ],
      "metadata": {
        "id": "QhaWTvQ_oBhj"
      },
      "id": "QhaWTvQ_oBhj"
    },
    {
      "cell_type": "code",
      "source": [
        "label_seq('Надя, Катя, маша, Юра, сергей витальевич, Валентин, Шариков, шариков, Петров', word2id, id2labels, MAX_LEN, model1)"
      ],
      "metadata": {
        "colab": {
          "base_uri": "https://localhost:8080/"
        },
        "id": "pdHDpkdWMIfK",
        "outputId": "c2f0e470-6d7c-405b-c685-eed8269953b5"
      },
      "id": "pdHDpkdWMIfK",
      "execution_count": null,
      "outputs": [
        {
          "output_type": "stream",
          "name": "stdout",
          "text": [
            "1/1 [==============================] - 0s 38ms/step\n"
          ]
        },
        {
          "output_type": "execute_result",
          "data": {
            "text/plain": [
              "[('Надя', 'B-ORG'),\n",
              " (',', 'I-ORG'),\n",
              " ('Катя', 'I-ORG'),\n",
              " (',', 'I-ORG'),\n",
              " ('маша', 'I-ORG'),\n",
              " (',', 'I-ORG'),\n",
              " ('Юра', 'I-ORG'),\n",
              " (',', 'I-ORG'),\n",
              " ('сергей', 'I-ORG'),\n",
              " ('витальевич', 'I-PER'),\n",
              " (',', 'I-PER'),\n",
              " ('Валентин', 'I-PER'),\n",
              " (',', 'O'),\n",
              " ('Шариков', 'O'),\n",
              " (',', 'O'),\n",
              " ('шариков', 'O'),\n",
              " (',', 'O'),\n",
              " ('Петров', 'O')]"
            ]
          },
          "metadata": {},
          "execution_count": 41
        }
      ]
    },
    {
      "cell_type": "code",
      "source": [
        "label_seq('Надя, Катя, маша, Юра, сергей витальевич, Валентин, Шариков, шариков, Петров', word2id, id2labels, MAX_LEN, model2)"
      ],
      "metadata": {
        "colab": {
          "base_uri": "https://localhost:8080/"
        },
        "id": "y3sFeYZ5MTtp",
        "outputId": "964c04a8-7f20-48d1-c6ae-8b788cb523e9"
      },
      "id": "y3sFeYZ5MTtp",
      "execution_count": null,
      "outputs": [
        {
          "output_type": "stream",
          "name": "stdout",
          "text": [
            "1/1 [==============================] - 0s 36ms/step\n"
          ]
        },
        {
          "output_type": "execute_result",
          "data": {
            "text/plain": [
              "[('Надя', 'B-PER'),\n",
              " (',', 'O'),\n",
              " ('Катя', 'B-LOC'),\n",
              " (',', 'O'),\n",
              " ('маша', 'B-PER'),\n",
              " (',', 'O'),\n",
              " ('Юра', 'B-LOC'),\n",
              " (',', 'O'),\n",
              " ('сергей', 'B-PER'),\n",
              " ('витальевич', 'I-PER'),\n",
              " (',', 'O'),\n",
              " ('Валентин', 'B-PER'),\n",
              " (',', 'O'),\n",
              " ('Шариков', 'O'),\n",
              " (',', 'O'),\n",
              " ('шариков', 'O'),\n",
              " (',', 'O'),\n",
              " ('Петров', 'B-LOC')]"
            ]
          },
          "metadata": {},
          "execution_count": 42
        }
      ]
    },
    {
      "cell_type": "markdown",
      "source": [
        "BILSTM определяет как имена только \"Валентин\", \"Витальевич\" и запятую, остальные же имена получают теги O или I-ORG, причём нет корелляции с тем, написаны они с большой или маленькой буквы. При этом, можно подумать, что \"шариков\" и \"Шариков\" - не фамилия персонажа Булгакова, а просто слово \"шарик\" в мн.ч., р.п.. Поэтому оно не определилось как именованная сущность и с помощью BIGRU. В остальном, вторая модель работает действительно лучше: несмотря на то, что Катя, Юра и Петров (есть ли такой город? может, что-то вроде \"град Петров\"?) оказались местами, запятые в именованные сущности не попали, и все остальные имена были определены верно."
      ],
      "metadata": {
        "id": "3UIi_r9VoEDW"
      },
      "id": "3UIi_r9VoEDW"
    },
    {
      "cell_type": "markdown",
      "source": [
        "# **Вывод:**"
      ],
      "metadata": {
        "id": "L0i-0jQHMsLa"
      },
      "id": "L0i-0jQHMsLa"
    },
    {
      "cell_type": "markdown",
      "source": [
        "Качество работы моделей оставляет желать лучшего. Удивительным образом, лучше всего именованная сущность определяется, если это отчество. С фамилиями персонажей и с обыкновеннвми именами дело обстоит чуть хуже. \n",
        "Притом, BIGRU в целом справляется с задачей лучше, чем BILSTM. "
      ],
      "metadata": {
        "id": "lHEbQ4aeMaLA"
      },
      "id": "lHEbQ4aeMaLA"
    }
  ],
  "metadata": {
    "colab": {
      "provenance": []
    },
    "kernelspec": {
      "display_name": "Python 3 (ipykernel)",
      "language": "python",
      "name": "python3"
    },
    "language_info": {
      "codemirror_mode": {
        "name": "ipython",
        "version": 3
      },
      "file_extension": ".py",
      "mimetype": "text/x-python",
      "name": "python",
      "nbconvert_exporter": "python",
      "pygments_lexer": "ipython3",
      "version": "3.8.12"
    },
    "widgets": {
      "application/vnd.jupyter.widget-state+json": {
        "f7c6a554ae01432e840c6e7de0d55819": {
          "model_module": "@jupyter-widgets/controls",
          "model_name": "HBoxModel",
          "model_module_version": "1.5.0",
          "state": {
            "_dom_classes": [],
            "_model_module": "@jupyter-widgets/controls",
            "_model_module_version": "1.5.0",
            "_model_name": "HBoxModel",
            "_view_count": null,
            "_view_module": "@jupyter-widgets/controls",
            "_view_module_version": "1.5.0",
            "_view_name": "HBoxView",
            "box_style": "",
            "children": [
              "IPY_MODEL_5235c3d97d4f46de9aae64bc03ee7fb0",
              "IPY_MODEL_dc719f8ebeeb4f53afbb7faf81788fa7",
              "IPY_MODEL_573c9a0614e64bbb8ea5aab9a93e7bd4"
            ],
            "layout": "IPY_MODEL_7eea6e2b74e048138be85753f1f90167"
          }
        },
        "5235c3d97d4f46de9aae64bc03ee7fb0": {
          "model_module": "@jupyter-widgets/controls",
          "model_name": "HTMLModel",
          "model_module_version": "1.5.0",
          "state": {
            "_dom_classes": [],
            "_model_module": "@jupyter-widgets/controls",
            "_model_module_version": "1.5.0",
            "_model_name": "HTMLModel",
            "_view_count": null,
            "_view_module": "@jupyter-widgets/controls",
            "_view_module_version": "1.5.0",
            "_view_name": "HTMLView",
            "description": "",
            "description_tooltip": null,
            "layout": "IPY_MODEL_55fd0442ba4b466cb6bee11489ef17e6",
            "placeholder": "​",
            "style": "IPY_MODEL_12451a1ac78547258aeb6a17c81b1b27",
            "value": "Downloading builder script: 100%"
          }
        },
        "dc719f8ebeeb4f53afbb7faf81788fa7": {
          "model_module": "@jupyter-widgets/controls",
          "model_name": "FloatProgressModel",
          "model_module_version": "1.5.0",
          "state": {
            "_dom_classes": [],
            "_model_module": "@jupyter-widgets/controls",
            "_model_module_version": "1.5.0",
            "_model_name": "FloatProgressModel",
            "_view_count": null,
            "_view_module": "@jupyter-widgets/controls",
            "_view_module_version": "1.5.0",
            "_view_name": "ProgressView",
            "bar_style": "success",
            "description": "",
            "description_tooltip": null,
            "layout": "IPY_MODEL_7c1ada09fddb4bc7a5f65320de58d815",
            "max": 11637,
            "min": 0,
            "orientation": "horizontal",
            "style": "IPY_MODEL_5971b833fa9c4c619dac613d36cdfebe",
            "value": 11637
          }
        },
        "573c9a0614e64bbb8ea5aab9a93e7bd4": {
          "model_module": "@jupyter-widgets/controls",
          "model_name": "HTMLModel",
          "model_module_version": "1.5.0",
          "state": {
            "_dom_classes": [],
            "_model_module": "@jupyter-widgets/controls",
            "_model_module_version": "1.5.0",
            "_model_name": "HTMLModel",
            "_view_count": null,
            "_view_module": "@jupyter-widgets/controls",
            "_view_module_version": "1.5.0",
            "_view_name": "HTMLView",
            "description": "",
            "description_tooltip": null,
            "layout": "IPY_MODEL_8a2c239e6e08492bb2e1b0cf0a89922b",
            "placeholder": "​",
            "style": "IPY_MODEL_4ab97250a911435094bb8264f1c31104",
            "value": " 11.6k/11.6k [00:00&lt;00:00, 593kB/s]"
          }
        },
        "7eea6e2b74e048138be85753f1f90167": {
          "model_module": "@jupyter-widgets/base",
          "model_name": "LayoutModel",
          "model_module_version": "1.2.0",
          "state": {
            "_model_module": "@jupyter-widgets/base",
            "_model_module_version": "1.2.0",
            "_model_name": "LayoutModel",
            "_view_count": null,
            "_view_module": "@jupyter-widgets/base",
            "_view_module_version": "1.2.0",
            "_view_name": "LayoutView",
            "align_content": null,
            "align_items": null,
            "align_self": null,
            "border": null,
            "bottom": null,
            "display": null,
            "flex": null,
            "flex_flow": null,
            "grid_area": null,
            "grid_auto_columns": null,
            "grid_auto_flow": null,
            "grid_auto_rows": null,
            "grid_column": null,
            "grid_gap": null,
            "grid_row": null,
            "grid_template_areas": null,
            "grid_template_columns": null,
            "grid_template_rows": null,
            "height": null,
            "justify_content": null,
            "justify_items": null,
            "left": null,
            "margin": null,
            "max_height": null,
            "max_width": null,
            "min_height": null,
            "min_width": null,
            "object_fit": null,
            "object_position": null,
            "order": null,
            "overflow": null,
            "overflow_x": null,
            "overflow_y": null,
            "padding": null,
            "right": null,
            "top": null,
            "visibility": null,
            "width": null
          }
        },
        "55fd0442ba4b466cb6bee11489ef17e6": {
          "model_module": "@jupyter-widgets/base",
          "model_name": "LayoutModel",
          "model_module_version": "1.2.0",
          "state": {
            "_model_module": "@jupyter-widgets/base",
            "_model_module_version": "1.2.0",
            "_model_name": "LayoutModel",
            "_view_count": null,
            "_view_module": "@jupyter-widgets/base",
            "_view_module_version": "1.2.0",
            "_view_name": "LayoutView",
            "align_content": null,
            "align_items": null,
            "align_self": null,
            "border": null,
            "bottom": null,
            "display": null,
            "flex": null,
            "flex_flow": null,
            "grid_area": null,
            "grid_auto_columns": null,
            "grid_auto_flow": null,
            "grid_auto_rows": null,
            "grid_column": null,
            "grid_gap": null,
            "grid_row": null,
            "grid_template_areas": null,
            "grid_template_columns": null,
            "grid_template_rows": null,
            "height": null,
            "justify_content": null,
            "justify_items": null,
            "left": null,
            "margin": null,
            "max_height": null,
            "max_width": null,
            "min_height": null,
            "min_width": null,
            "object_fit": null,
            "object_position": null,
            "order": null,
            "overflow": null,
            "overflow_x": null,
            "overflow_y": null,
            "padding": null,
            "right": null,
            "top": null,
            "visibility": null,
            "width": null
          }
        },
        "12451a1ac78547258aeb6a17c81b1b27": {
          "model_module": "@jupyter-widgets/controls",
          "model_name": "DescriptionStyleModel",
          "model_module_version": "1.5.0",
          "state": {
            "_model_module": "@jupyter-widgets/controls",
            "_model_module_version": "1.5.0",
            "_model_name": "DescriptionStyleModel",
            "_view_count": null,
            "_view_module": "@jupyter-widgets/base",
            "_view_module_version": "1.2.0",
            "_view_name": "StyleView",
            "description_width": ""
          }
        },
        "7c1ada09fddb4bc7a5f65320de58d815": {
          "model_module": "@jupyter-widgets/base",
          "model_name": "LayoutModel",
          "model_module_version": "1.2.0",
          "state": {
            "_model_module": "@jupyter-widgets/base",
            "_model_module_version": "1.2.0",
            "_model_name": "LayoutModel",
            "_view_count": null,
            "_view_module": "@jupyter-widgets/base",
            "_view_module_version": "1.2.0",
            "_view_name": "LayoutView",
            "align_content": null,
            "align_items": null,
            "align_self": null,
            "border": null,
            "bottom": null,
            "display": null,
            "flex": null,
            "flex_flow": null,
            "grid_area": null,
            "grid_auto_columns": null,
            "grid_auto_flow": null,
            "grid_auto_rows": null,
            "grid_column": null,
            "grid_gap": null,
            "grid_row": null,
            "grid_template_areas": null,
            "grid_template_columns": null,
            "grid_template_rows": null,
            "height": null,
            "justify_content": null,
            "justify_items": null,
            "left": null,
            "margin": null,
            "max_height": null,
            "max_width": null,
            "min_height": null,
            "min_width": null,
            "object_fit": null,
            "object_position": null,
            "order": null,
            "overflow": null,
            "overflow_x": null,
            "overflow_y": null,
            "padding": null,
            "right": null,
            "top": null,
            "visibility": null,
            "width": null
          }
        },
        "5971b833fa9c4c619dac613d36cdfebe": {
          "model_module": "@jupyter-widgets/controls",
          "model_name": "ProgressStyleModel",
          "model_module_version": "1.5.0",
          "state": {
            "_model_module": "@jupyter-widgets/controls",
            "_model_module_version": "1.5.0",
            "_model_name": "ProgressStyleModel",
            "_view_count": null,
            "_view_module": "@jupyter-widgets/base",
            "_view_module_version": "1.2.0",
            "_view_name": "StyleView",
            "bar_color": null,
            "description_width": ""
          }
        },
        "8a2c239e6e08492bb2e1b0cf0a89922b": {
          "model_module": "@jupyter-widgets/base",
          "model_name": "LayoutModel",
          "model_module_version": "1.2.0",
          "state": {
            "_model_module": "@jupyter-widgets/base",
            "_model_module_version": "1.2.0",
            "_model_name": "LayoutModel",
            "_view_count": null,
            "_view_module": "@jupyter-widgets/base",
            "_view_module_version": "1.2.0",
            "_view_name": "LayoutView",
            "align_content": null,
            "align_items": null,
            "align_self": null,
            "border": null,
            "bottom": null,
            "display": null,
            "flex": null,
            "flex_flow": null,
            "grid_area": null,
            "grid_auto_columns": null,
            "grid_auto_flow": null,
            "grid_auto_rows": null,
            "grid_column": null,
            "grid_gap": null,
            "grid_row": null,
            "grid_template_areas": null,
            "grid_template_columns": null,
            "grid_template_rows": null,
            "height": null,
            "justify_content": null,
            "justify_items": null,
            "left": null,
            "margin": null,
            "max_height": null,
            "max_width": null,
            "min_height": null,
            "min_width": null,
            "object_fit": null,
            "object_position": null,
            "order": null,
            "overflow": null,
            "overflow_x": null,
            "overflow_y": null,
            "padding": null,
            "right": null,
            "top": null,
            "visibility": null,
            "width": null
          }
        },
        "4ab97250a911435094bb8264f1c31104": {
          "model_module": "@jupyter-widgets/controls",
          "model_name": "DescriptionStyleModel",
          "model_module_version": "1.5.0",
          "state": {
            "_model_module": "@jupyter-widgets/controls",
            "_model_module_version": "1.5.0",
            "_model_name": "DescriptionStyleModel",
            "_view_count": null,
            "_view_module": "@jupyter-widgets/base",
            "_view_module_version": "1.2.0",
            "_view_name": "StyleView",
            "description_width": ""
          }
        },
        "5987341bcfc54ec79e99eb53f7ef7c23": {
          "model_module": "@jupyter-widgets/controls",
          "model_name": "HBoxModel",
          "model_module_version": "1.5.0",
          "state": {
            "_dom_classes": [],
            "_model_module": "@jupyter-widgets/controls",
            "_model_module_version": "1.5.0",
            "_model_name": "HBoxModel",
            "_view_count": null,
            "_view_module": "@jupyter-widgets/controls",
            "_view_module_version": "1.5.0",
            "_view_name": "HBoxView",
            "box_style": "",
            "children": [
              "IPY_MODEL_86d604fa180740e3a485a214e6de48f3",
              "IPY_MODEL_2ef89f57b9644dcfb5679a928e0ddb9f",
              "IPY_MODEL_35a4e7e7be314d349052849841633d6a"
            ],
            "layout": "IPY_MODEL_146cf4814c1342dc9e0d6c7acdd2d6a1"
          }
        },
        "86d604fa180740e3a485a214e6de48f3": {
          "model_module": "@jupyter-widgets/controls",
          "model_name": "HTMLModel",
          "model_module_version": "1.5.0",
          "state": {
            "_dom_classes": [],
            "_model_module": "@jupyter-widgets/controls",
            "_model_module_version": "1.5.0",
            "_model_name": "HTMLModel",
            "_view_count": null,
            "_view_module": "@jupyter-widgets/controls",
            "_view_module_version": "1.5.0",
            "_view_name": "HTMLView",
            "description": "",
            "description_tooltip": null,
            "layout": "IPY_MODEL_076adc72d7b34abbba6a1ab9c0e09577",
            "placeholder": "​",
            "style": "IPY_MODEL_8f4319be923b471e9d803038bca716b2",
            "value": "Downloading metadata: 100%"
          }
        },
        "2ef89f57b9644dcfb5679a928e0ddb9f": {
          "model_module": "@jupyter-widgets/controls",
          "model_name": "FloatProgressModel",
          "model_module_version": "1.5.0",
          "state": {
            "_dom_classes": [],
            "_model_module": "@jupyter-widgets/controls",
            "_model_module_version": "1.5.0",
            "_model_name": "FloatProgressModel",
            "_view_count": null,
            "_view_module": "@jupyter-widgets/controls",
            "_view_module_version": "1.5.0",
            "_view_name": "ProgressView",
            "bar_style": "success",
            "description": "",
            "description_tooltip": null,
            "layout": "IPY_MODEL_0ea4a2cf27f742faa884537b78e33588",
            "max": 617123,
            "min": 0,
            "orientation": "horizontal",
            "style": "IPY_MODEL_b40b9079593344bbbb73bd50c02430f7",
            "value": 617123
          }
        },
        "35a4e7e7be314d349052849841633d6a": {
          "model_module": "@jupyter-widgets/controls",
          "model_name": "HTMLModel",
          "model_module_version": "1.5.0",
          "state": {
            "_dom_classes": [],
            "_model_module": "@jupyter-widgets/controls",
            "_model_module_version": "1.5.0",
            "_model_name": "HTMLModel",
            "_view_count": null,
            "_view_module": "@jupyter-widgets/controls",
            "_view_module_version": "1.5.0",
            "_view_name": "HTMLView",
            "description": "",
            "description_tooltip": null,
            "layout": "IPY_MODEL_1751a1aec1cf42ec8f7c8d2e518d496f",
            "placeholder": "​",
            "style": "IPY_MODEL_dbf377560c1a42838220a8e341f10c35",
            "value": " 617k/617k [00:00&lt;00:00, 17.1MB/s]"
          }
        },
        "146cf4814c1342dc9e0d6c7acdd2d6a1": {
          "model_module": "@jupyter-widgets/base",
          "model_name": "LayoutModel",
          "model_module_version": "1.2.0",
          "state": {
            "_model_module": "@jupyter-widgets/base",
            "_model_module_version": "1.2.0",
            "_model_name": "LayoutModel",
            "_view_count": null,
            "_view_module": "@jupyter-widgets/base",
            "_view_module_version": "1.2.0",
            "_view_name": "LayoutView",
            "align_content": null,
            "align_items": null,
            "align_self": null,
            "border": null,
            "bottom": null,
            "display": null,
            "flex": null,
            "flex_flow": null,
            "grid_area": null,
            "grid_auto_columns": null,
            "grid_auto_flow": null,
            "grid_auto_rows": null,
            "grid_column": null,
            "grid_gap": null,
            "grid_row": null,
            "grid_template_areas": null,
            "grid_template_columns": null,
            "grid_template_rows": null,
            "height": null,
            "justify_content": null,
            "justify_items": null,
            "left": null,
            "margin": null,
            "max_height": null,
            "max_width": null,
            "min_height": null,
            "min_width": null,
            "object_fit": null,
            "object_position": null,
            "order": null,
            "overflow": null,
            "overflow_x": null,
            "overflow_y": null,
            "padding": null,
            "right": null,
            "top": null,
            "visibility": null,
            "width": null
          }
        },
        "076adc72d7b34abbba6a1ab9c0e09577": {
          "model_module": "@jupyter-widgets/base",
          "model_name": "LayoutModel",
          "model_module_version": "1.2.0",
          "state": {
            "_model_module": "@jupyter-widgets/base",
            "_model_module_version": "1.2.0",
            "_model_name": "LayoutModel",
            "_view_count": null,
            "_view_module": "@jupyter-widgets/base",
            "_view_module_version": "1.2.0",
            "_view_name": "LayoutView",
            "align_content": null,
            "align_items": null,
            "align_self": null,
            "border": null,
            "bottom": null,
            "display": null,
            "flex": null,
            "flex_flow": null,
            "grid_area": null,
            "grid_auto_columns": null,
            "grid_auto_flow": null,
            "grid_auto_rows": null,
            "grid_column": null,
            "grid_gap": null,
            "grid_row": null,
            "grid_template_areas": null,
            "grid_template_columns": null,
            "grid_template_rows": null,
            "height": null,
            "justify_content": null,
            "justify_items": null,
            "left": null,
            "margin": null,
            "max_height": null,
            "max_width": null,
            "min_height": null,
            "min_width": null,
            "object_fit": null,
            "object_position": null,
            "order": null,
            "overflow": null,
            "overflow_x": null,
            "overflow_y": null,
            "padding": null,
            "right": null,
            "top": null,
            "visibility": null,
            "width": null
          }
        },
        "8f4319be923b471e9d803038bca716b2": {
          "model_module": "@jupyter-widgets/controls",
          "model_name": "DescriptionStyleModel",
          "model_module_version": "1.5.0",
          "state": {
            "_model_module": "@jupyter-widgets/controls",
            "_model_module_version": "1.5.0",
            "_model_name": "DescriptionStyleModel",
            "_view_count": null,
            "_view_module": "@jupyter-widgets/base",
            "_view_module_version": "1.2.0",
            "_view_name": "StyleView",
            "description_width": ""
          }
        },
        "0ea4a2cf27f742faa884537b78e33588": {
          "model_module": "@jupyter-widgets/base",
          "model_name": "LayoutModel",
          "model_module_version": "1.2.0",
          "state": {
            "_model_module": "@jupyter-widgets/base",
            "_model_module_version": "1.2.0",
            "_model_name": "LayoutModel",
            "_view_count": null,
            "_view_module": "@jupyter-widgets/base",
            "_view_module_version": "1.2.0",
            "_view_name": "LayoutView",
            "align_content": null,
            "align_items": null,
            "align_self": null,
            "border": null,
            "bottom": null,
            "display": null,
            "flex": null,
            "flex_flow": null,
            "grid_area": null,
            "grid_auto_columns": null,
            "grid_auto_flow": null,
            "grid_auto_rows": null,
            "grid_column": null,
            "grid_gap": null,
            "grid_row": null,
            "grid_template_areas": null,
            "grid_template_columns": null,
            "grid_template_rows": null,
            "height": null,
            "justify_content": null,
            "justify_items": null,
            "left": null,
            "margin": null,
            "max_height": null,
            "max_width": null,
            "min_height": null,
            "min_width": null,
            "object_fit": null,
            "object_position": null,
            "order": null,
            "overflow": null,
            "overflow_x": null,
            "overflow_y": null,
            "padding": null,
            "right": null,
            "top": null,
            "visibility": null,
            "width": null
          }
        },
        "b40b9079593344bbbb73bd50c02430f7": {
          "model_module": "@jupyter-widgets/controls",
          "model_name": "ProgressStyleModel",
          "model_module_version": "1.5.0",
          "state": {
            "_model_module": "@jupyter-widgets/controls",
            "_model_module_version": "1.5.0",
            "_model_name": "ProgressStyleModel",
            "_view_count": null,
            "_view_module": "@jupyter-widgets/base",
            "_view_module_version": "1.2.0",
            "_view_name": "StyleView",
            "bar_color": null,
            "description_width": ""
          }
        },
        "1751a1aec1cf42ec8f7c8d2e518d496f": {
          "model_module": "@jupyter-widgets/base",
          "model_name": "LayoutModel",
          "model_module_version": "1.2.0",
          "state": {
            "_model_module": "@jupyter-widgets/base",
            "_model_module_version": "1.2.0",
            "_model_name": "LayoutModel",
            "_view_count": null,
            "_view_module": "@jupyter-widgets/base",
            "_view_module_version": "1.2.0",
            "_view_name": "LayoutView",
            "align_content": null,
            "align_items": null,
            "align_self": null,
            "border": null,
            "bottom": null,
            "display": null,
            "flex": null,
            "flex_flow": null,
            "grid_area": null,
            "grid_auto_columns": null,
            "grid_auto_flow": null,
            "grid_auto_rows": null,
            "grid_column": null,
            "grid_gap": null,
            "grid_row": null,
            "grid_template_areas": null,
            "grid_template_columns": null,
            "grid_template_rows": null,
            "height": null,
            "justify_content": null,
            "justify_items": null,
            "left": null,
            "margin": null,
            "max_height": null,
            "max_width": null,
            "min_height": null,
            "min_width": null,
            "object_fit": null,
            "object_position": null,
            "order": null,
            "overflow": null,
            "overflow_x": null,
            "overflow_y": null,
            "padding": null,
            "right": null,
            "top": null,
            "visibility": null,
            "width": null
          }
        },
        "dbf377560c1a42838220a8e341f10c35": {
          "model_module": "@jupyter-widgets/controls",
          "model_name": "DescriptionStyleModel",
          "model_module_version": "1.5.0",
          "state": {
            "_model_module": "@jupyter-widgets/controls",
            "_model_module_version": "1.5.0",
            "_model_name": "DescriptionStyleModel",
            "_view_count": null,
            "_view_module": "@jupyter-widgets/base",
            "_view_module_version": "1.2.0",
            "_view_name": "StyleView",
            "description_width": ""
          }
        },
        "2125bff89fd14e81aed8c9198219c4b4": {
          "model_module": "@jupyter-widgets/controls",
          "model_name": "HBoxModel",
          "model_module_version": "1.5.0",
          "state": {
            "_dom_classes": [],
            "_model_module": "@jupyter-widgets/controls",
            "_model_module_version": "1.5.0",
            "_model_name": "HBoxModel",
            "_view_count": null,
            "_view_module": "@jupyter-widgets/controls",
            "_view_module_version": "1.5.0",
            "_view_name": "HBoxView",
            "box_style": "",
            "children": [
              "IPY_MODEL_85f8b90fc626430ea2a882e571fcdd4e",
              "IPY_MODEL_c19d6e92bfd141728443e93325d17429",
              "IPY_MODEL_8677daa3717341739e7ad6a7b9b2ad82"
            ],
            "layout": "IPY_MODEL_e5a8e2ae74854c20a96a3461e13961ab"
          }
        },
        "85f8b90fc626430ea2a882e571fcdd4e": {
          "model_module": "@jupyter-widgets/controls",
          "model_name": "HTMLModel",
          "model_module_version": "1.5.0",
          "state": {
            "_dom_classes": [],
            "_model_module": "@jupyter-widgets/controls",
            "_model_module_version": "1.5.0",
            "_model_name": "HTMLModel",
            "_view_count": null,
            "_view_module": "@jupyter-widgets/controls",
            "_view_module_version": "1.5.0",
            "_view_name": "HTMLView",
            "description": "",
            "description_tooltip": null,
            "layout": "IPY_MODEL_c2460a300af9461684abdea859a3ff05",
            "placeholder": "​",
            "style": "IPY_MODEL_b1588d922aba412fb5a445e3fb594997",
            "value": "Downloading readme: 100%"
          }
        },
        "c19d6e92bfd141728443e93325d17429": {
          "model_module": "@jupyter-widgets/controls",
          "model_name": "FloatProgressModel",
          "model_module_version": "1.5.0",
          "state": {
            "_dom_classes": [],
            "_model_module": "@jupyter-widgets/controls",
            "_model_module_version": "1.5.0",
            "_model_name": "FloatProgressModel",
            "_view_count": null,
            "_view_module": "@jupyter-widgets/controls",
            "_view_module_version": "1.5.0",
            "_view_name": "ProgressView",
            "bar_style": "success",
            "description": "",
            "description_tooltip": null,
            "layout": "IPY_MODEL_c12c7f2d7cac42d6ab4ca8ea3be25c73",
            "max": 130679,
            "min": 0,
            "orientation": "horizontal",
            "style": "IPY_MODEL_9cc36c0d8b844191b017ce56d59a59d5",
            "value": 130679
          }
        },
        "8677daa3717341739e7ad6a7b9b2ad82": {
          "model_module": "@jupyter-widgets/controls",
          "model_name": "HTMLModel",
          "model_module_version": "1.5.0",
          "state": {
            "_dom_classes": [],
            "_model_module": "@jupyter-widgets/controls",
            "_model_module_version": "1.5.0",
            "_model_name": "HTMLModel",
            "_view_count": null,
            "_view_module": "@jupyter-widgets/controls",
            "_view_module_version": "1.5.0",
            "_view_name": "HTMLView",
            "description": "",
            "description_tooltip": null,
            "layout": "IPY_MODEL_d3d1201d904f44fa9317185f6b1e43e8",
            "placeholder": "​",
            "style": "IPY_MODEL_c7a5eea537f64a38ada5340d888a38de",
            "value": " 131k/131k [00:00&lt;00:00, 5.62MB/s]"
          }
        },
        "e5a8e2ae74854c20a96a3461e13961ab": {
          "model_module": "@jupyter-widgets/base",
          "model_name": "LayoutModel",
          "model_module_version": "1.2.0",
          "state": {
            "_model_module": "@jupyter-widgets/base",
            "_model_module_version": "1.2.0",
            "_model_name": "LayoutModel",
            "_view_count": null,
            "_view_module": "@jupyter-widgets/base",
            "_view_module_version": "1.2.0",
            "_view_name": "LayoutView",
            "align_content": null,
            "align_items": null,
            "align_self": null,
            "border": null,
            "bottom": null,
            "display": null,
            "flex": null,
            "flex_flow": null,
            "grid_area": null,
            "grid_auto_columns": null,
            "grid_auto_flow": null,
            "grid_auto_rows": null,
            "grid_column": null,
            "grid_gap": null,
            "grid_row": null,
            "grid_template_areas": null,
            "grid_template_columns": null,
            "grid_template_rows": null,
            "height": null,
            "justify_content": null,
            "justify_items": null,
            "left": null,
            "margin": null,
            "max_height": null,
            "max_width": null,
            "min_height": null,
            "min_width": null,
            "object_fit": null,
            "object_position": null,
            "order": null,
            "overflow": null,
            "overflow_x": null,
            "overflow_y": null,
            "padding": null,
            "right": null,
            "top": null,
            "visibility": null,
            "width": null
          }
        },
        "c2460a300af9461684abdea859a3ff05": {
          "model_module": "@jupyter-widgets/base",
          "model_name": "LayoutModel",
          "model_module_version": "1.2.0",
          "state": {
            "_model_module": "@jupyter-widgets/base",
            "_model_module_version": "1.2.0",
            "_model_name": "LayoutModel",
            "_view_count": null,
            "_view_module": "@jupyter-widgets/base",
            "_view_module_version": "1.2.0",
            "_view_name": "LayoutView",
            "align_content": null,
            "align_items": null,
            "align_self": null,
            "border": null,
            "bottom": null,
            "display": null,
            "flex": null,
            "flex_flow": null,
            "grid_area": null,
            "grid_auto_columns": null,
            "grid_auto_flow": null,
            "grid_auto_rows": null,
            "grid_column": null,
            "grid_gap": null,
            "grid_row": null,
            "grid_template_areas": null,
            "grid_template_columns": null,
            "grid_template_rows": null,
            "height": null,
            "justify_content": null,
            "justify_items": null,
            "left": null,
            "margin": null,
            "max_height": null,
            "max_width": null,
            "min_height": null,
            "min_width": null,
            "object_fit": null,
            "object_position": null,
            "order": null,
            "overflow": null,
            "overflow_x": null,
            "overflow_y": null,
            "padding": null,
            "right": null,
            "top": null,
            "visibility": null,
            "width": null
          }
        },
        "b1588d922aba412fb5a445e3fb594997": {
          "model_module": "@jupyter-widgets/controls",
          "model_name": "DescriptionStyleModel",
          "model_module_version": "1.5.0",
          "state": {
            "_model_module": "@jupyter-widgets/controls",
            "_model_module_version": "1.5.0",
            "_model_name": "DescriptionStyleModel",
            "_view_count": null,
            "_view_module": "@jupyter-widgets/base",
            "_view_module_version": "1.2.0",
            "_view_name": "StyleView",
            "description_width": ""
          }
        },
        "c12c7f2d7cac42d6ab4ca8ea3be25c73": {
          "model_module": "@jupyter-widgets/base",
          "model_name": "LayoutModel",
          "model_module_version": "1.2.0",
          "state": {
            "_model_module": "@jupyter-widgets/base",
            "_model_module_version": "1.2.0",
            "_model_name": "LayoutModel",
            "_view_count": null,
            "_view_module": "@jupyter-widgets/base",
            "_view_module_version": "1.2.0",
            "_view_name": "LayoutView",
            "align_content": null,
            "align_items": null,
            "align_self": null,
            "border": null,
            "bottom": null,
            "display": null,
            "flex": null,
            "flex_flow": null,
            "grid_area": null,
            "grid_auto_columns": null,
            "grid_auto_flow": null,
            "grid_auto_rows": null,
            "grid_column": null,
            "grid_gap": null,
            "grid_row": null,
            "grid_template_areas": null,
            "grid_template_columns": null,
            "grid_template_rows": null,
            "height": null,
            "justify_content": null,
            "justify_items": null,
            "left": null,
            "margin": null,
            "max_height": null,
            "max_width": null,
            "min_height": null,
            "min_width": null,
            "object_fit": null,
            "object_position": null,
            "order": null,
            "overflow": null,
            "overflow_x": null,
            "overflow_y": null,
            "padding": null,
            "right": null,
            "top": null,
            "visibility": null,
            "width": null
          }
        },
        "9cc36c0d8b844191b017ce56d59a59d5": {
          "model_module": "@jupyter-widgets/controls",
          "model_name": "ProgressStyleModel",
          "model_module_version": "1.5.0",
          "state": {
            "_model_module": "@jupyter-widgets/controls",
            "_model_module_version": "1.5.0",
            "_model_name": "ProgressStyleModel",
            "_view_count": null,
            "_view_module": "@jupyter-widgets/base",
            "_view_module_version": "1.2.0",
            "_view_name": "StyleView",
            "bar_color": null,
            "description_width": ""
          }
        },
        "d3d1201d904f44fa9317185f6b1e43e8": {
          "model_module": "@jupyter-widgets/base",
          "model_name": "LayoutModel",
          "model_module_version": "1.2.0",
          "state": {
            "_model_module": "@jupyter-widgets/base",
            "_model_module_version": "1.2.0",
            "_model_name": "LayoutModel",
            "_view_count": null,
            "_view_module": "@jupyter-widgets/base",
            "_view_module_version": "1.2.0",
            "_view_name": "LayoutView",
            "align_content": null,
            "align_items": null,
            "align_self": null,
            "border": null,
            "bottom": null,
            "display": null,
            "flex": null,
            "flex_flow": null,
            "grid_area": null,
            "grid_auto_columns": null,
            "grid_auto_flow": null,
            "grid_auto_rows": null,
            "grid_column": null,
            "grid_gap": null,
            "grid_row": null,
            "grid_template_areas": null,
            "grid_template_columns": null,
            "grid_template_rows": null,
            "height": null,
            "justify_content": null,
            "justify_items": null,
            "left": null,
            "margin": null,
            "max_height": null,
            "max_width": null,
            "min_height": null,
            "min_width": null,
            "object_fit": null,
            "object_position": null,
            "order": null,
            "overflow": null,
            "overflow_x": null,
            "overflow_y": null,
            "padding": null,
            "right": null,
            "top": null,
            "visibility": null,
            "width": null
          }
        },
        "c7a5eea537f64a38ada5340d888a38de": {
          "model_module": "@jupyter-widgets/controls",
          "model_name": "DescriptionStyleModel",
          "model_module_version": "1.5.0",
          "state": {
            "_model_module": "@jupyter-widgets/controls",
            "_model_module_version": "1.5.0",
            "_model_name": "DescriptionStyleModel",
            "_view_count": null,
            "_view_module": "@jupyter-widgets/base",
            "_view_module_version": "1.2.0",
            "_view_name": "StyleView",
            "description_width": ""
          }
        },
        "ac897e89a97c45bb8c457d3a98f5521d": {
          "model_module": "@jupyter-widgets/controls",
          "model_name": "HBoxModel",
          "model_module_version": "1.5.0",
          "state": {
            "_dom_classes": [],
            "_model_module": "@jupyter-widgets/controls",
            "_model_module_version": "1.5.0",
            "_model_name": "HBoxModel",
            "_view_count": null,
            "_view_module": "@jupyter-widgets/controls",
            "_view_module_version": "1.5.0",
            "_view_name": "HBoxView",
            "box_style": "",
            "children": [
              "IPY_MODEL_d086e0b9cb6d42c59f24684dc68dd761",
              "IPY_MODEL_a45355eef19f42d8b1548f7b12427a09",
              "IPY_MODEL_de11177e5bd64e61a592c99a2d03463d"
            ],
            "layout": "IPY_MODEL_ecb1266f07084163b668ef26a60c9740"
          }
        },
        "d086e0b9cb6d42c59f24684dc68dd761": {
          "model_module": "@jupyter-widgets/controls",
          "model_name": "HTMLModel",
          "model_module_version": "1.5.0",
          "state": {
            "_dom_classes": [],
            "_model_module": "@jupyter-widgets/controls",
            "_model_module_version": "1.5.0",
            "_model_name": "HTMLModel",
            "_view_count": null,
            "_view_module": "@jupyter-widgets/controls",
            "_view_module_version": "1.5.0",
            "_view_name": "HTMLView",
            "description": "",
            "description_tooltip": null,
            "layout": "IPY_MODEL_3a4db4364e134ccc8fbe2f6259a3ccca",
            "placeholder": "​",
            "style": "IPY_MODEL_a736665b00e84c3fb38ff86b9f63a0e0",
            "value": "Downloading data: 100%"
          }
        },
        "a45355eef19f42d8b1548f7b12427a09": {
          "model_module": "@jupyter-widgets/controls",
          "model_name": "FloatProgressModel",
          "model_module_version": "1.5.0",
          "state": {
            "_dom_classes": [],
            "_model_module": "@jupyter-widgets/controls",
            "_model_module_version": "1.5.0",
            "_model_name": "FloatProgressModel",
            "_view_count": null,
            "_view_module": "@jupyter-widgets/controls",
            "_view_module_version": "1.5.0",
            "_view_name": "ProgressView",
            "bar_style": "success",
            "description": "",
            "description_tooltip": null,
            "layout": "IPY_MODEL_bc41479c2143455fbfc79eab91c437d6",
            "max": 234008884,
            "min": 0,
            "orientation": "horizontal",
            "style": "IPY_MODEL_7f599d940cad4852a6e555da67bff708",
            "value": 234008884
          }
        },
        "de11177e5bd64e61a592c99a2d03463d": {
          "model_module": "@jupyter-widgets/controls",
          "model_name": "HTMLModel",
          "model_module_version": "1.5.0",
          "state": {
            "_dom_classes": [],
            "_model_module": "@jupyter-widgets/controls",
            "_model_module_version": "1.5.0",
            "_model_name": "HTMLModel",
            "_view_count": null,
            "_view_module": "@jupyter-widgets/controls",
            "_view_module_version": "1.5.0",
            "_view_name": "HTMLView",
            "description": "",
            "description_tooltip": null,
            "layout": "IPY_MODEL_909a4ea0feee455aa21943ad4e06a8e7",
            "placeholder": "​",
            "style": "IPY_MODEL_a374bdf1e884434dab8e94442f8bbc5c",
            "value": " 234M/234M [00:02&lt;00:00, 106MB/s]"
          }
        },
        "ecb1266f07084163b668ef26a60c9740": {
          "model_module": "@jupyter-widgets/base",
          "model_name": "LayoutModel",
          "model_module_version": "1.2.0",
          "state": {
            "_model_module": "@jupyter-widgets/base",
            "_model_module_version": "1.2.0",
            "_model_name": "LayoutModel",
            "_view_count": null,
            "_view_module": "@jupyter-widgets/base",
            "_view_module_version": "1.2.0",
            "_view_name": "LayoutView",
            "align_content": null,
            "align_items": null,
            "align_self": null,
            "border": null,
            "bottom": null,
            "display": null,
            "flex": null,
            "flex_flow": null,
            "grid_area": null,
            "grid_auto_columns": null,
            "grid_auto_flow": null,
            "grid_auto_rows": null,
            "grid_column": null,
            "grid_gap": null,
            "grid_row": null,
            "grid_template_areas": null,
            "grid_template_columns": null,
            "grid_template_rows": null,
            "height": null,
            "justify_content": null,
            "justify_items": null,
            "left": null,
            "margin": null,
            "max_height": null,
            "max_width": null,
            "min_height": null,
            "min_width": null,
            "object_fit": null,
            "object_position": null,
            "order": null,
            "overflow": null,
            "overflow_x": null,
            "overflow_y": null,
            "padding": null,
            "right": null,
            "top": null,
            "visibility": null,
            "width": null
          }
        },
        "3a4db4364e134ccc8fbe2f6259a3ccca": {
          "model_module": "@jupyter-widgets/base",
          "model_name": "LayoutModel",
          "model_module_version": "1.2.0",
          "state": {
            "_model_module": "@jupyter-widgets/base",
            "_model_module_version": "1.2.0",
            "_model_name": "LayoutModel",
            "_view_count": null,
            "_view_module": "@jupyter-widgets/base",
            "_view_module_version": "1.2.0",
            "_view_name": "LayoutView",
            "align_content": null,
            "align_items": null,
            "align_self": null,
            "border": null,
            "bottom": null,
            "display": null,
            "flex": null,
            "flex_flow": null,
            "grid_area": null,
            "grid_auto_columns": null,
            "grid_auto_flow": null,
            "grid_auto_rows": null,
            "grid_column": null,
            "grid_gap": null,
            "grid_row": null,
            "grid_template_areas": null,
            "grid_template_columns": null,
            "grid_template_rows": null,
            "height": null,
            "justify_content": null,
            "justify_items": null,
            "left": null,
            "margin": null,
            "max_height": null,
            "max_width": null,
            "min_height": null,
            "min_width": null,
            "object_fit": null,
            "object_position": null,
            "order": null,
            "overflow": null,
            "overflow_x": null,
            "overflow_y": null,
            "padding": null,
            "right": null,
            "top": null,
            "visibility": null,
            "width": null
          }
        },
        "a736665b00e84c3fb38ff86b9f63a0e0": {
          "model_module": "@jupyter-widgets/controls",
          "model_name": "DescriptionStyleModel",
          "model_module_version": "1.5.0",
          "state": {
            "_model_module": "@jupyter-widgets/controls",
            "_model_module_version": "1.5.0",
            "_model_name": "DescriptionStyleModel",
            "_view_count": null,
            "_view_module": "@jupyter-widgets/base",
            "_view_module_version": "1.2.0",
            "_view_name": "StyleView",
            "description_width": ""
          }
        },
        "bc41479c2143455fbfc79eab91c437d6": {
          "model_module": "@jupyter-widgets/base",
          "model_name": "LayoutModel",
          "model_module_version": "1.2.0",
          "state": {
            "_model_module": "@jupyter-widgets/base",
            "_model_module_version": "1.2.0",
            "_model_name": "LayoutModel",
            "_view_count": null,
            "_view_module": "@jupyter-widgets/base",
            "_view_module_version": "1.2.0",
            "_view_name": "LayoutView",
            "align_content": null,
            "align_items": null,
            "align_self": null,
            "border": null,
            "bottom": null,
            "display": null,
            "flex": null,
            "flex_flow": null,
            "grid_area": null,
            "grid_auto_columns": null,
            "grid_auto_flow": null,
            "grid_auto_rows": null,
            "grid_column": null,
            "grid_gap": null,
            "grid_row": null,
            "grid_template_areas": null,
            "grid_template_columns": null,
            "grid_template_rows": null,
            "height": null,
            "justify_content": null,
            "justify_items": null,
            "left": null,
            "margin": null,
            "max_height": null,
            "max_width": null,
            "min_height": null,
            "min_width": null,
            "object_fit": null,
            "object_position": null,
            "order": null,
            "overflow": null,
            "overflow_x": null,
            "overflow_y": null,
            "padding": null,
            "right": null,
            "top": null,
            "visibility": null,
            "width": null
          }
        },
        "7f599d940cad4852a6e555da67bff708": {
          "model_module": "@jupyter-widgets/controls",
          "model_name": "ProgressStyleModel",
          "model_module_version": "1.5.0",
          "state": {
            "_model_module": "@jupyter-widgets/controls",
            "_model_module_version": "1.5.0",
            "_model_name": "ProgressStyleModel",
            "_view_count": null,
            "_view_module": "@jupyter-widgets/base",
            "_view_module_version": "1.2.0",
            "_view_name": "StyleView",
            "bar_color": null,
            "description_width": ""
          }
        },
        "909a4ea0feee455aa21943ad4e06a8e7": {
          "model_module": "@jupyter-widgets/base",
          "model_name": "LayoutModel",
          "model_module_version": "1.2.0",
          "state": {
            "_model_module": "@jupyter-widgets/base",
            "_model_module_version": "1.2.0",
            "_model_name": "LayoutModel",
            "_view_count": null,
            "_view_module": "@jupyter-widgets/base",
            "_view_module_version": "1.2.0",
            "_view_name": "LayoutView",
            "align_content": null,
            "align_items": null,
            "align_self": null,
            "border": null,
            "bottom": null,
            "display": null,
            "flex": null,
            "flex_flow": null,
            "grid_area": null,
            "grid_auto_columns": null,
            "grid_auto_flow": null,
            "grid_auto_rows": null,
            "grid_column": null,
            "grid_gap": null,
            "grid_row": null,
            "grid_template_areas": null,
            "grid_template_columns": null,
            "grid_template_rows": null,
            "height": null,
            "justify_content": null,
            "justify_items": null,
            "left": null,
            "margin": null,
            "max_height": null,
            "max_width": null,
            "min_height": null,
            "min_width": null,
            "object_fit": null,
            "object_position": null,
            "order": null,
            "overflow": null,
            "overflow_x": null,
            "overflow_y": null,
            "padding": null,
            "right": null,
            "top": null,
            "visibility": null,
            "width": null
          }
        },
        "a374bdf1e884434dab8e94442f8bbc5c": {
          "model_module": "@jupyter-widgets/controls",
          "model_name": "DescriptionStyleModel",
          "model_module_version": "1.5.0",
          "state": {
            "_model_module": "@jupyter-widgets/controls",
            "_model_module_version": "1.5.0",
            "_model_name": "DescriptionStyleModel",
            "_view_count": null,
            "_view_module": "@jupyter-widgets/base",
            "_view_module_version": "1.2.0",
            "_view_name": "StyleView",
            "description_width": ""
          }
        },
        "697c6104a32f4bcabd4bbba6378f5551": {
          "model_module": "@jupyter-widgets/controls",
          "model_name": "HBoxModel",
          "model_module_version": "1.5.0",
          "state": {
            "_dom_classes": [],
            "_model_module": "@jupyter-widgets/controls",
            "_model_module_version": "1.5.0",
            "_model_name": "HBoxModel",
            "_view_count": null,
            "_view_module": "@jupyter-widgets/controls",
            "_view_module_version": "1.5.0",
            "_view_name": "HBoxView",
            "box_style": "",
            "children": [
              "IPY_MODEL_4a1a1663854040158ce568aa651452e7",
              "IPY_MODEL_736b99fdb2bf4a3f96590981143d5e7c",
              "IPY_MODEL_a47eb56e88f24a4c84f4d93cbb19c677"
            ],
            "layout": "IPY_MODEL_9a661fac14ec44f5b19123370047189b"
          }
        },
        "4a1a1663854040158ce568aa651452e7": {
          "model_module": "@jupyter-widgets/controls",
          "model_name": "HTMLModel",
          "model_module_version": "1.5.0",
          "state": {
            "_dom_classes": [],
            "_model_module": "@jupyter-widgets/controls",
            "_model_module_version": "1.5.0",
            "_model_name": "HTMLModel",
            "_view_count": null,
            "_view_module": "@jupyter-widgets/controls",
            "_view_module_version": "1.5.0",
            "_view_name": "HTMLView",
            "description": "",
            "description_tooltip": null,
            "layout": "IPY_MODEL_c4d5a60ea75d49008235818ad29bbda4",
            "placeholder": "​",
            "style": "IPY_MODEL_6912e5d1743c4bee8aca04a3fad8fde1",
            "value": "Generating validation split:  99%"
          }
        },
        "736b99fdb2bf4a3f96590981143d5e7c": {
          "model_module": "@jupyter-widgets/controls",
          "model_name": "FloatProgressModel",
          "model_module_version": "1.5.0",
          "state": {
            "_dom_classes": [],
            "_model_module": "@jupyter-widgets/controls",
            "_model_module_version": "1.5.0",
            "_model_name": "FloatProgressModel",
            "_view_count": null,
            "_view_module": "@jupyter-widgets/controls",
            "_view_module_version": "1.5.0",
            "_view_name": "ProgressView",
            "bar_style": "",
            "description": "",
            "description_tooltip": null,
            "layout": "IPY_MODEL_b3656317bfe541b4a7a2de0a09eb019c",
            "max": 10000,
            "min": 0,
            "orientation": "horizontal",
            "style": "IPY_MODEL_d6e27198a98442178e03f86a24a98177",
            "value": 10000
          }
        },
        "a47eb56e88f24a4c84f4d93cbb19c677": {
          "model_module": "@jupyter-widgets/controls",
          "model_name": "HTMLModel",
          "model_module_version": "1.5.0",
          "state": {
            "_dom_classes": [],
            "_model_module": "@jupyter-widgets/controls",
            "_model_module_version": "1.5.0",
            "_model_name": "HTMLModel",
            "_view_count": null,
            "_view_module": "@jupyter-widgets/controls",
            "_view_module_version": "1.5.0",
            "_view_name": "HTMLView",
            "description": "",
            "description_tooltip": null,
            "layout": "IPY_MODEL_31376b59429f40d7b9a4bfaaffc41333",
            "placeholder": "​",
            "style": "IPY_MODEL_f951bf26bcc140de975fe2d5813b97d3",
            "value": " 9897/10000 [00:01&lt;00:00, 4706.05 examples/s]"
          }
        },
        "9a661fac14ec44f5b19123370047189b": {
          "model_module": "@jupyter-widgets/base",
          "model_name": "LayoutModel",
          "model_module_version": "1.2.0",
          "state": {
            "_model_module": "@jupyter-widgets/base",
            "_model_module_version": "1.2.0",
            "_model_name": "LayoutModel",
            "_view_count": null,
            "_view_module": "@jupyter-widgets/base",
            "_view_module_version": "1.2.0",
            "_view_name": "LayoutView",
            "align_content": null,
            "align_items": null,
            "align_self": null,
            "border": null,
            "bottom": null,
            "display": null,
            "flex": null,
            "flex_flow": null,
            "grid_area": null,
            "grid_auto_columns": null,
            "grid_auto_flow": null,
            "grid_auto_rows": null,
            "grid_column": null,
            "grid_gap": null,
            "grid_row": null,
            "grid_template_areas": null,
            "grid_template_columns": null,
            "grid_template_rows": null,
            "height": null,
            "justify_content": null,
            "justify_items": null,
            "left": null,
            "margin": null,
            "max_height": null,
            "max_width": null,
            "min_height": null,
            "min_width": null,
            "object_fit": null,
            "object_position": null,
            "order": null,
            "overflow": null,
            "overflow_x": null,
            "overflow_y": null,
            "padding": null,
            "right": null,
            "top": null,
            "visibility": "hidden",
            "width": null
          }
        },
        "c4d5a60ea75d49008235818ad29bbda4": {
          "model_module": "@jupyter-widgets/base",
          "model_name": "LayoutModel",
          "model_module_version": "1.2.0",
          "state": {
            "_model_module": "@jupyter-widgets/base",
            "_model_module_version": "1.2.0",
            "_model_name": "LayoutModel",
            "_view_count": null,
            "_view_module": "@jupyter-widgets/base",
            "_view_module_version": "1.2.0",
            "_view_name": "LayoutView",
            "align_content": null,
            "align_items": null,
            "align_self": null,
            "border": null,
            "bottom": null,
            "display": null,
            "flex": null,
            "flex_flow": null,
            "grid_area": null,
            "grid_auto_columns": null,
            "grid_auto_flow": null,
            "grid_auto_rows": null,
            "grid_column": null,
            "grid_gap": null,
            "grid_row": null,
            "grid_template_areas": null,
            "grid_template_columns": null,
            "grid_template_rows": null,
            "height": null,
            "justify_content": null,
            "justify_items": null,
            "left": null,
            "margin": null,
            "max_height": null,
            "max_width": null,
            "min_height": null,
            "min_width": null,
            "object_fit": null,
            "object_position": null,
            "order": null,
            "overflow": null,
            "overflow_x": null,
            "overflow_y": null,
            "padding": null,
            "right": null,
            "top": null,
            "visibility": null,
            "width": null
          }
        },
        "6912e5d1743c4bee8aca04a3fad8fde1": {
          "model_module": "@jupyter-widgets/controls",
          "model_name": "DescriptionStyleModel",
          "model_module_version": "1.5.0",
          "state": {
            "_model_module": "@jupyter-widgets/controls",
            "_model_module_version": "1.5.0",
            "_model_name": "DescriptionStyleModel",
            "_view_count": null,
            "_view_module": "@jupyter-widgets/base",
            "_view_module_version": "1.2.0",
            "_view_name": "StyleView",
            "description_width": ""
          }
        },
        "b3656317bfe541b4a7a2de0a09eb019c": {
          "model_module": "@jupyter-widgets/base",
          "model_name": "LayoutModel",
          "model_module_version": "1.2.0",
          "state": {
            "_model_module": "@jupyter-widgets/base",
            "_model_module_version": "1.2.0",
            "_model_name": "LayoutModel",
            "_view_count": null,
            "_view_module": "@jupyter-widgets/base",
            "_view_module_version": "1.2.0",
            "_view_name": "LayoutView",
            "align_content": null,
            "align_items": null,
            "align_self": null,
            "border": null,
            "bottom": null,
            "display": null,
            "flex": null,
            "flex_flow": null,
            "grid_area": null,
            "grid_auto_columns": null,
            "grid_auto_flow": null,
            "grid_auto_rows": null,
            "grid_column": null,
            "grid_gap": null,
            "grid_row": null,
            "grid_template_areas": null,
            "grid_template_columns": null,
            "grid_template_rows": null,
            "height": null,
            "justify_content": null,
            "justify_items": null,
            "left": null,
            "margin": null,
            "max_height": null,
            "max_width": null,
            "min_height": null,
            "min_width": null,
            "object_fit": null,
            "object_position": null,
            "order": null,
            "overflow": null,
            "overflow_x": null,
            "overflow_y": null,
            "padding": null,
            "right": null,
            "top": null,
            "visibility": null,
            "width": null
          }
        },
        "d6e27198a98442178e03f86a24a98177": {
          "model_module": "@jupyter-widgets/controls",
          "model_name": "ProgressStyleModel",
          "model_module_version": "1.5.0",
          "state": {
            "_model_module": "@jupyter-widgets/controls",
            "_model_module_version": "1.5.0",
            "_model_name": "ProgressStyleModel",
            "_view_count": null,
            "_view_module": "@jupyter-widgets/base",
            "_view_module_version": "1.2.0",
            "_view_name": "StyleView",
            "bar_color": null,
            "description_width": ""
          }
        },
        "31376b59429f40d7b9a4bfaaffc41333": {
          "model_module": "@jupyter-widgets/base",
          "model_name": "LayoutModel",
          "model_module_version": "1.2.0",
          "state": {
            "_model_module": "@jupyter-widgets/base",
            "_model_module_version": "1.2.0",
            "_model_name": "LayoutModel",
            "_view_count": null,
            "_view_module": "@jupyter-widgets/base",
            "_view_module_version": "1.2.0",
            "_view_name": "LayoutView",
            "align_content": null,
            "align_items": null,
            "align_self": null,
            "border": null,
            "bottom": null,
            "display": null,
            "flex": null,
            "flex_flow": null,
            "grid_area": null,
            "grid_auto_columns": null,
            "grid_auto_flow": null,
            "grid_auto_rows": null,
            "grid_column": null,
            "grid_gap": null,
            "grid_row": null,
            "grid_template_areas": null,
            "grid_template_columns": null,
            "grid_template_rows": null,
            "height": null,
            "justify_content": null,
            "justify_items": null,
            "left": null,
            "margin": null,
            "max_height": null,
            "max_width": null,
            "min_height": null,
            "min_width": null,
            "object_fit": null,
            "object_position": null,
            "order": null,
            "overflow": null,
            "overflow_x": null,
            "overflow_y": null,
            "padding": null,
            "right": null,
            "top": null,
            "visibility": null,
            "width": null
          }
        },
        "f951bf26bcc140de975fe2d5813b97d3": {
          "model_module": "@jupyter-widgets/controls",
          "model_name": "DescriptionStyleModel",
          "model_module_version": "1.5.0",
          "state": {
            "_model_module": "@jupyter-widgets/controls",
            "_model_module_version": "1.5.0",
            "_model_name": "DescriptionStyleModel",
            "_view_count": null,
            "_view_module": "@jupyter-widgets/base",
            "_view_module_version": "1.2.0",
            "_view_name": "StyleView",
            "description_width": ""
          }
        },
        "27acb0f4a71b44a0b2fb4a5a49d5d95d": {
          "model_module": "@jupyter-widgets/controls",
          "model_name": "HBoxModel",
          "model_module_version": "1.5.0",
          "state": {
            "_dom_classes": [],
            "_model_module": "@jupyter-widgets/controls",
            "_model_module_version": "1.5.0",
            "_model_name": "HBoxModel",
            "_view_count": null,
            "_view_module": "@jupyter-widgets/controls",
            "_view_module_version": "1.5.0",
            "_view_name": "HBoxView",
            "box_style": "",
            "children": [
              "IPY_MODEL_c9725870b9734288b595cda0c191841a",
              "IPY_MODEL_dcbe4b58231947ab9c6a7b7acd6ae082",
              "IPY_MODEL_f9beef4648534b2e8a53351a2a26e4aa"
            ],
            "layout": "IPY_MODEL_9ee8ada4dadf415185353faad49c26de"
          }
        },
        "c9725870b9734288b595cda0c191841a": {
          "model_module": "@jupyter-widgets/controls",
          "model_name": "HTMLModel",
          "model_module_version": "1.5.0",
          "state": {
            "_dom_classes": [],
            "_model_module": "@jupyter-widgets/controls",
            "_model_module_version": "1.5.0",
            "_model_name": "HTMLModel",
            "_view_count": null,
            "_view_module": "@jupyter-widgets/controls",
            "_view_module_version": "1.5.0",
            "_view_name": "HTMLView",
            "description": "",
            "description_tooltip": null,
            "layout": "IPY_MODEL_1feaa9e5e7114a5fac0de58182b2002d",
            "placeholder": "​",
            "style": "IPY_MODEL_2b23554c791343ac8de1d07ce10be934",
            "value": "Generating test split:  99%"
          }
        },
        "dcbe4b58231947ab9c6a7b7acd6ae082": {
          "model_module": "@jupyter-widgets/controls",
          "model_name": "FloatProgressModel",
          "model_module_version": "1.5.0",
          "state": {
            "_dom_classes": [],
            "_model_module": "@jupyter-widgets/controls",
            "_model_module_version": "1.5.0",
            "_model_name": "FloatProgressModel",
            "_view_count": null,
            "_view_module": "@jupyter-widgets/controls",
            "_view_module_version": "1.5.0",
            "_view_name": "ProgressView",
            "bar_style": "",
            "description": "",
            "description_tooltip": null,
            "layout": "IPY_MODEL_a25121b89493434f95193c8b11ee0ec9",
            "max": 10000,
            "min": 0,
            "orientation": "horizontal",
            "style": "IPY_MODEL_66e651574d9740fe98467efd0d5a4e7e",
            "value": 10000
          }
        },
        "f9beef4648534b2e8a53351a2a26e4aa": {
          "model_module": "@jupyter-widgets/controls",
          "model_name": "HTMLModel",
          "model_module_version": "1.5.0",
          "state": {
            "_dom_classes": [],
            "_model_module": "@jupyter-widgets/controls",
            "_model_module_version": "1.5.0",
            "_model_name": "HTMLModel",
            "_view_count": null,
            "_view_module": "@jupyter-widgets/controls",
            "_view_module_version": "1.5.0",
            "_view_name": "HTMLView",
            "description": "",
            "description_tooltip": null,
            "layout": "IPY_MODEL_ed7b1e84cac14fd48bbd577a90ca8a79",
            "placeholder": "​",
            "style": "IPY_MODEL_bd6906a4c65d41f3843a4d8866d6ab2b",
            "value": " 9939/10000 [00:01&lt;00:00, 6879.98 examples/s]"
          }
        },
        "9ee8ada4dadf415185353faad49c26de": {
          "model_module": "@jupyter-widgets/base",
          "model_name": "LayoutModel",
          "model_module_version": "1.2.0",
          "state": {
            "_model_module": "@jupyter-widgets/base",
            "_model_module_version": "1.2.0",
            "_model_name": "LayoutModel",
            "_view_count": null,
            "_view_module": "@jupyter-widgets/base",
            "_view_module_version": "1.2.0",
            "_view_name": "LayoutView",
            "align_content": null,
            "align_items": null,
            "align_self": null,
            "border": null,
            "bottom": null,
            "display": null,
            "flex": null,
            "flex_flow": null,
            "grid_area": null,
            "grid_auto_columns": null,
            "grid_auto_flow": null,
            "grid_auto_rows": null,
            "grid_column": null,
            "grid_gap": null,
            "grid_row": null,
            "grid_template_areas": null,
            "grid_template_columns": null,
            "grid_template_rows": null,
            "height": null,
            "justify_content": null,
            "justify_items": null,
            "left": null,
            "margin": null,
            "max_height": null,
            "max_width": null,
            "min_height": null,
            "min_width": null,
            "object_fit": null,
            "object_position": null,
            "order": null,
            "overflow": null,
            "overflow_x": null,
            "overflow_y": null,
            "padding": null,
            "right": null,
            "top": null,
            "visibility": "hidden",
            "width": null
          }
        },
        "1feaa9e5e7114a5fac0de58182b2002d": {
          "model_module": "@jupyter-widgets/base",
          "model_name": "LayoutModel",
          "model_module_version": "1.2.0",
          "state": {
            "_model_module": "@jupyter-widgets/base",
            "_model_module_version": "1.2.0",
            "_model_name": "LayoutModel",
            "_view_count": null,
            "_view_module": "@jupyter-widgets/base",
            "_view_module_version": "1.2.0",
            "_view_name": "LayoutView",
            "align_content": null,
            "align_items": null,
            "align_self": null,
            "border": null,
            "bottom": null,
            "display": null,
            "flex": null,
            "flex_flow": null,
            "grid_area": null,
            "grid_auto_columns": null,
            "grid_auto_flow": null,
            "grid_auto_rows": null,
            "grid_column": null,
            "grid_gap": null,
            "grid_row": null,
            "grid_template_areas": null,
            "grid_template_columns": null,
            "grid_template_rows": null,
            "height": null,
            "justify_content": null,
            "justify_items": null,
            "left": null,
            "margin": null,
            "max_height": null,
            "max_width": null,
            "min_height": null,
            "min_width": null,
            "object_fit": null,
            "object_position": null,
            "order": null,
            "overflow": null,
            "overflow_x": null,
            "overflow_y": null,
            "padding": null,
            "right": null,
            "top": null,
            "visibility": null,
            "width": null
          }
        },
        "2b23554c791343ac8de1d07ce10be934": {
          "model_module": "@jupyter-widgets/controls",
          "model_name": "DescriptionStyleModel",
          "model_module_version": "1.5.0",
          "state": {
            "_model_module": "@jupyter-widgets/controls",
            "_model_module_version": "1.5.0",
            "_model_name": "DescriptionStyleModel",
            "_view_count": null,
            "_view_module": "@jupyter-widgets/base",
            "_view_module_version": "1.2.0",
            "_view_name": "StyleView",
            "description_width": ""
          }
        },
        "a25121b89493434f95193c8b11ee0ec9": {
          "model_module": "@jupyter-widgets/base",
          "model_name": "LayoutModel",
          "model_module_version": "1.2.0",
          "state": {
            "_model_module": "@jupyter-widgets/base",
            "_model_module_version": "1.2.0",
            "_model_name": "LayoutModel",
            "_view_count": null,
            "_view_module": "@jupyter-widgets/base",
            "_view_module_version": "1.2.0",
            "_view_name": "LayoutView",
            "align_content": null,
            "align_items": null,
            "align_self": null,
            "border": null,
            "bottom": null,
            "display": null,
            "flex": null,
            "flex_flow": null,
            "grid_area": null,
            "grid_auto_columns": null,
            "grid_auto_flow": null,
            "grid_auto_rows": null,
            "grid_column": null,
            "grid_gap": null,
            "grid_row": null,
            "grid_template_areas": null,
            "grid_template_columns": null,
            "grid_template_rows": null,
            "height": null,
            "justify_content": null,
            "justify_items": null,
            "left": null,
            "margin": null,
            "max_height": null,
            "max_width": null,
            "min_height": null,
            "min_width": null,
            "object_fit": null,
            "object_position": null,
            "order": null,
            "overflow": null,
            "overflow_x": null,
            "overflow_y": null,
            "padding": null,
            "right": null,
            "top": null,
            "visibility": null,
            "width": null
          }
        },
        "66e651574d9740fe98467efd0d5a4e7e": {
          "model_module": "@jupyter-widgets/controls",
          "model_name": "ProgressStyleModel",
          "model_module_version": "1.5.0",
          "state": {
            "_model_module": "@jupyter-widgets/controls",
            "_model_module_version": "1.5.0",
            "_model_name": "ProgressStyleModel",
            "_view_count": null,
            "_view_module": "@jupyter-widgets/base",
            "_view_module_version": "1.2.0",
            "_view_name": "StyleView",
            "bar_color": null,
            "description_width": ""
          }
        },
        "ed7b1e84cac14fd48bbd577a90ca8a79": {
          "model_module": "@jupyter-widgets/base",
          "model_name": "LayoutModel",
          "model_module_version": "1.2.0",
          "state": {
            "_model_module": "@jupyter-widgets/base",
            "_model_module_version": "1.2.0",
            "_model_name": "LayoutModel",
            "_view_count": null,
            "_view_module": "@jupyter-widgets/base",
            "_view_module_version": "1.2.0",
            "_view_name": "LayoutView",
            "align_content": null,
            "align_items": null,
            "align_self": null,
            "border": null,
            "bottom": null,
            "display": null,
            "flex": null,
            "flex_flow": null,
            "grid_area": null,
            "grid_auto_columns": null,
            "grid_auto_flow": null,
            "grid_auto_rows": null,
            "grid_column": null,
            "grid_gap": null,
            "grid_row": null,
            "grid_template_areas": null,
            "grid_template_columns": null,
            "grid_template_rows": null,
            "height": null,
            "justify_content": null,
            "justify_items": null,
            "left": null,
            "margin": null,
            "max_height": null,
            "max_width": null,
            "min_height": null,
            "min_width": null,
            "object_fit": null,
            "object_position": null,
            "order": null,
            "overflow": null,
            "overflow_x": null,
            "overflow_y": null,
            "padding": null,
            "right": null,
            "top": null,
            "visibility": null,
            "width": null
          }
        },
        "bd6906a4c65d41f3843a4d8866d6ab2b": {
          "model_module": "@jupyter-widgets/controls",
          "model_name": "DescriptionStyleModel",
          "model_module_version": "1.5.0",
          "state": {
            "_model_module": "@jupyter-widgets/controls",
            "_model_module_version": "1.5.0",
            "_model_name": "DescriptionStyleModel",
            "_view_count": null,
            "_view_module": "@jupyter-widgets/base",
            "_view_module_version": "1.2.0",
            "_view_name": "StyleView",
            "description_width": ""
          }
        },
        "c54973261a4e45e0a4d5bc8a788b1b38": {
          "model_module": "@jupyter-widgets/controls",
          "model_name": "HBoxModel",
          "model_module_version": "1.5.0",
          "state": {
            "_dom_classes": [],
            "_model_module": "@jupyter-widgets/controls",
            "_model_module_version": "1.5.0",
            "_model_name": "HBoxModel",
            "_view_count": null,
            "_view_module": "@jupyter-widgets/controls",
            "_view_module_version": "1.5.0",
            "_view_name": "HBoxView",
            "box_style": "",
            "children": [
              "IPY_MODEL_b796f36aefc648c18053dc601722917d",
              "IPY_MODEL_b390dbfab92341db873a3ff9b9f2a2c2",
              "IPY_MODEL_ed4b0cee2aed4caeaa5e8d35ad3b094a"
            ],
            "layout": "IPY_MODEL_e83e7f71fe424b9fbec014c273a5e846"
          }
        },
        "b796f36aefc648c18053dc601722917d": {
          "model_module": "@jupyter-widgets/controls",
          "model_name": "HTMLModel",
          "model_module_version": "1.5.0",
          "state": {
            "_dom_classes": [],
            "_model_module": "@jupyter-widgets/controls",
            "_model_module_version": "1.5.0",
            "_model_name": "HTMLModel",
            "_view_count": null,
            "_view_module": "@jupyter-widgets/controls",
            "_view_module_version": "1.5.0",
            "_view_name": "HTMLView",
            "description": "",
            "description_tooltip": null,
            "layout": "IPY_MODEL_d23e1427a8e447309d44320080aaed8e",
            "placeholder": "​",
            "style": "IPY_MODEL_dc44f48753cb4b378c7b0f2311964b6d",
            "value": "Generating train split: 100%"
          }
        },
        "b390dbfab92341db873a3ff9b9f2a2c2": {
          "model_module": "@jupyter-widgets/controls",
          "model_name": "FloatProgressModel",
          "model_module_version": "1.5.0",
          "state": {
            "_dom_classes": [],
            "_model_module": "@jupyter-widgets/controls",
            "_model_module_version": "1.5.0",
            "_model_name": "FloatProgressModel",
            "_view_count": null,
            "_view_module": "@jupyter-widgets/controls",
            "_view_module_version": "1.5.0",
            "_view_name": "ProgressView",
            "bar_style": "",
            "description": "",
            "description_tooltip": null,
            "layout": "IPY_MODEL_afb671d2a6d94718865f51ff6ee574f5",
            "max": 20000,
            "min": 0,
            "orientation": "horizontal",
            "style": "IPY_MODEL_7fabb9b1fe524bb9900ac8a30d271b20",
            "value": 20000
          }
        },
        "ed4b0cee2aed4caeaa5e8d35ad3b094a": {
          "model_module": "@jupyter-widgets/controls",
          "model_name": "HTMLModel",
          "model_module_version": "1.5.0",
          "state": {
            "_dom_classes": [],
            "_model_module": "@jupyter-widgets/controls",
            "_model_module_version": "1.5.0",
            "_model_name": "HTMLModel",
            "_view_count": null,
            "_view_module": "@jupyter-widgets/controls",
            "_view_module_version": "1.5.0",
            "_view_name": "HTMLView",
            "description": "",
            "description_tooltip": null,
            "layout": "IPY_MODEL_8593197a46ed45b7b6e41b963b10a4ed",
            "placeholder": "​",
            "style": "IPY_MODEL_4492f5b714ff451db323ec6680520ec0",
            "value": " 20000/20000 [00:02&lt;00:00, 7090.99 examples/s]"
          }
        },
        "e83e7f71fe424b9fbec014c273a5e846": {
          "model_module": "@jupyter-widgets/base",
          "model_name": "LayoutModel",
          "model_module_version": "1.2.0",
          "state": {
            "_model_module": "@jupyter-widgets/base",
            "_model_module_version": "1.2.0",
            "_model_name": "LayoutModel",
            "_view_count": null,
            "_view_module": "@jupyter-widgets/base",
            "_view_module_version": "1.2.0",
            "_view_name": "LayoutView",
            "align_content": null,
            "align_items": null,
            "align_self": null,
            "border": null,
            "bottom": null,
            "display": null,
            "flex": null,
            "flex_flow": null,
            "grid_area": null,
            "grid_auto_columns": null,
            "grid_auto_flow": null,
            "grid_auto_rows": null,
            "grid_column": null,
            "grid_gap": null,
            "grid_row": null,
            "grid_template_areas": null,
            "grid_template_columns": null,
            "grid_template_rows": null,
            "height": null,
            "justify_content": null,
            "justify_items": null,
            "left": null,
            "margin": null,
            "max_height": null,
            "max_width": null,
            "min_height": null,
            "min_width": null,
            "object_fit": null,
            "object_position": null,
            "order": null,
            "overflow": null,
            "overflow_x": null,
            "overflow_y": null,
            "padding": null,
            "right": null,
            "top": null,
            "visibility": "hidden",
            "width": null
          }
        },
        "d23e1427a8e447309d44320080aaed8e": {
          "model_module": "@jupyter-widgets/base",
          "model_name": "LayoutModel",
          "model_module_version": "1.2.0",
          "state": {
            "_model_module": "@jupyter-widgets/base",
            "_model_module_version": "1.2.0",
            "_model_name": "LayoutModel",
            "_view_count": null,
            "_view_module": "@jupyter-widgets/base",
            "_view_module_version": "1.2.0",
            "_view_name": "LayoutView",
            "align_content": null,
            "align_items": null,
            "align_self": null,
            "border": null,
            "bottom": null,
            "display": null,
            "flex": null,
            "flex_flow": null,
            "grid_area": null,
            "grid_auto_columns": null,
            "grid_auto_flow": null,
            "grid_auto_rows": null,
            "grid_column": null,
            "grid_gap": null,
            "grid_row": null,
            "grid_template_areas": null,
            "grid_template_columns": null,
            "grid_template_rows": null,
            "height": null,
            "justify_content": null,
            "justify_items": null,
            "left": null,
            "margin": null,
            "max_height": null,
            "max_width": null,
            "min_height": null,
            "min_width": null,
            "object_fit": null,
            "object_position": null,
            "order": null,
            "overflow": null,
            "overflow_x": null,
            "overflow_y": null,
            "padding": null,
            "right": null,
            "top": null,
            "visibility": null,
            "width": null
          }
        },
        "dc44f48753cb4b378c7b0f2311964b6d": {
          "model_module": "@jupyter-widgets/controls",
          "model_name": "DescriptionStyleModel",
          "model_module_version": "1.5.0",
          "state": {
            "_model_module": "@jupyter-widgets/controls",
            "_model_module_version": "1.5.0",
            "_model_name": "DescriptionStyleModel",
            "_view_count": null,
            "_view_module": "@jupyter-widgets/base",
            "_view_module_version": "1.2.0",
            "_view_name": "StyleView",
            "description_width": ""
          }
        },
        "afb671d2a6d94718865f51ff6ee574f5": {
          "model_module": "@jupyter-widgets/base",
          "model_name": "LayoutModel",
          "model_module_version": "1.2.0",
          "state": {
            "_model_module": "@jupyter-widgets/base",
            "_model_module_version": "1.2.0",
            "_model_name": "LayoutModel",
            "_view_count": null,
            "_view_module": "@jupyter-widgets/base",
            "_view_module_version": "1.2.0",
            "_view_name": "LayoutView",
            "align_content": null,
            "align_items": null,
            "align_self": null,
            "border": null,
            "bottom": null,
            "display": null,
            "flex": null,
            "flex_flow": null,
            "grid_area": null,
            "grid_auto_columns": null,
            "grid_auto_flow": null,
            "grid_auto_rows": null,
            "grid_column": null,
            "grid_gap": null,
            "grid_row": null,
            "grid_template_areas": null,
            "grid_template_columns": null,
            "grid_template_rows": null,
            "height": null,
            "justify_content": null,
            "justify_items": null,
            "left": null,
            "margin": null,
            "max_height": null,
            "max_width": null,
            "min_height": null,
            "min_width": null,
            "object_fit": null,
            "object_position": null,
            "order": null,
            "overflow": null,
            "overflow_x": null,
            "overflow_y": null,
            "padding": null,
            "right": null,
            "top": null,
            "visibility": null,
            "width": null
          }
        },
        "7fabb9b1fe524bb9900ac8a30d271b20": {
          "model_module": "@jupyter-widgets/controls",
          "model_name": "ProgressStyleModel",
          "model_module_version": "1.5.0",
          "state": {
            "_model_module": "@jupyter-widgets/controls",
            "_model_module_version": "1.5.0",
            "_model_name": "ProgressStyleModel",
            "_view_count": null,
            "_view_module": "@jupyter-widgets/base",
            "_view_module_version": "1.2.0",
            "_view_name": "StyleView",
            "bar_color": null,
            "description_width": ""
          }
        },
        "8593197a46ed45b7b6e41b963b10a4ed": {
          "model_module": "@jupyter-widgets/base",
          "model_name": "LayoutModel",
          "model_module_version": "1.2.0",
          "state": {
            "_model_module": "@jupyter-widgets/base",
            "_model_module_version": "1.2.0",
            "_model_name": "LayoutModel",
            "_view_count": null,
            "_view_module": "@jupyter-widgets/base",
            "_view_module_version": "1.2.0",
            "_view_name": "LayoutView",
            "align_content": null,
            "align_items": null,
            "align_self": null,
            "border": null,
            "bottom": null,
            "display": null,
            "flex": null,
            "flex_flow": null,
            "grid_area": null,
            "grid_auto_columns": null,
            "grid_auto_flow": null,
            "grid_auto_rows": null,
            "grid_column": null,
            "grid_gap": null,
            "grid_row": null,
            "grid_template_areas": null,
            "grid_template_columns": null,
            "grid_template_rows": null,
            "height": null,
            "justify_content": null,
            "justify_items": null,
            "left": null,
            "margin": null,
            "max_height": null,
            "max_width": null,
            "min_height": null,
            "min_width": null,
            "object_fit": null,
            "object_position": null,
            "order": null,
            "overflow": null,
            "overflow_x": null,
            "overflow_y": null,
            "padding": null,
            "right": null,
            "top": null,
            "visibility": null,
            "width": null
          }
        },
        "4492f5b714ff451db323ec6680520ec0": {
          "model_module": "@jupyter-widgets/controls",
          "model_name": "DescriptionStyleModel",
          "model_module_version": "1.5.0",
          "state": {
            "_model_module": "@jupyter-widgets/controls",
            "_model_module_version": "1.5.0",
            "_model_name": "DescriptionStyleModel",
            "_view_count": null,
            "_view_module": "@jupyter-widgets/base",
            "_view_module_version": "1.2.0",
            "_view_name": "StyleView",
            "description_width": ""
          }
        },
        "a74c030b061246fd8c7e2c712c2a744c": {
          "model_module": "@jupyter-widgets/controls",
          "model_name": "HBoxModel",
          "model_module_version": "1.5.0",
          "state": {
            "_dom_classes": [],
            "_model_module": "@jupyter-widgets/controls",
            "_model_module_version": "1.5.0",
            "_model_name": "HBoxModel",
            "_view_count": null,
            "_view_module": "@jupyter-widgets/controls",
            "_view_module_version": "1.5.0",
            "_view_name": "HBoxView",
            "box_style": "",
            "children": [
              "IPY_MODEL_86770b3eee094a81986925b134cd3bc8",
              "IPY_MODEL_766a23fb41cf43acb1721bc848efd7e2",
              "IPY_MODEL_98de1e6223704ec5a3b93eaafc7ed41d"
            ],
            "layout": "IPY_MODEL_3264324ab04e4123b21b4f806955f1e3"
          }
        },
        "86770b3eee094a81986925b134cd3bc8": {
          "model_module": "@jupyter-widgets/controls",
          "model_name": "HTMLModel",
          "model_module_version": "1.5.0",
          "state": {
            "_dom_classes": [],
            "_model_module": "@jupyter-widgets/controls",
            "_model_module_version": "1.5.0",
            "_model_name": "HTMLModel",
            "_view_count": null,
            "_view_module": "@jupyter-widgets/controls",
            "_view_module_version": "1.5.0",
            "_view_name": "HTMLView",
            "description": "",
            "description_tooltip": null,
            "layout": "IPY_MODEL_21cc45108512442e9c57937beb153397",
            "placeholder": "​",
            "style": "IPY_MODEL_76d061e2320e472181582cc859e5d6f5",
            "value": "100%"
          }
        },
        "766a23fb41cf43acb1721bc848efd7e2": {
          "model_module": "@jupyter-widgets/controls",
          "model_name": "FloatProgressModel",
          "model_module_version": "1.5.0",
          "state": {
            "_dom_classes": [],
            "_model_module": "@jupyter-widgets/controls",
            "_model_module_version": "1.5.0",
            "_model_name": "FloatProgressModel",
            "_view_count": null,
            "_view_module": "@jupyter-widgets/controls",
            "_view_module_version": "1.5.0",
            "_view_name": "ProgressView",
            "bar_style": "success",
            "description": "",
            "description_tooltip": null,
            "layout": "IPY_MODEL_b587257a7b994f5c9ae55a5307cd25ff",
            "max": 3,
            "min": 0,
            "orientation": "horizontal",
            "style": "IPY_MODEL_d6f97989c6644b78841cab198fa47b0d",
            "value": 3
          }
        },
        "98de1e6223704ec5a3b93eaafc7ed41d": {
          "model_module": "@jupyter-widgets/controls",
          "model_name": "HTMLModel",
          "model_module_version": "1.5.0",
          "state": {
            "_dom_classes": [],
            "_model_module": "@jupyter-widgets/controls",
            "_model_module_version": "1.5.0",
            "_model_name": "HTMLModel",
            "_view_count": null,
            "_view_module": "@jupyter-widgets/controls",
            "_view_module_version": "1.5.0",
            "_view_name": "HTMLView",
            "description": "",
            "description_tooltip": null,
            "layout": "IPY_MODEL_26224b5a9c204d81b0aa55aad49666d5",
            "placeholder": "​",
            "style": "IPY_MODEL_36083b7a59184da99864bb30bc771823",
            "value": " 3/3 [00:00&lt;00:00, 107.75it/s]"
          }
        },
        "3264324ab04e4123b21b4f806955f1e3": {
          "model_module": "@jupyter-widgets/base",
          "model_name": "LayoutModel",
          "model_module_version": "1.2.0",
          "state": {
            "_model_module": "@jupyter-widgets/base",
            "_model_module_version": "1.2.0",
            "_model_name": "LayoutModel",
            "_view_count": null,
            "_view_module": "@jupyter-widgets/base",
            "_view_module_version": "1.2.0",
            "_view_name": "LayoutView",
            "align_content": null,
            "align_items": null,
            "align_self": null,
            "border": null,
            "bottom": null,
            "display": null,
            "flex": null,
            "flex_flow": null,
            "grid_area": null,
            "grid_auto_columns": null,
            "grid_auto_flow": null,
            "grid_auto_rows": null,
            "grid_column": null,
            "grid_gap": null,
            "grid_row": null,
            "grid_template_areas": null,
            "grid_template_columns": null,
            "grid_template_rows": null,
            "height": null,
            "justify_content": null,
            "justify_items": null,
            "left": null,
            "margin": null,
            "max_height": null,
            "max_width": null,
            "min_height": null,
            "min_width": null,
            "object_fit": null,
            "object_position": null,
            "order": null,
            "overflow": null,
            "overflow_x": null,
            "overflow_y": null,
            "padding": null,
            "right": null,
            "top": null,
            "visibility": null,
            "width": null
          }
        },
        "21cc45108512442e9c57937beb153397": {
          "model_module": "@jupyter-widgets/base",
          "model_name": "LayoutModel",
          "model_module_version": "1.2.0",
          "state": {
            "_model_module": "@jupyter-widgets/base",
            "_model_module_version": "1.2.0",
            "_model_name": "LayoutModel",
            "_view_count": null,
            "_view_module": "@jupyter-widgets/base",
            "_view_module_version": "1.2.0",
            "_view_name": "LayoutView",
            "align_content": null,
            "align_items": null,
            "align_self": null,
            "border": null,
            "bottom": null,
            "display": null,
            "flex": null,
            "flex_flow": null,
            "grid_area": null,
            "grid_auto_columns": null,
            "grid_auto_flow": null,
            "grid_auto_rows": null,
            "grid_column": null,
            "grid_gap": null,
            "grid_row": null,
            "grid_template_areas": null,
            "grid_template_columns": null,
            "grid_template_rows": null,
            "height": null,
            "justify_content": null,
            "justify_items": null,
            "left": null,
            "margin": null,
            "max_height": null,
            "max_width": null,
            "min_height": null,
            "min_width": null,
            "object_fit": null,
            "object_position": null,
            "order": null,
            "overflow": null,
            "overflow_x": null,
            "overflow_y": null,
            "padding": null,
            "right": null,
            "top": null,
            "visibility": null,
            "width": null
          }
        },
        "76d061e2320e472181582cc859e5d6f5": {
          "model_module": "@jupyter-widgets/controls",
          "model_name": "DescriptionStyleModel",
          "model_module_version": "1.5.0",
          "state": {
            "_model_module": "@jupyter-widgets/controls",
            "_model_module_version": "1.5.0",
            "_model_name": "DescriptionStyleModel",
            "_view_count": null,
            "_view_module": "@jupyter-widgets/base",
            "_view_module_version": "1.2.0",
            "_view_name": "StyleView",
            "description_width": ""
          }
        },
        "b587257a7b994f5c9ae55a5307cd25ff": {
          "model_module": "@jupyter-widgets/base",
          "model_name": "LayoutModel",
          "model_module_version": "1.2.0",
          "state": {
            "_model_module": "@jupyter-widgets/base",
            "_model_module_version": "1.2.0",
            "_model_name": "LayoutModel",
            "_view_count": null,
            "_view_module": "@jupyter-widgets/base",
            "_view_module_version": "1.2.0",
            "_view_name": "LayoutView",
            "align_content": null,
            "align_items": null,
            "align_self": null,
            "border": null,
            "bottom": null,
            "display": null,
            "flex": null,
            "flex_flow": null,
            "grid_area": null,
            "grid_auto_columns": null,
            "grid_auto_flow": null,
            "grid_auto_rows": null,
            "grid_column": null,
            "grid_gap": null,
            "grid_row": null,
            "grid_template_areas": null,
            "grid_template_columns": null,
            "grid_template_rows": null,
            "height": null,
            "justify_content": null,
            "justify_items": null,
            "left": null,
            "margin": null,
            "max_height": null,
            "max_width": null,
            "min_height": null,
            "min_width": null,
            "object_fit": null,
            "object_position": null,
            "order": null,
            "overflow": null,
            "overflow_x": null,
            "overflow_y": null,
            "padding": null,
            "right": null,
            "top": null,
            "visibility": null,
            "width": null
          }
        },
        "d6f97989c6644b78841cab198fa47b0d": {
          "model_module": "@jupyter-widgets/controls",
          "model_name": "ProgressStyleModel",
          "model_module_version": "1.5.0",
          "state": {
            "_model_module": "@jupyter-widgets/controls",
            "_model_module_version": "1.5.0",
            "_model_name": "ProgressStyleModel",
            "_view_count": null,
            "_view_module": "@jupyter-widgets/base",
            "_view_module_version": "1.2.0",
            "_view_name": "StyleView",
            "bar_color": null,
            "description_width": ""
          }
        },
        "26224b5a9c204d81b0aa55aad49666d5": {
          "model_module": "@jupyter-widgets/base",
          "model_name": "LayoutModel",
          "model_module_version": "1.2.0",
          "state": {
            "_model_module": "@jupyter-widgets/base",
            "_model_module_version": "1.2.0",
            "_model_name": "LayoutModel",
            "_view_count": null,
            "_view_module": "@jupyter-widgets/base",
            "_view_module_version": "1.2.0",
            "_view_name": "LayoutView",
            "align_content": null,
            "align_items": null,
            "align_self": null,
            "border": null,
            "bottom": null,
            "display": null,
            "flex": null,
            "flex_flow": null,
            "grid_area": null,
            "grid_auto_columns": null,
            "grid_auto_flow": null,
            "grid_auto_rows": null,
            "grid_column": null,
            "grid_gap": null,
            "grid_row": null,
            "grid_template_areas": null,
            "grid_template_columns": null,
            "grid_template_rows": null,
            "height": null,
            "justify_content": null,
            "justify_items": null,
            "left": null,
            "margin": null,
            "max_height": null,
            "max_width": null,
            "min_height": null,
            "min_width": null,
            "object_fit": null,
            "object_position": null,
            "order": null,
            "overflow": null,
            "overflow_x": null,
            "overflow_y": null,
            "padding": null,
            "right": null,
            "top": null,
            "visibility": null,
            "width": null
          }
        },
        "36083b7a59184da99864bb30bc771823": {
          "model_module": "@jupyter-widgets/controls",
          "model_name": "DescriptionStyleModel",
          "model_module_version": "1.5.0",
          "state": {
            "_model_module": "@jupyter-widgets/controls",
            "_model_module_version": "1.5.0",
            "_model_name": "DescriptionStyleModel",
            "_view_count": null,
            "_view_module": "@jupyter-widgets/base",
            "_view_module_version": "1.2.0",
            "_view_name": "StyleView",
            "description_width": ""
          }
        }
      }
    }
  },
  "nbformat": 4,
  "nbformat_minor": 5
}