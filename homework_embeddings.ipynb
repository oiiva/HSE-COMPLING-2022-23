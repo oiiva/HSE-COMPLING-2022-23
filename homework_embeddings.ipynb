{
  "cells": [
    {
      "cell_type": "markdown",
      "metadata": {
        "id": "9c422aa0"
      },
      "source": [
        "# Задание 1 (3 балла)"
      ],
      "id": "9c422aa0"
    },
    {
      "cell_type": "markdown",
      "metadata": {
        "id": "e4a72790"
      },
      "source": [
        "Обучите word2vec модели с негативным семплированием (cbow и skip-gram) с помощью tensorflow аналогично тому, как это было сделано в семинаре. Вам нужно изменить следующие пункты: \n",
        "1) добавьте лемматизацию в предобработку (любым способом)  \n",
        "2) измените размер окна на 6 для cbow и 12 для skip gram (обратите внимание, что размер окна = #слов слева + #слов справа, в gen_batches в семинаре window используется не так и вам нужно это  изменить!)  \n",
        "\n",
        "Выберете несколько не похожих по смыслу слов, и протестируйте полученные эмбединги (найдите ближайшие слова и оцените правильность, как в семинаре)"
      ],
      "id": "e4a72790"
    },
    {
      "cell_type": "code",
      "execution_count": 1,
      "metadata": {
        "colab": {
          "base_uri": "https://localhost:8080/"
        },
        "id": "cde5fd96",
        "outputId": "56b1761b-a6a2-4c55-d856-d571c5671c88"
      },
      "outputs": [
        {
          "output_type": "stream",
          "name": "stdout",
          "text": [
            "Looking in indexes: https://pypi.org/simple, https://us-python.pkg.dev/colab-wheels/public/simple/\n",
            "Requirement already satisfied: matplotlib in /usr/local/lib/python3.10/dist-packages (3.7.1)\n",
            "Requirement already satisfied: pandas in /usr/local/lib/python3.10/dist-packages (1.5.3)\n",
            "Requirement already satisfied: nltk in /usr/local/lib/python3.10/dist-packages (3.8.1)\n",
            "Requirement already satisfied: contourpy>=1.0.1 in /usr/local/lib/python3.10/dist-packages (from matplotlib) (1.0.7)\n",
            "Requirement already satisfied: cycler>=0.10 in /usr/local/lib/python3.10/dist-packages (from matplotlib) (0.11.0)\n",
            "Requirement already satisfied: fonttools>=4.22.0 in /usr/local/lib/python3.10/dist-packages (from matplotlib) (4.39.3)\n",
            "Requirement already satisfied: kiwisolver>=1.0.1 in /usr/local/lib/python3.10/dist-packages (from matplotlib) (1.4.4)\n",
            "Requirement already satisfied: numpy>=1.20 in /usr/local/lib/python3.10/dist-packages (from matplotlib) (1.22.4)\n",
            "Requirement already satisfied: packaging>=20.0 in /usr/local/lib/python3.10/dist-packages (from matplotlib) (23.1)\n",
            "Requirement already satisfied: pillow>=6.2.0 in /usr/local/lib/python3.10/dist-packages (from matplotlib) (8.4.0)\n",
            "Requirement already satisfied: pyparsing>=2.3.1 in /usr/local/lib/python3.10/dist-packages (from matplotlib) (3.0.9)\n",
            "Requirement already satisfied: python-dateutil>=2.7 in /usr/local/lib/python3.10/dist-packages (from matplotlib) (2.8.2)\n",
            "Requirement already satisfied: pytz>=2020.1 in /usr/local/lib/python3.10/dist-packages (from pandas) (2022.7.1)\n",
            "Requirement already satisfied: click in /usr/local/lib/python3.10/dist-packages (from nltk) (8.1.3)\n",
            "Requirement already satisfied: joblib in /usr/local/lib/python3.10/dist-packages (from nltk) (1.2.0)\n",
            "Requirement already satisfied: regex>=2021.8.3 in /usr/local/lib/python3.10/dist-packages (from nltk) (2022.10.31)\n",
            "Requirement already satisfied: tqdm in /usr/local/lib/python3.10/dist-packages (from nltk) (4.65.0)\n",
            "Requirement already satisfied: six>=1.5 in /usr/local/lib/python3.10/dist-packages (from python-dateutil>=2.7->matplotlib) (1.16.0)\n"
          ]
        }
      ],
      "source": [
        "pip install matplotlib pandas nltk"
      ],
      "id": "cde5fd96"
    },
    {
      "cell_type": "code",
      "execution_count": 2,
      "metadata": {
        "id": "4f71d7cb"
      },
      "outputs": [],
      "source": [
        "import logging\n",
        "import os\n",
        "import shutil\n",
        "from google.colab import drive\n",
        "\n",
        "import tensorflow as tf\n",
        "import numpy as np\n",
        "import pandas as pd\n",
        "from string import punctuation\n",
        "from sklearn.model_selection import train_test_split\n",
        "from collections import Counter\n",
        "import matplotlib.pyplot as plt\n",
        "from sklearn.decomposition import TruncatedSVD\n",
        "from sklearn.feature_extraction.text import CountVectorizer\n",
        "from sklearn.metrics.pairwise import cosine_distances\n",
        "\n",
        "import gensim\n",
        "\n",
        "from IPython.display import Image\n",
        "from IPython.core.display import HTML \n",
        "%matplotlib inline\n",
        "\n",
        "from gensim.models import Word2Vec"
      ],
      "id": "4f71d7cb"
    },
    {
      "cell_type": "code",
      "source": [
        "from nltk.tokenize import word_tokenize\n"
      ],
      "metadata": {
        "id": "p9CK5NToztWj"
      },
      "id": "p9CK5NToztWj",
      "execution_count": 4,
      "outputs": []
    },
    {
      "cell_type": "code",
      "execution_count": 5,
      "metadata": {
        "colab": {
          "base_uri": "https://localhost:8080/"
        },
        "id": "gc3yMDJtLS4R",
        "outputId": "f55f4123-aaa0-42de-c4ff-0a419f01c4a7"
      },
      "outputs": [
        {
          "output_type": "stream",
          "name": "stderr",
          "text": [
            "INFO:__main__:Инициализировали логгер\n",
            "INFO:__main__:Подключили диск\n"
          ]
        },
        {
          "output_type": "stream",
          "name": "stdout",
          "text": [
            "Mounted at /content/drive\n"
          ]
        },
        {
          "output_type": "stream",
          "name": "stderr",
          "text": [
            "INFO:__main__:Содержимое директории /content/drive/MyDrive/Colab Notebooks: ['Copy of Fine-Tune-BERT-for-Text-Classification-with-TensorFlow.ipynb', 'lenta_sample.csv', 'Копия блокнота \"Part_01_ML_intro.ipynb\"', 'homework_RNN.ipynb\"', 'homework_transformers.ipynb\"', 'Sircumstant_classifyer.ipynb', 'wiki_data.txt', 'Sircumstant_classifyer v.1.0.ipynb\"', 'Argument_adjunct_preprocessing.ipynb', 'Argument_adjunct_classifyer.ipynb', 'L_Argument_adjunct_classifyer.ipynb', 'labeled.csv', 'homework_embeddings.ipynb']\n"
          ]
        }
      ],
      "source": [
        "RANDOM_SEED = 42\n",
        "np.random.seed(RANDOM_SEED) \n",
        "\n",
        "logging.getLogger().setLevel(logging.INFO)\n",
        "logging.basicConfig(format='%(asctime)s : %(levelname)s : %(message)s', level=logging.INFO)\n",
        "logger = logging.getLogger(__name__)\n",
        "logger.info('Инициализировали логгер')\n",
        "\n",
        "ROOT_DIR = '/content/drive' \n",
        "drive.mount(ROOT_DIR)\n",
        "logger.info('Подключили диск')\n",
        "\n",
        "root_data_dir = os.path.join(ROOT_DIR, 'MyDrive', 'Colab Notebooks')\n",
        "if not os.path.exists(root_data_dir):\n",
        "  raise RuntimeError('Отсутствует директория с данными')\n",
        "else:\n",
        "  logger.info('Содержимое директории %s: %s', root_data_dir, os.listdir(root_data_dir))"
      ],
      "id": "gc3yMDJtLS4R"
    },
    {
      "cell_type": "code",
      "execution_count": 70,
      "metadata": {
        "id": "vKKONJFQ0531"
      },
      "outputs": [],
      "source": [
        "file = os.path.join(root_data_dir, 'wiki_data.txt')"
      ],
      "id": "vKKONJFQ0531"
    },
    {
      "cell_type": "code",
      "execution_count": 71,
      "metadata": {
        "id": "A5Hh8l3E05_W"
      },
      "outputs": [],
      "source": [
        "wiki = open(file).read().split('\\n')"
      ],
      "id": "A5Hh8l3E05_W"
    },
    {
      "cell_type": "code",
      "execution_count": 72,
      "metadata": {
        "colab": {
          "base_uri": "https://localhost:8080/"
        },
        "id": "l11u9XSf06CQ",
        "outputId": "a077671d-356d-4c93-edb0-a3c3503bb62a"
      },
      "outputs": [
        {
          "output_type": "execute_result",
          "data": {
            "text/plain": [
              "20003"
            ]
          },
          "metadata": {},
          "execution_count": 72
        }
      ],
      "source": [
        "len(wiki)"
      ],
      "id": "l11u9XSf06CQ"
    },
    {
      "cell_type": "code",
      "source": [
        "import nltk\n",
        "nltk.download('punkt')"
      ],
      "metadata": {
        "colab": {
          "base_uri": "https://localhost:8080/"
        },
        "id": "NkeDSCPt0Cth",
        "outputId": "7b2b0278-95a6-4fe1-ac22-12375371d95f"
      },
      "id": "NkeDSCPt0Cth",
      "execution_count": 73,
      "outputs": [
        {
          "output_type": "stream",
          "name": "stderr",
          "text": [
            "[nltk_data] Downloading package punkt to /root/nltk_data...\n",
            "[nltk_data]   Package punkt is already up-to-date!\n"
          ]
        },
        {
          "output_type": "execute_result",
          "data": {
            "text/plain": [
              "True"
            ]
          },
          "metadata": {},
          "execution_count": 73
        }
      ]
    },
    {
      "cell_type": "code",
      "source": [
        "!pip install pymorphy2"
      ],
      "metadata": {
        "colab": {
          "base_uri": "https://localhost:8080/"
        },
        "id": "1HwnLKgU_vlJ",
        "outputId": "b0d93713-2bca-406a-94ed-598be3edb5e2"
      },
      "id": "1HwnLKgU_vlJ",
      "execution_count": 75,
      "outputs": [
        {
          "output_type": "stream",
          "name": "stdout",
          "text": [
            "Looking in indexes: https://pypi.org/simple, https://us-python.pkg.dev/colab-wheels/public/simple/\n",
            "Collecting pymorphy2\n",
            "  Downloading pymorphy2-0.9.1-py3-none-any.whl (55 kB)\n",
            "\u001b[2K     \u001b[90m━━━━━━━━━━━━━━━━━━━━━━━━━━━━━━━━━━━━━━━━\u001b[0m \u001b[32m55.5/55.5 kB\u001b[0m \u001b[31m6.3 MB/s\u001b[0m eta \u001b[36m0:00:00\u001b[0m\n",
            "\u001b[?25hCollecting dawg-python>=0.7.1 (from pymorphy2)\n",
            "  Downloading DAWG_Python-0.7.2-py2.py3-none-any.whl (11 kB)\n",
            "Collecting pymorphy2-dicts-ru<3.0,>=2.4 (from pymorphy2)\n",
            "  Downloading pymorphy2_dicts_ru-2.4.417127.4579844-py2.py3-none-any.whl (8.2 MB)\n",
            "\u001b[2K     \u001b[90m━━━━━━━━━━━━━━━━━━━━━━━━━━━━━━━━━━━━━━━━\u001b[0m \u001b[32m8.2/8.2 MB\u001b[0m \u001b[31m120.6 MB/s\u001b[0m eta \u001b[36m0:00:00\u001b[0m\n",
            "\u001b[?25hCollecting docopt>=0.6 (from pymorphy2)\n",
            "  Downloading docopt-0.6.2.tar.gz (25 kB)\n",
            "  Preparing metadata (setup.py) ... \u001b[?25l\u001b[?25hdone\n",
            "Building wheels for collected packages: docopt\n",
            "  Building wheel for docopt (setup.py) ... \u001b[?25l\u001b[?25hdone\n",
            "  Created wheel for docopt: filename=docopt-0.6.2-py2.py3-none-any.whl size=13707 sha256=599d1189da1803ed28506b6ec5874461178efd4bac69ca429780b884809041ea\n",
            "  Stored in directory: /root/.cache/pip/wheels/fc/ab/d4/5da2067ac95b36618c629a5f93f809425700506f72c9732fac\n",
            "Successfully built docopt\n",
            "Installing collected packages: pymorphy2-dicts-ru, docopt, dawg-python, pymorphy2\n",
            "Successfully installed dawg-python-0.7.2 docopt-0.6.2 pymorphy2-0.9.1 pymorphy2-dicts-ru-2.4.417127.4579844\n"
          ]
        }
      ]
    },
    {
      "cell_type": "code",
      "source": [
        "import pymorphy2\n",
        "morph = pymorphy2.MorphAnalyzer()"
      ],
      "metadata": {
        "id": "WRXDgjoo0KXu",
        "colab": {
          "base_uri": "https://localhost:8080/"
        },
        "outputId": "ac3e52fc-25ad-43e6-c847-dd116b295790"
      },
      "id": "WRXDgjoo0KXu",
      "execution_count": 76,
      "outputs": [
        {
          "output_type": "stream",
          "name": "stderr",
          "text": [
            "INFO:pymorphy2.opencorpora_dict.wrapper:Loading dictionaries from /usr/local/lib/python3.10/dist-packages/pymorphy2_dicts_ru/data\n",
            "INFO:pymorphy2.opencorpora_dict.wrapper:format: 2.4, revision: 417127, updated: 2020-10-11T15:05:51.070345\n"
          ]
        }
      ]
    },
    {
      "cell_type": "code",
      "execution_count": 77,
      "metadata": {
        "id": "3IEXWDb16LK9"
      },
      "outputs": [],
      "source": [
        "import re\n",
        "def preprocess(text):\n",
        "    tokens = re.sub('#+', ' ', text.lower()).split()\n",
        "    tokens = [token.strip(punctuation) for token in tokens]\n",
        "    lemmas = list()\n",
        "    for word in tokens:\n",
        "        p = morph.parse(word)[0]\n",
        "        lemmas.append(p.normal_form)\n",
        "    return lemmas"
      ],
      "id": "3IEXWDb16LK9"
    },
    {
      "cell_type": "code",
      "source": [
        "from tqdm import tqdm"
      ],
      "metadata": {
        "id": "WOBssmfATDqx"
      },
      "id": "WOBssmfATDqx",
      "execution_count": 78,
      "outputs": []
    },
    {
      "cell_type": "code",
      "source": [
        "vocab = Counter()\n",
        "\n",
        "for text in tqdm(wiki):\n",
        "    vocab.update(preprocess(text))\n",
        "\n",
        "filtered_vocab = set()\n",
        "\n",
        "for word in vocab:\n",
        "    if vocab[word] > 30:\n",
        "        filtered_vocab.add(word)"
      ],
      "metadata": {
        "colab": {
          "base_uri": "https://localhost:8080/"
        },
        "id": "xMAWWe3PSMlC",
        "outputId": "6a67512f-c24a-458a-a2f1-820d257f0aa4"
      },
      "id": "xMAWWe3PSMlC",
      "execution_count": 79,
      "outputs": [
        {
          "output_type": "stream",
          "name": "stderr",
          "text": [
            "100%|██████████| 20003/20003 [15:53<00:00, 20.98it/s]\n"
          ]
        }
      ]
    },
    {
      "cell_type": "code",
      "source": [
        "word2id = { 'PAD':0}\n",
        "\n",
        "for word in filtered_vocab:\n",
        "    word2id[word] = len(word2id)"
      ],
      "metadata": {
        "id": "7UTUpieUUMnE"
      },
      "id": "7UTUpieUUMnE",
      "execution_count": 80,
      "outputs": []
    },
    {
      "cell_type": "code",
      "source": [
        "id2word = {i:word for word, i in word2id.items()}"
      ],
      "metadata": {
        "id": "iEk6BXBPUQ-p"
      },
      "id": "iEk6BXBPUQ-p",
      "execution_count": 81,
      "outputs": []
    },
    {
      "cell_type": "code",
      "source": [
        "sentences = []\n",
        "\n",
        "for text in wiki:\n",
        "    tokens = preprocess(text)\n",
        "    if not tokens:\n",
        "        continue\n",
        "    ids = [word2id[token] for token in tokens if token in word2id]\n",
        "    sentences.append(ids)"
      ],
      "metadata": {
        "id": "WhcckzMUUbQF"
      },
      "id": "WhcckzMUUbQF",
      "execution_count": 82,
      "outputs": []
    },
    {
      "cell_type": "code",
      "source": [
        "vocab_size = len(id2word)"
      ],
      "metadata": {
        "id": "W1efKvkKUs4q"
      },
      "id": "W1efKvkKUs4q",
      "execution_count": 83,
      "outputs": []
    },
    {
      "cell_type": "markdown",
      "metadata": {
        "id": "7sZJSSyvM7aD"
      },
      "source": [
        "# **Skip-gram**"
      ],
      "id": "7sZJSSyvM7aD"
    },
    {
      "cell_type": "code",
      "source": [
        "def gen_batches_sg(sentences, window, batch_size=500):\n",
        "    while True:\n",
        "        X_target = []\n",
        "        X_context = []\n",
        "        y = []\n",
        "\n",
        "        for sent in sentences:\n",
        "            for i in range(len(sent)-1):\n",
        "                word = sent[i]\n",
        "                context = sent[max(0, i-window//2):i] + sent[i+1:i+window//2]\n",
        "                for context_word in context:\n",
        "                    X_target.append(word)\n",
        "                    X_context.append(context_word)\n",
        "                    y.append(1)\n",
        "                    \n",
        "                    X_target.append(word)\n",
        "                    X_context.append(np.random.randint(vocab_size))\n",
        "                    y.append(0)\n",
        "                    \n",
        "                    if len(X_target) >= batch_size:\n",
        "                        X_target = np.array(X_target)\n",
        "                        X_context = np.array(X_context)\n",
        "                        y = np.array(y)\n",
        "                        yield ((X_target, X_context), y)\n",
        "                        X_target = []\n",
        "                        X_context = []\n",
        "                        y = []"
      ],
      "metadata": {
        "id": "E4m05i3lVd1E"
      },
      "id": "E4m05i3lVd1E",
      "execution_count": 84,
      "outputs": []
    },
    {
      "cell_type": "code",
      "source": [
        "inputs_target = tf.keras.layers.Input(shape=(1,))\n",
        "inputs_context = tf.keras.layers.Input(shape=(1,))\n",
        "\n",
        "\n",
        "embeddings_target = tf.keras.layers.Embedding(input_dim=len(word2id), output_dim=300)(inputs_target, )\n",
        "embeddings_context = tf.keras.layers.Embedding(input_dim=len(word2id), output_dim=300)(inputs_context, )\n",
        "\n",
        "target = tf.keras.layers.Flatten()(embeddings_target)\n",
        "context = tf.keras.layers.Flatten()(embeddings_context)\n",
        "\n",
        "dot = tf.keras.layers.Dot(1)([target, context])\n",
        "outputs = tf.keras.layers.Activation(activation='sigmoid')(dot)\n",
        "\n",
        "model = tf.keras.Model(inputs=[inputs_target, inputs_context], \n",
        "                       outputs=outputs)\n",
        "optimizer = tf.keras.optimizers.Adam(learning_rate=0.001)\n",
        "model.compile(optimizer=optimizer,\n",
        "              loss='binary_crossentropy',\n",
        "              metrics=['accuracy'])"
      ],
      "metadata": {
        "id": "IaYKMI9dV5ny"
      },
      "id": "IaYKMI9dV5ny",
      "execution_count": 85,
      "outputs": []
    },
    {
      "cell_type": "code",
      "source": [
        "model.fit(gen_batches_sg(sentences[:19000], window=12),\n",
        "          validation_data=gen_batches_sg(sentences[19000:],  window=12),\n",
        "          batch_size=500,\n",
        "          steps_per_epoch=3000,\n",
        "          validation_steps=30,\n",
        "         epochs=3)"
      ],
      "metadata": {
        "colab": {
          "base_uri": "https://localhost:8080/"
        },
        "id": "sJHdtIt4V9Nh",
        "outputId": "861cb146-37db-488f-8fcf-3479d4033674"
      },
      "id": "sJHdtIt4V9Nh",
      "execution_count": 86,
      "outputs": [
        {
          "output_type": "stream",
          "name": "stdout",
          "text": [
            "Epoch 1/3\n",
            "3000/3000 [==============================] - 164s 54ms/step - loss: 0.4985 - accuracy: 0.7598 - val_loss: 0.5154 - val_accuracy: 0.7506\n",
            "Epoch 2/3\n",
            "3000/3000 [==============================] - 164s 55ms/step - loss: 0.4424 - accuracy: 0.8012 - val_loss: 0.4928 - val_accuracy: 0.7863\n",
            "Epoch 3/3\n",
            "3000/3000 [==============================] - 171s 57ms/step - loss: 0.4429 - accuracy: 0.8042 - val_loss: 0.5697 - val_accuracy: 0.7532\n"
          ]
        },
        {
          "output_type": "execute_result",
          "data": {
            "text/plain": [
              "<keras.callbacks.History at 0x7f7ab3bde0b0>"
            ]
          },
          "metadata": {},
          "execution_count": 86
        }
      ]
    },
    {
      "cell_type": "code",
      "source": [
        "embeddings1 = model.layers[2].get_weights()[0]"
      ],
      "metadata": {
        "id": "t2cRjoEYWMBJ"
      },
      "id": "t2cRjoEYWMBJ",
      "execution_count": 87,
      "outputs": []
    },
    {
      "cell_type": "code",
      "source": [
        "def most_similar(word, embeddings):\n",
        "    similar = [id2word[i] for i in \n",
        "               cosine_distances(embeddings[word2id[word]].reshape(1, -1), embeddings).argsort()[0][:10]]\n",
        "    return similar"
      ],
      "metadata": {
        "id": "dJc8n4QPWPKL"
      },
      "id": "dJc8n4QPWPKL",
      "execution_count": 88,
      "outputs": []
    },
    {
      "cell_type": "code",
      "execution_count": 89,
      "metadata": {
        "id": "A-Qnznn-N6Sm",
        "colab": {
          "base_uri": "https://localhost:8080/"
        },
        "outputId": "aab16a80-a47f-4008-fb89-bfe4ae2d8228"
      },
      "outputs": [
        {
          "output_type": "execute_result",
          "data": {
            "text/plain": [
              "['город',\n",
              " 'около',\n",
              " 'южный',\n",
              " 'часть',\n",
              " 'находиться',\n",
              " 'западный',\n",
              " 'участок',\n",
              " 'порядок',\n",
              " 'км',\n",
              " 'центр']"
            ]
          },
          "metadata": {},
          "execution_count": 89
        }
      ],
      "source": [
        "most_similar('город', embeddings1)"
      ],
      "id": "A-Qnznn-N6Sm"
    },
    {
      "cell_type": "code",
      "execution_count": 90,
      "metadata": {
        "id": "psXP2SRVN43N",
        "colab": {
          "base_uri": "https://localhost:8080/"
        },
        "outputId": "4f6f04b7-061b-4956-92bc-f083f60b7323"
      },
      "outputs": [
        {
          "output_type": "execute_result",
          "data": {
            "text/plain": [
              "['профессор',\n",
              " 'г',\n",
              " 'кафедра',\n",
              " 'должность',\n",
              " 'окончить',\n",
              " 'факультет',\n",
              " 'заведовать',\n",
              " 'институт',\n",
              " 'год',\n",
              " 'курс']"
            ]
          },
          "metadata": {},
          "execution_count": 90
        }
      ],
      "source": [
        "most_similar('профессор', embeddings1)"
      ],
      "id": "psXP2SRVN43N"
    },
    {
      "cell_type": "code",
      "source": [
        "most_similar('компьютер', embeddings1)"
      ],
      "metadata": {
        "colab": {
          "base_uri": "https://localhost:8080/"
        },
        "id": "A3rDb6NXkBrB",
        "outputId": "01677987-3bad-4515-d157-9d712543662a"
      },
      "id": "A3rDb6NXkBrB",
      "execution_count": 91,
      "outputs": [
        {
          "output_type": "execute_result",
          "data": {
            "text/plain": [
              "['компьютер',\n",
              " 'противолодочный',\n",
              " 'обложка',\n",
              " 'голод',\n",
              " 'предприниматься',\n",
              " 'александра',\n",
              " 'взаимный',\n",
              " 'з',\n",
              " 'бывать',\n",
              " 'мемориальный']"
            ]
          },
          "metadata": {},
          "execution_count": 91
        }
      ]
    },
    {
      "cell_type": "markdown",
      "source": [
        "Для слов \"город\" и \"профессор\" действительно получилось найти близкие по смыслу слова. Для \"компьютер\" результаты значительно хуже. "
      ],
      "metadata": {
        "id": "wxcNcxfVlI32"
      },
      "id": "wxcNcxfVlI32"
    },
    {
      "cell_type": "markdown",
      "source": [
        "# **C-Bow**"
      ],
      "metadata": {
        "id": "VcfYYD_hlbrD"
      },
      "id": "VcfYYD_hlbrD"
    },
    {
      "cell_type": "code",
      "source": [
        "def gen_batches_cbow(sentences, window = 6, batch_size=500):\n",
        "    while True:\n",
        "        X_target = []\n",
        "        X_context = []\n",
        "        y = []\n",
        "\n",
        "        for sent in sentences:\n",
        "            for i in range(len(sent)-1):\n",
        "                word = sent[i]\n",
        "                context = sent[max(0, i-window//2):i] + sent[i+1:i+window//2]\n",
        "\n",
        "                X_target.append(word)\n",
        "                X_context.append(context)\n",
        "                y.append(1)\n",
        "                \n",
        "                X_target.append(np.random.randint(vocab_size))\n",
        "                X_context.append(context)\n",
        "                y.append(0)\n",
        "\n",
        "                if len(X_target) == batch_size:\n",
        "                    X_target = np.array(X_target)\n",
        "                    X_context = tf.keras.preprocessing.sequence.pad_sequences(X_context, maxlen=window*2)\n",
        "                    y = np.array(y)\n",
        "                    yield ((X_target, X_context), y)\n",
        "                    X_target = []\n",
        "                    X_context = []\n",
        "                    y = []"
      ],
      "metadata": {
        "id": "qEXurYtWlgM4"
      },
      "id": "qEXurYtWlgM4",
      "execution_count": 92,
      "outputs": []
    },
    {
      "cell_type": "code",
      "source": [
        "inputs_target = tf.keras.layers.Input(shape=(1,))\n",
        "inputs_context = tf.keras.layers.Input(shape=(10,))\n",
        "\n",
        "\n",
        "embeddings_target = tf.keras.layers.Embedding(input_dim=len(word2id), output_dim=300)(inputs_target, )\n",
        "embeddings_context = tf.keras.layers.Embedding(input_dim=len(word2id), output_dim=300)(inputs_context, )\n",
        "\n",
        "target = tf.keras.layers.Flatten()(embeddings_target)\n",
        "context = tf.keras.layers.Lambda(lambda x: tf.keras.backend.sum(x, axis=1))(embeddings_context)\n",
        "dot = tf.keras.layers.Dot(1)([target, context])\n",
        "\n",
        "outputs = tf.keras.layers.Activation(activation='sigmoid')(dot)\n",
        "\n",
        "model = tf.keras.Model(inputs=[inputs_target, inputs_context], \n",
        "                       outputs=outputs)"
      ],
      "metadata": {
        "id": "-0GLgDI-loot"
      },
      "id": "-0GLgDI-loot",
      "execution_count": 93,
      "outputs": []
    },
    {
      "cell_type": "code",
      "source": [
        "optimizer = tf.keras.optimizers.Adam(learning_rate=0.001)\n",
        "model.compile(optimizer=optimizer,\n",
        "              loss='binary_crossentropy',\n",
        "              metrics=['accuracy'])\n",
        "model.fit(gen_batches_cbow(sentences[:19000], window=6),\n",
        "          validation_data=gen_batches_cbow(sentences[19000:],  window=6),\n",
        "          batch_size=500,\n",
        "          steps_per_epoch=3000,\n",
        "          validation_steps=30,\n",
        "         epochs=3)"
      ],
      "metadata": {
        "colab": {
          "base_uri": "https://localhost:8080/"
        },
        "id": "ukIdnsKulqSD",
        "outputId": "a5c74bd7-69c3-4031-b86b-c12fafa494ad"
      },
      "id": "ukIdnsKulqSD",
      "execution_count": 94,
      "outputs": [
        {
          "output_type": "stream",
          "name": "stdout",
          "text": [
            "Epoch 1/3\n",
            "3000/3000 [==============================] - 224s 74ms/step - loss: 0.4121 - accuracy: 0.8160 - val_loss: 0.4049 - val_accuracy: 0.8260\n",
            "Epoch 2/3\n",
            "3000/3000 [==============================] - 206s 69ms/step - loss: 0.3482 - accuracy: 0.8529 - val_loss: 0.3218 - val_accuracy: 0.8673\n",
            "Epoch 3/3\n",
            "3000/3000 [==============================] - 207s 69ms/step - loss: 0.3038 - accuracy: 0.8739 - val_loss: 0.2917 - val_accuracy: 0.8836\n"
          ]
        },
        {
          "output_type": "execute_result",
          "data": {
            "text/plain": [
              "<keras.callbacks.History at 0x7f7a97a5d810>"
            ]
          },
          "metadata": {},
          "execution_count": 94
        }
      ]
    },
    {
      "cell_type": "code",
      "source": [
        "embeddings = model.layers[2].get_weights()[0]"
      ],
      "metadata": {
        "id": "ddeSCMTDlzWr"
      },
      "id": "ddeSCMTDlzWr",
      "execution_count": 95,
      "outputs": []
    },
    {
      "cell_type": "code",
      "execution_count": 96,
      "metadata": {
        "colab": {
          "base_uri": "https://localhost:8080/"
        },
        "outputId": "6d5d7caa-8433-4cdf-d3c3-d02ce196c4d7",
        "id": "rjFtmjQEl65h"
      },
      "outputs": [
        {
          "output_type": "execute_result",
          "data": {
            "text/plain": [
              "['город',\n",
              " 'где',\n",
              " 'они',\n",
              " 'часть',\n",
              " 'он',\n",
              " 'который',\n",
              " 'её',\n",
              " 'район',\n",
              " 'первый',\n",
              " 'крупный']"
            ]
          },
          "metadata": {},
          "execution_count": 96
        }
      ],
      "source": [
        "most_similar('город', embeddings)"
      ],
      "id": "rjFtmjQEl65h"
    },
    {
      "cell_type": "code",
      "execution_count": 97,
      "metadata": {
        "colab": {
          "base_uri": "https://localhost:8080/"
        },
        "outputId": "ecab7846-2958-4ff7-8d4c-919f90b713ea",
        "id": "AE_ndXK2l659"
      },
      "outputs": [
        {
          "output_type": "execute_result",
          "data": {
            "text/plain": [
              "['профессор',\n",
              " 'доктор',\n",
              " 'философия',\n",
              " 'ф',\n",
              " 'наука',\n",
              " 'академик',\n",
              " 'архитектор',\n",
              " 'преподаватель',\n",
              " 'инженер',\n",
              " '«история']"
            ]
          },
          "metadata": {},
          "execution_count": 97
        }
      ],
      "source": [
        "most_similar('профессор', embeddings)"
      ],
      "id": "AE_ndXK2l659"
    },
    {
      "cell_type": "code",
      "source": [
        "most_similar('компьютер', embeddings)"
      ],
      "metadata": {
        "colab": {
          "base_uri": "https://localhost:8080/"
        },
        "outputId": "e0bf4c05-e10c-4cba-eb93-87aa360b1311",
        "id": "UqfYhe4xl65_"
      },
      "execution_count": 98,
      "outputs": [
        {
          "output_type": "execute_result",
          "data": {
            "text/plain": [
              "['компьютер',\n",
              " 'размещение',\n",
              " 'трёхмерный',\n",
              " 'эксперимент',\n",
              " 'оборудование',\n",
              " 'экран',\n",
              " 'установка',\n",
              " 'ограничение',\n",
              " 'лечение',\n",
              " 'подходить']"
            ]
          },
          "metadata": {},
          "execution_count": 98
        }
      ],
      "id": "UqfYhe4xl65_"
    },
    {
      "cell_type": "markdown",
      "metadata": {
        "id": "c3b61b7c"
      },
      "source": [
        "# Задание 2 (3 балла)"
      ],
      "id": "c3b61b7c"
    },
    {
      "cell_type": "markdown",
      "metadata": {
        "id": "66eff080"
      },
      "source": [
        "Обучите 1 word2vec и 1 fastext модель в gensim. В каждой из модели нужно задать все параметры, которые мы разбирали на семинаре. Заданные значения должны отличаться от дефолтных и от тех, что мы использовали на семинаре."
      ],
      "id": "66eff080"
    },
    {
      "cell_type": "code",
      "source": [
        "# !pip install gensim\n",
        "import gensim\n",
        "from gensim.models import Word2Vec"
      ],
      "metadata": {
        "id": "xocKQ6U1nnWX"
      },
      "id": "xocKQ6U1nnWX",
      "execution_count": 105,
      "outputs": []
    },
    {
      "cell_type": "code",
      "execution_count": 106,
      "metadata": {
        "id": "pFN8OqcpJbtb"
      },
      "outputs": [],
      "source": [
        "def preprocess(text):\n",
        "    tokens = re.sub('#+', ' ', text.lower()).split()\n",
        "    tokens = [token.strip(punctuation) for token in tokens]\n",
        "    lemmas = list()\n",
        "    for word in tokens:\n",
        "        p = morph.parse(word)[0]\n",
        "        lemmas.append(p.normal_form)\n",
        "    return lemmas"
      ],
      "id": "pFN8OqcpJbtb"
    },
    {
      "cell_type": "code",
      "execution_count": 107,
      "metadata": {
        "id": "DUtv_gdHsHB_"
      },
      "outputs": [],
      "source": [
        "file = os.path.join(root_data_dir, 'wiki_data.txt')"
      ],
      "id": "DUtv_gdHsHB_"
    },
    {
      "cell_type": "code",
      "execution_count": 108,
      "metadata": {
        "id": "cszU04BFsHCA"
      },
      "outputs": [],
      "source": [
        "wiki = open(file).read().split('\\n')"
      ],
      "id": "cszU04BFsHCA"
    },
    {
      "cell_type": "code",
      "source": [
        "texts = [preprocess(text) for text in wiki]"
      ],
      "metadata": {
        "id": "kELyCR5LsGsw"
      },
      "id": "kELyCR5LsGsw",
      "execution_count": 109,
      "outputs": []
    },
    {
      "cell_type": "markdown",
      "source": [
        "# **Word2Ves gensim**"
      ],
      "metadata": {
        "id": "fm8vZ1dTn56X"
      },
      "id": "fm8vZ1dTn56X"
    },
    {
      "cell_type": "code",
      "execution_count": 110,
      "metadata": {
        "id": "e5035bdc",
        "colab": {
          "base_uri": "https://localhost:8080/"
        },
        "outputId": "a163ad8d-90de-4153-c022-42abe8990aa7"
      },
      "outputs": [
        {
          "output_type": "stream",
          "name": "stderr",
          "text": [
            "INFO:gensim.models.word2vec:collecting all words and their counts\n",
            "INFO:gensim.models.word2vec:PROGRESS: at sentence #0, processed 0 words, keeping 0 word types\n",
            "INFO:gensim.utils:pruned out 0 tokens with count <=1 (before 11186, after 11186)\n",
            "INFO:gensim.utils:pruned out 6281 tokens with count <=2 (before 11187, after 4906)\n",
            "INFO:gensim.utils:pruned out 6450 tokens with count <=3 (before 11023, after 4573)\n",
            "INFO:gensim.utils:pruned out 6699 tokens with count <=4 (before 11079, after 4380)\n",
            "INFO:gensim.utils:pruned out 6863 tokens with count <=5 (before 11054, after 4191)\n",
            "INFO:gensim.utils:pruned out 7006 tokens with count <=6 (before 11061, after 4055)\n",
            "INFO:gensim.utils:pruned out 7175 tokens with count <=7 (before 11151, after 3976)\n",
            "INFO:gensim.utils:pruned out 7127 tokens with count <=8 (before 11026, after 3899)\n",
            "INFO:gensim.utils:pruned out 7228 tokens with count <=9 (before 11032, after 3804)\n",
            "INFO:gensim.utils:pruned out 7311 tokens with count <=10 (before 11055, after 3744)\n",
            "INFO:gensim.utils:pruned out 7350 tokens with count <=11 (before 11029, after 3679)\n",
            "INFO:gensim.utils:pruned out 7433 tokens with count <=12 (before 11083, after 3650)\n",
            "INFO:gensim.utils:pruned out 7431 tokens with count <=13 (before 11141, after 3710)\n",
            "INFO:gensim.utils:pruned out 7333 tokens with count <=14 (before 11017, after 3684)\n",
            "INFO:gensim.utils:pruned out 7385 tokens with count <=15 (before 11028, after 3643)\n",
            "INFO:gensim.utils:pruned out 7436 tokens with count <=16 (before 11033, after 3597)\n",
            "INFO:gensim.utils:pruned out 7575 tokens with count <=17 (before 11124, after 3549)\n",
            "INFO:gensim.utils:pruned out 7501 tokens with count <=18 (before 11021, after 3520)\n",
            "INFO:gensim.utils:pruned out 7502 tokens with count <=19 (before 11005, after 3503)\n",
            "INFO:gensim.utils:pruned out 7548 tokens with count <=20 (before 11026, after 3478)\n",
            "INFO:gensim.utils:pruned out 7614 tokens with count <=21 (before 11090, after 3476)\n",
            "INFO:gensim.utils:pruned out 7593 tokens with count <=22 (before 11043, after 3450)\n",
            "INFO:gensim.utils:pruned out 7575 tokens with count <=23 (before 11008, after 3433)\n",
            "INFO:gensim.utils:pruned out 7610 tokens with count <=24 (before 11009, after 3399)\n",
            "INFO:gensim.utils:pruned out 7719 tokens with count <=25 (before 11093, after 3374)\n",
            "INFO:gensim.utils:pruned out 7675 tokens with count <=26 (before 11032, after 3357)\n",
            "INFO:gensim.utils:pruned out 7764 tokens with count <=27 (before 11111, after 3347)\n",
            "INFO:gensim.utils:pruned out 7661 tokens with count <=28 (before 11008, after 3347)\n",
            "INFO:gensim.utils:pruned out 7751 tokens with count <=29 (before 11083, after 3332)\n",
            "INFO:gensim.utils:pruned out 7723 tokens with count <=30 (before 11045, after 3322)\n",
            "INFO:gensim.utils:pruned out 7735 tokens with count <=31 (before 11042, after 3307)\n",
            "INFO:gensim.utils:pruned out 7876 tokens with count <=32 (before 11169, after 3293)\n",
            "INFO:gensim.utils:pruned out 7715 tokens with count <=33 (before 11004, after 3289)\n",
            "INFO:gensim.utils:pruned out 7724 tokens with count <=34 (before 11005, after 3281)\n",
            "INFO:gensim.utils:pruned out 7778 tokens with count <=35 (before 11053, after 3275)\n",
            "INFO:gensim.utils:pruned out 7792 tokens with count <=36 (before 11059, after 3267)\n",
            "INFO:gensim.utils:pruned out 7787 tokens with count <=37 (before 11046, after 3259)\n",
            "INFO:gensim.utils:pruned out 7765 tokens with count <=38 (before 11012, after 3247)\n",
            "INFO:gensim.utils:pruned out 7867 tokens with count <=39 (before 11108, after 3241)\n",
            "INFO:gensim.utils:pruned out 7862 tokens with count <=40 (before 11099, after 3237)\n",
            "INFO:gensim.utils:pruned out 7832 tokens with count <=41 (before 11064, after 3232)\n",
            "INFO:gensim.utils:pruned out 7784 tokens with count <=42 (before 11011, after 3227)\n",
            "INFO:gensim.utils:pruned out 7825 tokens with count <=43 (before 11047, after 3222)\n",
            "INFO:gensim.utils:pruned out 7783 tokens with count <=44 (before 11004, after 3221)\n",
            "INFO:gensim.utils:pruned out 7792 tokens with count <=45 (before 11026, after 3234)\n",
            "INFO:gensim.utils:pruned out 7796 tokens with count <=46 (before 11016, after 3220)\n",
            "INFO:gensim.utils:pruned out 7802 tokens with count <=47 (before 11015, after 3213)\n",
            "INFO:gensim.utils:pruned out 7860 tokens with count <=48 (before 11064, after 3204)\n",
            "INFO:gensim.utils:pruned out 7809 tokens with count <=49 (before 11011, after 3202)\n",
            "INFO:gensim.utils:pruned out 7845 tokens with count <=50 (before 11045, after 3200)\n",
            "INFO:gensim.utils:pruned out 7854 tokens with count <=51 (before 11052, after 3198)\n",
            "INFO:gensim.utils:pruned out 7830 tokens with count <=52 (before 11020, after 3190)\n",
            "INFO:gensim.utils:pruned out 8177 tokens with count <=53 (before 11359, after 3182)\n",
            "INFO:gensim.utils:pruned out 7839 tokens with count <=54 (before 11023, after 3184)\n",
            "INFO:gensim.models.word2vec:PROGRESS: at sentence #10000, processed 2454250 words, keeping 7692 word types\n",
            "INFO:gensim.utils:pruned out 7851 tokens with count <=55 (before 11030, after 3179)\n",
            "INFO:gensim.utils:pruned out 7832 tokens with count <=56 (before 11012, after 3180)\n",
            "INFO:gensim.utils:pruned out 8020 tokens with count <=57 (before 11196, after 3176)\n",
            "INFO:gensim.utils:pruned out 7858 tokens with count <=58 (before 11029, after 3171)\n",
            "INFO:gensim.utils:pruned out 7834 tokens with count <=59 (before 11004, after 3170)\n",
            "INFO:gensim.utils:pruned out 7869 tokens with count <=60 (before 11036, after 3167)\n",
            "INFO:gensim.utils:pruned out 7882 tokens with count <=61 (before 11044, after 3162)\n",
            "INFO:gensim.utils:pruned out 7927 tokens with count <=62 (before 11085, after 3158)\n",
            "INFO:gensim.utils:pruned out 7868 tokens with count <=63 (before 11022, after 3154)\n",
            "INFO:gensim.utils:pruned out 8028 tokens with count <=64 (before 11181, after 3153)\n",
            "INFO:gensim.utils:pruned out 7938 tokens with count <=65 (before 11090, after 3152)\n",
            "INFO:gensim.utils:pruned out 7889 tokens with count <=66 (before 11039, after 3150)\n",
            "INFO:gensim.utils:pruned out 8304 tokens with count <=67 (before 11455, after 3151)\n",
            "INFO:gensim.utils:pruned out 7880 tokens with count <=68 (before 11024, after 3144)\n",
            "INFO:gensim.utils:pruned out 7953 tokens with count <=69 (before 11094, after 3141)\n",
            "INFO:gensim.utils:pruned out 8014 tokens with count <=70 (before 11151, after 3137)\n",
            "INFO:gensim.utils:pruned out 7884 tokens with count <=71 (before 11021, after 3137)\n",
            "INFO:gensim.utils:pruned out 7927 tokens with count <=72 (before 11061, after 3134)\n",
            "INFO:gensim.utils:pruned out 7902 tokens with count <=73 (before 11034, after 3132)\n",
            "INFO:gensim.utils:pruned out 7975 tokens with count <=74 (before 11110, after 3135)\n",
            "INFO:gensim.utils:pruned out 8012 tokens with count <=75 (before 11143, after 3131)\n",
            "INFO:gensim.utils:pruned out 7883 tokens with count <=76 (before 11010, after 3127)\n",
            "INFO:gensim.utils:pruned out 7893 tokens with count <=77 (before 11016, after 3123)\n",
            "INFO:gensim.utils:pruned out 7923 tokens with count <=78 (before 11044, after 3121)\n",
            "INFO:gensim.utils:pruned out 7909 tokens with count <=79 (before 11027, after 3118)\n",
            "INFO:gensim.utils:pruned out 7898 tokens with count <=80 (before 11012, after 3114)\n",
            "INFO:gensim.utils:pruned out 7910 tokens with count <=81 (before 11024, after 3114)\n",
            "INFO:gensim.utils:pruned out 8132 tokens with count <=82 (before 11246, after 3114)\n",
            "INFO:gensim.utils:pruned out 7942 tokens with count <=83 (before 11051, after 3109)\n",
            "INFO:gensim.utils:pruned out 7915 tokens with count <=84 (before 11027, after 3112)\n",
            "INFO:gensim.utils:pruned out 7904 tokens with count <=85 (before 11015, after 3111)\n",
            "INFO:gensim.utils:pruned out 7916 tokens with count <=86 (before 11025, after 3109)\n",
            "INFO:gensim.utils:pruned out 7943 tokens with count <=87 (before 11051, after 3108)\n",
            "INFO:gensim.utils:pruned out 8159 tokens with count <=88 (before 11266, after 3107)\n",
            "INFO:gensim.utils:pruned out 7957 tokens with count <=89 (before 11065, after 3108)\n",
            "INFO:gensim.utils:pruned out 7908 tokens with count <=90 (before 11014, after 3106)\n",
            "INFO:gensim.utils:pruned out 7910 tokens with count <=91 (before 11015, after 3105)\n",
            "INFO:gensim.utils:pruned out 8210 tokens with count <=92 (before 11315, after 3105)\n",
            "INFO:gensim.utils:pruned out 7936 tokens with count <=93 (before 11041, after 3105)\n",
            "INFO:gensim.utils:pruned out 8062 tokens with count <=94 (before 11165, after 3103)\n",
            "INFO:gensim.utils:pruned out 7935 tokens with count <=95 (before 11034, after 3099)\n",
            "INFO:gensim.utils:pruned out 7910 tokens with count <=96 (before 11007, after 3097)\n",
            "INFO:gensim.utils:pruned out 7915 tokens with count <=97 (before 11010, after 3095)\n",
            "INFO:gensim.utils:pruned out 7938 tokens with count <=98 (before 11031, after 3093)\n",
            "INFO:gensim.utils:pruned out 7960 tokens with count <=99 (before 11050, after 3090)\n",
            "INFO:gensim.utils:pruned out 8363 tokens with count <=100 (before 11452, after 3089)\n",
            "INFO:gensim.utils:pruned out 7949 tokens with count <=101 (before 11036, after 3087)\n",
            "INFO:gensim.utils:pruned out 8387 tokens with count <=102 (before 11471, after 3084)\n",
            "INFO:gensim.utils:pruned out 7974 tokens with count <=103 (before 11058, after 3084)\n",
            "INFO:gensim.utils:pruned out 7950 tokens with count <=104 (before 11033, after 3083)\n",
            "INFO:gensim.utils:pruned out 7927 tokens with count <=105 (before 11010, after 3083)\n",
            "INFO:gensim.utils:pruned out 7934 tokens with count <=106 (before 11015, after 3081)\n",
            "INFO:gensim.utils:pruned out 7926 tokens with count <=107 (before 11007, after 3081)\n",
            "INFO:gensim.utils:pruned out 7960 tokens with count <=108 (before 11040, after 3080)\n",
            "INFO:gensim.utils:pruned out 8002 tokens with count <=109 (before 11078, after 3076)\n",
            "INFO:gensim.utils:pruned out 7995 tokens with count <=110 (before 11074, after 3079)\n",
            "INFO:gensim.models.word2vec:PROGRESS: at sentence #20000, processed 5106475 words, keeping 9597 word types\n",
            "INFO:gensim.models.word2vec:collected 10683 word types from a corpus of 5114884 raw words and 20003 sentences\n",
            "INFO:gensim.models.word2vec:Creating a fresh vocabulary\n",
            "INFO:gensim.utils:Word2Vec lifecycle event {'msg': 'effective_min_count=50 retains 3079 unique words (28.82% of original 10683, drops 7604)', 'datetime': '2023-06-02T22:31:17.779188', 'gensim': '4.3.1', 'python': '3.10.11 (main, Apr  5 2023, 14:15:10) [GCC 9.4.0]', 'platform': 'Linux-5.15.107+-x86_64-with-glibc2.31', 'event': 'prepare_vocab'}\n",
            "INFO:gensim.utils:Word2Vec lifecycle event {'msg': 'effective_min_count=50 leaves 3657249 word corpus (99.64% of original 3670619, drops 13370)', 'datetime': '2023-06-02T22:31:17.781078', 'gensim': '4.3.1', 'python': '3.10.11 (main, Apr  5 2023, 14:15:10) [GCC 9.4.0]', 'platform': 'Linux-5.15.107+-x86_64-with-glibc2.31', 'event': 'prepare_vocab'}\n",
            "INFO:gensim.models.word2vec:deleting the raw counts dictionary of 10683 items\n",
            "INFO:gensim.models.word2vec:sample=0.0001 downsamples 708 most-common words\n",
            "INFO:gensim.utils:Word2Vec lifecycle event {'msg': 'downsampling leaves estimated 1864345.585607792 word corpus (51.0%% of prior 3657249)', 'datetime': '2023-06-02T22:31:17.801877', 'gensim': '4.3.1', 'python': '3.10.11 (main, Apr  5 2023, 14:15:10) [GCC 9.4.0]', 'platform': 'Linux-5.15.107+-x86_64-with-glibc2.31', 'event': 'prepare_vocab'}\n",
            "INFO:gensim.models.word2vec:constructing a huffman tree from 3079 words\n",
            "INFO:gensim.models.word2vec:built huffman tree with maximum node depth 15\n",
            "INFO:gensim.models.word2vec:estimated required memory for 3079 words and 250 dimensions: 11392300 bytes\n",
            "INFO:gensim.models.word2vec:resetting layer weights\n",
            "INFO:gensim.utils:Word2Vec lifecycle event {'update': False, 'trim_rule': 'None', 'datetime': '2023-06-02T22:31:17.952978', 'gensim': '4.3.1', 'python': '3.10.11 (main, Apr  5 2023, 14:15:10) [GCC 9.4.0]', 'platform': 'Linux-5.15.107+-x86_64-with-glibc2.31', 'event': 'build_vocab'}\n",
            "WARNING:gensim.models.word2vec:Both hierarchical softmax and negative sampling are activated. This is probably a mistake. You should set either 'hs=0' or 'negative=0' to disable one of them. \n",
            "INFO:gensim.utils:Word2Vec lifecycle event {'msg': 'training model with 3 workers on 3079 vocabulary and 250 features, using sg=0 hs=1 sample=0.0001 negative=5 window=9 shrink_windows=True', 'datetime': '2023-06-02T22:31:17.957294', 'gensim': '4.3.1', 'python': '3.10.11 (main, Apr  5 2023, 14:15:10) [GCC 9.4.0]', 'platform': 'Linux-5.15.107+-x86_64-with-glibc2.31', 'event': 'train'}\n",
            "INFO:gensim.models.word2vec:EPOCH 0 - PROGRESS: at 6.83% examples, 124871 words/s, in_qsize 5, out_qsize 0\n",
            "INFO:gensim.models.word2vec:EPOCH 0 - PROGRESS: at 14.61% examples, 128179 words/s, in_qsize 5, out_qsize 0\n",
            "INFO:gensim.models.word2vec:EPOCH 0 - PROGRESS: at 20.20% examples, 127957 words/s, in_qsize 5, out_qsize 0\n",
            "INFO:gensim.models.word2vec:EPOCH 0 - PROGRESS: at 31.06% examples, 148763 words/s, in_qsize 4, out_qsize 1\n",
            "INFO:gensim.models.word2vec:EPOCH 0 - PROGRESS: at 47.23% examples, 165046 words/s, in_qsize 5, out_qsize 0\n",
            "INFO:gensim.models.word2vec:EPOCH 0 - PROGRESS: at 58.59% examples, 176155 words/s, in_qsize 5, out_qsize 0\n",
            "INFO:gensim.models.word2vec:EPOCH 0 - PROGRESS: at 69.29% examples, 182518 words/s, in_qsize 5, out_qsize 0\n",
            "INFO:gensim.models.word2vec:EPOCH 0 - PROGRESS: at 81.11% examples, 188193 words/s, in_qsize 5, out_qsize 0\n",
            "INFO:gensim.models.word2vec:EPOCH 0 - PROGRESS: at 94.67% examples, 192518 words/s, in_qsize 5, out_qsize 0\n",
            "INFO:gensim.models.word2vec:EPOCH 0: training on 5114884 raw words (1869346 effective words) took 9.6s, 194421 effective words/s\n",
            "INFO:gensim.models.word2vec:EPOCH 1 - PROGRESS: at 11.98% examples, 220237 words/s, in_qsize 5, out_qsize 0\n",
            "INFO:gensim.models.word2vec:EPOCH 1 - PROGRESS: at 22.88% examples, 222038 words/s, in_qsize 5, out_qsize 0\n",
            "INFO:gensim.models.word2vec:EPOCH 1 - PROGRESS: at 34.52% examples, 223391 words/s, in_qsize 5, out_qsize 0\n",
            "INFO:gensim.models.word2vec:EPOCH 1 - PROGRESS: at 48.42% examples, 214336 words/s, in_qsize 5, out_qsize 0\n",
            "INFO:gensim.models.word2vec:EPOCH 1 - PROGRESS: at 55.16% examples, 196863 words/s, in_qsize 5, out_qsize 0\n",
            "INFO:gensim.models.word2vec:EPOCH 1 - PROGRESS: at 61.20% examples, 185514 words/s, in_qsize 5, out_qsize 0\n",
            "INFO:gensim.models.word2vec:EPOCH 1 - PROGRESS: at 70.16% examples, 185531 words/s, in_qsize 5, out_qsize 0\n",
            "INFO:gensim.models.word2vec:EPOCH 1 - PROGRESS: at 81.93% examples, 190499 words/s, in_qsize 4, out_qsize 1\n",
            "INFO:gensim.models.word2vec:EPOCH 1 - PROGRESS: at 95.47% examples, 194421 words/s, in_qsize 5, out_qsize 0\n",
            "INFO:gensim.models.word2vec:EPOCH 1: training on 5114884 raw words (1869180 effective words) took 9.5s, 196303 effective words/s\n",
            "INFO:gensim.models.word2vec:EPOCH 2 - PROGRESS: at 11.98% examples, 217873 words/s, in_qsize 5, out_qsize 0\n",
            "INFO:gensim.models.word2vec:EPOCH 2 - PROGRESS: at 22.52% examples, 216523 words/s, in_qsize 4, out_qsize 1\n",
            "INFO:gensim.models.word2vec:EPOCH 2 - PROGRESS: at 34.15% examples, 220415 words/s, in_qsize 5, out_qsize 0\n",
            "INFO:gensim.models.word2vec:EPOCH 2 - PROGRESS: at 50.63% examples, 222824 words/s, in_qsize 5, out_qsize 0\n",
            "INFO:gensim.models.word2vec:EPOCH 2 - PROGRESS: at 61.57% examples, 223170 words/s, in_qsize 5, out_qsize 0\n",
            "INFO:gensim.models.word2vec:EPOCH 2 - PROGRESS: at 72.89% examples, 223665 words/s, in_qsize 5, out_qsize 0\n",
            "INFO:gensim.models.word2vec:EPOCH 2 - PROGRESS: at 85.14% examples, 223036 words/s, in_qsize 5, out_qsize 0\n",
            "INFO:gensim.models.word2vec:EPOCH 2 - PROGRESS: at 93.70% examples, 212467 words/s, in_qsize 6, out_qsize 0\n",
            "INFO:gensim.models.word2vec:EPOCH 2 - PROGRESS: at 98.90% examples, 201938 words/s, in_qsize 5, out_qsize 0\n",
            "INFO:gensim.models.word2vec:EPOCH 2: training on 5114884 raw words (1868883 effective words) took 9.3s, 201923 effective words/s\n",
            "INFO:gensim.models.word2vec:EPOCH 3 - PROGRESS: at 6.95% examples, 134210 words/s, in_qsize 5, out_qsize 0\n",
            "INFO:gensim.models.word2vec:EPOCH 3 - PROGRESS: at 18.66% examples, 179130 words/s, in_qsize 5, out_qsize 0\n",
            "INFO:gensim.models.word2vec:EPOCH 3 - PROGRESS: at 30.34% examples, 196219 words/s, in_qsize 5, out_qsize 0\n",
            "INFO:gensim.models.word2vec:EPOCH 3 - PROGRESS: at 45.90% examples, 201986 words/s, in_qsize 5, out_qsize 0\n",
            "INFO:gensim.models.word2vec:EPOCH 3 - PROGRESS: at 56.93% examples, 205779 words/s, in_qsize 4, out_qsize 1\n",
            "INFO:gensim.models.word2vec:EPOCH 3 - PROGRESS: at 68.18% examples, 210637 words/s, in_qsize 5, out_qsize 0\n",
            "INFO:gensim.models.word2vec:EPOCH 3 - PROGRESS: at 80.22% examples, 213533 words/s, in_qsize 5, out_qsize 0\n",
            "INFO:gensim.models.word2vec:EPOCH 3 - PROGRESS: at 93.50% examples, 213987 words/s, in_qsize 5, out_qsize 0\n",
            "INFO:gensim.models.word2vec:EPOCH 3: training on 5114884 raw words (1868379 effective words) took 8.7s, 215562 effective words/s\n",
            "INFO:gensim.models.word2vec:EPOCH 4 - PROGRESS: at 12.57% examples, 230334 words/s, in_qsize 5, out_qsize 0\n",
            "INFO:gensim.models.word2vec:EPOCH 4 - PROGRESS: at 23.10% examples, 226926 words/s, in_qsize 5, out_qsize 0\n",
            "INFO:gensim.models.word2vec:EPOCH 4 - PROGRESS: at 31.67% examples, 199920 words/s, in_qsize 6, out_qsize 1\n",
            "INFO:gensim.models.word2vec:EPOCH 4 - PROGRESS: at 43.48% examples, 185468 words/s, in_qsize 5, out_qsize 0\n",
            "INFO:gensim.models.word2vec:EPOCH 4 - PROGRESS: at 50.48% examples, 176298 words/s, in_qsize 5, out_qsize 0\n",
            "INFO:gensim.models.word2vec:EPOCH 4 - PROGRESS: at 60.57% examples, 181148 words/s, in_qsize 5, out_qsize 0\n",
            "INFO:gensim.models.word2vec:EPOCH 4 - PROGRESS: at 71.55% examples, 186608 words/s, in_qsize 5, out_qsize 0\n",
            "INFO:gensim.models.word2vec:EPOCH 4 - PROGRESS: at 82.86% examples, 190641 words/s, in_qsize 5, out_qsize 0\n",
            "INFO:gensim.models.word2vec:EPOCH 4 - PROGRESS: at 96.34% examples, 194367 words/s, in_qsize 5, out_qsize 0\n",
            "INFO:gensim.models.word2vec:EPOCH 4: training on 5114884 raw words (1869022 effective words) took 9.5s, 196041 effective words/s\n",
            "INFO:gensim.models.word2vec:EPOCH 5 - PROGRESS: at 11.81% examples, 216069 words/s, in_qsize 4, out_qsize 1\n",
            "INFO:gensim.models.word2vec:EPOCH 5 - PROGRESS: at 22.88% examples, 220764 words/s, in_qsize 4, out_qsize 1\n",
            "INFO:gensim.models.word2vec:EPOCH 5 - PROGRESS: at 35.21% examples, 225999 words/s, in_qsize 6, out_qsize 0\n",
            "INFO:gensim.models.word2vec:EPOCH 5 - PROGRESS: at 51.36% examples, 227760 words/s, in_qsize 5, out_qsize 0\n",
            "INFO:gensim.models.word2vec:EPOCH 5 - PROGRESS: at 61.95% examples, 226134 words/s, in_qsize 5, out_qsize 0\n",
            "INFO:gensim.models.word2vec:EPOCH 5 - PROGRESS: at 72.71% examples, 224088 words/s, in_qsize 5, out_qsize 0\n",
            "INFO:gensim.models.word2vec:EPOCH 5 - PROGRESS: at 78.88% examples, 208691 words/s, in_qsize 5, out_qsize 0\n",
            "INFO:gensim.models.word2vec:EPOCH 5 - PROGRESS: at 86.84% examples, 199459 words/s, in_qsize 6, out_qsize 0\n",
            "INFO:gensim.models.word2vec:EPOCH 5 - PROGRESS: at 95.41% examples, 193988 words/s, in_qsize 5, out_qsize 0\n",
            "INFO:gensim.models.word2vec:EPOCH 5: training on 5114884 raw words (1869330 effective words) took 9.5s, 195958 effective words/s\n",
            "INFO:gensim.models.word2vec:EPOCH 6 - PROGRESS: at 12.21% examples, 225251 words/s, in_qsize 5, out_qsize 0\n",
            "INFO:gensim.models.word2vec:EPOCH 6 - PROGRESS: at 23.10% examples, 227324 words/s, in_qsize 5, out_qsize 0\n",
            "INFO:gensim.models.word2vec:EPOCH 6 - PROGRESS: at 35.49% examples, 228508 words/s, in_qsize 5, out_qsize 0\n",
            "INFO:gensim.models.word2vec:EPOCH 6 - PROGRESS: at 51.84% examples, 229894 words/s, in_qsize 5, out_qsize 0\n",
            "INFO:gensim.models.word2vec:EPOCH 6 - PROGRESS: at 63.20% examples, 230034 words/s, in_qsize 5, out_qsize 0\n",
            "INFO:gensim.models.word2vec:EPOCH 6 - PROGRESS: at 74.54% examples, 229674 words/s, in_qsize 5, out_qsize 0\n",
            "INFO:gensim.models.word2vec:EPOCH 6 - PROGRESS: at 87.04% examples, 228892 words/s, in_qsize 5, out_qsize 0\n",
            "INFO:gensim.models.word2vec:EPOCH 6 - PROGRESS: at 99.32% examples, 228612 words/s, in_qsize 4, out_qsize 0\n",
            "INFO:gensim.models.word2vec:EPOCH 6: training on 5114884 raw words (1869049 effective words) took 8.1s, 229485 effective words/s\n",
            "INFO:gensim.models.word2vec:EPOCH 7 - PROGRESS: at 12.38% examples, 225634 words/s, in_qsize 5, out_qsize 0\n",
            "INFO:gensim.models.word2vec:EPOCH 7 - PROGRESS: at 20.68% examples, 193126 words/s, in_qsize 5, out_qsize 0\n",
            "INFO:gensim.models.word2vec:EPOCH 7 - PROGRESS: at 27.68% examples, 172133 words/s, in_qsize 6, out_qsize 0\n",
            "INFO:gensim.models.word2vec:EPOCH 7 - PROGRESS: at 34.08% examples, 161024 words/s, in_qsize 5, out_qsize 0\n",
            "INFO:gensim.models.word2vec:EPOCH 7 - PROGRESS: at 49.15% examples, 171120 words/s, in_qsize 5, out_qsize 0\n",
            "INFO:gensim.models.word2vec:EPOCH 7 - PROGRESS: at 60.29% examples, 180052 words/s, in_qsize 5, out_qsize 0\n",
            "INFO:gensim.models.word2vec:EPOCH 7 - PROGRESS: at 71.35% examples, 186380 words/s, in_qsize 5, out_qsize 0\n",
            "INFO:gensim.models.word2vec:EPOCH 7 - PROGRESS: at 82.57% examples, 190698 words/s, in_qsize 5, out_qsize 0\n",
            "INFO:gensim.models.word2vec:EPOCH 7 - PROGRESS: at 96.86% examples, 195733 words/s, in_qsize 5, out_qsize 0\n",
            "INFO:gensim.models.word2vec:EPOCH 7: training on 5114884 raw words (1868797 effective words) took 9.5s, 197251 effective words/s\n",
            "INFO:gensim.models.word2vec:EPOCH 8 - PROGRESS: at 12.38% examples, 227160 words/s, in_qsize 5, out_qsize 0\n",
            "INFO:gensim.models.word2vec:EPOCH 8 - PROGRESS: at 22.74% examples, 222074 words/s, in_qsize 5, out_qsize 0\n",
            "INFO:gensim.models.word2vec:EPOCH 8 - PROGRESS: at 34.26% examples, 222090 words/s, in_qsize 5, out_qsize 0\n",
            "INFO:gensim.models.word2vec:EPOCH 8 - PROGRESS: at 50.63% examples, 225286 words/s, in_qsize 5, out_qsize 0\n",
            "INFO:gensim.models.word2vec:EPOCH 8 - PROGRESS: at 61.02% examples, 222718 words/s, in_qsize 5, out_qsize 0\n",
            "INFO:gensim.models.word2vec:EPOCH 8 - PROGRESS: at 67.64% examples, 207578 words/s, in_qsize 6, out_qsize 0\n",
            "INFO:gensim.models.word2vec:EPOCH 8 - PROGRESS: at 74.54% examples, 196311 words/s, in_qsize 5, out_qsize 0\n",
            "INFO:gensim.models.word2vec:EPOCH 8 - PROGRESS: at 82.86% examples, 191451 words/s, in_qsize 5, out_qsize 0\n",
            "INFO:gensim.models.word2vec:EPOCH 8 - PROGRESS: at 96.11% examples, 194793 words/s, in_qsize 5, out_qsize 0\n",
            "INFO:gensim.models.word2vec:EPOCH 8: training on 5114884 raw words (1869080 effective words) took 9.5s, 196247 effective words/s\n",
            "INFO:gensim.utils:Word2Vec lifecycle event {'msg': 'training on 46033956 raw words (16821066 effective words) took 83.3s, 201822 effective words/s', 'datetime': '2023-06-02T22:32:41.305563', 'gensim': '4.3.1', 'python': '3.10.11 (main, Apr  5 2023, 14:15:10) [GCC 9.4.0]', 'platform': 'Linux-5.15.107+-x86_64-with-glibc2.31', 'event': 'train'}\n",
            "INFO:gensim.utils:Word2Vec lifecycle event {'params': 'Word2Vec<vocab=3079, vector_size=250, alpha=0.025>', 'datetime': '2023-06-02T22:32:41.310208', 'gensim': '4.3.1', 'python': '3.10.11 (main, Apr  5 2023, 14:15:10) [GCC 9.4.0]', 'platform': 'Linux-5.15.107+-x86_64-with-glibc2.31', 'event': 'created'}\n"
          ]
        }
      ],
      "source": [
        "w2v = gensim.models.Word2Vec(texts, \n",
        "                             vector_size=250, \n",
        "                             min_count=50, \n",
        "                             max_vocab_size=11000,\n",
        "                             window=9,\n",
        "                             epochs=9,\n",
        "                             sg=0,\n",
        "                             hs=1, \n",
        "                             sample=1e-4,\n",
        "                             ns_exponent=0.95, \n",
        "                             cbow_mean=0)"
      ],
      "id": "e5035bdc"
    },
    {
      "cell_type": "code",
      "source": [
        "w2v.wv.most_similar('город')"
      ],
      "metadata": {
        "colab": {
          "base_uri": "https://localhost:8080/"
        },
        "id": "_S9fS8vvodnz",
        "outputId": "9808616d-7607-4fa3-b410-c113c825467c"
      },
      "id": "_S9fS8vvodnz",
      "execution_count": 111,
      "outputs": [
        {
          "output_type": "execute_result",
          "data": {
            "text/plain": [
              "[('и', 0.6843292117118835),\n",
              " ('центр', 0.668544590473175),\n",
              " ('в', 0.6589821577072144),\n",
              " ('он', 0.6465439796447754),\n",
              " ('—', 0.6458922624588013),\n",
              " ('округ', 0.6280940771102905),\n",
              " ('на', 0.627242922782898),\n",
              " ('который', 0.6197815537452698),\n",
              " ('', 0.6194816827774048),\n",
              " ('расположить', 0.6158928275108337)]"
            ]
          },
          "metadata": {},
          "execution_count": 111
        }
      ]
    },
    {
      "cell_type": "code",
      "source": [
        "w2v.wv.most_similar('профессор')"
      ],
      "metadata": {
        "colab": {
          "base_uri": "https://localhost:8080/"
        },
        "id": "ZXfGEeqCoflu",
        "outputId": "44e893e3-d97e-4469-e4f4-58be8d0ee3c1"
      },
      "id": "ZXfGEeqCoflu",
      "execution_count": 112,
      "outputs": [
        {
          "output_type": "execute_result",
          "data": {
            "text/plain": [
              "[('наука', 0.6335884928703308),\n",
              " ('университет', 0.6265956163406372),\n",
              " ('преподавать', 0.6239333152770996),\n",
              " ('преподаватель', 0.6195518970489502),\n",
              " ('кафедра', 0.59222412109375),\n",
              " ('доктор', 0.5893443822860718),\n",
              " ('г', 0.587348461151123),\n",
              " ('академик', 0.5687968730926514),\n",
              " ('и', 0.5631793737411499),\n",
              " ('институт', 0.5584172606468201)]"
            ]
          },
          "metadata": {},
          "execution_count": 112
        }
      ]
    },
    {
      "cell_type": "code",
      "source": [
        "w2v.wv.most_similar('компьютер')"
      ],
      "metadata": {
        "colab": {
          "base_uri": "https://localhost:8080/",
          "height": 323
        },
        "id": "Tvz8UfTFohQn",
        "outputId": "b0c418cd-8058-4df2-e401-1daae40548ed"
      },
      "id": "Tvz8UfTFohQn",
      "execution_count": 113,
      "outputs": [
        {
          "output_type": "error",
          "ename": "KeyError",
          "evalue": "ignored",
          "traceback": [
            "\u001b[0;31m---------------------------------------------------------------------------\u001b[0m",
            "\u001b[0;31mKeyError\u001b[0m                                  Traceback (most recent call last)",
            "\u001b[0;32m<ipython-input-113-f3d21b3185db>\u001b[0m in \u001b[0;36m<cell line: 1>\u001b[0;34m()\u001b[0m\n\u001b[0;32m----> 1\u001b[0;31m \u001b[0mw2v\u001b[0m\u001b[0;34m.\u001b[0m\u001b[0mwv\u001b[0m\u001b[0;34m.\u001b[0m\u001b[0mmost_similar\u001b[0m\u001b[0;34m(\u001b[0m\u001b[0;34m'компьютер'\u001b[0m\u001b[0;34m)\u001b[0m\u001b[0;34m\u001b[0m\u001b[0;34m\u001b[0m\u001b[0m\n\u001b[0m",
            "\u001b[0;32m/usr/local/lib/python3.10/dist-packages/gensim/models/keyedvectors.py\u001b[0m in \u001b[0;36mmost_similar\u001b[0;34m(self, positive, negative, topn, clip_start, clip_end, restrict_vocab, indexer)\u001b[0m\n\u001b[1;32m    839\u001b[0m \u001b[0;34m\u001b[0m\u001b[0m\n\u001b[1;32m    840\u001b[0m         \u001b[0;31m# compute the weighted average of all keys\u001b[0m\u001b[0;34m\u001b[0m\u001b[0;34m\u001b[0m\u001b[0m\n\u001b[0;32m--> 841\u001b[0;31m         \u001b[0mmean\u001b[0m \u001b[0;34m=\u001b[0m \u001b[0mself\u001b[0m\u001b[0;34m.\u001b[0m\u001b[0mget_mean_vector\u001b[0m\u001b[0;34m(\u001b[0m\u001b[0mkeys\u001b[0m\u001b[0;34m,\u001b[0m \u001b[0mweight\u001b[0m\u001b[0;34m,\u001b[0m \u001b[0mpre_normalize\u001b[0m\u001b[0;34m=\u001b[0m\u001b[0;32mTrue\u001b[0m\u001b[0;34m,\u001b[0m \u001b[0mpost_normalize\u001b[0m\u001b[0;34m=\u001b[0m\u001b[0;32mTrue\u001b[0m\u001b[0;34m,\u001b[0m \u001b[0mignore_missing\u001b[0m\u001b[0;34m=\u001b[0m\u001b[0;32mFalse\u001b[0m\u001b[0;34m)\u001b[0m\u001b[0;34m\u001b[0m\u001b[0;34m\u001b[0m\u001b[0m\n\u001b[0m\u001b[1;32m    842\u001b[0m         all_keys = [\n\u001b[1;32m    843\u001b[0m             \u001b[0mself\u001b[0m\u001b[0;34m.\u001b[0m\u001b[0mget_index\u001b[0m\u001b[0;34m(\u001b[0m\u001b[0mkey\u001b[0m\u001b[0;34m)\u001b[0m \u001b[0;32mfor\u001b[0m \u001b[0mkey\u001b[0m \u001b[0;32min\u001b[0m \u001b[0mkeys\u001b[0m \u001b[0;32mif\u001b[0m \u001b[0misinstance\u001b[0m\u001b[0;34m(\u001b[0m\u001b[0mkey\u001b[0m\u001b[0;34m,\u001b[0m \u001b[0m_KEY_TYPES\u001b[0m\u001b[0;34m)\u001b[0m \u001b[0;32mand\u001b[0m \u001b[0mself\u001b[0m\u001b[0;34m.\u001b[0m\u001b[0mhas_index_for\u001b[0m\u001b[0;34m(\u001b[0m\u001b[0mkey\u001b[0m\u001b[0;34m)\u001b[0m\u001b[0;34m\u001b[0m\u001b[0;34m\u001b[0m\u001b[0m\n",
            "\u001b[0;32m/usr/local/lib/python3.10/dist-packages/gensim/models/keyedvectors.py\u001b[0m in \u001b[0;36mget_mean_vector\u001b[0;34m(self, keys, weights, pre_normalize, post_normalize, ignore_missing)\u001b[0m\n\u001b[1;32m    516\u001b[0m                 \u001b[0mtotal_weight\u001b[0m \u001b[0;34m+=\u001b[0m \u001b[0mabs\u001b[0m\u001b[0;34m(\u001b[0m\u001b[0mweights\u001b[0m\u001b[0;34m[\u001b[0m\u001b[0midx\u001b[0m\u001b[0;34m]\u001b[0m\u001b[0;34m)\u001b[0m\u001b[0;34m\u001b[0m\u001b[0;34m\u001b[0m\u001b[0m\n\u001b[1;32m    517\u001b[0m             \u001b[0;32melif\u001b[0m \u001b[0;32mnot\u001b[0m \u001b[0mignore_missing\u001b[0m\u001b[0;34m:\u001b[0m\u001b[0;34m\u001b[0m\u001b[0;34m\u001b[0m\u001b[0m\n\u001b[0;32m--> 518\u001b[0;31m                 \u001b[0;32mraise\u001b[0m \u001b[0mKeyError\u001b[0m\u001b[0;34m(\u001b[0m\u001b[0;34mf\"Key '{key}' not present in vocabulary\"\u001b[0m\u001b[0;34m)\u001b[0m\u001b[0;34m\u001b[0m\u001b[0;34m\u001b[0m\u001b[0m\n\u001b[0m\u001b[1;32m    519\u001b[0m \u001b[0;34m\u001b[0m\u001b[0m\n\u001b[1;32m    520\u001b[0m         \u001b[0;32mif\u001b[0m \u001b[0mtotal_weight\u001b[0m \u001b[0;34m>\u001b[0m \u001b[0;36m0\u001b[0m\u001b[0;34m:\u001b[0m\u001b[0;34m\u001b[0m\u001b[0;34m\u001b[0m\u001b[0m\n",
            "\u001b[0;31mKeyError\u001b[0m: \"Key 'компьютер' not present in vocabulary\""
          ]
        }
      ]
    },
    {
      "cell_type": "code",
      "source": [
        "w2v.wv.most_similar('церковь')"
      ],
      "metadata": {
        "colab": {
          "base_uri": "https://localhost:8080/"
        },
        "id": "qaRaJ_Z_tF1O",
        "outputId": "915dd74f-3282-42cb-a599-fa8f6edc02cf"
      },
      "id": "qaRaJ_Z_tF1O",
      "execution_count": 114,
      "outputs": [
        {
          "output_type": "execute_result",
          "data": {
            "text/plain": [
              "[('храм', 0.8191401958465576),\n",
              " ('собор', 0.7174171805381775),\n",
              " ('святой', 0.6468510031700134),\n",
              " ('часовня', 0.6366211175918579),\n",
              " ('богородица', 0.6182942390441895),\n",
              " ('православный', 0.6153858304023743),\n",
              " ('монастырь', 0.6109724640846252),\n",
              " ('католический', 0.6025855541229248),\n",
              " ('деревянный', 0.5745288133621216),\n",
              " ('освятить', 0.5688535571098328)]"
            ]
          },
          "metadata": {},
          "execution_count": 114
        }
      ]
    },
    {
      "cell_type": "code",
      "source": [
        "w2v.wv.most_similar('река')"
      ],
      "metadata": {
        "colab": {
          "base_uri": "https://localhost:8080/"
        },
        "id": "Kqa2Jc_ptO-0",
        "outputId": "0e2b780e-01ae-4ddb-ef9a-e6eb30f50eb3"
      },
      "id": "Kqa2Jc_ptO-0",
      "execution_count": 115,
      "outputs": [
        {
          "output_type": "execute_result",
          "data": {
            "text/plain": [
              "[('озеро', 0.7227383255958557),\n",
              " ('ручей', 0.6842154264450073),\n",
              " ('впадать', 0.6841840147972107),\n",
              " ('устье', 0.6695337891578674),\n",
              " ('приток', 0.669109582901001),\n",
              " ('исток', 0.6649820804595947),\n",
              " ('расположить', 0.6405476331710815),\n",
              " ('село', 0.6303327083587646),\n",
              " ('водохранилище', 0.6230842471122742),\n",
              " ('долина', 0.6192793846130371)]"
            ]
          },
          "metadata": {},
          "execution_count": 115
        }
      ]
    },
    {
      "cell_type": "markdown",
      "source": [
        "Эта модель работает лучше, чем предыдущие, слова значительно ближе по контексту, более похожи. Но в этот раз слово \"компьютер\" в словаре не нашлось, хотя в предыдущих итерациях было в нём."
      ],
      "metadata": {
        "id": "0c2PpAt1tTKz"
      },
      "id": "0c2PpAt1tTKz"
    },
    {
      "cell_type": "markdown",
      "source": [
        "# **Fasttext gensim**"
      ],
      "metadata": {
        "id": "ZZqKEJF3okqo"
      },
      "id": "ZZqKEJF3okqo"
    },
    {
      "cell_type": "code",
      "source": [
        "ft = gensim.models.FastText(texts, min_n=3, max_n=10)"
      ],
      "metadata": {
        "colab": {
          "base_uri": "https://localhost:8080/"
        },
        "id": "F4xWOQyYoprJ",
        "outputId": "392044fd-bbb1-483c-e5aa-e9471b6ca450"
      },
      "id": "F4xWOQyYoprJ",
      "execution_count": 116,
      "outputs": [
        {
          "output_type": "stream",
          "name": "stderr",
          "text": [
            "INFO:gensim.models.word2vec:collecting all words and their counts\n",
            "INFO:gensim.models.word2vec:PROGRESS: at sentence #0, processed 0 words, keeping 0 word types\n",
            "INFO:gensim.models.word2vec:PROGRESS: at sentence #10000, processed 2454250 words, keeping 159659 word types\n",
            "INFO:gensim.models.word2vec:PROGRESS: at sentence #20000, processed 5106475 words, keeping 262625 word types\n",
            "INFO:gensim.models.word2vec:collected 262744 word types from a corpus of 5114884 raw words and 20003 sentences\n",
            "INFO:gensim.models.word2vec:Creating a fresh vocabulary\n",
            "INFO:gensim.utils:FastText lifecycle event {'msg': 'effective_min_count=5 retains 51398 unique words (19.56% of original 262744, drops 211346)', 'datetime': '2023-06-02T22:33:06.152185', 'gensim': '4.3.1', 'python': '3.10.11 (main, Apr  5 2023, 14:15:10) [GCC 9.4.0]', 'platform': 'Linux-5.15.107+-x86_64-with-glibc2.31', 'event': 'prepare_vocab'}\n",
            "INFO:gensim.utils:FastText lifecycle event {'msg': 'effective_min_count=5 leaves 4803325 word corpus (93.91% of original 5114884, drops 311559)', 'datetime': '2023-06-02T22:33:06.154079', 'gensim': '4.3.1', 'python': '3.10.11 (main, Apr  5 2023, 14:15:10) [GCC 9.4.0]', 'platform': 'Linux-5.15.107+-x86_64-with-glibc2.31', 'event': 'prepare_vocab'}\n",
            "INFO:gensim.models.word2vec:deleting the raw counts dictionary of 262744 items\n",
            "INFO:gensim.models.word2vec:sample=0.001 downsamples 28 most-common words\n",
            "INFO:gensim.utils:FastText lifecycle event {'msg': 'downsampling leaves estimated 4088057.318793835 word corpus (85.1%% of prior 4803325)', 'datetime': '2023-06-02T22:33:06.413825', 'gensim': '4.3.1', 'python': '3.10.11 (main, Apr  5 2023, 14:15:10) [GCC 9.4.0]', 'platform': 'Linux-5.15.107+-x86_64-with-glibc2.31', 'event': 'prepare_vocab'}\n",
            "INFO:gensim.models.fasttext:estimated required memory for 51398 words, 2000000 buckets and 100 dimensions: 879654864 bytes\n",
            "INFO:gensim.models.word2vec:resetting layer weights\n",
            "INFO:gensim.utils:FastText lifecycle event {'update': False, 'trim_rule': 'None', 'datetime': '2023-06-02T22:33:11.995518', 'gensim': '4.3.1', 'python': '3.10.11 (main, Apr  5 2023, 14:15:10) [GCC 9.4.0]', 'platform': 'Linux-5.15.107+-x86_64-with-glibc2.31', 'event': 'build_vocab'}\n",
            "INFO:gensim.utils:FastText lifecycle event {'msg': 'training model with 3 workers on 51398 vocabulary and 100 features, using sg=0 hs=0 sample=0.001 negative=5 window=5 shrink_windows=True', 'datetime': '2023-06-02T22:33:11.997124', 'gensim': '4.3.1', 'python': '3.10.11 (main, Apr  5 2023, 14:15:10) [GCC 9.4.0]', 'platform': 'Linux-5.15.107+-x86_64-with-glibc2.31', 'event': 'train'}\n",
            "INFO:gensim.models.word2vec:EPOCH 0 - PROGRESS: at 2.14% examples, 82118 words/s, in_qsize 5, out_qsize 0\n",
            "INFO:gensim.models.word2vec:EPOCH 0 - PROGRESS: at 4.06% examples, 70473 words/s, in_qsize 5, out_qsize 0\n",
            "INFO:gensim.models.word2vec:EPOCH 0 - PROGRESS: at 5.38% examples, 65482 words/s, in_qsize 6, out_qsize 0\n",
            "INFO:gensim.models.word2vec:EPOCH 0 - PROGRESS: at 6.83% examples, 62920 words/s, in_qsize 5, out_qsize 0\n",
            "INFO:gensim.models.word2vec:EPOCH 0 - PROGRESS: at 8.91% examples, 70305 words/s, in_qsize 5, out_qsize 0\n",
            "INFO:gensim.models.word2vec:EPOCH 0 - PROGRESS: at 12.38% examples, 74531 words/s, in_qsize 5, out_qsize 0\n",
            "INFO:gensim.models.word2vec:EPOCH 0 - PROGRESS: at 14.83% examples, 76335 words/s, in_qsize 5, out_qsize 0\n",
            "INFO:gensim.models.word2vec:EPOCH 0 - PROGRESS: at 16.94% examples, 78276 words/s, in_qsize 5, out_qsize 0\n",
            "INFO:gensim.models.word2vec:EPOCH 0 - PROGRESS: at 18.82% examples, 79994 words/s, in_qsize 5, out_qsize 0\n",
            "INFO:gensim.models.word2vec:EPOCH 0 - PROGRESS: at 20.75% examples, 80930 words/s, in_qsize 5, out_qsize 0\n",
            "INFO:gensim.models.word2vec:EPOCH 0 - PROGRESS: at 22.94% examples, 82715 words/s, in_qsize 5, out_qsize 0\n",
            "INFO:gensim.models.word2vec:EPOCH 0 - PROGRESS: at 25.73% examples, 83427 words/s, in_qsize 5, out_qsize 0\n",
            "INFO:gensim.models.word2vec:EPOCH 0 - PROGRESS: at 28.37% examples, 84044 words/s, in_qsize 5, out_qsize 0\n",
            "INFO:gensim.models.word2vec:EPOCH 0 - PROGRESS: at 30.02% examples, 82845 words/s, in_qsize 5, out_qsize 0\n",
            "INFO:gensim.models.word2vec:EPOCH 0 - PROGRESS: at 31.41% examples, 80902 words/s, in_qsize 5, out_qsize 0\n",
            "INFO:gensim.models.word2vec:EPOCH 0 - PROGRESS: at 32.67% examples, 79723 words/s, in_qsize 6, out_qsize 0\n",
            "INFO:gensim.models.word2vec:EPOCH 0 - PROGRESS: at 34.97% examples, 80460 words/s, in_qsize 5, out_qsize 0\n",
            "INFO:gensim.models.word2vec:EPOCH 0 - PROGRESS: at 40.45% examples, 81478 words/s, in_qsize 5, out_qsize 0\n",
            "INFO:gensim.models.word2vec:EPOCH 0 - PROGRESS: at 44.11% examples, 82386 words/s, in_qsize 5, out_qsize 0\n",
            "INFO:gensim.models.word2vec:EPOCH 0 - PROGRESS: at 46.46% examples, 82707 words/s, in_qsize 5, out_qsize 0\n",
            "INFO:gensim.models.word2vec:EPOCH 0 - PROGRESS: at 48.65% examples, 83293 words/s, in_qsize 5, out_qsize 0\n",
            "INFO:gensim.models.word2vec:EPOCH 0 - PROGRESS: at 50.80% examples, 83719 words/s, in_qsize 5, out_qsize 0\n",
            "INFO:gensim.models.word2vec:EPOCH 0 - PROGRESS: at 52.99% examples, 83918 words/s, in_qsize 5, out_qsize 0\n",
            "INFO:gensim.models.word2vec:EPOCH 0 - PROGRESS: at 55.41% examples, 84132 words/s, in_qsize 5, out_qsize 0\n",
            "INFO:gensim.models.word2vec:EPOCH 0 - PROGRESS: at 57.13% examples, 84311 words/s, in_qsize 5, out_qsize 0\n",
            "INFO:gensim.models.word2vec:EPOCH 0 - PROGRESS: at 58.91% examples, 83473 words/s, in_qsize 5, out_qsize 0\n",
            "INFO:gensim.models.word2vec:EPOCH 0 - PROGRESS: at 60.12% examples, 82621 words/s, in_qsize 6, out_qsize 0\n",
            "INFO:gensim.models.word2vec:EPOCH 0 - PROGRESS: at 61.02% examples, 81481 words/s, in_qsize 5, out_qsize 0\n",
            "INFO:gensim.models.word2vec:EPOCH 0 - PROGRESS: at 63.20% examples, 81759 words/s, in_qsize 5, out_qsize 0\n",
            "INFO:gensim.models.word2vec:EPOCH 0 - PROGRESS: at 65.26% examples, 82191 words/s, in_qsize 5, out_qsize 0\n",
            "INFO:gensim.models.word2vec:EPOCH 0 - PROGRESS: at 67.64% examples, 82346 words/s, in_qsize 5, out_qsize 0\n",
            "INFO:gensim.models.word2vec:EPOCH 0 - PROGRESS: at 69.70% examples, 82521 words/s, in_qsize 5, out_qsize 0\n",
            "INFO:gensim.models.word2vec:EPOCH 0 - PROGRESS: at 72.21% examples, 82983 words/s, in_qsize 5, out_qsize 0\n",
            "INFO:gensim.models.word2vec:EPOCH 0 - PROGRESS: at 74.22% examples, 83089 words/s, in_qsize 5, out_qsize 0\n",
            "INFO:gensim.models.word2vec:EPOCH 0 - PROGRESS: at 76.87% examples, 83459 words/s, in_qsize 6, out_qsize 0\n",
            "INFO:gensim.models.word2vec:EPOCH 0 - PROGRESS: at 79.14% examples, 83975 words/s, in_qsize 5, out_qsize 0\n",
            "INFO:gensim.models.word2vec:EPOCH 0 - PROGRESS: at 81.53% examples, 84290 words/s, in_qsize 5, out_qsize 0\n",
            "INFO:gensim.models.word2vec:EPOCH 0 - PROGRESS: at 83.50% examples, 84181 words/s, in_qsize 5, out_qsize 0\n",
            "INFO:gensim.models.word2vec:EPOCH 0 - PROGRESS: at 85.88% examples, 83368 words/s, in_qsize 5, out_qsize 0\n",
            "INFO:gensim.models.word2vec:EPOCH 0 - PROGRESS: at 87.28% examples, 82758 words/s, in_qsize 5, out_qsize 0\n",
            "INFO:gensim.models.word2vec:EPOCH 0 - PROGRESS: at 91.04% examples, 82695 words/s, in_qsize 4, out_qsize 1\n",
            "INFO:gensim.models.word2vec:EPOCH 0 - PROGRESS: at 93.30% examples, 83084 words/s, in_qsize 5, out_qsize 0\n",
            "INFO:gensim.models.word2vec:EPOCH 0 - PROGRESS: at 95.02% examples, 83374 words/s, in_qsize 5, out_qsize 0\n",
            "INFO:gensim.models.word2vec:EPOCH 0 - PROGRESS: at 97.32% examples, 83579 words/s, in_qsize 5, out_qsize 0\n",
            "INFO:gensim.models.word2vec:EPOCH 0 - PROGRESS: at 99.33% examples, 83926 words/s, in_qsize 3, out_qsize 0\n",
            "INFO:gensim.models.word2vec:EPOCH 0: training on 5114884 raw words (4080626 effective words) took 48.5s, 84181 effective words/s\n",
            "INFO:gensim.models.word2vec:EPOCH 1 - PROGRESS: at 2.46% examples, 86697 words/s, in_qsize 5, out_qsize 0\n",
            "INFO:gensim.models.word2vec:EPOCH 1 - PROGRESS: at 4.72% examples, 91209 words/s, in_qsize 5, out_qsize 0\n",
            "INFO:gensim.models.word2vec:EPOCH 1 - PROGRESS: at 7.47% examples, 96121 words/s, in_qsize 5, out_qsize 0\n",
            "INFO:gensim.models.word2vec:EPOCH 1 - PROGRESS: at 9.04% examples, 92406 words/s, in_qsize 5, out_qsize 2\n",
            "INFO:gensim.models.word2vec:EPOCH 1 - PROGRESS: at 12.57% examples, 93818 words/s, in_qsize 6, out_qsize 0\n",
            "INFO:gensim.models.word2vec:EPOCH 1 - PROGRESS: at 14.48% examples, 87343 words/s, in_qsize 6, out_qsize 0\n",
            "INFO:gensim.models.word2vec:EPOCH 1 - PROGRESS: at 15.44% examples, 83027 words/s, in_qsize 5, out_qsize 0\n",
            "INFO:gensim.models.word2vec:EPOCH 1 - PROGRESS: at 16.94% examples, 81257 words/s, in_qsize 5, out_qsize 0\n",
            "INFO:gensim.models.word2vec:EPOCH 1 - PROGRESS: at 18.82% examples, 82663 words/s, in_qsize 5, out_qsize 0\n",
            "INFO:gensim.models.word2vec:EPOCH 1 - PROGRESS: at 20.80% examples, 83108 words/s, in_qsize 5, out_qsize 0\n",
            "INFO:gensim.models.word2vec:EPOCH 1 - PROGRESS: at 22.94% examples, 84364 words/s, in_qsize 5, out_qsize 0\n",
            "INFO:gensim.models.word2vec:EPOCH 1 - PROGRESS: at 26.23% examples, 85449 words/s, in_qsize 5, out_qsize 0\n",
            "INFO:gensim.models.word2vec:EPOCH 1 - PROGRESS: at 28.54% examples, 86296 words/s, in_qsize 5, out_qsize 0\n",
            "INFO:gensim.models.word2vec:EPOCH 1 - PROGRESS: at 30.51% examples, 86749 words/s, in_qsize 5, out_qsize 0\n",
            "INFO:gensim.models.word2vec:EPOCH 1 - PROGRESS: at 32.76% examples, 86897 words/s, in_qsize 5, out_qsize 0\n",
            "INFO:gensim.models.word2vec:EPOCH 1 - PROGRESS: at 35.21% examples, 87548 words/s, in_qsize 5, out_qsize 0\n",
            "INFO:gensim.models.word2vec:EPOCH 1 - PROGRESS: at 41.93% examples, 88771 words/s, in_qsize 5, out_qsize 0\n",
            "INFO:gensim.models.word2vec:EPOCH 1 - PROGRESS: at 43.29% examples, 87039 words/s, in_qsize 6, out_qsize 0\n",
            "INFO:gensim.models.word2vec:EPOCH 1 - PROGRESS: at 45.13% examples, 84727 words/s, in_qsize 5, out_qsize 0\n",
            "INFO:gensim.models.word2vec:EPOCH 1 - PROGRESS: at 47.23% examples, 84483 words/s, in_qsize 5, out_qsize 0\n",
            "INFO:gensim.models.word2vec:EPOCH 1 - PROGRESS: at 49.42% examples, 85283 words/s, in_qsize 5, out_qsize 0\n",
            "INFO:gensim.models.word2vec:EPOCH 1 - PROGRESS: at 52.23% examples, 86035 words/s, in_qsize 5, out_qsize 0\n",
            "INFO:gensim.models.word2vec:EPOCH 1 - PROGRESS: at 54.72% examples, 86175 words/s, in_qsize 5, out_qsize 0\n",
            "INFO:gensim.models.word2vec:EPOCH 1 - PROGRESS: at 57.07% examples, 86926 words/s, in_qsize 5, out_qsize 0\n",
            "INFO:gensim.models.word2vec:EPOCH 1 - PROGRESS: at 59.19% examples, 87263 words/s, in_qsize 5, out_qsize 0\n",
            "INFO:gensim.models.word2vec:EPOCH 1 - PROGRESS: at 61.02% examples, 87417 words/s, in_qsize 5, out_qsize 0\n",
            "INFO:gensim.models.word2vec:EPOCH 1 - PROGRESS: at 63.43% examples, 88198 words/s, in_qsize 5, out_qsize 0\n",
            "INFO:gensim.models.word2vec:EPOCH 1 - PROGRESS: at 65.45% examples, 88324 words/s, in_qsize 5, out_qsize 0\n",
            "INFO:gensim.models.word2vec:EPOCH 1 - PROGRESS: at 67.76% examples, 88220 words/s, in_qsize 5, out_qsize 0\n",
            "INFO:gensim.models.word2vec:EPOCH 1 - PROGRESS: at 69.09% examples, 87226 words/s, in_qsize 5, out_qsize 0\n",
            "INFO:gensim.models.word2vec:EPOCH 1 - PROGRESS: at 70.58% examples, 86399 words/s, in_qsize 5, out_qsize 0\n",
            "INFO:gensim.models.word2vec:EPOCH 1 - PROGRESS: at 72.40% examples, 85779 words/s, in_qsize 4, out_qsize 1\n",
            "INFO:gensim.models.word2vec:EPOCH 1 - PROGRESS: at 75.02% examples, 86200 words/s, in_qsize 5, out_qsize 0\n",
            "INFO:gensim.models.word2vec:EPOCH 1 - PROGRESS: at 77.63% examples, 86696 words/s, in_qsize 5, out_qsize 0\n",
            "INFO:gensim.models.word2vec:EPOCH 1 - PROGRESS: at 79.84% examples, 86898 words/s, in_qsize 5, out_qsize 0\n",
            "INFO:gensim.models.word2vec:EPOCH 1 - PROGRESS: at 82.17% examples, 87181 words/s, in_qsize 5, out_qsize 0\n",
            "INFO:gensim.models.word2vec:EPOCH 1 - PROGRESS: at 84.90% examples, 87289 words/s, in_qsize 5, out_qsize 0\n",
            "INFO:gensim.models.word2vec:EPOCH 1 - PROGRESS: at 87.37% examples, 87392 words/s, in_qsize 5, out_qsize 0\n",
            "INFO:gensim.models.word2vec:EPOCH 1 - PROGRESS: at 91.37% examples, 87556 words/s, in_qsize 5, out_qsize 0\n",
            "INFO:gensim.models.word2vec:EPOCH 1 - PROGRESS: at 93.59% examples, 87918 words/s, in_qsize 5, out_qsize 0\n",
            "INFO:gensim.models.word2vec:EPOCH 1 - PROGRESS: at 95.67% examples, 87971 words/s, in_qsize 6, out_qsize 1\n",
            "INFO:gensim.models.word2vec:EPOCH 1 - PROGRESS: at 97.19% examples, 87334 words/s, in_qsize 5, out_qsize 0\n",
            "INFO:gensim.models.word2vec:EPOCH 1 - PROGRESS: at 98.37% examples, 86690 words/s, in_qsize 5, out_qsize 0\n",
            "INFO:gensim.models.word2vec:EPOCH 1: training on 5114884 raw words (4081005 effective words) took 47.2s, 86461 effective words/s\n",
            "INFO:gensim.models.word2vec:EPOCH 2 - PROGRESS: at 2.79% examples, 90310 words/s, in_qsize 5, out_qsize 0\n",
            "INFO:gensim.models.word2vec:EPOCH 2 - PROGRESS: at 4.87% examples, 95023 words/s, in_qsize 5, out_qsize 0\n",
            "INFO:gensim.models.word2vec:EPOCH 2 - PROGRESS: at 7.59% examples, 93301 words/s, in_qsize 5, out_qsize 0\n",
            "INFO:gensim.models.word2vec:EPOCH 2 - PROGRESS: at 10.13% examples, 94386 words/s, in_qsize 4, out_qsize 1\n",
            "INFO:gensim.models.word2vec:EPOCH 2 - PROGRESS: at 14.07% examples, 97228 words/s, in_qsize 5, out_qsize 0\n",
            "INFO:gensim.models.word2vec:EPOCH 2 - PROGRESS: at 15.98% examples, 96382 words/s, in_qsize 5, out_qsize 0\n",
            "INFO:gensim.models.word2vec:EPOCH 2 - PROGRESS: at 17.91% examples, 96787 words/s, in_qsize 5, out_qsize 0\n",
            "INFO:gensim.models.word2vec:EPOCH 2 - PROGRESS: at 20.20% examples, 96675 words/s, in_qsize 5, out_qsize 0\n",
            "INFO:gensim.models.word2vec:EPOCH 2 - PROGRESS: at 22.52% examples, 97638 words/s, in_qsize 5, out_qsize 0\n",
            "INFO:gensim.models.word2vec:EPOCH 2 - PROGRESS: at 24.54% examples, 93821 words/s, in_qsize 5, out_qsize 0\n",
            "INFO:gensim.models.word2vec:EPOCH 2 - PROGRESS: at 26.25% examples, 91115 words/s, in_qsize 5, out_qsize 0\n",
            "INFO:gensim.models.word2vec:EPOCH 2 - PROGRESS: at 27.54% examples, 88095 words/s, in_qsize 4, out_qsize 1\n",
            "INFO:gensim.models.word2vec:EPOCH 2 - PROGRESS: at 29.97% examples, 89259 words/s, in_qsize 5, out_qsize 0\n",
            "INFO:gensim.models.word2vec:EPOCH 2 - PROGRESS: at 31.77% examples, 89131 words/s, in_qsize 5, out_qsize 0\n",
            "INFO:gensim.models.word2vec:EPOCH 2 - PROGRESS: at 33.84% examples, 89648 words/s, in_qsize 5, out_qsize 0\n",
            "INFO:gensim.models.word2vec:EPOCH 2 - PROGRESS: at 36.35% examples, 89897 words/s, in_qsize 5, out_qsize 0\n",
            "INFO:gensim.models.word2vec:EPOCH 2 - PROGRESS: at 42.78% examples, 90919 words/s, in_qsize 5, out_qsize 0\n",
            "INFO:gensim.models.word2vec:EPOCH 2 - PROGRESS: at 45.55% examples, 91211 words/s, in_qsize 6, out_qsize 1\n",
            "INFO:gensim.models.word2vec:EPOCH 2 - PROGRESS: at 47.78% examples, 91237 words/s, in_qsize 5, out_qsize 0\n",
            "INFO:gensim.models.word2vec:EPOCH 2 - PROGRESS: at 49.82% examples, 91540 words/s, in_qsize 5, out_qsize 0\n",
            "INFO:gensim.models.word2vec:EPOCH 2 - PROGRESS: at 52.67% examples, 92100 words/s, in_qsize 5, out_qsize 0\n",
            "INFO:gensim.models.word2vec:EPOCH 2 - PROGRESS: at 54.51% examples, 90723 words/s, in_qsize 5, out_qsize 0\n",
            "INFO:gensim.models.word2vec:EPOCH 2 - PROGRESS: at 56.08% examples, 89033 words/s, in_qsize 5, out_qsize 0\n",
            "INFO:gensim.models.word2vec:EPOCH 2 - PROGRESS: at 57.28% examples, 88112 words/s, in_qsize 5, out_qsize 0\n",
            "INFO:gensim.models.word2vec:EPOCH 2 - PROGRESS: at 59.59% examples, 88464 words/s, in_qsize 5, out_qsize 0\n",
            "INFO:gensim.models.word2vec:EPOCH 2 - PROGRESS: at 61.45% examples, 88702 words/s, in_qsize 5, out_qsize 0\n",
            "INFO:gensim.models.word2vec:EPOCH 2 - PROGRESS: at 63.43% examples, 88857 words/s, in_qsize 5, out_qsize 0\n",
            "INFO:gensim.models.word2vec:EPOCH 2 - PROGRESS: at 65.61% examples, 89387 words/s, in_qsize 5, out_qsize 0\n",
            "INFO:gensim.models.word2vec:EPOCH 2 - PROGRESS: at 67.89% examples, 89484 words/s, in_qsize 5, out_qsize 0\n",
            "INFO:gensim.models.word2vec:EPOCH 2 - PROGRESS: at 70.58% examples, 90073 words/s, in_qsize 5, out_qsize 0\n",
            "INFO:gensim.models.word2vec:EPOCH 2 - PROGRESS: at 72.87% examples, 90128 words/s, in_qsize 4, out_qsize 1\n",
            "INFO:gensim.models.word2vec:EPOCH 2 - PROGRESS: at 75.42% examples, 90303 words/s, in_qsize 5, out_qsize 0\n",
            "INFO:gensim.models.word2vec:EPOCH 2 - PROGRESS: at 77.88% examples, 90695 words/s, in_qsize 5, out_qsize 0\n",
            "INFO:gensim.models.word2vec:EPOCH 2 - PROGRESS: at 79.84% examples, 89968 words/s, in_qsize 6, out_qsize 0\n",
            "INFO:gensim.models.word2vec:EPOCH 2 - PROGRESS: at 81.37% examples, 89077 words/s, in_qsize 5, out_qsize 0\n",
            "INFO:gensim.models.word2vec:EPOCH 2 - PROGRESS: at 82.86% examples, 88287 words/s, in_qsize 5, out_qsize 0\n",
            "INFO:gensim.models.word2vec:EPOCH 2 - PROGRESS: at 86.02% examples, 88252 words/s, in_qsize 5, out_qsize 0\n",
            "INFO:gensim.models.word2vec:EPOCH 2 - PROGRESS: at 89.32% examples, 88637 words/s, in_qsize 5, out_qsize 0\n",
            "INFO:gensim.models.word2vec:EPOCH 2 - PROGRESS: at 92.30% examples, 88792 words/s, in_qsize 5, out_qsize 0\n",
            "INFO:gensim.models.word2vec:EPOCH 2 - PROGRESS: at 94.00% examples, 88851 words/s, in_qsize 5, out_qsize 0\n",
            "INFO:gensim.models.word2vec:EPOCH 2 - PROGRESS: at 96.34% examples, 89066 words/s, in_qsize 5, out_qsize 0\n",
            "INFO:gensim.models.word2vec:EPOCH 2 - PROGRESS: at 98.16% examples, 89108 words/s, in_qsize 5, out_qsize 0\n",
            "INFO:gensim.models.word2vec:EPOCH 2: training on 5114884 raw words (4081635 effective words) took 45.6s, 89559 effective words/s\n",
            "INFO:gensim.models.word2vec:EPOCH 3 - PROGRESS: at 2.46% examples, 92770 words/s, in_qsize 5, out_qsize 0\n",
            "INFO:gensim.models.word2vec:EPOCH 3 - PROGRESS: at 4.64% examples, 92830 words/s, in_qsize 5, out_qsize 0\n",
            "INFO:gensim.models.word2vec:EPOCH 3 - PROGRESS: at 7.25% examples, 94497 words/s, in_qsize 6, out_qsize 0\n",
            "INFO:gensim.models.word2vec:EPOCH 3 - PROGRESS: at 8.57% examples, 84932 words/s, in_qsize 6, out_qsize 0\n",
            "INFO:gensim.models.word2vec:EPOCH 3 - PROGRESS: at 9.99% examples, 80824 words/s, in_qsize 5, out_qsize 0\n",
            "INFO:gensim.models.word2vec:EPOCH 3 - PROGRESS: at 12.57% examples, 77376 words/s, in_qsize 5, out_qsize 0\n",
            "INFO:gensim.models.word2vec:EPOCH 3 - PROGRESS: at 14.90% examples, 79713 words/s, in_qsize 5, out_qsize 0\n",
            "INFO:gensim.models.word2vec:EPOCH 3 - PROGRESS: at 17.22% examples, 82494 words/s, in_qsize 5, out_qsize 0\n",
            "INFO:gensim.models.word2vec:EPOCH 3 - PROGRESS: at 19.30% examples, 83627 words/s, in_qsize 5, out_qsize 0\n",
            "INFO:gensim.models.word2vec:EPOCH 3 - PROGRESS: at 21.66% examples, 85570 words/s, in_qsize 5, out_qsize 0\n",
            "INFO:gensim.models.word2vec:EPOCH 3 - PROGRESS: at 24.29% examples, 87065 words/s, in_qsize 5, out_qsize 0\n",
            "INFO:gensim.models.word2vec:EPOCH 3 - PROGRESS: at 27.19% examples, 88242 words/s, in_qsize 5, out_qsize 0\n",
            "INFO:gensim.models.word2vec:EPOCH 3 - PROGRESS: at 29.47% examples, 88695 words/s, in_qsize 5, out_qsize 0\n",
            "INFO:gensim.models.word2vec:EPOCH 3 - PROGRESS: at 31.76% examples, 89086 words/s, in_qsize 5, out_qsize 0\n",
            "INFO:gensim.models.word2vec:EPOCH 3 - PROGRESS: at 33.65% examples, 89511 words/s, in_qsize 5, out_qsize 0\n",
            "INFO:gensim.models.word2vec:EPOCH 3 - PROGRESS: at 35.68% examples, 88624 words/s, in_qsize 5, out_qsize 0\n",
            "INFO:gensim.models.word2vec:EPOCH 3 - PROGRESS: at 39.73% examples, 87363 words/s, in_qsize 5, out_qsize 0\n",
            "INFO:gensim.models.word2vec:EPOCH 3 - PROGRESS: at 42.47% examples, 85724 words/s, in_qsize 4, out_qsize 1\n",
            "INFO:gensim.models.word2vec:EPOCH 3 - PROGRESS: at 45.01% examples, 85489 words/s, in_qsize 5, out_qsize 0\n",
            "INFO:gensim.models.word2vec:EPOCH 3 - PROGRESS: at 47.65% examples, 86372 words/s, in_qsize 5, out_qsize 0\n",
            "INFO:gensim.models.word2vec:EPOCH 3 - PROGRESS: at 49.42% examples, 86703 words/s, in_qsize 5, out_qsize 0\n",
            "INFO:gensim.models.word2vec:EPOCH 3 - PROGRESS: at 51.99% examples, 87136 words/s, in_qsize 5, out_qsize 0\n",
            "INFO:gensim.models.word2vec:EPOCH 3 - PROGRESS: at 54.20% examples, 87324 words/s, in_qsize 5, out_qsize 0\n",
            "INFO:gensim.models.word2vec:EPOCH 3 - PROGRESS: at 56.47% examples, 87810 words/s, in_qsize 5, out_qsize 0\n",
            "INFO:gensim.models.word2vec:EPOCH 3 - PROGRESS: at 58.42% examples, 88078 words/s, in_qsize 5, out_qsize 0\n",
            "INFO:gensim.models.word2vec:EPOCH 3 - PROGRESS: at 60.40% examples, 88315 words/s, in_qsize 5, out_qsize 0\n",
            "INFO:gensim.models.word2vec:EPOCH 3 - PROGRESS: at 62.54% examples, 88728 words/s, in_qsize 6, out_qsize 0\n",
            "INFO:gensim.models.word2vec:EPOCH 3 - PROGRESS: at 64.48% examples, 89003 words/s, in_qsize 5, out_qsize 0\n",
            "INFO:gensim.models.word2vec:EPOCH 3 - PROGRESS: at 65.79% examples, 87473 words/s, in_qsize 6, out_qsize 0\n",
            "INFO:gensim.models.word2vec:EPOCH 3 - PROGRESS: at 67.64% examples, 86413 words/s, in_qsize 5, out_qsize 0\n",
            "INFO:gensim.models.word2vec:EPOCH 3 - PROGRESS: at 69.30% examples, 85941 words/s, in_qsize 5, out_qsize 0\n",
            "INFO:gensim.models.word2vec:EPOCH 3 - PROGRESS: at 72.14% examples, 86393 words/s, in_qsize 5, out_qsize 0\n",
            "INFO:gensim.models.word2vec:EPOCH 3 - PROGRESS: at 74.36% examples, 86697 words/s, in_qsize 5, out_qsize 0\n",
            "INFO:gensim.models.word2vec:EPOCH 3 - PROGRESS: at 77.08% examples, 87001 words/s, in_qsize 5, out_qsize 0\n",
            "INFO:gensim.models.word2vec:EPOCH 3 - PROGRESS: at 79.00% examples, 87283 words/s, in_qsize 5, out_qsize 0\n",
            "INFO:gensim.models.word2vec:EPOCH 3 - PROGRESS: at 81.53% examples, 87477 words/s, in_qsize 5, out_qsize 0\n",
            "INFO:gensim.models.word2vec:EPOCH 3 - PROGRESS: at 84.57% examples, 87767 words/s, in_qsize 5, out_qsize 0\n",
            "INFO:gensim.models.word2vec:EPOCH 3 - PROGRESS: at 86.95% examples, 87884 words/s, in_qsize 5, out_qsize 0\n",
            "INFO:gensim.models.word2vec:EPOCH 3 - PROGRESS: at 90.90% examples, 88205 words/s, in_qsize 5, out_qsize 0\n",
            "INFO:gensim.models.word2vec:EPOCH 3 - PROGRESS: at 93.30% examples, 88519 words/s, in_qsize 5, out_qsize 0\n",
            "INFO:gensim.models.word2vec:EPOCH 3 - PROGRESS: at 94.39% examples, 87436 words/s, in_qsize 6, out_qsize 0\n",
            "INFO:gensim.models.word2vec:EPOCH 3 - PROGRESS: at 95.65% examples, 86830 words/s, in_qsize 5, out_qsize 0\n",
            "INFO:gensim.models.word2vec:EPOCH 3 - PROGRESS: at 97.19% examples, 86342 words/s, in_qsize 5, out_qsize 0\n",
            "INFO:gensim.models.word2vec:EPOCH 3 - PROGRESS: at 98.90% examples, 86486 words/s, in_qsize 5, out_qsize 0\n",
            "INFO:gensim.models.word2vec:EPOCH 3: training on 5114884 raw words (4081367 effective words) took 47.1s, 86710 effective words/s\n",
            "INFO:gensim.models.word2vec:EPOCH 4 - PROGRESS: at 2.14% examples, 83444 words/s, in_qsize 5, out_qsize 0\n",
            "INFO:gensim.models.word2vec:EPOCH 4 - PROGRESS: at 4.76% examples, 90963 words/s, in_qsize 5, out_qsize 0\n",
            "INFO:gensim.models.word2vec:EPOCH 4 - PROGRESS: at 7.25% examples, 92544 words/s, in_qsize 5, out_qsize 0\n",
            "INFO:gensim.models.word2vec:EPOCH 4 - PROGRESS: at 9.14% examples, 94502 words/s, in_qsize 5, out_qsize 0\n",
            "INFO:gensim.models.word2vec:EPOCH 4 - PROGRESS: at 12.90% examples, 94708 words/s, in_qsize 5, out_qsize 0\n",
            "INFO:gensim.models.word2vec:EPOCH 4 - PROGRESS: at 15.15% examples, 93620 words/s, in_qsize 5, out_qsize 0\n",
            "INFO:gensim.models.word2vec:EPOCH 4 - PROGRESS: at 17.33% examples, 94021 words/s, in_qsize 4, out_qsize 1\n",
            "INFO:gensim.models.word2vec:EPOCH 4 - PROGRESS: at 19.70% examples, 95058 words/s, in_qsize 5, out_qsize 0\n",
            "INFO:gensim.models.word2vec:EPOCH 4 - PROGRESS: at 20.75% examples, 90081 words/s, in_qsize 5, out_qsize 0\n",
            "INFO:gensim.models.word2vec:EPOCH 4 - PROGRESS: at 22.39% examples, 87231 words/s, in_qsize 5, out_qsize 0\n",
            "INFO:gensim.models.word2vec:EPOCH 4 - PROGRESS: at 24.29% examples, 85235 words/s, in_qsize 4, out_qsize 1\n",
            "INFO:gensim.models.word2vec:EPOCH 4 - PROGRESS: at 27.18% examples, 86481 words/s, in_qsize 5, out_qsize 0\n",
            "INFO:gensim.models.word2vec:EPOCH 4 - PROGRESS: at 29.54% examples, 87298 words/s, in_qsize 5, out_qsize 0\n",
            "INFO:gensim.models.word2vec:EPOCH 4 - PROGRESS: at 31.41% examples, 87983 words/s, in_qsize 5, out_qsize 0\n",
            "INFO:gensim.models.word2vec:EPOCH 4 - PROGRESS: at 33.48% examples, 88234 words/s, in_qsize 5, out_qsize 0\n",
            "INFO:gensim.models.word2vec:EPOCH 4 - PROGRESS: at 35.86% examples, 88621 words/s, in_qsize 5, out_qsize 0\n",
            "INFO:gensim.models.word2vec:EPOCH 4 - PROGRESS: at 42.35% examples, 89747 words/s, in_qsize 5, out_qsize 0\n",
            "INFO:gensim.models.word2vec:EPOCH 4 - PROGRESS: at 45.01% examples, 90176 words/s, in_qsize 5, out_qsize 0\n",
            "INFO:gensim.models.word2vec:EPOCH 4 - PROGRESS: at 47.27% examples, 90055 words/s, in_qsize 5, out_qsize 0\n",
            "INFO:gensim.models.word2vec:EPOCH 4 - PROGRESS: at 49.17% examples, 90427 words/s, in_qsize 5, out_qsize 0\n",
            "INFO:gensim.models.word2vec:EPOCH 4 - PROGRESS: at 51.17% examples, 88806 words/s, in_qsize 5, out_qsize 0\n",
            "INFO:gensim.models.word2vec:EPOCH 4 - PROGRESS: at 52.87% examples, 87261 words/s, in_qsize 5, out_qsize 0\n",
            "INFO:gensim.models.word2vec:EPOCH 4 - PROGRESS: at 54.51% examples, 86226 words/s, in_qsize 5, out_qsize 0\n",
            "INFO:gensim.models.word2vec:EPOCH 4 - PROGRESS: at 56.90% examples, 86933 words/s, in_qsize 5, out_qsize 0\n",
            "INFO:gensim.models.word2vec:EPOCH 4 - PROGRESS: at 58.91% examples, 86991 words/s, in_qsize 4, out_qsize 1\n",
            "INFO:gensim.models.word2vec:EPOCH 4 - PROGRESS: at 61.25% examples, 87266 words/s, in_qsize 5, out_qsize 0\n",
            "INFO:gensim.models.word2vec:EPOCH 4 - PROGRESS: at 63.33% examples, 87717 words/s, in_qsize 5, out_qsize 0\n",
            "INFO:gensim.models.word2vec:EPOCH 4 - PROGRESS: at 65.26% examples, 87893 words/s, in_qsize 5, out_qsize 0\n",
            "INFO:gensim.models.word2vec:EPOCH 4 - PROGRESS: at 67.72% examples, 88149 words/s, in_qsize 5, out_qsize 0\n",
            "INFO:gensim.models.word2vec:EPOCH 4 - PROGRESS: at 70.13% examples, 88535 words/s, in_qsize 6, out_qsize 0\n",
            "INFO:gensim.models.word2vec:EPOCH 4 - PROGRESS: at 72.71% examples, 88694 words/s, in_qsize 5, out_qsize 0\n",
            "INFO:gensim.models.word2vec:EPOCH 4 - PROGRESS: at 74.79% examples, 88657 words/s, in_qsize 5, out_qsize 0\n",
            "INFO:gensim.models.word2vec:EPOCH 4 - PROGRESS: at 76.73% examples, 88024 words/s, in_qsize 6, out_qsize 0\n",
            "INFO:gensim.models.word2vec:EPOCH 4 - PROGRESS: at 77.96% examples, 86944 words/s, in_qsize 6, out_qsize 0\n",
            "INFO:gensim.models.word2vec:EPOCH 4 - PROGRESS: at 79.41% examples, 86491 words/s, in_qsize 5, out_qsize 0\n",
            "INFO:gensim.models.word2vec:EPOCH 4 - PROGRESS: at 82.17% examples, 86841 words/s, in_qsize 5, out_qsize 0\n",
            "INFO:gensim.models.word2vec:EPOCH 4 - PROGRESS: at 85.14% examples, 87162 words/s, in_qsize 5, out_qsize 0\n",
            "INFO:gensim.models.word2vec:EPOCH 4 - PROGRESS: at 88.24% examples, 87372 words/s, in_qsize 5, out_qsize 0\n",
            "INFO:gensim.models.word2vec:EPOCH 4 - PROGRESS: at 92.03% examples, 87712 words/s, in_qsize 5, out_qsize 0\n",
            "INFO:gensim.models.word2vec:EPOCH 4 - PROGRESS: at 93.86% examples, 88007 words/s, in_qsize 5, out_qsize 0\n",
            "INFO:gensim.models.word2vec:EPOCH 4 - PROGRESS: at 96.10% examples, 88049 words/s, in_qsize 5, out_qsize 0\n",
            "INFO:gensim.models.word2vec:EPOCH 4 - PROGRESS: at 97.96% examples, 88293 words/s, in_qsize 5, out_qsize 0\n",
            "INFO:gensim.models.word2vec:EPOCH 4: training on 5114884 raw words (4081230 effective words) took 46.1s, 88604 effective words/s\n",
            "INFO:gensim.utils:FastText lifecycle event {'msg': 'training on 25574420 raw words (20405863 effective words) took 234.4s, 87052 effective words/s', 'datetime': '2023-06-02T22:37:06.408121', 'gensim': '4.3.1', 'python': '3.10.11 (main, Apr  5 2023, 14:15:10) [GCC 9.4.0]', 'platform': 'Linux-5.15.107+-x86_64-with-glibc2.31', 'event': 'train'}\n",
            "INFO:gensim.utils:FastText lifecycle event {'params': 'FastText<vocab=51398, vector_size=100, alpha=0.025>', 'datetime': '2023-06-02T22:37:10.696060', 'gensim': '4.3.1', 'python': '3.10.11 (main, Apr  5 2023, 14:15:10) [GCC 9.4.0]', 'platform': 'Linux-5.15.107+-x86_64-with-glibc2.31', 'event': 'created'}\n"
          ]
        }
      ]
    },
    {
      "cell_type": "code",
      "source": [
        "ft.wv.most_similar(\"город\")"
      ],
      "metadata": {
        "colab": {
          "base_uri": "https://localhost:8080/"
        },
        "id": "gyTiW57qotig",
        "outputId": "0c7bcc1d-9deb-4d72-d161-2b84d80afe94"
      },
      "id": "gyTiW57qotig",
      "execution_count": 117,
      "outputs": [
        {
          "output_type": "execute_result",
          "data": {
            "text/plain": [
              "[('ужгород', 0.9639153480529785),\n",
              " ('«город', 0.9610036015510559),\n",
              " ('город»', 0.9555705189704895),\n",
              " ('городе»', 0.9482086896896362),\n",
              " ('белгород', 0.9312699437141418),\n",
              " ('огород', 0.9288678765296936),\n",
              " ('городец', 0.9286567568778992),\n",
              " ('городня', 0.9189662933349609),\n",
              " ('городок', 0.917345404624939),\n",
              " ('китай-город', 0.9073127508163452)]"
            ]
          },
          "metadata": {},
          "execution_count": 117
        }
      ]
    },
    {
      "cell_type": "code",
      "source": [
        "ft.wv.most_similar(\"профессор\")"
      ],
      "metadata": {
        "colab": {
          "base_uri": "https://localhost:8080/"
        },
        "id": "TSX5M3StowyX",
        "outputId": "c8fee104-a08b-40e5-99c4-eb3bc99f0e95"
      },
      "id": "TSX5M3StowyX",
      "execution_count": 118,
      "outputs": [
        {
          "output_type": "execute_result",
          "data": {
            "text/plain": [
              "[('адъюнкт-профессор', 0.9750276803970337),\n",
              " ('«профессор', 0.9733209609985352),\n",
              " ('ассистент-профессор', 0.9536250829696655),\n",
              " ('профессура', 0.8998289108276367),\n",
              " ('физик', 0.8646581172943115),\n",
              " ('академикал»', 0.8384290337562561),\n",
              " ('академик', 0.8337711095809937),\n",
              " ('асессор', 0.8323731422424316),\n",
              " ('преподаватель', 0.8292263150215149),\n",
              " ('доктор', 0.8186699748039246)]"
            ]
          },
          "metadata": {},
          "execution_count": 118
        }
      ]
    },
    {
      "cell_type": "code",
      "source": [
        "ft.wv.most_similar(\"студент\")"
      ],
      "metadata": {
        "colab": {
          "base_uri": "https://localhost:8080/"
        },
        "id": "zmUvPNTVoyMY",
        "outputId": "954bc6fd-ac78-4bcf-b47a-8e596277ebf0"
      },
      "id": "zmUvPNTVoyMY",
      "execution_count": 119,
      "outputs": [
        {
          "output_type": "execute_result",
          "data": {
            "text/plain": [
              "[('студентка', 0.8605139851570129),\n",
              " ('тренер-преподаватель', 0.8303905129432678),\n",
              " ('преподаватель', 0.8264657258987427),\n",
              " ('студенок', 0.8090336918830872),\n",
              " ('эмитент', 0.7855080962181091),\n",
              " ('аспирант', 0.7763375043869019),\n",
              " ('учитель', 0.7733142375946045),\n",
              " ('пенсионер', 0.7650538682937622),\n",
              " ('профтехшкола', 0.7627951502799988),\n",
              " ('эксцентриситет', 0.754654586315155)]"
            ]
          },
          "metadata": {},
          "execution_count": 119
        }
      ]
    },
    {
      "cell_type": "code",
      "source": [
        "ft.wv.most_similar(\"река\")"
      ],
      "metadata": {
        "colab": {
          "base_uri": "https://localhost:8080/"
        },
        "id": "UQ-8qqo5u0C4",
        "outputId": "71bf69f5-8964-4599-c698-c25a7073bf1a"
      },
      "id": "UQ-8qqo5u0C4",
      "execution_count": 120,
      "outputs": [
        {
          "output_type": "execute_result",
          "data": {
            "text/plain": [
              "[('шрека', 0.978700578212738),\n",
              " ('«река', 0.9742478132247925),\n",
              " ('бурека', 0.9683145880699158),\n",
              " ('берека', 0.9577885866165161),\n",
              " ('курека', 0.9482197165489197),\n",
              " ('фрека', 0.9456060528755188),\n",
              " ('брека', 0.938793420791626),\n",
              " ('бережок', 0.8770813941955566),\n",
              " ('берег', 0.8739312887191772),\n",
              " ('бурекас', 0.8611720204353333)]"
            ]
          },
          "metadata": {},
          "execution_count": 120
        }
      ]
    },
    {
      "cell_type": "markdown",
      "source": [
        "Эта модель выдаёт одинаковые слова и другие падежные формы, чем близкие по значению к исходному. "
      ],
      "metadata": {
        "id": "0k-oVdvvu29O"
      },
      "id": "0k-oVdvvu29O"
    },
    {
      "cell_type": "markdown",
      "metadata": {
        "id": "e4bb928c"
      },
      "source": [
        "# Задание 3 (4 балла)"
      ],
      "id": "e4bb928c"
    },
    {
      "cell_type": "markdown",
      "metadata": {
        "id": "3019b0d1"
      },
      "source": [
        "Используя датасет для классификации (labeled.csv) и простую нейронную сеть (последняя модель в семинаре), оцените качество полученных эмбедингов в задании 1 и 2 (4 набора эмбедингов), также проверьте 1 любую из предобученных моделей с rus-vectores (но только не tayga_upos_skipgram_300_2_2019). \n",
        "Какая модель показывает наилучший результат?\n",
        "\n",
        "Убедитесь, что для каждой модели вы корректно воспроизводите пайплайн предобработки (в 1 задании у вас лемматизация, не забудьте ее применить к датасету для классификации; у выбранной предобученной модели может быть своя специфичная предобработка - ее нужно воспроизвести)"
      ],
      "id": "3019b0d1"
    },
    {
      "cell_type": "code",
      "source": [
        "import pymorphy2\n",
        "morph = pymorphy2.MorphAnalyzer()"
      ],
      "metadata": {
        "colab": {
          "base_uri": "https://localhost:8080/"
        },
        "outputId": "2ab84563-ef0c-4176-98ae-2b3506cd1784",
        "id": "dizlzEOVBP4q"
      },
      "execution_count": 121,
      "outputs": [
        {
          "output_type": "stream",
          "name": "stderr",
          "text": [
            "INFO:pymorphy2.opencorpora_dict.wrapper:Loading dictionaries from /usr/local/lib/python3.10/dist-packages/pymorphy2_dicts_ru/data\n",
            "INFO:pymorphy2.opencorpora_dict.wrapper:format: 2.4, revision: 417127, updated: 2020-10-11T15:05:51.070345\n"
          ]
        }
      ],
      "id": "dizlzEOVBP4q"
    },
    {
      "cell_type": "code",
      "execution_count": 122,
      "metadata": {
        "id": "N_9aev1eBP47"
      },
      "outputs": [],
      "source": [
        "import re\n",
        "def preprocess(text):\n",
        "    tokens = re.sub('#+', ' ', text.lower()).split()\n",
        "    tokens = [token.strip(punctuation) for token in tokens]\n",
        "    lemmas = list()\n",
        "    for word in tokens:\n",
        "        p = morph.parse(word)[0]\n",
        "        lemmas.append(p.normal_form)\n",
        "    return lemmas"
      ],
      "id": "N_9aev1eBP47"
    },
    {
      "cell_type": "code",
      "execution_count": 123,
      "metadata": {
        "id": "UuDS4qO9vXgo"
      },
      "outputs": [],
      "source": [
        "file = os.path.join(root_data_dir, 'labeled.csv')"
      ],
      "id": "UuDS4qO9vXgo"
    },
    {
      "cell_type": "code",
      "execution_count": 124,
      "metadata": {
        "id": "0GwksaEZvXgp"
      },
      "outputs": [],
      "source": [
        "data = pd.read_csv(file)\n",
        "data['preprocessed_text'] = data.comment.apply(preprocess)"
      ],
      "id": "0GwksaEZvXgp"
    },
    {
      "cell_type": "code",
      "execution_count": 125,
      "metadata": {
        "id": "60c18c5a",
        "colab": {
          "base_uri": "https://localhost:8080/"
        },
        "outputId": "af63d0fe-3155-4f08-8760-de707a8ccb2c"
      },
      "outputs": [
        {
          "output_type": "execute_result",
          "data": {
            "text/plain": [
              "6309"
            ]
          },
          "metadata": {},
          "execution_count": 125
        }
      ],
      "source": [
        "vocab = Counter()\n",
        "\n",
        "for text in data['preprocessed_text']:\n",
        "    vocab.update(text)\n",
        "    \n",
        "filtered_vocab = set()\n",
        "\n",
        "for word in vocab:\n",
        "    if vocab[word] > 5:\n",
        "        filtered_vocab.add(word)\n",
        "\n",
        "len(filtered_vocab)"
      ],
      "id": "60c18c5a"
    },
    {
      "cell_type": "code",
      "source": [
        "word2id = { 'PAD':0}\n",
        "\n",
        "for word in filtered_vocab:\n",
        "    word2id[word] = len(word2id)\n",
        "id2word = {i:word for word, i in word2id.items()}"
      ],
      "metadata": {
        "id": "NE0pyo-s0w1l"
      },
      "id": "NE0pyo-s0w1l",
      "execution_count": 126,
      "outputs": []
    },
    {
      "cell_type": "code",
      "source": [
        "X = []\n",
        "\n",
        "for tokens in data['preprocessed_text']:\n",
        "    ids = [word2id[token] for token in tokens if token in word2id]\n",
        "    X.append(ids)\n",
        "len(X)"
      ],
      "metadata": {
        "colab": {
          "base_uri": "https://localhost:8080/"
        },
        "id": "swzH2mYzzs9d",
        "outputId": "e5eb01ef-154d-4b61-829e-02b261f8091d"
      },
      "id": "swzH2mYzzs9d",
      "execution_count": 127,
      "outputs": [
        {
          "output_type": "execute_result",
          "data": {
            "text/plain": [
              "14412"
            ]
          },
          "metadata": {},
          "execution_count": 127
        }
      ]
    },
    {
      "cell_type": "markdown",
      "source": [
        "**SkipGram**"
      ],
      "metadata": {
        "id": "esrKA_gz14dA"
      },
      "id": "esrKA_gz14dA"
    },
    {
      "cell_type": "code",
      "source": [
        "X_skip = tf.keras.preprocessing.sequence.pad_sequences(X, maxlen=300)\n",
        "y_skip = data.toxic.values\n",
        "\n",
        "X_train_skip, X_valid_skip, y_train_skip, y_valid_skip = train_test_split(X_skip, y_skip, test_size=0.1)\n",
        "weights = np.zeros((len(word2id), 300))\n",
        "\n",
        "model_weights = embeddings\n",
        "\n",
        "for id in id2word.keys(): \n",
        "    if id == 0:\n",
        "        continue\n",
        "    try:\n",
        "        weights[id] = model_weights[id]\n",
        "      \n",
        "      \n",
        "    except KeyError:\n",
        "        continue\n",
        "        weights[id] = model_weights[100000000] \n",
        "\n",
        "inputs = tf.keras.layers.Input(shape=(300,))\n",
        "\n",
        "embeddings = tf.keras.layers.Embedding(input_dim=len(word2id), output_dim=300, \n",
        "                                        trainable=False,\n",
        "                                        weights=[weights])(inputs, )\n",
        "mean = tf.keras.layers.Lambda(lambda x: tf.keras.backend.mean(x,  axis=1))(embeddings)\n",
        "\n",
        "outputs = tf.keras.layers.Dense(1, activation='sigmoid')(mean)\n",
        "\n",
        "skip_classifier = tf.keras.Model(inputs=inputs, outputs=outputs)\n",
        "optimizer = tf.keras.optimizers.Adam()\n",
        "skip_classifier.compile(optimizer=optimizer,\n",
        "                loss='binary_crossentropy',\n",
        "                metrics=['accuracy'])\n",
        "  \n",
        "skip_classifier.fit(X_train_skip, y_train_skip, \n",
        "          validation_data=(X_valid_skip, y_valid_skip),\n",
        "          batch_size=32,\n",
        "         epochs=30)\n",
        "  "
      ],
      "metadata": {
        "colab": {
          "base_uri": "https://localhost:8080/"
        },
        "id": "kCChos321l_L",
        "outputId": "bf57f212-7212-4525-e7b2-ea9d742a65c9"
      },
      "execution_count": 128,
      "outputs": [
        {
          "output_type": "stream",
          "name": "stdout",
          "text": [
            "Epoch 1/30\n",
            "406/406 [==============================] - 3s 7ms/step - loss: 0.6482 - accuracy: 0.6630 - val_loss: 0.6372 - val_accuracy: 0.6581\n",
            "Epoch 2/30\n",
            "406/406 [==============================] - 2s 6ms/step - loss: 0.6272 - accuracy: 0.6659 - val_loss: 0.6358 - val_accuracy: 0.6581\n",
            "Epoch 3/30\n",
            "406/406 [==============================] - 2s 5ms/step - loss: 0.6259 - accuracy: 0.6659 - val_loss: 0.6356 - val_accuracy: 0.6581\n",
            "Epoch 4/30\n",
            "406/406 [==============================] - 2s 5ms/step - loss: 0.6254 - accuracy: 0.6659 - val_loss: 0.6357 - val_accuracy: 0.6581\n",
            "Epoch 5/30\n",
            "406/406 [==============================] - 2s 5ms/step - loss: 0.6251 - accuracy: 0.6659 - val_loss: 0.6353 - val_accuracy: 0.6581\n",
            "Epoch 6/30\n",
            "406/406 [==============================] - 2s 5ms/step - loss: 0.6248 - accuracy: 0.6659 - val_loss: 0.6347 - val_accuracy: 0.6581\n",
            "Epoch 7/30\n",
            "406/406 [==============================] - 3s 7ms/step - loss: 0.6245 - accuracy: 0.6659 - val_loss: 0.6343 - val_accuracy: 0.6581\n",
            "Epoch 8/30\n",
            "406/406 [==============================] - 2s 5ms/step - loss: 0.6242 - accuracy: 0.6659 - val_loss: 0.6341 - val_accuracy: 0.6581\n",
            "Epoch 9/30\n",
            "406/406 [==============================] - 2s 5ms/step - loss: 0.6239 - accuracy: 0.6659 - val_loss: 0.6341 - val_accuracy: 0.6581\n",
            "Epoch 10/30\n",
            "406/406 [==============================] - 2s 5ms/step - loss: 0.6236 - accuracy: 0.6659 - val_loss: 0.6337 - val_accuracy: 0.6581\n",
            "Epoch 11/30\n",
            "406/406 [==============================] - 2s 5ms/step - loss: 0.6233 - accuracy: 0.6659 - val_loss: 0.6330 - val_accuracy: 0.6581\n",
            "Epoch 12/30\n",
            "406/406 [==============================] - 2s 6ms/step - loss: 0.6230 - accuracy: 0.6659 - val_loss: 0.6330 - val_accuracy: 0.6581\n",
            "Epoch 13/30\n",
            "406/406 [==============================] - 3s 7ms/step - loss: 0.6227 - accuracy: 0.6659 - val_loss: 0.6325 - val_accuracy: 0.6581\n",
            "Epoch 14/30\n",
            "406/406 [==============================] - 2s 5ms/step - loss: 0.6225 - accuracy: 0.6659 - val_loss: 0.6324 - val_accuracy: 0.6581\n",
            "Epoch 15/30\n",
            "406/406 [==============================] - 2s 5ms/step - loss: 0.6222 - accuracy: 0.6659 - val_loss: 0.6323 - val_accuracy: 0.6581\n",
            "Epoch 16/30\n",
            "406/406 [==============================] - 2s 5ms/step - loss: 0.6218 - accuracy: 0.6659 - val_loss: 0.6316 - val_accuracy: 0.6581\n",
            "Epoch 17/30\n",
            "406/406 [==============================] - 2s 5ms/step - loss: 0.6216 - accuracy: 0.6659 - val_loss: 0.6316 - val_accuracy: 0.6581\n",
            "Epoch 18/30\n",
            "406/406 [==============================] - 3s 6ms/step - loss: 0.6213 - accuracy: 0.6659 - val_loss: 0.6315 - val_accuracy: 0.6581\n",
            "Epoch 19/30\n",
            "406/406 [==============================] - 2s 6ms/step - loss: 0.6211 - accuracy: 0.6659 - val_loss: 0.6313 - val_accuracy: 0.6581\n",
            "Epoch 20/30\n",
            "406/406 [==============================] - 2s 5ms/step - loss: 0.6208 - accuracy: 0.6659 - val_loss: 0.6310 - val_accuracy: 0.6581\n",
            "Epoch 21/30\n",
            "406/406 [==============================] - 2s 5ms/step - loss: 0.6205 - accuracy: 0.6659 - val_loss: 0.6306 - val_accuracy: 0.6581\n",
            "Epoch 22/30\n",
            "406/406 [==============================] - 2s 5ms/step - loss: 0.6202 - accuracy: 0.6659 - val_loss: 0.6305 - val_accuracy: 0.6581\n",
            "Epoch 23/30\n",
            "406/406 [==============================] - 2s 5ms/step - loss: 0.6199 - accuracy: 0.6659 - val_loss: 0.6307 - val_accuracy: 0.6581\n",
            "Epoch 24/30\n",
            "406/406 [==============================] - 3s 7ms/step - loss: 0.6197 - accuracy: 0.6659 - val_loss: 0.6298 - val_accuracy: 0.6581\n",
            "Epoch 25/30\n",
            "406/406 [==============================] - 2s 5ms/step - loss: 0.6194 - accuracy: 0.6659 - val_loss: 0.6297 - val_accuracy: 0.6581\n",
            "Epoch 26/30\n",
            "406/406 [==============================] - 2s 5ms/step - loss: 0.6191 - accuracy: 0.6659 - val_loss: 0.6295 - val_accuracy: 0.6581\n",
            "Epoch 27/30\n",
            "406/406 [==============================] - 2s 6ms/step - loss: 0.6189 - accuracy: 0.6659 - val_loss: 0.6293 - val_accuracy: 0.6581\n",
            "Epoch 28/30\n",
            "406/406 [==============================] - 2s 5ms/step - loss: 0.6186 - accuracy: 0.6659 - val_loss: 0.6293 - val_accuracy: 0.6581\n",
            "Epoch 29/30\n",
            "406/406 [==============================] - 2s 5ms/step - loss: 0.6184 - accuracy: 0.6659 - val_loss: 0.6291 - val_accuracy: 0.6581\n",
            "Epoch 30/30\n",
            "406/406 [==============================] - 3s 7ms/step - loss: 0.6181 - accuracy: 0.6659 - val_loss: 0.6285 - val_accuracy: 0.6581\n"
          ]
        },
        {
          "output_type": "execute_result",
          "data": {
            "text/plain": [
              "<keras.callbacks.History at 0x7f7a9bac2380>"
            ]
          },
          "metadata": {},
          "execution_count": 128
        }
      ],
      "id": "kCChos321l_L"
    },
    {
      "cell_type": "code",
      "source": [
        "print(skip_classifier.history.history.keys())\n",
        "acc4=skip_classifier.history.history['accuracy'][-1]\n",
        "# summarize history for accuracy\n",
        "plt.plot(skip_classifier.history.history['accuracy'])\n",
        "plt.plot(skip_classifier.history.history['val_accuracy'])\n",
        "plt.title('model accuracy')\n",
        "plt.ylabel('accuracy')\n",
        "plt.xlabel('epoch')\n",
        "plt.legend(['train', 'val'], loc='upper left')\n",
        "plt.show()"
      ],
      "metadata": {
        "id": "1ho77toW1oNO",
        "colab": {
          "base_uri": "https://localhost:8080/",
          "height": 490
        },
        "outputId": "bf0151e7-7966-496c-f3aa-5ffcc50f1ede"
      },
      "execution_count": 129,
      "outputs": [
        {
          "output_type": "stream",
          "name": "stdout",
          "text": [
            "dict_keys(['loss', 'accuracy', 'val_loss', 'val_accuracy'])\n"
          ]
        },
        {
          "output_type": "display_data",
          "data": {
            "text/plain": [
              "<Figure size 640x480 with 1 Axes>"
            ],
            "image/png": "[encoded data removed]"
          },
          "metadata": {}
        }
      ],
      "id": "1ho77toW1oNO"
    },
    {
      "cell_type": "markdown",
      "source": [
        "**Cbow**"
      ],
      "metadata": {
        "id": "dB8zj8Yp1Sqa"
      },
      "id": "dB8zj8Yp1Sqa"
    },
    {
      "cell_type": "code",
      "source": [
        "X_cbow = tf.keras.preprocessing.sequence.pad_sequences(X, maxlen=300)\n",
        "y_cbow = data.toxic.values\n",
        "\n",
        "X_train_cbow, X_test_cbow, y_train_cbow, y_test_cbow = train_test_split(X_cbow, y_cbow, test_size=0.1)\n",
        "weights = np.zeros((len(word2id), 300))\n",
        "\n",
        "model_weights = embeddings1\n",
        "\n",
        "for id in id2word.keys(): \n",
        "    if id == 0:\n",
        "        continue\n",
        "    try:\n",
        "        weights[id] = model_weights[id]\n",
        "      \n",
        "      \n",
        "    except KeyError:\n",
        "        continue\n",
        "        weights[id] = model_weights[100000000] \n",
        "\n",
        "inputs = tf.keras.layers.Input(shape=(300,))\n",
        "\n",
        "embeddings = tf.keras.layers.Embedding(input_dim=len(word2id), output_dim=300, \n",
        "                                        trainable=False,\n",
        "                                        weights=[weights])(inputs, )\n",
        "mean = tf.keras.layers.Lambda(lambda x: tf.keras.backend.mean(x,  axis=1))(embeddings)\n",
        "\n",
        "outputs = tf.keras.layers.Dense(1, activation='sigmoid')(mean)\n",
        "\n",
        "cbow_classifier = tf.keras.Model(inputs=inputs, outputs=outputs)\n",
        "optimizer = tf.keras.optimizers.Adam()\n",
        "cbow_classifier.compile(optimizer=optimizer,\n",
        "                loss='binary_crossentropy',\n",
        "                metrics=['accuracy'])\n",
        "  \n",
        "cbow_classifier.fit(X_train_cbow, y_train_cbow, \n",
        "          validation_data=(X_test_cbow, y_test_cbow),\n",
        "          batch_size=32,\n",
        "          epochs=30)"
      ],
      "metadata": {
        "colab": {
          "base_uri": "https://localhost:8080/"
        },
        "id": "E3uP6uwv1Tae",
        "outputId": "8609761d-5f4a-43bd-9706-ece16977e59c"
      },
      "execution_count": 130,
      "outputs": [
        {
          "output_type": "stream",
          "name": "stdout",
          "text": [
            "Epoch 1/30\n",
            "406/406 [==============================] - 3s 5ms/step - loss: 0.6596 - accuracy: 0.6598 - val_loss: 0.6235 - val_accuracy: 0.6949\n",
            "Epoch 2/30\n",
            "406/406 [==============================] - 2s 5ms/step - loss: 0.6331 - accuracy: 0.6618 - val_loss: 0.6068 - val_accuracy: 0.6949\n",
            "Epoch 3/30\n",
            "406/406 [==============================] - 2s 6ms/step - loss: 0.6291 - accuracy: 0.6618 - val_loss: 0.6031 - val_accuracy: 0.6949\n",
            "Epoch 4/30\n",
            "406/406 [==============================] - 2s 5ms/step - loss: 0.6285 - accuracy: 0.6618 - val_loss: 0.6021 - val_accuracy: 0.6949\n",
            "Epoch 5/30\n",
            "406/406 [==============================] - 2s 5ms/step - loss: 0.6283 - accuracy: 0.6618 - val_loss: 0.6016 - val_accuracy: 0.6949\n",
            "Epoch 6/30\n",
            "406/406 [==============================] - 2s 5ms/step - loss: 0.6281 - accuracy: 0.6618 - val_loss: 0.6012 - val_accuracy: 0.6949\n",
            "Epoch 7/30\n",
            "406/406 [==============================] - 2s 5ms/step - loss: 0.6279 - accuracy: 0.6618 - val_loss: 0.6014 - val_accuracy: 0.6949\n",
            "Epoch 8/30\n",
            "406/406 [==============================] - 2s 5ms/step - loss: 0.6278 - accuracy: 0.6618 - val_loss: 0.6011 - val_accuracy: 0.6949\n",
            "Epoch 9/30\n",
            "406/406 [==============================] - 3s 6ms/step - loss: 0.6277 - accuracy: 0.6618 - val_loss: 0.6006 - val_accuracy: 0.6949\n",
            "Epoch 10/30\n",
            "406/406 [==============================] - 2s 6ms/step - loss: 0.6276 - accuracy: 0.6618 - val_loss: 0.6006 - val_accuracy: 0.6949\n",
            "Epoch 11/30\n",
            "406/406 [==============================] - 2s 5ms/step - loss: 0.6274 - accuracy: 0.6618 - val_loss: 0.6007 - val_accuracy: 0.6949\n",
            "Epoch 12/30\n",
            "406/406 [==============================] - 2s 5ms/step - loss: 0.6273 - accuracy: 0.6618 - val_loss: 0.6006 - val_accuracy: 0.6949\n",
            "Epoch 13/30\n",
            "406/406 [==============================] - 2s 4ms/step - loss: 0.6272 - accuracy: 0.6618 - val_loss: 0.6003 - val_accuracy: 0.6949\n",
            "Epoch 14/30\n",
            "406/406 [==============================] - 2s 5ms/step - loss: 0.6271 - accuracy: 0.6618 - val_loss: 0.6002 - val_accuracy: 0.6949\n",
            "Epoch 15/30\n",
            "406/406 [==============================] - 2s 6ms/step - loss: 0.6270 - accuracy: 0.6618 - val_loss: 0.6002 - val_accuracy: 0.6949\n",
            "Epoch 16/30\n",
            "406/406 [==============================] - 2s 5ms/step - loss: 0.6268 - accuracy: 0.6618 - val_loss: 0.5999 - val_accuracy: 0.6949\n",
            "Epoch 17/30\n",
            "406/406 [==============================] - 2s 5ms/step - loss: 0.6267 - accuracy: 0.6618 - val_loss: 0.5999 - val_accuracy: 0.6949\n",
            "Epoch 18/30\n",
            "406/406 [==============================] - 2s 5ms/step - loss: 0.6266 - accuracy: 0.6618 - val_loss: 0.5995 - val_accuracy: 0.6949\n",
            "Epoch 19/30\n",
            "406/406 [==============================] - 2s 5ms/step - loss: 0.6265 - accuracy: 0.6618 - val_loss: 0.5995 - val_accuracy: 0.6949\n",
            "Epoch 20/30\n",
            "406/406 [==============================] - 2s 5ms/step - loss: 0.6264 - accuracy: 0.6618 - val_loss: 0.5994 - val_accuracy: 0.6949\n",
            "Epoch 21/30\n",
            "406/406 [==============================] - 2s 6ms/step - loss: 0.6263 - accuracy: 0.6618 - val_loss: 0.5995 - val_accuracy: 0.6949\n",
            "Epoch 22/30\n",
            "406/406 [==============================] - 2s 6ms/step - loss: 0.6262 - accuracy: 0.6618 - val_loss: 0.5994 - val_accuracy: 0.6949\n",
            "Epoch 23/30\n",
            "406/406 [==============================] - 2s 5ms/step - loss: 0.6261 - accuracy: 0.6618 - val_loss: 0.5992 - val_accuracy: 0.6949\n",
            "Epoch 24/30\n",
            "406/406 [==============================] - 2s 5ms/step - loss: 0.6260 - accuracy: 0.6618 - val_loss: 0.5994 - val_accuracy: 0.6949\n",
            "Epoch 25/30\n",
            "406/406 [==============================] - 2s 5ms/step - loss: 0.6258 - accuracy: 0.6618 - val_loss: 0.5992 - val_accuracy: 0.6949\n",
            "Epoch 26/30\n",
            "406/406 [==============================] - 2s 5ms/step - loss: 0.6257 - accuracy: 0.6618 - val_loss: 0.5990 - val_accuracy: 0.6949\n",
            "Epoch 27/30\n",
            "406/406 [==============================] - 3s 6ms/step - loss: 0.6256 - accuracy: 0.6618 - val_loss: 0.5990 - val_accuracy: 0.6949\n",
            "Epoch 28/30\n",
            "406/406 [==============================] - 2s 6ms/step - loss: 0.6255 - accuracy: 0.6618 - val_loss: 0.5989 - val_accuracy: 0.6949\n",
            "Epoch 29/30\n",
            "406/406 [==============================] - 2s 5ms/step - loss: 0.6254 - accuracy: 0.6618 - val_loss: 0.5985 - val_accuracy: 0.6949\n",
            "Epoch 30/30\n",
            "406/406 [==============================] - 2s 5ms/step - loss: 0.6253 - accuracy: 0.6618 - val_loss: 0.5989 - val_accuracy: 0.6949\n"
          ]
        },
        {
          "output_type": "execute_result",
          "data": {
            "text/plain": [
              "<keras.callbacks.History at 0x7f7a9ab32c50>"
            ]
          },
          "metadata": {},
          "execution_count": 130
        }
      ],
      "id": "E3uP6uwv1Tae"
    },
    {
      "cell_type": "code",
      "source": [
        "print(cbow_classifier.history.history.keys())\n",
        "acc3=cbow_classifier.history.history['accuracy'][-1]\n",
        "\n",
        "plt.plot(cbow_classifier.history.history['accuracy'])\n",
        "plt.plot(cbow_classifier.history.history['val_accuracy'])\n",
        "plt.title('model accuracy')\n",
        "plt.ylabel('accuracy')\n",
        "plt.xlabel('epoch')\n",
        "plt.legend(['train', 'val'], loc='upper left')\n",
        "plt.show()"
      ],
      "metadata": {
        "colab": {
          "base_uri": "https://localhost:8080/",
          "height": 490
        },
        "id": "OA232qzX1h7k",
        "outputId": "79ba8a08-b707-4a47-b811-197aa4de317d"
      },
      "execution_count": 131,
      "outputs": [
        {
          "output_type": "stream",
          "name": "stdout",
          "text": [
            "dict_keys(['loss', 'accuracy', 'val_loss', 'val_accuracy'])\n"
          ]
        },
        {
          "output_type": "display_data",
          "data": {
            "text/plain": [
              "<Figure size 640x480 with 1 Axes>"
            ],
            "image/png": "[encoded data removed]"
          },
          "metadata": {}
        }
      ],
      "id": "OA232qzX1h7k"
    },
    {
      "cell_type": "markdown",
      "source": [
        "**Word2Vec**"
      ],
      "metadata": {
        "id": "R9zHpTYh1F7m"
      },
      "id": "R9zHpTYh1F7m"
    },
    {
      "cell_type": "code",
      "source": [],
      "metadata": {
        "id": "IK2SV252Yj5U"
      },
      "id": "IK2SV252Yj5U",
      "execution_count": null,
      "outputs": []
    },
    {
      "cell_type": "code",
      "source": [
        "X_skip = tf.keras.preprocessing.sequence.pad_sequences(X, maxlen=300)\n",
        "y_skip = data.toxic.values\n",
        "\n",
        "X_train_skip, X_valid_skip, y_train_skip, y_valid_skip = train_test_split(X_skip, y_skip, test_size=0.1)\n",
        "weights = np.zeros((len(word2id), 300))\n",
        "\n",
        "model_weights = embeddings\n",
        "\n",
        "for id in id2word.keys(): \n",
        "    if id == 0:\n",
        "        continue\n",
        "    try:\n",
        "        weights[id] = model_weights[id]\n",
        "      \n",
        "      \n",
        "    except KeyError:\n",
        "        continue\n",
        "        weights[id] = model_weights[100000000] \n",
        "\n",
        "inputs = tf.keras.layers.Input(shape=(300,))\n",
        "\n",
        "embeddings = tf.keras.layers.Embedding(input_dim=len(word2id), output_dim=300, \n",
        "                                        trainable=False,\n",
        "                                        weights=[weights])(inputs, )\n",
        "mean = tf.keras.layers.Lambda(lambda x: tf.keras.backend.mean(x,  axis=1))(embeddings)\n",
        "\n",
        "outputs = tf.keras.layers.Dense(1, activation='sigmoid')(mean)\n",
        "\n",
        "skip_classifier = tf.keras.Model(inputs=inputs, outputs=outputs)\n",
        "optimizer = tf.keras.optimizers.Adam()\n",
        "skip_classifier.compile(optimizer=optimizer,\n",
        "                loss='binary_crossentropy',\n",
        "                metrics=['accuracy'])\n",
        "  \n",
        "skip_classifier.fit(X_train_skip, y_train_skip, \n",
        "          validation_data=(X_valid_skip, y_valid_skip),\n",
        "          batch_size=32,\n",
        "         epochs=30)\n",
        "  "
      ],
      "metadata": {
        "colab": {
          "base_uri": "https://localhost:8080/"
        },
        "outputId": "bf57f212-7212-4525-e7b2-ea9d742a65c9",
        "id": "SgXXDYRBYkwk"
      },
      "execution_count": null,
      "outputs": [
        {
          "output_type": "stream",
          "name": "stdout",
          "text": [
            "Epoch 1/30\n",
            "406/406 [==============================] - 3s 7ms/step - loss: 0.6482 - accuracy: 0.6630 - val_loss: 0.6372 - val_accuracy: 0.6581\n",
            "Epoch 2/30\n",
            "406/406 [==============================] - 2s 6ms/step - loss: 0.6272 - accuracy: 0.6659 - val_loss: 0.6358 - val_accuracy: 0.6581\n",
            "Epoch 3/30\n",
            "406/406 [==============================] - 2s 5ms/step - loss: 0.6259 - accuracy: 0.6659 - val_loss: 0.6356 - val_accuracy: 0.6581\n",
            "Epoch 4/30\n",
            "406/406 [==============================] - 2s 5ms/step - loss: 0.6254 - accuracy: 0.6659 - val_loss: 0.6357 - val_accuracy: 0.6581\n",
            "Epoch 5/30\n",
            "406/406 [==============================] - 2s 5ms/step - loss: 0.6251 - accuracy: 0.6659 - val_loss: 0.6353 - val_accuracy: 0.6581\n",
            "Epoch 6/30\n",
            "406/406 [==============================] - 2s 5ms/step - loss: 0.6248 - accuracy: 0.6659 - val_loss: 0.6347 - val_accuracy: 0.6581\n",
            "Epoch 7/30\n",
            "406/406 [==============================] - 3s 7ms/step - loss: 0.6245 - accuracy: 0.6659 - val_loss: 0.6343 - val_accuracy: 0.6581\n",
            "Epoch 8/30\n",
            "406/406 [==============================] - 2s 5ms/step - loss: 0.6242 - accuracy: 0.6659 - val_loss: 0.6341 - val_accuracy: 0.6581\n",
            "Epoch 9/30\n",
            "406/406 [==============================] - 2s 5ms/step - loss: 0.6239 - accuracy: 0.6659 - val_loss: 0.6341 - val_accuracy: 0.6581\n",
            "Epoch 10/30\n",
            "406/406 [==============================] - 2s 5ms/step - loss: 0.6236 - accuracy: 0.6659 - val_loss: 0.6337 - val_accuracy: 0.6581\n",
            "Epoch 11/30\n",
            "406/406 [==============================] - 2s 5ms/step - loss: 0.6233 - accuracy: 0.6659 - val_loss: 0.6330 - val_accuracy: 0.6581\n",
            "Epoch 12/30\n",
            "406/406 [==============================] - 2s 6ms/step - loss: 0.6230 - accuracy: 0.6659 - val_loss: 0.6330 - val_accuracy: 0.6581\n",
            "Epoch 13/30\n",
            "406/406 [==============================] - 3s 7ms/step - loss: 0.6227 - accuracy: 0.6659 - val_loss: 0.6325 - val_accuracy: 0.6581\n",
            "Epoch 14/30\n",
            "406/406 [==============================] - 2s 5ms/step - loss: 0.6225 - accuracy: 0.6659 - val_loss: 0.6324 - val_accuracy: 0.6581\n",
            "Epoch 15/30\n",
            "406/406 [==============================] - 2s 5ms/step - loss: 0.6222 - accuracy: 0.6659 - val_loss: 0.6323 - val_accuracy: 0.6581\n",
            "Epoch 16/30\n",
            "406/406 [==============================] - 2s 5ms/step - loss: 0.6218 - accuracy: 0.6659 - val_loss: 0.6316 - val_accuracy: 0.6581\n",
            "Epoch 17/30\n",
            "406/406 [==============================] - 2s 5ms/step - loss: 0.6216 - accuracy: 0.6659 - val_loss: 0.6316 - val_accuracy: 0.6581\n",
            "Epoch 18/30\n",
            "406/406 [==============================] - 3s 6ms/step - loss: 0.6213 - accuracy: 0.6659 - val_loss: 0.6315 - val_accuracy: 0.6581\n",
            "Epoch 19/30\n",
            "406/406 [==============================] - 2s 6ms/step - loss: 0.6211 - accuracy: 0.6659 - val_loss: 0.6313 - val_accuracy: 0.6581\n",
            "Epoch 20/30\n",
            "406/406 [==============================] - 2s 5ms/step - loss: 0.6208 - accuracy: 0.6659 - val_loss: 0.6310 - val_accuracy: 0.6581\n",
            "Epoch 21/30\n",
            "406/406 [==============================] - 2s 5ms/step - loss: 0.6205 - accuracy: 0.6659 - val_loss: 0.6306 - val_accuracy: 0.6581\n",
            "Epoch 22/30\n",
            "406/406 [==============================] - 2s 5ms/step - loss: 0.6202 - accuracy: 0.6659 - val_loss: 0.6305 - val_accuracy: 0.6581\n",
            "Epoch 23/30\n",
            "406/406 [==============================] - 2s 5ms/step - loss: 0.6199 - accuracy: 0.6659 - val_loss: 0.6307 - val_accuracy: 0.6581\n",
            "Epoch 24/30\n",
            "406/406 [==============================] - 3s 7ms/step - loss: 0.6197 - accuracy: 0.6659 - val_loss: 0.6298 - val_accuracy: 0.6581\n",
            "Epoch 25/30\n",
            "406/406 [==============================] - 2s 5ms/step - loss: 0.6194 - accuracy: 0.6659 - val_loss: 0.6297 - val_accuracy: 0.6581\n",
            "Epoch 26/30\n",
            "406/406 [==============================] - 2s 5ms/step - loss: 0.6191 - accuracy: 0.6659 - val_loss: 0.6295 - val_accuracy: 0.6581\n",
            "Epoch 27/30\n",
            "406/406 [==============================] - 2s 6ms/step - loss: 0.6189 - accuracy: 0.6659 - val_loss: 0.6293 - val_accuracy: 0.6581\n",
            "Epoch 28/30\n",
            "406/406 [==============================] - 2s 5ms/step - loss: 0.6186 - accuracy: 0.6659 - val_loss: 0.6293 - val_accuracy: 0.6581\n",
            "Epoch 29/30\n",
            "406/406 [==============================] - 2s 5ms/step - loss: 0.6184 - accuracy: 0.6659 - val_loss: 0.6291 - val_accuracy: 0.6581\n",
            "Epoch 30/30\n",
            "406/406 [==============================] - 3s 7ms/step - loss: 0.6181 - accuracy: 0.6659 - val_loss: 0.6285 - val_accuracy: 0.6581\n"
          ]
        },
        {
          "output_type": "execute_result",
          "data": {
            "text/plain": [
              "<keras.callbacks.History at 0x7f7a9bac2380>"
            ]
          },
          "metadata": {},
          "execution_count": 128
        }
      ],
      "id": "SgXXDYRBYkwk"
    },
    {
      "cell_type": "code",
      "source": [
        "X_w2 = tf.keras.preprocessing.sequence.pad_sequences(X, maxlen=250)\n",
        "y_w2 = data.toxic.values\n",
        "\n",
        "X_train_w2, X_test_w2, y_train_w2, y_test_w2 = train_test_split(X_w2, y_w2, test_size=0.1)\n",
        "\n",
        "weights = np.zeros((len(word2id), 250))\n",
        "\n",
        "for word, i in word2id.items():\n",
        "    if word == 'PAD':\n",
        "        continue\n",
        "\n",
        "    try:\n",
        "        weights[i] = w2v.wv[word]\n",
        "    \n",
        "    except KeyError:\n",
        "        continue\n",
        "        weights[i] = w2v.wv['втжлыою']\n",
        "        \n",
        "inputs = tf.keras.layers.Input(shape=(250,))\n",
        "embeddings = tf.keras.layers.Embedding(input_dim=len(word2id), output_dim=250, trainable=False, weights=[weights])(inputs, )\n",
        "mean = tf.keras.layers.Lambda(lambda x: tf.keras.backend.mean(x,  axis=1))(embeddings)\n",
        "\n",
        "outputs = tf.keras.layers.Dense(1, activation='sigmoid')(mean)\n",
        "\n",
        "\n",
        "\n",
        "w2v_classifier = tf.keras.Model(inputs=inputs, outputs=outputs)\n",
        "optimizer = tf.keras.optimizers.Adam()\n",
        "w2v_classifier.compile(optimizer=optimizer,\n",
        "                loss='binary_crossentropy',\n",
        "                metrics=['accuracy'])\n",
        "  \n",
        "\n",
        "w2v_classifier.fit(X_train_w2, y_train_w2, \n",
        "          validation_data=(X_test_w2, y_test_w2),\n",
        "          batch_size=32,\n",
        "         epochs=30)"
      ],
      "metadata": {
        "colab": {
          "base_uri": "https://localhost:8080/"
        },
        "id": "qmgSyjQR1K3B",
        "outputId": "5d87e83f-a71a-4b79-d9b1-28c6fd3c4f96"
      },
      "id": "qmgSyjQR1K3B",
      "execution_count": 151,
      "outputs": [
        {
          "output_type": "stream",
          "name": "stdout",
          "text": [
            "Epoch 1/30\n",
            "406/406 [==============================] - 2s 3ms/step - loss: 0.6495 - accuracy: 0.6647 - val_loss: 0.6354 - val_accuracy: 0.6671\n",
            "Epoch 2/30\n",
            "406/406 [==============================] - 1s 3ms/step - loss: 0.6233 - accuracy: 0.6649 - val_loss: 0.6323 - val_accuracy: 0.6671\n",
            "Epoch 3/30\n",
            "406/406 [==============================] - 1s 3ms/step - loss: 0.6203 - accuracy: 0.6649 - val_loss: 0.6324 - val_accuracy: 0.6671\n",
            "Epoch 4/30\n",
            "406/406 [==============================] - 1s 3ms/step - loss: 0.6193 - accuracy: 0.6649 - val_loss: 0.6321 - val_accuracy: 0.6671\n",
            "Epoch 5/30\n",
            "406/406 [==============================] - 1s 3ms/step - loss: 0.6184 - accuracy: 0.6649 - val_loss: 0.6315 - val_accuracy: 0.6671\n",
            "Epoch 6/30\n",
            "406/406 [==============================] - 1s 3ms/step - loss: 0.6175 - accuracy: 0.6649 - val_loss: 0.6312 - val_accuracy: 0.6671\n",
            "Epoch 7/30\n",
            "406/406 [==============================] - 1s 3ms/step - loss: 0.6166 - accuracy: 0.6649 - val_loss: 0.6303 - val_accuracy: 0.6671\n",
            "Epoch 8/30\n",
            "406/406 [==============================] - 1s 3ms/step - loss: 0.6157 - accuracy: 0.6649 - val_loss: 0.6292 - val_accuracy: 0.6671\n",
            "Epoch 9/30\n",
            "406/406 [==============================] - 1s 4ms/step - loss: 0.6149 - accuracy: 0.6649 - val_loss: 0.6287 - val_accuracy: 0.6671\n",
            "Epoch 10/30\n",
            "406/406 [==============================] - 1s 3ms/step - loss: 0.6141 - accuracy: 0.6649 - val_loss: 0.6280 - val_accuracy: 0.6671\n",
            "Epoch 11/30\n",
            "406/406 [==============================] - 1s 3ms/step - loss: 0.6133 - accuracy: 0.6649 - val_loss: 0.6270 - val_accuracy: 0.6671\n",
            "Epoch 12/30\n",
            "406/406 [==============================] - 1s 3ms/step - loss: 0.6125 - accuracy: 0.6649 - val_loss: 0.6262 - val_accuracy: 0.6671\n",
            "Epoch 13/30\n",
            "406/406 [==============================] - 1s 3ms/step - loss: 0.6116 - accuracy: 0.6649 - val_loss: 0.6253 - val_accuracy: 0.6671\n",
            "Epoch 14/30\n",
            "406/406 [==============================] - 1s 3ms/step - loss: 0.6109 - accuracy: 0.6649 - val_loss: 0.6246 - val_accuracy: 0.6671\n",
            "Epoch 15/30\n",
            "406/406 [==============================] - 1s 3ms/step - loss: 0.6101 - accuracy: 0.6649 - val_loss: 0.6243 - val_accuracy: 0.6671\n",
            "Epoch 16/30\n",
            "406/406 [==============================] - 1s 3ms/step - loss: 0.6093 - accuracy: 0.6649 - val_loss: 0.6237 - val_accuracy: 0.6671\n",
            "Epoch 17/30\n",
            "406/406 [==============================] - 1s 3ms/step - loss: 0.6086 - accuracy: 0.6649 - val_loss: 0.6229 - val_accuracy: 0.6671\n",
            "Epoch 18/30\n",
            "406/406 [==============================] - 1s 4ms/step - loss: 0.6078 - accuracy: 0.6649 - val_loss: 0.6220 - val_accuracy: 0.6671\n",
            "Epoch 19/30\n",
            "406/406 [==============================] - 2s 4ms/step - loss: 0.6071 - accuracy: 0.6649 - val_loss: 0.6211 - val_accuracy: 0.6671\n",
            "Epoch 20/30\n",
            "406/406 [==============================] - 1s 3ms/step - loss: 0.6064 - accuracy: 0.6649 - val_loss: 0.6202 - val_accuracy: 0.6671\n",
            "Epoch 21/30\n",
            "406/406 [==============================] - 1s 3ms/step - loss: 0.6056 - accuracy: 0.6649 - val_loss: 0.6197 - val_accuracy: 0.6671\n",
            "Epoch 22/30\n",
            "406/406 [==============================] - 1s 3ms/step - loss: 0.6049 - accuracy: 0.6649 - val_loss: 0.6188 - val_accuracy: 0.6671\n",
            "Epoch 23/30\n",
            "406/406 [==============================] - 1s 3ms/step - loss: 0.6042 - accuracy: 0.6649 - val_loss: 0.6180 - val_accuracy: 0.6671\n",
            "Epoch 24/30\n",
            "406/406 [==============================] - 1s 3ms/step - loss: 0.6035 - accuracy: 0.6649 - val_loss: 0.6176 - val_accuracy: 0.6671\n",
            "Epoch 25/30\n",
            "406/406 [==============================] - 1s 3ms/step - loss: 0.6028 - accuracy: 0.6649 - val_loss: 0.6168 - val_accuracy: 0.6671\n",
            "Epoch 26/30\n",
            "406/406 [==============================] - 1s 3ms/step - loss: 0.6022 - accuracy: 0.6649 - val_loss: 0.6163 - val_accuracy: 0.6671\n",
            "Epoch 27/30\n",
            "406/406 [==============================] - 1s 3ms/step - loss: 0.6015 - accuracy: 0.6649 - val_loss: 0.6155 - val_accuracy: 0.6671\n",
            "Epoch 28/30\n",
            "406/406 [==============================] - 2s 4ms/step - loss: 0.6008 - accuracy: 0.6650 - val_loss: 0.6151 - val_accuracy: 0.6671\n",
            "Epoch 29/30\n",
            "406/406 [==============================] - 2s 4ms/step - loss: 0.6002 - accuracy: 0.6650 - val_loss: 0.6146 - val_accuracy: 0.6671\n",
            "Epoch 30/30\n",
            "406/406 [==============================] - 1s 3ms/step - loss: 0.5995 - accuracy: 0.6650 - val_loss: 0.6138 - val_accuracy: 0.6671\n"
          ]
        },
        {
          "output_type": "execute_result",
          "data": {
            "text/plain": [
              "<keras.callbacks.History at 0x7f7a9b9678b0>"
            ]
          },
          "metadata": {},
          "execution_count": 151
        }
      ]
    },
    {
      "cell_type": "code",
      "source": [
        "print(w2v_classifier.history.history.keys())\n",
        "acc2=w2v_classifier.history.history['accuracy'][-1]\n",
        "plt.plot(w2v_classifier.history.history['accuracy'])\n",
        "plt.plot(w2v_classifier.history.history['val_accuracy'])\n",
        "plt.title('model accuracy')\n",
        "plt.ylabel('accuracy')\n",
        "plt.xlabel('epoch')\n",
        "plt.legend(['train', 'val'], loc='upper left')\n",
        "plt.show()"
      ],
      "metadata": {
        "id": "VYBTchFk1P3T",
        "colab": {
          "base_uri": "https://localhost:8080/",
          "height": 490
        },
        "outputId": "c76072c0-0d24-4fe1-fbca-18196210057d"
      },
      "id": "VYBTchFk1P3T",
      "execution_count": 152,
      "outputs": [
        {
          "output_type": "stream",
          "name": "stdout",
          "text": [
            "dict_keys(['loss', 'accuracy', 'val_loss', 'val_accuracy'])\n"
          ]
        },
        {
          "output_type": "display_data",
          "data": {
            "text/plain": [
              "<Figure size 640x480 with 1 Axes>"
            ],
            "image/png": "[encoded data removed]"
          },
          "metadata": {}
        }
      ]
    },
    {
      "cell_type": "markdown",
      "source": [
        "**FastText**"
      ],
      "metadata": {
        "id": "UvNdgGTh06WG"
      },
      "id": "UvNdgGTh06WG"
    },
    {
      "cell_type": "code",
      "source": [
        "\n",
        "X_ft = tf.keras.preprocessing.sequence.pad_sequences(X, maxlen=100)\n",
        "y_ft = data.toxic.values\n",
        "\n",
        "X_train_ft, X_test_ft, y_train_ft, y_test_ft = train_test_split(X_ft, y_ft, test_size=0.1)\n",
        "\n",
        "weights = np.zeros((len(word2id), 100))\n",
        "\n",
        "for word, i in word2id.items():\n",
        "    if word == 'PAD':\n",
        "        continue\n",
        "\n",
        "    try:\n",
        "        weights[i] = ft.wv[word]\n",
        "    \n",
        "    except KeyError:\n",
        "        continue\n",
        "        weights[i] = ft.wv['втжлыою']\n",
        "        \n",
        "inputs = tf.keras.layers.Input(shape=(100,))\n",
        "embeddings = tf.keras.layers.Embedding(input_dim=len(word2id), output_dim=100, \n",
        "                                        trainable=False,\n",
        "                                        weights=[weights])(inputs, )\n",
        "mean = tf.keras.layers.Lambda(lambda x: tf.keras.backend.mean(x,  axis=1))(embeddings)\n",
        "\n",
        "outputs = tf.keras.layers.Dense(1, activation='sigmoid')(mean)\n",
        "\n",
        "ft_classifier = tf.keras.Model(inputs=inputs, outputs=outputs)\n",
        "optimizer = tf.keras.optimizers.Adam()\n",
        "ft_classifier.compile(optimizer=optimizer,\n",
        "                loss='binary_crossentropy',\n",
        "                metrics=['accuracy'])\n",
        "  \n",
        "\n",
        "ft_classifier.fit(X_train_ft, y_train_ft, \n",
        "          validation_data=(X_test_ft, y_test_ft),\n",
        "          batch_size=32,\n",
        "         epochs=30)"
      ],
      "metadata": {
        "colab": {
          "base_uri": "https://localhost:8080/"
        },
        "id": "YHWzxaNK05OQ",
        "outputId": "f9571438-5558-4403-ebdc-579bb32e0f95"
      },
      "execution_count": 135,
      "outputs": [
        {
          "output_type": "stream",
          "name": "stdout",
          "text": [
            "Epoch 1/30\n",
            "406/406 [==============================] - 2s 3ms/step - loss: 0.6213 - accuracy: 0.6519 - val_loss: 0.6069 - val_accuracy: 0.6755\n",
            "Epoch 2/30\n",
            "406/406 [==============================] - 1s 3ms/step - loss: 0.5955 - accuracy: 0.6665 - val_loss: 0.5908 - val_accuracy: 0.6824\n",
            "Epoch 3/30\n",
            "406/406 [==============================] - 1s 3ms/step - loss: 0.5831 - accuracy: 0.6725 - val_loss: 0.5801 - val_accuracy: 0.6893\n",
            "Epoch 4/30\n",
            "406/406 [==============================] - 1s 2ms/step - loss: 0.5748 - accuracy: 0.6790 - val_loss: 0.5724 - val_accuracy: 0.7004\n",
            "Epoch 5/30\n",
            "406/406 [==============================] - 1s 2ms/step - loss: 0.5682 - accuracy: 0.6856 - val_loss: 0.5660 - val_accuracy: 0.7060\n",
            "Epoch 6/30\n",
            "406/406 [==============================] - 1s 2ms/step - loss: 0.5635 - accuracy: 0.6900 - val_loss: 0.5608 - val_accuracy: 0.7122\n",
            "Epoch 7/30\n",
            "406/406 [==============================] - 1s 2ms/step - loss: 0.5591 - accuracy: 0.6963 - val_loss: 0.5551 - val_accuracy: 0.7184\n",
            "Epoch 8/30\n",
            "406/406 [==============================] - 1s 2ms/step - loss: 0.5556 - accuracy: 0.6986 - val_loss: 0.5523 - val_accuracy: 0.7171\n",
            "Epoch 9/30\n",
            "406/406 [==============================] - 1s 2ms/step - loss: 0.5527 - accuracy: 0.7033 - val_loss: 0.5497 - val_accuracy: 0.7212\n",
            "Epoch 10/30\n",
            "406/406 [==============================] - 1s 2ms/step - loss: 0.5496 - accuracy: 0.7066 - val_loss: 0.5459 - val_accuracy: 0.7261\n",
            "Epoch 11/30\n",
            "406/406 [==============================] - 1s 3ms/step - loss: 0.5478 - accuracy: 0.7096 - val_loss: 0.5443 - val_accuracy: 0.7275\n",
            "Epoch 12/30\n",
            "406/406 [==============================] - 1s 2ms/step - loss: 0.5454 - accuracy: 0.7129 - val_loss: 0.5429 - val_accuracy: 0.7261\n",
            "Epoch 13/30\n",
            "406/406 [==============================] - 1s 2ms/step - loss: 0.5438 - accuracy: 0.7139 - val_loss: 0.5398 - val_accuracy: 0.7323\n",
            "Epoch 14/30\n",
            "406/406 [==============================] - 1s 2ms/step - loss: 0.5420 - accuracy: 0.7190 - val_loss: 0.5380 - val_accuracy: 0.7323\n",
            "Epoch 15/30\n",
            "406/406 [==============================] - 1s 2ms/step - loss: 0.5401 - accuracy: 0.7197 - val_loss: 0.5364 - val_accuracy: 0.7330\n",
            "Epoch 16/30\n",
            "406/406 [==============================] - 1s 2ms/step - loss: 0.5387 - accuracy: 0.7212 - val_loss: 0.5358 - val_accuracy: 0.7358\n",
            "Epoch 17/30\n",
            "406/406 [==============================] - 1s 2ms/step - loss: 0.5373 - accuracy: 0.7212 - val_loss: 0.5346 - val_accuracy: 0.7372\n",
            "Epoch 18/30\n",
            "406/406 [==============================] - 1s 2ms/step - loss: 0.5359 - accuracy: 0.7250 - val_loss: 0.5327 - val_accuracy: 0.7379\n",
            "Epoch 19/30\n",
            "406/406 [==============================] - 1s 2ms/step - loss: 0.5347 - accuracy: 0.7258 - val_loss: 0.5317 - val_accuracy: 0.7351\n",
            "Epoch 20/30\n",
            "406/406 [==============================] - 1s 2ms/step - loss: 0.5337 - accuracy: 0.7283 - val_loss: 0.5302 - val_accuracy: 0.7351\n",
            "Epoch 21/30\n",
            "406/406 [==============================] - 1s 2ms/step - loss: 0.5326 - accuracy: 0.7283 - val_loss: 0.5303 - val_accuracy: 0.7379\n",
            "Epoch 22/30\n",
            "406/406 [==============================] - 1s 2ms/step - loss: 0.5316 - accuracy: 0.7291 - val_loss: 0.5287 - val_accuracy: 0.7351\n",
            "Epoch 23/30\n",
            "406/406 [==============================] - 1s 2ms/step - loss: 0.5307 - accuracy: 0.7319 - val_loss: 0.5283 - val_accuracy: 0.7372\n",
            "Epoch 24/30\n",
            "406/406 [==============================] - 1s 2ms/step - loss: 0.5296 - accuracy: 0.7346 - val_loss: 0.5271 - val_accuracy: 0.7372\n",
            "Epoch 25/30\n",
            "406/406 [==============================] - 1s 2ms/step - loss: 0.5289 - accuracy: 0.7335 - val_loss: 0.5260 - val_accuracy: 0.7344\n",
            "Epoch 26/30\n",
            "406/406 [==============================] - 1s 2ms/step - loss: 0.5282 - accuracy: 0.7348 - val_loss: 0.5257 - val_accuracy: 0.7344\n",
            "Epoch 27/30\n",
            "406/406 [==============================] - 1s 2ms/step - loss: 0.5273 - accuracy: 0.7345 - val_loss: 0.5263 - val_accuracy: 0.7399\n",
            "Epoch 28/30\n",
            "406/406 [==============================] - 1s 2ms/step - loss: 0.5268 - accuracy: 0.7357 - val_loss: 0.5251 - val_accuracy: 0.7344\n",
            "Epoch 29/30\n",
            "406/406 [==============================] - 1s 2ms/step - loss: 0.5260 - accuracy: 0.7388 - val_loss: 0.5237 - val_accuracy: 0.7365\n",
            "Epoch 30/30\n",
            "406/406 [==============================] - 1s 2ms/step - loss: 0.5254 - accuracy: 0.7387 - val_loss: 0.5235 - val_accuracy: 0.7365\n"
          ]
        },
        {
          "output_type": "execute_result",
          "data": {
            "text/plain": [
              "<keras.callbacks.History at 0x7f7a9926b130>"
            ]
          },
          "metadata": {},
          "execution_count": 135
        }
      ],
      "id": "YHWzxaNK05OQ"
    },
    {
      "cell_type": "code",
      "source": [
        "print(ft_classifier.history.history.keys())\n",
        "\n",
        "acc1= ft_classifier.history.history['accuracy'][-1]\n",
        "plt.plot(ft_classifier.history.history['accuracy'])\n",
        "plt.plot(ft_classifier.history.history['val_accuracy'])\n",
        "plt.title('model accuracy')\n",
        "plt.ylabel('accuracy')\n",
        "plt.xlabel('epoch')\n",
        "plt.legend(['train', 'val'], loc='upper left')\n",
        "plt.show()"
      ],
      "metadata": {
        "colab": {
          "base_uri": "https://localhost:8080/",
          "height": 490
        },
        "id": "tUQYjvDA1ERw",
        "outputId": "a8b8229b-1392-4ca0-db6b-4d818afbd4ba"
      },
      "execution_count": 136,
      "outputs": [
        {
          "output_type": "stream",
          "name": "stdout",
          "text": [
            "dict_keys(['loss', 'accuracy', 'val_loss', 'val_accuracy'])\n"
          ]
        },
        {
          "output_type": "display_data",
          "data": {
            "text/plain": [
              "<Figure size 640x480 with 1 Axes>"
            ],
            "image/png": "[encoded data removed]"
          },
          "metadata": {}
        }
      ],
      "id": "tUQYjvDA1ERw"
    },
    {
      "cell_type": "markdown",
      "source": [
        "# **ruwikiruscorpora_upos_cbow_300_5_2018**"
      ],
      "metadata": {
        "id": "fOnUtaAcB_F5"
      },
      "id": "fOnUtaAcB_F5"
    },
    {
      "cell_type": "code",
      "source": [
        "model_file = os.path.join(root_data_dir, 'ruscorpora_upos_skipgram_300_5_2018.vec.gz')"
      ],
      "metadata": {
        "id": "2mJ_m08nDZMU"
      },
      "id": "2mJ_m08nDZMU",
      "execution_count": 138,
      "outputs": []
    },
    {
      "cell_type": "code",
      "source": [
        "import gzip\n",
        "import shutil"
      ],
      "metadata": {
        "id": "2VmcsmeVaomK"
      },
      "id": "2VmcsmeVaomK",
      "execution_count": 155,
      "outputs": []
    },
    {
      "cell_type": "code",
      "source": [
        "model = gensim.models.KeyedVectors.load_word2vec_format(model_file, binary=False)"
      ],
      "metadata": {
        "colab": {
          "base_uri": "https://localhost:8080/"
        },
        "id": "JyrJvXhYB-Wt",
        "outputId": "5f88a619-2fdf-4d8b-b3c6-d55dc394748b"
      },
      "id": "JyrJvXhYB-Wt",
      "execution_count": 157,
      "outputs": [
        {
          "output_type": "stream",
          "name": "stderr",
          "text": [
            "INFO:gensim.models.keyedvectors:loading projection weights from /content/drive/MyDrive/Colab Notebooks/ruscorpora_upos_skipgram_300_5_2018.vec.gz\n",
            "INFO:gensim.utils:KeyedVectors lifecycle event {'msg': 'loaded (195071, 300) matrix of type float32 from /content/drive/MyDrive/Colab Notebooks/ruscorpora_upos_skipgram_300_5_2018.vec.gz', 'binary': False, 'encoding': 'utf8', 'datetime': '2023-06-02T23:24:52.041951', 'gensim': '4.3.1', 'python': '3.10.11 (main, Apr  5 2023, 14:15:10) [GCC 9.4.0]', 'platform': 'Linux-5.15.107+-x86_64-with-glibc2.31', 'event': 'load_word2vec_format'}\n"
          ]
        }
      ]
    },
    {
      "cell_type": "code",
      "source": [
        "model.most_similar('город_NOUN')"
      ],
      "metadata": {
        "colab": {
          "base_uri": "https://localhost:8080/"
        },
        "id": "4Ktnw5JPDpgp",
        "outputId": "5682dff7-bca5-4c71-a48f-a61255b6c934"
      },
      "id": "4Ktnw5JPDpgp",
      "execution_count": 158,
      "outputs": [
        {
          "output_type": "execute_result",
          "data": {
            "text/plain": [
              "[('столица_NOUN', 0.7112625241279602),\n",
              " ('город_PROPN', 0.6893908381462097),\n",
              " ('городок_NOUN', 0.679741382598877),\n",
              " ('гектородар_NOUN', 0.6362420916557312),\n",
              " ('гороховец_PROPN', 0.6298733353614807),\n",
              " ('горнозаводск_PROPN', 0.6055487990379333),\n",
              " ('воротынск_PROPN', 0.6037364602088928),\n",
              " ('вязники_PROPN', 0.5986449718475342),\n",
              " ('пригород_NOUN', 0.5979276895523071),\n",
              " ('городоварищ_NOUN', 0.5973644852638245)]"
            ]
          },
          "metadata": {},
          "execution_count": 158
        }
      ]
    },
    {
      "cell_type": "code",
      "source": [
        "map = os.path.join(root_data_dir,'ru-rnc.map')"
      ],
      "metadata": {
        "id": "iIQ02pEMcLOQ"
      },
      "id": "iIQ02pEMcLOQ",
      "execution_count": 169,
      "outputs": []
    },
    {
      "cell_type": "code",
      "source": [
        "mapping = {}\n",
        "\n",
        "for line in open(map):\n",
        "    ms, ud = line.strip('\\n').split()\n",
        "    mapping[ms] = ud"
      ],
      "metadata": {
        "id": "-MpBqUkqDsaq"
      },
      "id": "-MpBqUkqDsaq",
      "execution_count": 170,
      "outputs": []
    },
    {
      "cell_type": "code",
      "source": [
        "from pymystem3 import Mystem\n",
        "    \n",
        "m = Mystem()\n",
        "\n",
        "def normalize_mystem(text):\n",
        "    tokens = []\n",
        "    norm_words = m.analyze(text)\n",
        "    for norm_word in norm_words:\n",
        "        if 'analysis' not in norm_word:\n",
        "            continue\n",
        "            \n",
        "        if not len(norm_word['analysis']):\n",
        "            lemma = norm_word['text']\n",
        "            pos = 'UNKN'\n",
        "        else:\n",
        "            lemma = norm_word[\"analysis\"][0][\"lex\"].lower().strip()\n",
        "            pos = norm_word[\"analysis\"][0][\"gr\"].split(',')[0]\n",
        "            pos = pos.split('=')[0].strip()\n",
        "        tokens.append(lemma+'_'+pos)\n",
        "\n",
        "    return tokens\n",
        "normalize_mystem('Лошадь')"
      ],
      "metadata": {
        "colab": {
          "base_uri": "https://localhost:8080/"
        },
        "id": "K2wPZKzhD2qv",
        "outputId": "98fc34ab-28f6-4b39-b7a8-76517bbe3524"
      },
      "id": "K2wPZKzhD2qv",
      "execution_count": 189,
      "outputs": [
        {
          "output_type": "execute_result",
          "data": {
            "text/plain": [
              "['лошадь_S']"
            ]
          },
          "metadata": {},
          "execution_count": 189
        }
      ]
    },
    {
      "cell_type": "code",
      "source": [
        "data['pos_tagged'] = data.comment.apply(normalize_mystem)"
      ],
      "metadata": {
        "id": "Eov_n9qED5Jh"
      },
      "id": "Eov_n9qED5Jh",
      "execution_count": 193,
      "outputs": []
    },
    {
      "cell_type": "code",
      "source": [
        "data.head()"
      ],
      "metadata": {
        "colab": {
          "base_uri": "https://localhost:8080/",
          "height": 206
        },
        "id": "wNw6QlgEE6FX",
        "outputId": "2b3b1885-0a4e-40b0-c023-f7819b8aa429"
      },
      "id": "wNw6QlgEE6FX",
      "execution_count": 194,
      "outputs": [
        {
          "output_type": "execute_result",
          "data": {
            "text/plain": [
              "                                             comment  toxic  \\\n",
              "0               Верблюдов-то за что? Дебилы, бл...\\n    1.0   \n",
              "1  Хохлы, это отдушина затюканого россиянина, мол...    1.0   \n",
              "2                          Собаке - собачья смерть\\n    1.0   \n",
              "3  Страницу обнови, дебил. Это тоже не оскорблени...    1.0   \n",
              "4  тебя не убедил 6-страничный пдф в том, что Скр...    1.0   \n",
              "\n",
              "                                   preprocessed_text  \\\n",
              "0                   [верблюд-то, за, что, дебил, бл]   \n",
              "1  [хохол, это, отдушина, затюканый, россиянин, м...   \n",
              "2                        [собака, , собачий, смерть]   \n",
              "3  [страница, обновить, дебил, это, тоже, не, оск...   \n",
              "4  [ты, не, убедить, 6-страничный, пдф, в, тот, ч...   \n",
              "\n",
              "                                          pos_tagged  \n",
              "0  [верблюд_S, то_PART, за_PR, что_SPRO, дебил_S,...  \n",
              "1  [хохол_S, это_PART, отдушина_S, затюканый_A, р...  \n",
              "2                    [собака_S, собачий_A, смерть_S]  \n",
              "3  [страница_S, обновлять_V, дебил_S, это_SPRO, т...  \n",
              "4  [ты_SPRO, не_PART, убеждать_V, страничный_A, п...  "
            ],
            "text/html": [
              "\n",
              "  <div id=\"df-65ee1212-6005-44c5-95e1-1328442d835f\">\n",
              "    <div class=\"colab-df-container\">\n",
              "      <div>\n",
              "<style scoped>\n",
              "    .dataframe tbody tr th:only-of-type {\n",
              "        vertical-align: middle;\n",
              "    }\n",
              "\n",
              "    .dataframe tbody tr th {\n",
              "        vertical-align: top;\n",
              "    }\n",
              "\n",
              "    .dataframe thead th {\n",
              "        text-align: right;\n",
              "    }\n",
              "</style>\n",
              "<table border=\"1\" class=\"dataframe\">\n",
              "  <thead>\n",
              "    <tr style=\"text-align: right;\">\n",
              "      <th></th>\n",
              "      <th>comment</th>\n",
              "      <th>toxic</th>\n",
              "      <th>preprocessed_text</th>\n",
              "      <th>pos_tagged</th>\n",
              "    </tr>\n",
              "  </thead>\n",
              "  <tbody>\n",
              "    <tr>\n",
              "      <th>0</th>\n",
              "      <td>Верблюдов-то за что? Дебилы, бл...\\n</td>\n",
              "      <td>1.0</td>\n",
              "      <td>[верблюд-то, за, что, дебил, бл]</td>\n",
              "      <td>[верблюд_S, то_PART, за_PR, что_SPRO, дебил_S,...</td>\n",
              "    </tr>\n",
              "    <tr>\n",
              "      <th>1</th>\n",
              "      <td>Хохлы, это отдушина затюканого россиянина, мол...</td>\n",
              "      <td>1.0</td>\n",
              "      <td>[хохол, это, отдушина, затюканый, россиянин, м...</td>\n",
              "      <td>[хохол_S, это_PART, отдушина_S, затюканый_A, р...</td>\n",
              "    </tr>\n",
              "    <tr>\n",
              "      <th>2</th>\n",
              "      <td>Собаке - собачья смерть\\n</td>\n",
              "      <td>1.0</td>\n",
              "      <td>[собака, , собачий, смерть]</td>\n",
              "      <td>[собака_S, собачий_A, смерть_S]</td>\n",
              "    </tr>\n",
              "    <tr>\n",
              "      <th>3</th>\n",
              "      <td>Страницу обнови, дебил. Это тоже не оскорблени...</td>\n",
              "      <td>1.0</td>\n",
              "      <td>[страница, обновить, дебил, это, тоже, не, оск...</td>\n",
              "      <td>[страница_S, обновлять_V, дебил_S, это_SPRO, т...</td>\n",
              "    </tr>\n",
              "    <tr>\n",
              "      <th>4</th>\n",
              "      <td>тебя не убедил 6-страничный пдф в том, что Скр...</td>\n",
              "      <td>1.0</td>\n",
              "      <td>[ты, не, убедить, 6-страничный, пдф, в, тот, ч...</td>\n",
              "      <td>[ты_SPRO, не_PART, убеждать_V, страничный_A, п...</td>\n",
              "    </tr>\n",
              "  </tbody>\n",
              "</table>\n",
              "</div>\n",
              "      <button class=\"colab-df-convert\" onclick=\"convertToInteractive('df-65ee1212-6005-44c5-95e1-1328442d835f')\"\n",
              "              title=\"Convert this dataframe to an interactive table.\"\n",
              "              style=\"display:none;\">\n",
              "        \n",
              "  <svg xmlns=\"http://www.w3.org/2000/svg\" height=\"24px\"viewBox=\"0 0 24 24\"\n",
              "       width=\"24px\">\n",
              "    <path d=\"M0 0h24v24H0V0z\" fill=\"none\"/>\n",
              "    <path d=\"M18.56 5.44l.94 2.06.94-2.06 2.06-.94-2.06-.94-.94-2.06-.94 2.06-2.06.94zm-11 1L8.5 8.5l.94-2.06 2.06-.94-2.06-.94L8.5 2.5l-.94 2.06-2.06.94zm10 10l.94 2.06.94-2.06 2.06-.94-2.06-.94-.94-2.06-.94 2.06-2.06.94z\"/><path d=\"M17.41 7.96l-1.37-1.37c-.4-.4-.92-.59-1.43-.59-.52 0-1.04.2-1.43.59L10.3 9.45l-7.72 7.72c-.78.78-.78 2.05 0 2.83L4 21.41c.39.39.9.59 1.41.59.51 0 1.02-.2 1.41-.59l7.78-7.78 2.81-2.81c.8-.78.8-2.07 0-2.86zM5.41 20L4 18.59l7.72-7.72 1.47 1.35L5.41 20z\"/>\n",
              "  </svg>\n",
              "      </button>\n",
              "      \n",
              "  <style>\n",
              "    .colab-df-container {\n",
              "      display:flex;\n",
              "      flex-wrap:wrap;\n",
              "      gap: 12px;\n",
              "    }\n",
              "\n",
              "    .colab-df-convert {\n",
              "      background-color: #E8F0FE;\n",
              "      border: none;\n",
              "      border-radius: 50%;\n",
              "      cursor: pointer;\n",
              "      display: none;\n",
              "      fill: #1967D2;\n",
              "      height: 32px;\n",
              "      padding: 0 0 0 0;\n",
              "      width: 32px;\n",
              "    }\n",
              "\n",
              "    .colab-df-convert:hover {\n",
              "      background-color: #E2EBFA;\n",
              "      box-shadow: 0px 1px 2px rgba(60, 64, 67, 0.3), 0px 1px 3px 1px rgba(60, 64, 67, 0.15);\n",
              "      fill: #174EA6;\n",
              "    }\n",
              "\n",
              "    [theme=dark] .colab-df-convert {\n",
              "      background-color: #3B4455;\n",
              "      fill: #D2E3FC;\n",
              "    }\n",
              "\n",
              "    [theme=dark] .colab-df-convert:hover {\n",
              "      background-color: #434B5C;\n",
              "      box-shadow: 0px 1px 3px 1px rgba(0, 0, 0, 0.15);\n",
              "      filter: drop-shadow(0px 1px 2px rgba(0, 0, 0, 0.3));\n",
              "      fill: #FFFFFF;\n",
              "    }\n",
              "  </style>\n",
              "\n",
              "      <script>\n",
              "        const buttonEl =\n",
              "          document.querySelector('#df-65ee1212-6005-44c5-95e1-1328442d835f button.colab-df-convert');\n",
              "        buttonEl.style.display =\n",
              "          google.colab.kernel.accessAllowed ? 'block' : 'none';\n",
              "\n",
              "        async function convertToInteractive(key) {\n",
              "          const element = document.querySelector('#df-65ee1212-6005-44c5-95e1-1328442d835f');\n",
              "          const dataTable =\n",
              "            await google.colab.kernel.invokeFunction('convertToInteractive',\n",
              "                                                     [key], {});\n",
              "          if (!dataTable) return;\n",
              "\n",
              "          const docLinkHtml = 'Like what you see? Visit the ' +\n",
              "            '<a target=\"_blank\" href=https://colab.research.google.com/notebooks/data_table.ipynb>data table notebook</a>'\n",
              "            + ' to learn more about interactive tables.';\n",
              "          element.innerHTML = '';\n",
              "          dataTable['output_type'] = 'display_data';\n",
              "          await google.colab.output.renderOutput(dataTable, element);\n",
              "          const docLink = document.createElement('div');\n",
              "          docLink.innerHTML = docLinkHtml;\n",
              "          element.appendChild(docLink);\n",
              "        }\n",
              "      </script>\n",
              "    </div>\n",
              "  </div>\n",
              "  "
            ]
          },
          "metadata": {},
          "execution_count": 194
        }
      ]
    },
    {
      "cell_type": "code",
      "source": [
        "vocab = Counter()\n",
        "\n",
        "for text in data['pos_tagged']:\n",
        "    vocab.update(text)"
      ],
      "metadata": {
        "id": "_tpJf6OlFB4M"
      },
      "id": "_tpJf6OlFB4M",
      "execution_count": 195,
      "outputs": []
    },
    {
      "cell_type": "code",
      "source": [
        "filtered_vocab = set()\n",
        "\n",
        "for word in vocab:\n",
        "    if vocab[word] > 5:\n",
        "        filtered_vocab.add(word)\n",
        "\n",
        "len(filtered_vocab)"
      ],
      "metadata": {
        "colab": {
          "base_uri": "https://localhost:8080/"
        },
        "id": "RdMQ0OtOFGD5",
        "outputId": "fc395f3f-2169-4df6-d3eb-85a6c040125e"
      },
      "id": "RdMQ0OtOFGD5",
      "execution_count": 196,
      "outputs": [
        {
          "output_type": "execute_result",
          "data": {
            "text/plain": [
              "6215"
            ]
          },
          "metadata": {},
          "execution_count": 196
        }
      ]
    },
    {
      "cell_type": "code",
      "source": [
        "word2id = { 'PAD':0}\n",
        "\n",
        "for word in filtered_vocab:\n",
        "    word2id[word] = len(word2id)\n",
        "id2word = {i:word for word, i in word2id.items()}"
      ],
      "metadata": {
        "id": "f8o10ldCFIOP"
      },
      "id": "f8o10ldCFIOP",
      "execution_count": 197,
      "outputs": []
    },
    {
      "cell_type": "code",
      "source": [
        "X = []\n",
        "\n",
        "for tokens in data['pos_tagged']:\n",
        "    ids = [word2id[token] for token in tokens if token in word2id]\n",
        "    X.append(ids)"
      ],
      "metadata": {
        "id": "e2OSjtohFKcY"
      },
      "id": "e2OSjtohFKcY",
      "execution_count": 198,
      "outputs": []
    },
    {
      "cell_type": "code",
      "source": [
        "len(X)"
      ],
      "metadata": {
        "colab": {
          "base_uri": "https://localhost:8080/"
        },
        "id": "KIWivkupFOtY",
        "outputId": "a9e63979-7903-4d6b-8f0f-4e68b262dad4"
      },
      "id": "KIWivkupFOtY",
      "execution_count": 199,
      "outputs": [
        {
          "output_type": "execute_result",
          "data": {
            "text/plain": [
              "14412"
            ]
          },
          "metadata": {},
          "execution_count": 199
        }
      ]
    },
    {
      "cell_type": "code",
      "source": [
        "len(data.toxic.values)"
      ],
      "metadata": {
        "colab": {
          "base_uri": "https://localhost:8080/"
        },
        "id": "TVgU4Uw3FRo_",
        "outputId": "2cb0fc18-3eff-4d65-d949-2a484c0b566a"
      },
      "id": "TVgU4Uw3FRo_",
      "execution_count": 200,
      "outputs": [
        {
          "output_type": "execute_result",
          "data": {
            "text/plain": [
              "14412"
            ]
          },
          "metadata": {},
          "execution_count": 200
        }
      ]
    },
    {
      "cell_type": "code",
      "source": [
        "X_ru = tf.keras.preprocessing.sequence.pad_sequences(X, maxlen=300)\n",
        "y_ru = data.toxic.values\n",
        "\n",
        "X_train_ru, X_test_ru, y_train_ru, y_test_ru = train_test_split(X_ru, y_ru, test_size=0.1)\n",
        "\n",
        "weights = np.zeros((len(word2id), 300))\n",
        "\n",
        "for word, i in word2id.items():\n",
        "    if word == 'PAD':\n",
        "        continue\n",
        "\n",
        "    try:\n",
        "        weights[i] = model[word]\n",
        "    \n",
        "    except KeyError:\n",
        "        continue\n",
        "        weights[i] = rus_v_model['втжлыою']\n",
        "        \n",
        "inputs = tf.keras.layers.Input(shape=(300,))\n",
        "embeddings = tf.keras.layers.Embedding(input_dim=len(word2id), output_dim=300, \n",
        "                                        trainable=False,\n",
        "                                        weights=[weights])(inputs, )\n",
        "mean = tf.keras.layers.Lambda(lambda x: tf.keras.backend.mean(x,  axis=1))(embeddings)\n",
        "\n",
        "outputs = tf.keras.layers.Dense(1, activation='sigmoid')(mean)\n",
        "\n",
        "ru_classifier = tf.keras.Model(inputs=inputs, outputs=outputs)\n",
        "optimizer = tf.keras.optimizers.Adam()\n",
        "ru_classifier.compile(optimizer=optimizer,\n",
        "                loss='binary_crossentropy',\n",
        "                metrics=['accuracy'])\n",
        "  \n",
        "\n",
        "ru_classifier.fit(X_train_ru, y_train_ru, \n",
        "          validation_data=(X_test_ru, y_test_ru),\n",
        "          batch_size=32,\n",
        "         epochs=30)"
      ],
      "metadata": {
        "colab": {
          "base_uri": "https://localhost:8080/"
        },
        "id": "fBruk3N2FTfy",
        "outputId": "5ce1b9a3-c0dd-4e67-8b99-f9541824b6c2"
      },
      "id": "fBruk3N2FTfy",
      "execution_count": 201,
      "outputs": [
        {
          "output_type": "stream",
          "name": "stdout",
          "text": [
            "Epoch 1/30\n",
            "406/406 [==============================] - 5s 11ms/step - loss: 0.6702 - accuracy: 0.6647 - val_loss: 0.6519 - val_accuracy: 0.6678\n",
            "Epoch 2/30\n",
            "406/406 [==============================] - 2s 5ms/step - loss: 0.6453 - accuracy: 0.6648 - val_loss: 0.6380 - val_accuracy: 0.6678\n",
            "Epoch 3/30\n",
            "406/406 [==============================] - 2s 4ms/step - loss: 0.6378 - accuracy: 0.6648 - val_loss: 0.6337 - val_accuracy: 0.6678\n",
            "Epoch 4/30\n",
            "406/406 [==============================] - 2s 4ms/step - loss: 0.6357 - accuracy: 0.6648 - val_loss: 0.6322 - val_accuracy: 0.6678\n",
            "Epoch 5/30\n",
            "406/406 [==============================] - 3s 6ms/step - loss: 0.6349 - accuracy: 0.6648 - val_loss: 0.6315 - val_accuracy: 0.6678\n",
            "Epoch 6/30\n",
            "406/406 [==============================] - 2s 5ms/step - loss: 0.6344 - accuracy: 0.6648 - val_loss: 0.6307 - val_accuracy: 0.6678\n",
            "Epoch 7/30\n",
            "406/406 [==============================] - 2s 4ms/step - loss: 0.6339 - accuracy: 0.6648 - val_loss: 0.6301 - val_accuracy: 0.6678\n",
            "Epoch 8/30\n",
            "406/406 [==============================] - 2s 4ms/step - loss: 0.6334 - accuracy: 0.6648 - val_loss: 0.6294 - val_accuracy: 0.6678\n",
            "Epoch 9/30\n",
            "406/406 [==============================] - 2s 4ms/step - loss: 0.6330 - accuracy: 0.6648 - val_loss: 0.6287 - val_accuracy: 0.6678\n",
            "Epoch 10/30\n",
            "406/406 [==============================] - 2s 5ms/step - loss: 0.6325 - accuracy: 0.6648 - val_loss: 0.6281 - val_accuracy: 0.6678\n",
            "Epoch 11/30\n",
            "406/406 [==============================] - 2s 5ms/step - loss: 0.6321 - accuracy: 0.6648 - val_loss: 0.6275 - val_accuracy: 0.6678\n",
            "Epoch 12/30\n",
            "406/406 [==============================] - 2s 6ms/step - loss: 0.6316 - accuracy: 0.6648 - val_loss: 0.6269 - val_accuracy: 0.6678\n",
            "Epoch 13/30\n",
            "406/406 [==============================] - 2s 5ms/step - loss: 0.6312 - accuracy: 0.6648 - val_loss: 0.6263 - val_accuracy: 0.6678\n",
            "Epoch 14/30\n",
            "406/406 [==============================] - 2s 4ms/step - loss: 0.6308 - accuracy: 0.6648 - val_loss: 0.6258 - val_accuracy: 0.6678\n",
            "Epoch 15/30\n",
            "406/406 [==============================] - 2s 4ms/step - loss: 0.6305 - accuracy: 0.6648 - val_loss: 0.6252 - val_accuracy: 0.6678\n",
            "Epoch 16/30\n",
            "406/406 [==============================] - 2s 4ms/step - loss: 0.6301 - accuracy: 0.6648 - val_loss: 0.6247 - val_accuracy: 0.6678\n",
            "Epoch 17/30\n",
            "406/406 [==============================] - 2s 4ms/step - loss: 0.6297 - accuracy: 0.6648 - val_loss: 0.6242 - val_accuracy: 0.6678\n",
            "Epoch 18/30\n",
            "406/406 [==============================] - 2s 4ms/step - loss: 0.6294 - accuracy: 0.6648 - val_loss: 0.6237 - val_accuracy: 0.6678\n",
            "Epoch 19/30\n",
            "406/406 [==============================] - 2s 6ms/step - loss: 0.6291 - accuracy: 0.6648 - val_loss: 0.6232 - val_accuracy: 0.6678\n",
            "Epoch 20/30\n",
            "406/406 [==============================] - 2s 5ms/step - loss: 0.6287 - accuracy: 0.6648 - val_loss: 0.6228 - val_accuracy: 0.6678\n",
            "Epoch 21/30\n",
            "406/406 [==============================] - 2s 4ms/step - loss: 0.6284 - accuracy: 0.6648 - val_loss: 0.6223 - val_accuracy: 0.6678\n",
            "Epoch 22/30\n",
            "406/406 [==============================] - 2s 5ms/step - loss: 0.6281 - accuracy: 0.6648 - val_loss: 0.6219 - val_accuracy: 0.6678\n",
            "Epoch 23/30\n",
            "406/406 [==============================] - 2s 4ms/step - loss: 0.6279 - accuracy: 0.6648 - val_loss: 0.6214 - val_accuracy: 0.6678\n",
            "Epoch 24/30\n",
            "406/406 [==============================] - 2s 4ms/step - loss: 0.6276 - accuracy: 0.6648 - val_loss: 0.6210 - val_accuracy: 0.6678\n",
            "Epoch 25/30\n",
            "406/406 [==============================] - 3s 7ms/step - loss: 0.6273 - accuracy: 0.6648 - val_loss: 0.6206 - val_accuracy: 0.6678\n",
            "Epoch 26/30\n",
            "406/406 [==============================] - 3s 8ms/step - loss: 0.6271 - accuracy: 0.6648 - val_loss: 0.6202 - val_accuracy: 0.6678\n",
            "Epoch 27/30\n",
            "406/406 [==============================] - 2s 4ms/step - loss: 0.6268 - accuracy: 0.6648 - val_loss: 0.6199 - val_accuracy: 0.6678\n",
            "Epoch 28/30\n",
            "406/406 [==============================] - 2s 5ms/step - loss: 0.6266 - accuracy: 0.6648 - val_loss: 0.6195 - val_accuracy: 0.6678\n",
            "Epoch 29/30\n",
            "406/406 [==============================] - 2s 4ms/step - loss: 0.6264 - accuracy: 0.6648 - val_loss: 0.6192 - val_accuracy: 0.6678\n",
            "Epoch 30/30\n",
            "406/406 [==============================] - 2s 4ms/step - loss: 0.6261 - accuracy: 0.6648 - val_loss: 0.6189 - val_accuracy: 0.6678\n"
          ]
        },
        {
          "output_type": "execute_result",
          "data": {
            "text/plain": [
              "<keras.callbacks.History at 0x7f7a589f1c30>"
            ]
          },
          "metadata": {},
          "execution_count": 201
        }
      ]
    },
    {
      "cell_type": "code",
      "source": [
        "print(ru_classifier.history.history.keys())\n",
        "acc5 = ru_classifier.history.history['accuracy'][-1]\n",
        "# summarize history for accuracy\n",
        "plt.plot(ru_classifier.history.history['accuracy'])\n",
        "plt.plot(ru_classifier.history.history['val_accuracy'])\n",
        "plt.title('model accuracy')\n",
        "plt.ylabel('accuracy')\n",
        "plt.xlabel('epoch')\n",
        "plt.legend(['train', 'val'], loc='upper left')\n",
        "plt.show()"
      ],
      "metadata": {
        "colab": {
          "base_uri": "https://localhost:8080/",
          "height": 490
        },
        "id": "vdAzqw7nFbCX",
        "outputId": "a5fc1116-9856-4965-b9d2-eb702ed76b22"
      },
      "id": "vdAzqw7nFbCX",
      "execution_count": 202,
      "outputs": [
        {
          "output_type": "stream",
          "name": "stdout",
          "text": [
            "dict_keys(['loss', 'accuracy', 'val_loss', 'val_accuracy'])\n"
          ]
        },
        {
          "output_type": "display_data",
          "data": {
            "text/plain": [
              "<Figure size 640x480 with 1 Axes>"
            ],
            "image/png": "[encoded data removed]"
          },
          "metadata": {}
        }
      ]
    },
    {
      "cell_type": "markdown",
      "source": [
        "# **Вывод**"
      ],
      "metadata": {
        "id": "_HBGmlsMFdhI"
      },
      "id": "_HBGmlsMFdhI"
    },
    {
      "cell_type": "markdown",
      "source": [
        "Самая \"продуктивная\" по метрикам модель - Fasttext.\n",
        "При этом, самые близкие в \"человеческой\" оценке слова (те, которые действительно могут заменить в контексте слово \"город\") получаются у модели Rus Vectores, хотя машинный показатель обучения у неё довольно низкий.\n",
        "В остальном, кажется, что модели быстро перестают учиться, застывая на отметке около 0.66. Возможно, это связано с предобработкой данных (а может, и с чем-то ещё)."
      ],
      "metadata": {
        "id": "qukAP2LjFgNL"
      },
      "id": "qukAP2LjFgNL"
    }
  ],
  "metadata": {
    "colab": {
      "provenance": []
    },
    "kernelspec": {
      "display_name": "Python 3 (ipykernel)",
      "language": "python",
      "name": "python3"
    },
    "language_info": {
      "codemirror_mode": {
        "name": "ipython",
        "version": 3
      },
      "file_extension": ".py",
      "mimetype": "text/x-python",
      "name": "python",
      "nbconvert_exporter": "python",
      "pygments_lexer": "ipython3",
      "version": "3.9.13"
    }
  },
  "nbformat": 4,
  "nbformat_minor": 5
}